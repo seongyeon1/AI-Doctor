{
 "cells": [
  {
   "cell_type": "code",
   "execution_count": 1,
   "metadata": {},
   "outputs": [],
   "source": [
    "# !pip install xlrd\n",
    "# !pip install openpyxl"
   ]
  },
  {
   "cell_type": "code",
   "execution_count": 2,
   "metadata": {},
   "outputs": [],
   "source": [
    "import os, requests\n",
    "import glob\n",
    "import pandas as pd"
   ]
  },
  {
   "cell_type": "code",
   "execution_count": 3,
   "metadata": {},
   "outputs": [],
   "source": [
    "kcd = pd.read_excel('KCD-8_20220630.xlsx', engine=\"openpyxl\",sheet_name='KCD-8 DB Masterfile', header=2)"
   ]
  },
  {
   "cell_type": "code",
   "execution_count": 4,
   "metadata": {},
   "outputs": [
    {
     "data": {
      "text/html": [
       "<div>\n",
       "<style scoped>\n",
       "    .dataframe tbody tr th:only-of-type {\n",
       "        vertical-align: middle;\n",
       "    }\n",
       "\n",
       "    .dataframe tbody tr th {\n",
       "        vertical-align: top;\n",
       "    }\n",
       "\n",
       "    .dataframe thead th {\n",
       "        text-align: right;\n",
       "    }\n",
       "</style>\n",
       "<table border=\"1\" class=\"dataframe\">\n",
       "  <thead>\n",
       "    <tr style=\"text-align: right;\">\n",
       "      <th></th>\n",
       "      <th>표제어</th>\n",
       "      <th>분류\\n기준</th>\n",
       "      <th>질병분류\\n코드</th>\n",
       "      <th>검별</th>\n",
       "      <th>주석</th>\n",
       "      <th>한글명칭</th>\n",
       "      <th>영문명칭</th>\n",
       "      <th>최하위\\n코드</th>\n",
       "      <th>국내\\n세분화\\n코드</th>\n",
       "      <th>한의\\n병명</th>\n",
       "      <th>국내추가\\n진단명</th>\n",
       "    </tr>\n",
       "  </thead>\n",
       "  <tbody>\n",
       "    <tr>\n",
       "      <th>0</th>\n",
       "      <td>1.0</td>\n",
       "      <td>대</td>\n",
       "      <td>A00-B99</td>\n",
       "      <td>NaN</td>\n",
       "      <td>NaN</td>\n",
       "      <td>Ⅰ.특정 감염성 및 기생충성 질환(A00-B99)</td>\n",
       "      <td>Certain infectious and parasitic diseases(A00-...</td>\n",
       "      <td>0</td>\n",
       "      <td>0</td>\n",
       "      <td>0.0</td>\n",
       "      <td>0</td>\n",
       "    </tr>\n",
       "    <tr>\n",
       "      <th>1</th>\n",
       "      <td>1.0</td>\n",
       "      <td>중</td>\n",
       "      <td>A00-A09</td>\n",
       "      <td>NaN</td>\n",
       "      <td>NaN</td>\n",
       "      <td>장 감염 질환(A00-A09)</td>\n",
       "      <td>Intestinal Infectious Diseases(A00-A09)</td>\n",
       "      <td>0</td>\n",
       "      <td>0</td>\n",
       "      <td>0.0</td>\n",
       "      <td>0</td>\n",
       "    </tr>\n",
       "    <tr>\n",
       "      <th>2</th>\n",
       "      <td>1.0</td>\n",
       "      <td>소</td>\n",
       "      <td>A00</td>\n",
       "      <td>NaN</td>\n",
       "      <td>NaN</td>\n",
       "      <td>콜레라</td>\n",
       "      <td>Cholera</td>\n",
       "      <td>0</td>\n",
       "      <td>0</td>\n",
       "      <td>0.0</td>\n",
       "      <td>0</td>\n",
       "    </tr>\n",
       "    <tr>\n",
       "      <th>3</th>\n",
       "      <td>1.0</td>\n",
       "      <td>세</td>\n",
       "      <td>A00.0</td>\n",
       "      <td>NaN</td>\n",
       "      <td>NaN</td>\n",
       "      <td>비브리오 콜레라 01 콜레라형균에 의한 콜레라</td>\n",
       "      <td>Cholera due to Vibrio cholerae 01, biovar chol...</td>\n",
       "      <td>1</td>\n",
       "      <td>0</td>\n",
       "      <td>0.0</td>\n",
       "      <td>0</td>\n",
       "    </tr>\n",
       "    <tr>\n",
       "      <th>4</th>\n",
       "      <td>NaN</td>\n",
       "      <td>NaN</td>\n",
       "      <td>A00.0</td>\n",
       "      <td>NaN</td>\n",
       "      <td>NaN</td>\n",
       "      <td>고전적 콜레라</td>\n",
       "      <td>Classical cholera</td>\n",
       "      <td>1</td>\n",
       "      <td>0</td>\n",
       "      <td>0.0</td>\n",
       "      <td>0</td>\n",
       "    </tr>\n",
       "    <tr>\n",
       "      <th>...</th>\n",
       "      <td>...</td>\n",
       "      <td>...</td>\n",
       "      <td>...</td>\n",
       "      <td>...</td>\n",
       "      <td>...</td>\n",
       "      <td>...</td>\n",
       "      <td>...</td>\n",
       "      <td>...</td>\n",
       "      <td>...</td>\n",
       "      <td>...</td>\n",
       "      <td>...</td>\n",
       "    </tr>\n",
       "    <tr>\n",
       "      <th>54143</th>\n",
       "      <td>NaN</td>\n",
       "      <td>NaN</td>\n",
       "      <td>U98.0</td>\n",
       "      <td>NaN</td>\n",
       "      <td>NaN</td>\n",
       "      <td>태양인외감요척병증(太陽人外感腰脊病證)</td>\n",
       "      <td>Taeyang type exterior orgin lower back pattern</td>\n",
       "      <td>1</td>\n",
       "      <td>0</td>\n",
       "      <td>0.0</td>\n",
       "      <td>0</td>\n",
       "    </tr>\n",
       "    <tr>\n",
       "      <th>54144</th>\n",
       "      <td>1.0</td>\n",
       "      <td>세</td>\n",
       "      <td>U98.1</td>\n",
       "      <td>NaN</td>\n",
       "      <td>NaN</td>\n",
       "      <td>태양인내촉소장병증(太陽人內觸小腸病證)</td>\n",
       "      <td>Large yang type interior origin small intestin...</td>\n",
       "      <td>1</td>\n",
       "      <td>0</td>\n",
       "      <td>0.0</td>\n",
       "      <td>0</td>\n",
       "    </tr>\n",
       "    <tr>\n",
       "      <th>54145</th>\n",
       "      <td>NaN</td>\n",
       "      <td>NaN</td>\n",
       "      <td>U98.1</td>\n",
       "      <td>NaN</td>\n",
       "      <td>NaN</td>\n",
       "      <td>태양인내촉소장병증(太陽人內觸小腸病證)</td>\n",
       "      <td>Taeyang type interior origin small intestine p...</td>\n",
       "      <td>1</td>\n",
       "      <td>0</td>\n",
       "      <td>0.0</td>\n",
       "      <td>0</td>\n",
       "    </tr>\n",
       "    <tr>\n",
       "      <th>54146</th>\n",
       "      <td>1.0</td>\n",
       "      <td>세</td>\n",
       "      <td>U98.2</td>\n",
       "      <td>NaN</td>\n",
       "      <td>NaN</td>\n",
       "      <td>태양인표리겸병증(太陽人表裏兼病證)</td>\n",
       "      <td>Large yang type exterior-interior combined pat...</td>\n",
       "      <td>1</td>\n",
       "      <td>0</td>\n",
       "      <td>0.0</td>\n",
       "      <td>0</td>\n",
       "    </tr>\n",
       "    <tr>\n",
       "      <th>54147</th>\n",
       "      <td>NaN</td>\n",
       "      <td>NaN</td>\n",
       "      <td>U98.2</td>\n",
       "      <td>NaN</td>\n",
       "      <td>NaN</td>\n",
       "      <td>태양인표리겸병증(太陽人表裏兼病證)</td>\n",
       "      <td>Taeyang type exterior-interior combined pattern</td>\n",
       "      <td>1</td>\n",
       "      <td>0</td>\n",
       "      <td>0.0</td>\n",
       "      <td>0</td>\n",
       "    </tr>\n",
       "  </tbody>\n",
       "</table>\n",
       "<p>54148 rows × 11 columns</p>\n",
       "</div>"
      ],
      "text/plain": [
       "       표제어 분류\\n기준 질병분류\\n코드   검별   주석                         한글명칭  \\\n",
       "0      1.0      대  A00-B99  NaN  NaN  Ⅰ.특정 감염성 및 기생충성 질환(A00-B99)   \n",
       "1      1.0      중  A00-A09  NaN  NaN             장 감염 질환(A00-A09)   \n",
       "2      1.0      소      A00  NaN  NaN                          콜레라   \n",
       "3      1.0      세    A00.0  NaN  NaN    비브리오 콜레라 01 콜레라형균에 의한 콜레라   \n",
       "4      NaN    NaN    A00.0  NaN  NaN                      고전적 콜레라   \n",
       "...    ...    ...      ...  ...  ...                          ...   \n",
       "54143  NaN    NaN    U98.0  NaN  NaN         태양인외감요척병증(太陽人外感腰脊病證)   \n",
       "54144  1.0      세    U98.1  NaN  NaN         태양인내촉소장병증(太陽人內觸小腸病證)   \n",
       "54145  NaN    NaN    U98.1  NaN  NaN         태양인내촉소장병증(太陽人內觸小腸病證)   \n",
       "54146  1.0      세    U98.2  NaN  NaN           태양인표리겸병증(太陽人表裏兼病證)   \n",
       "54147  NaN    NaN    U98.2  NaN  NaN           태양인표리겸병증(太陽人表裏兼病證)   \n",
       "\n",
       "                                                    영문명칭  최하위\\n코드  \\\n",
       "0      Certain infectious and parasitic diseases(A00-...        0   \n",
       "1                Intestinal Infectious Diseases(A00-A09)        0   \n",
       "2                                                Cholera        0   \n",
       "3      Cholera due to Vibrio cholerae 01, biovar chol...        1   \n",
       "4                                      Classical cholera        1   \n",
       "...                                                  ...      ...   \n",
       "54143     Taeyang type exterior orgin lower back pattern        1   \n",
       "54144  Large yang type interior origin small intestin...        1   \n",
       "54145  Taeyang type interior origin small intestine p...        1   \n",
       "54146  Large yang type exterior-interior combined pat...        1   \n",
       "54147    Taeyang type exterior-interior combined pattern        1   \n",
       "\n",
       "       국내\\n세분화\\n코드  한의\\n병명  국내추가\\n진단명  \n",
       "0                0     0.0          0  \n",
       "1                0     0.0          0  \n",
       "2                0     0.0          0  \n",
       "3                0     0.0          0  \n",
       "4                0     0.0          0  \n",
       "...            ...     ...        ...  \n",
       "54143            0     0.0          0  \n",
       "54144            0     0.0          0  \n",
       "54145            0     0.0          0  \n",
       "54146            0     0.0          0  \n",
       "54147            0     0.0          0  \n",
       "\n",
       "[54148 rows x 11 columns]"
      ]
     },
     "execution_count": 4,
     "metadata": {},
     "output_type": "execute_result"
    }
   ],
   "source": [
    "kcd"
   ]
  },
  {
   "cell_type": "code",
   "execution_count": 5,
   "metadata": {},
   "outputs": [],
   "source": [
    "kcd.columns = kcd.columns.str.replace('\\n','')"
   ]
  },
  {
   "cell_type": "code",
   "execution_count": 6,
   "metadata": {},
   "outputs": [],
   "source": [
    "kcd_df = kcd[kcd['분류기준'] == '소'][['질병분류코드','한글명칭','영문명칭']]"
   ]
  },
  {
   "cell_type": "code",
   "execution_count": 7,
   "metadata": {},
   "outputs": [],
   "source": [
    "from glob import glob"
   ]
  },
  {
   "cell_type": "code",
   "execution_count": 8,
   "metadata": {},
   "outputs": [],
   "source": [
    "csv_list = glob('*.csv')"
   ]
  },
  {
   "cell_type": "code",
   "execution_count": 9,
   "metadata": {},
   "outputs": [
    {
     "data": {
      "text/plain": [
       "['diseases.csv',\n",
       " 'disease_data.csv',\n",
       " 'symptoms.csv',\n",
       " '건강보험심사평가원_주부상병(3단) 성별 연령군별 건강보험 진료 통계_20231231.csv',\n",
       " '건강보험심사평가원_건강보험심사평가원_상병마스터_20220901.csv',\n",
       " 'disease_data_ko.csv',\n",
       " 'dataset.csv']"
      ]
     },
     "execution_count": 9,
     "metadata": {},
     "output_type": "execute_result"
    }
   ],
   "source": [
    "csv_list"
   ]
  },
  {
   "cell_type": "code",
   "execution_count": 12,
   "metadata": {},
   "outputs": [],
   "source": [
    "# patients = pd.read_csv('건강보험심사평가원_주부상병(3단) 성별 연령군별 건강보험 진료 통계_20231231.csv', encoding='cp949')"
   ]
  },
  {
   "cell_type": "code",
   "execution_count": 14,
   "metadata": {},
   "outputs": [],
   "source": [
    "# patients[['연령군_구분','연령군']] = patients['연령군'].str.split('_', expand=True)\n",
    "# patients['연령군_구분'].nunique()"
   ]
  },
  {
   "cell_type": "code",
   "execution_count": 36,
   "metadata": {},
   "outputs": [
    {
     "data": {
      "text/html": [
       "<div>\n",
       "<style scoped>\n",
       "    .dataframe tbody tr th:only-of-type {\n",
       "        vertical-align: middle;\n",
       "    }\n",
       "\n",
       "    .dataframe tbody tr th {\n",
       "        vertical-align: top;\n",
       "    }\n",
       "\n",
       "    .dataframe thead th {\n",
       "        text-align: right;\n",
       "    }\n",
       "</style>\n",
       "<table border=\"1\" class=\"dataframe\">\n",
       "  <thead>\n",
       "    <tr style=\"text-align: right;\">\n",
       "      <th></th>\n",
       "      <th>진료년도</th>\n",
       "      <th>상병코드</th>\n",
       "      <th>성별</th>\n",
       "      <th>연령군</th>\n",
       "      <th>환자수</th>\n",
       "      <th>명세서청구건수</th>\n",
       "      <th>연령군_구분</th>\n",
       "    </tr>\n",
       "  </thead>\n",
       "  <tbody>\n",
       "    <tr>\n",
       "      <th>0</th>\n",
       "      <td>2023</td>\n",
       "      <td>A00</td>\n",
       "      <td>남</td>\n",
       "      <td>0~4세</td>\n",
       "      <td>31</td>\n",
       "      <td>65</td>\n",
       "      <td>01</td>\n",
       "    </tr>\n",
       "    <tr>\n",
       "      <th>1</th>\n",
       "      <td>2023</td>\n",
       "      <td>A00</td>\n",
       "      <td>남</td>\n",
       "      <td>5~9세</td>\n",
       "      <td>13</td>\n",
       "      <td>15</td>\n",
       "      <td>02</td>\n",
       "    </tr>\n",
       "    <tr>\n",
       "      <th>2</th>\n",
       "      <td>2023</td>\n",
       "      <td>A00</td>\n",
       "      <td>남</td>\n",
       "      <td>10~14세</td>\n",
       "      <td>6</td>\n",
       "      <td>21</td>\n",
       "      <td>03</td>\n",
       "    </tr>\n",
       "    <tr>\n",
       "      <th>3</th>\n",
       "      <td>2023</td>\n",
       "      <td>A00</td>\n",
       "      <td>남</td>\n",
       "      <td>15~19세</td>\n",
       "      <td>12</td>\n",
       "      <td>19</td>\n",
       "      <td>04</td>\n",
       "    </tr>\n",
       "    <tr>\n",
       "      <th>4</th>\n",
       "      <td>2023</td>\n",
       "      <td>A00</td>\n",
       "      <td>남</td>\n",
       "      <td>20~24세</td>\n",
       "      <td>20</td>\n",
       "      <td>22</td>\n",
       "      <td>05</td>\n",
       "    </tr>\n",
       "    <tr>\n",
       "      <th>...</th>\n",
       "      <td>...</td>\n",
       "      <td>...</td>\n",
       "      <td>...</td>\n",
       "      <td>...</td>\n",
       "      <td>...</td>\n",
       "      <td>...</td>\n",
       "      <td>...</td>\n",
       "    </tr>\n",
       "    <tr>\n",
       "      <th>60840</th>\n",
       "      <td>2023</td>\n",
       "      <td>Z99</td>\n",
       "      <td>여</td>\n",
       "      <td>65~69세</td>\n",
       "      <td>488</td>\n",
       "      <td>21793</td>\n",
       "      <td>14</td>\n",
       "    </tr>\n",
       "    <tr>\n",
       "      <th>60841</th>\n",
       "      <td>2023</td>\n",
       "      <td>Z99</td>\n",
       "      <td>여</td>\n",
       "      <td>70~74세</td>\n",
       "      <td>487</td>\n",
       "      <td>15484</td>\n",
       "      <td>15</td>\n",
       "    </tr>\n",
       "    <tr>\n",
       "      <th>60842</th>\n",
       "      <td>2023</td>\n",
       "      <td>Z99</td>\n",
       "      <td>여</td>\n",
       "      <td>75~79세</td>\n",
       "      <td>484</td>\n",
       "      <td>14948</td>\n",
       "      <td>16</td>\n",
       "    </tr>\n",
       "    <tr>\n",
       "      <th>60843</th>\n",
       "      <td>2023</td>\n",
       "      <td>Z99</td>\n",
       "      <td>여</td>\n",
       "      <td>80~84세</td>\n",
       "      <td>522</td>\n",
       "      <td>13158</td>\n",
       "      <td>17</td>\n",
       "    </tr>\n",
       "    <tr>\n",
       "      <th>60844</th>\n",
       "      <td>2023</td>\n",
       "      <td>Z99</td>\n",
       "      <td>여</td>\n",
       "      <td>85세 이상</td>\n",
       "      <td>374</td>\n",
       "      <td>6453</td>\n",
       "      <td>18</td>\n",
       "    </tr>\n",
       "  </tbody>\n",
       "</table>\n",
       "<p>60845 rows × 7 columns</p>\n",
       "</div>"
      ],
      "text/plain": [
       "       진료년도 상병코드 성별     연령군  환자수  명세서청구건수 연령군_구분\n",
       "0      2023  A00  남    0~4세   31       65     01\n",
       "1      2023  A00  남    5~9세   13       15     02\n",
       "2      2023  A00  남  10~14세    6       21     03\n",
       "3      2023  A00  남  15~19세   12       19     04\n",
       "4      2023  A00  남  20~24세   20       22     05\n",
       "...     ...  ... ..     ...  ...      ...    ...\n",
       "60840  2023  Z99  여  65~69세  488    21793     14\n",
       "60841  2023  Z99  여  70~74세  487    15484     15\n",
       "60842  2023  Z99  여  75~79세  484    14948     16\n",
       "60843  2023  Z99  여  80~84세  522    13158     17\n",
       "60844  2023  Z99  여  85세 이상  374     6453     18\n",
       "\n",
       "[60845 rows x 7 columns]"
      ]
     },
     "execution_count": 36,
     "metadata": {},
     "output_type": "execute_result"
    }
   ],
   "source": [
    "patients"
   ]
  },
  {
   "cell_type": "code",
   "execution_count": 50,
   "metadata": {},
   "outputs": [],
   "source": [
    "codes = pd.read_csv(csv_list[1], encoding='cp949')"
   ]
  },
  {
   "cell_type": "code",
   "execution_count": 51,
   "metadata": {},
   "outputs": [
    {
     "data": {
      "text/html": [
       "<div>\n",
       "<style scoped>\n",
       "    .dataframe tbody tr th:only-of-type {\n",
       "        vertical-align: middle;\n",
       "    }\n",
       "\n",
       "    .dataframe tbody tr th {\n",
       "        vertical-align: top;\n",
       "    }\n",
       "\n",
       "    .dataframe thead th {\n",
       "        text-align: right;\n",
       "    }\n",
       "</style>\n",
       "<table border=\"1\" class=\"dataframe\">\n",
       "  <thead>\n",
       "    <tr style=\"text-align: right;\">\n",
       "      <th></th>\n",
       "      <th>진료년도</th>\n",
       "      <th>상병코드</th>\n",
       "      <th>성별</th>\n",
       "      <th>연령군</th>\n",
       "      <th>환자수</th>\n",
       "      <th>명세서청구건수</th>\n",
       "    </tr>\n",
       "  </thead>\n",
       "  <tbody>\n",
       "    <tr>\n",
       "      <th>0</th>\n",
       "      <td>2023</td>\n",
       "      <td>A00</td>\n",
       "      <td>남</td>\n",
       "      <td>01_0~4세</td>\n",
       "      <td>31</td>\n",
       "      <td>65</td>\n",
       "    </tr>\n",
       "    <tr>\n",
       "      <th>1</th>\n",
       "      <td>2023</td>\n",
       "      <td>A00</td>\n",
       "      <td>남</td>\n",
       "      <td>02_5~9세</td>\n",
       "      <td>13</td>\n",
       "      <td>15</td>\n",
       "    </tr>\n",
       "    <tr>\n",
       "      <th>2</th>\n",
       "      <td>2023</td>\n",
       "      <td>A00</td>\n",
       "      <td>남</td>\n",
       "      <td>03_10~14세</td>\n",
       "      <td>6</td>\n",
       "      <td>21</td>\n",
       "    </tr>\n",
       "    <tr>\n",
       "      <th>3</th>\n",
       "      <td>2023</td>\n",
       "      <td>A00</td>\n",
       "      <td>남</td>\n",
       "      <td>04_15~19세</td>\n",
       "      <td>12</td>\n",
       "      <td>19</td>\n",
       "    </tr>\n",
       "    <tr>\n",
       "      <th>4</th>\n",
       "      <td>2023</td>\n",
       "      <td>A00</td>\n",
       "      <td>남</td>\n",
       "      <td>05_20~24세</td>\n",
       "      <td>20</td>\n",
       "      <td>22</td>\n",
       "    </tr>\n",
       "    <tr>\n",
       "      <th>...</th>\n",
       "      <td>...</td>\n",
       "      <td>...</td>\n",
       "      <td>...</td>\n",
       "      <td>...</td>\n",
       "      <td>...</td>\n",
       "      <td>...</td>\n",
       "    </tr>\n",
       "    <tr>\n",
       "      <th>60840</th>\n",
       "      <td>2023</td>\n",
       "      <td>Z99</td>\n",
       "      <td>여</td>\n",
       "      <td>14_65~69세</td>\n",
       "      <td>488</td>\n",
       "      <td>21793</td>\n",
       "    </tr>\n",
       "    <tr>\n",
       "      <th>60841</th>\n",
       "      <td>2023</td>\n",
       "      <td>Z99</td>\n",
       "      <td>여</td>\n",
       "      <td>15_70~74세</td>\n",
       "      <td>487</td>\n",
       "      <td>15484</td>\n",
       "    </tr>\n",
       "    <tr>\n",
       "      <th>60842</th>\n",
       "      <td>2023</td>\n",
       "      <td>Z99</td>\n",
       "      <td>여</td>\n",
       "      <td>16_75~79세</td>\n",
       "      <td>484</td>\n",
       "      <td>14948</td>\n",
       "    </tr>\n",
       "    <tr>\n",
       "      <th>60843</th>\n",
       "      <td>2023</td>\n",
       "      <td>Z99</td>\n",
       "      <td>여</td>\n",
       "      <td>17_80~84세</td>\n",
       "      <td>522</td>\n",
       "      <td>13158</td>\n",
       "    </tr>\n",
       "    <tr>\n",
       "      <th>60844</th>\n",
       "      <td>2023</td>\n",
       "      <td>Z99</td>\n",
       "      <td>여</td>\n",
       "      <td>18_85세 이상</td>\n",
       "      <td>374</td>\n",
       "      <td>6453</td>\n",
       "    </tr>\n",
       "  </tbody>\n",
       "</table>\n",
       "<p>60845 rows × 6 columns</p>\n",
       "</div>"
      ],
      "text/plain": [
       "       진료년도 상병코드 성별        연령군  환자수  명세서청구건수\n",
       "0      2023  A00  남    01_0~4세   31       65\n",
       "1      2023  A00  남    02_5~9세   13       15\n",
       "2      2023  A00  남  03_10~14세    6       21\n",
       "3      2023  A00  남  04_15~19세   12       19\n",
       "4      2023  A00  남  05_20~24세   20       22\n",
       "...     ...  ... ..        ...  ...      ...\n",
       "60840  2023  Z99  여  14_65~69세  488    21793\n",
       "60841  2023  Z99  여  15_70~74세  487    15484\n",
       "60842  2023  Z99  여  16_75~79세  484    14948\n",
       "60843  2023  Z99  여  17_80~84세  522    13158\n",
       "60844  2023  Z99  여  18_85세 이상  374     6453\n",
       "\n",
       "[60845 rows x 6 columns]"
      ]
     },
     "execution_count": 51,
     "metadata": {},
     "output_type": "execute_result"
    }
   ],
   "source": [
    "codes"
   ]
  },
  {
   "cell_type": "code",
   "execution_count": 40,
   "metadata": {},
   "outputs": [],
   "source": [
    "# kcd_df"
   ]
  },
  {
   "cell_type": "code",
   "execution_count": 41,
   "metadata": {},
   "outputs": [
    {
     "data": {
      "text/plain": [
       "(60845, 7)"
      ]
     },
     "execution_count": 41,
     "metadata": {},
     "output_type": "execute_result"
    }
   ],
   "source": [
    "patients.shape"
   ]
  },
  {
   "cell_type": "code",
   "execution_count": 69,
   "metadata": {},
   "outputs": [],
   "source": [
    "diseases = patients.merge(kcd_df, how='left', left_on='상병코드', right_on='질병분류코드')"
   ]
  },
  {
   "cell_type": "code",
   "execution_count": 70,
   "metadata": {},
   "outputs": [
    {
     "data": {
      "text/plain": [
       "2033"
      ]
     },
     "execution_count": 70,
     "metadata": {},
     "output_type": "execute_result"
    }
   ],
   "source": [
    "diseases['한글명칭'].nunique()"
   ]
  },
  {
   "cell_type": "code",
   "execution_count": 71,
   "metadata": {},
   "outputs": [
    {
     "data": {
      "text/plain": [
       "(60845, 10)"
      ]
     },
     "execution_count": 71,
     "metadata": {},
     "output_type": "execute_result"
    }
   ],
   "source": [
    "diseases.shape"
   ]
  },
  {
   "cell_type": "code",
   "execution_count": 72,
   "metadata": {},
   "outputs": [
    {
     "data": {
      "text/html": [
       "<div>\n",
       "<style scoped>\n",
       "    .dataframe tbody tr th:only-of-type {\n",
       "        vertical-align: middle;\n",
       "    }\n",
       "\n",
       "    .dataframe tbody tr th {\n",
       "        vertical-align: top;\n",
       "    }\n",
       "\n",
       "    .dataframe thead th {\n",
       "        text-align: right;\n",
       "    }\n",
       "</style>\n",
       "<table border=\"1\" class=\"dataframe\">\n",
       "  <thead>\n",
       "    <tr style=\"text-align: right;\">\n",
       "      <th></th>\n",
       "      <th>진료년도</th>\n",
       "      <th>상병코드</th>\n",
       "      <th>성별</th>\n",
       "      <th>연령군</th>\n",
       "      <th>환자수</th>\n",
       "      <th>명세서청구건수</th>\n",
       "      <th>연령군_구분</th>\n",
       "      <th>질병분류코드</th>\n",
       "      <th>한글명칭</th>\n",
       "      <th>영문명칭</th>\n",
       "    </tr>\n",
       "  </thead>\n",
       "  <tbody>\n",
       "    <tr>\n",
       "      <th>0</th>\n",
       "      <td>2023</td>\n",
       "      <td>A00</td>\n",
       "      <td>남</td>\n",
       "      <td>0~4세</td>\n",
       "      <td>31</td>\n",
       "      <td>65</td>\n",
       "      <td>01</td>\n",
       "      <td>A00</td>\n",
       "      <td>콜레라</td>\n",
       "      <td>Cholera</td>\n",
       "    </tr>\n",
       "    <tr>\n",
       "      <th>1</th>\n",
       "      <td>2023</td>\n",
       "      <td>A00</td>\n",
       "      <td>남</td>\n",
       "      <td>5~9세</td>\n",
       "      <td>13</td>\n",
       "      <td>15</td>\n",
       "      <td>02</td>\n",
       "      <td>A00</td>\n",
       "      <td>콜레라</td>\n",
       "      <td>Cholera</td>\n",
       "    </tr>\n",
       "    <tr>\n",
       "      <th>2</th>\n",
       "      <td>2023</td>\n",
       "      <td>A00</td>\n",
       "      <td>남</td>\n",
       "      <td>10~14세</td>\n",
       "      <td>6</td>\n",
       "      <td>21</td>\n",
       "      <td>03</td>\n",
       "      <td>A00</td>\n",
       "      <td>콜레라</td>\n",
       "      <td>Cholera</td>\n",
       "    </tr>\n",
       "    <tr>\n",
       "      <th>3</th>\n",
       "      <td>2023</td>\n",
       "      <td>A00</td>\n",
       "      <td>남</td>\n",
       "      <td>15~19세</td>\n",
       "      <td>12</td>\n",
       "      <td>19</td>\n",
       "      <td>04</td>\n",
       "      <td>A00</td>\n",
       "      <td>콜레라</td>\n",
       "      <td>Cholera</td>\n",
       "    </tr>\n",
       "    <tr>\n",
       "      <th>4</th>\n",
       "      <td>2023</td>\n",
       "      <td>A00</td>\n",
       "      <td>남</td>\n",
       "      <td>20~24세</td>\n",
       "      <td>20</td>\n",
       "      <td>22</td>\n",
       "      <td>05</td>\n",
       "      <td>A00</td>\n",
       "      <td>콜레라</td>\n",
       "      <td>Cholera</td>\n",
       "    </tr>\n",
       "  </tbody>\n",
       "</table>\n",
       "</div>"
      ],
      "text/plain": [
       "   진료년도 상병코드 성별     연령군  환자수  명세서청구건수 연령군_구분 질병분류코드 한글명칭     영문명칭\n",
       "0  2023  A00  남    0~4세   31       65     01    A00  콜레라  Cholera\n",
       "1  2023  A00  남    5~9세   13       15     02    A00  콜레라  Cholera\n",
       "2  2023  A00  남  10~14세    6       21     03    A00  콜레라  Cholera\n",
       "3  2023  A00  남  15~19세   12       19     04    A00  콜레라  Cholera\n",
       "4  2023  A00  남  20~24세   20       22     05    A00  콜레라  Cholera"
      ]
     },
     "execution_count": 72,
     "metadata": {},
     "output_type": "execute_result"
    }
   ],
   "source": [
    "diseases.head()"
   ]
  },
  {
   "cell_type": "code",
   "execution_count": 56,
   "metadata": {},
   "outputs": [],
   "source": [
    "diseases.drop('질병분류코드', axis=1, inplace=True)"
   ]
  },
  {
   "cell_type": "code",
   "execution_count": 57,
   "metadata": {},
   "outputs": [
    {
     "data": {
      "text/html": [
       "<div>\n",
       "<style scoped>\n",
       "    .dataframe tbody tr th:only-of-type {\n",
       "        vertical-align: middle;\n",
       "    }\n",
       "\n",
       "    .dataframe tbody tr th {\n",
       "        vertical-align: top;\n",
       "    }\n",
       "\n",
       "    .dataframe thead th {\n",
       "        text-align: right;\n",
       "    }\n",
       "</style>\n",
       "<table border=\"1\" class=\"dataframe\">\n",
       "  <thead>\n",
       "    <tr style=\"text-align: right;\">\n",
       "      <th></th>\n",
       "      <th>진료년도</th>\n",
       "      <th>환자수</th>\n",
       "      <th>명세서청구건수</th>\n",
       "    </tr>\n",
       "  </thead>\n",
       "  <tbody>\n",
       "    <tr>\n",
       "      <th>count</th>\n",
       "      <td>60845.0</td>\n",
       "      <td>6.084500e+04</td>\n",
       "      <td>6.084500e+04</td>\n",
       "    </tr>\n",
       "    <tr>\n",
       "      <th>mean</th>\n",
       "      <td>2023.0</td>\n",
       "      <td>1.483844e+04</td>\n",
       "      <td>4.891236e+04</td>\n",
       "    </tr>\n",
       "    <tr>\n",
       "      <th>std</th>\n",
       "      <td>0.0</td>\n",
       "      <td>7.028228e+04</td>\n",
       "      <td>3.361705e+05</td>\n",
       "    </tr>\n",
       "    <tr>\n",
       "      <th>min</th>\n",
       "      <td>2023.0</td>\n",
       "      <td>1.000000e+00</td>\n",
       "      <td>1.000000e+00</td>\n",
       "    </tr>\n",
       "    <tr>\n",
       "      <th>25%</th>\n",
       "      <td>2023.0</td>\n",
       "      <td>1.800000e+01</td>\n",
       "      <td>4.600000e+01</td>\n",
       "    </tr>\n",
       "    <tr>\n",
       "      <th>50%</th>\n",
       "      <td>2023.0</td>\n",
       "      <td>2.330000e+02</td>\n",
       "      <td>6.970000e+02</td>\n",
       "    </tr>\n",
       "    <tr>\n",
       "      <th>75%</th>\n",
       "      <td>2023.0</td>\n",
       "      <td>2.963000e+03</td>\n",
       "      <td>8.432000e+03</td>\n",
       "    </tr>\n",
       "    <tr>\n",
       "      <th>max</th>\n",
       "      <td>2023.0</td>\n",
       "      <td>1.953392e+06</td>\n",
       "      <td>1.644214e+07</td>\n",
       "    </tr>\n",
       "  </tbody>\n",
       "</table>\n",
       "</div>"
      ],
      "text/plain": [
       "          진료년도           환자수       명세서청구건수\n",
       "count  60845.0  6.084500e+04  6.084500e+04\n",
       "mean    2023.0  1.483844e+04  4.891236e+04\n",
       "std        0.0  7.028228e+04  3.361705e+05\n",
       "min     2023.0  1.000000e+00  1.000000e+00\n",
       "25%     2023.0  1.800000e+01  4.600000e+01\n",
       "50%     2023.0  2.330000e+02  6.970000e+02\n",
       "75%     2023.0  2.963000e+03  8.432000e+03\n",
       "max     2023.0  1.953392e+06  1.644214e+07"
      ]
     },
     "execution_count": 57,
     "metadata": {},
     "output_type": "execute_result"
    }
   ],
   "source": [
    "diseases.describe()"
   ]
  },
  {
   "cell_type": "code",
   "execution_count": 58,
   "metadata": {},
   "outputs": [
    {
     "name": "stdout",
     "output_type": "stream",
     "text": [
      "<class 'pandas.core.frame.DataFrame'>\n",
      "RangeIndex: 60845 entries, 0 to 60844\n",
      "Data columns (total 9 columns):\n",
      " #   Column   Non-Null Count  Dtype \n",
      "---  ------   --------------  ----- \n",
      " 0   진료년도     60845 non-null  int64 \n",
      " 1   상병코드     60845 non-null  object\n",
      " 2   성별       60845 non-null  object\n",
      " 3   연령군      60845 non-null  object\n",
      " 4   환자수      60845 non-null  int64 \n",
      " 5   명세서청구건수  60845 non-null  int64 \n",
      " 6   연령군_구분   60845 non-null  object\n",
      " 7   한글명칭     60806 non-null  object\n",
      " 8   영문명칭     60806 non-null  object\n",
      "dtypes: int64(3), object(6)\n",
      "memory usage: 4.2+ MB\n"
     ]
    }
   ],
   "source": [
    "diseases.info()"
   ]
  },
  {
   "cell_type": "code",
   "execution_count": 59,
   "metadata": {},
   "outputs": [],
   "source": [
    "diseases['연령군_구분'] = diseases['연령군_구분'].astype('int')"
   ]
  },
  {
   "cell_type": "code",
   "execution_count": 60,
   "metadata": {},
   "outputs": [
    {
     "data": {
      "text/html": [
       "<div>\n",
       "<style scoped>\n",
       "    .dataframe tbody tr th:only-of-type {\n",
       "        vertical-align: middle;\n",
       "    }\n",
       "\n",
       "    .dataframe tbody tr th {\n",
       "        vertical-align: top;\n",
       "    }\n",
       "\n",
       "    .dataframe thead th {\n",
       "        text-align: right;\n",
       "    }\n",
       "</style>\n",
       "<table border=\"1\" class=\"dataframe\">\n",
       "  <thead>\n",
       "    <tr style=\"text-align: right;\">\n",
       "      <th></th>\n",
       "      <th>환자수</th>\n",
       "      <th>명세서청구건수</th>\n",
       "    </tr>\n",
       "    <tr>\n",
       "      <th>연령군</th>\n",
       "      <th></th>\n",
       "      <th></th>\n",
       "    </tr>\n",
       "  </thead>\n",
       "  <tbody>\n",
       "    <tr>\n",
       "      <th>60~64세</th>\n",
       "      <td>84902901</td>\n",
       "      <td>289512255</td>\n",
       "    </tr>\n",
       "    <tr>\n",
       "      <th>65~69세</th>\n",
       "      <td>76507931</td>\n",
       "      <td>291116967</td>\n",
       "    </tr>\n",
       "    <tr>\n",
       "      <th>50~54세</th>\n",
       "      <td>72265960</td>\n",
       "      <td>212206210</td>\n",
       "    </tr>\n",
       "    <tr>\n",
       "      <th>55~59세</th>\n",
       "      <td>71924579</td>\n",
       "      <td>225398057</td>\n",
       "    </tr>\n",
       "    <tr>\n",
       "      <th>40~44세</th>\n",
       "      <td>61012844</td>\n",
       "      <td>160324750</td>\n",
       "    </tr>\n",
       "    <tr>\n",
       "      <th>45~49세</th>\n",
       "      <td>59685026</td>\n",
       "      <td>164840184</td>\n",
       "    </tr>\n",
       "    <tr>\n",
       "      <th>70~74세</th>\n",
       "      <td>57601517</td>\n",
       "      <td>240504417</td>\n",
       "    </tr>\n",
       "    <tr>\n",
       "      <th>30~34세</th>\n",
       "      <td>51429865</td>\n",
       "      <td>121968707</td>\n",
       "    </tr>\n",
       "    <tr>\n",
       "      <th>35~39세</th>\n",
       "      <td>50868648</td>\n",
       "      <td>129886255</td>\n",
       "    </tr>\n",
       "    <tr>\n",
       "      <th>25~29세</th>\n",
       "      <td>47441269</td>\n",
       "      <td>105212802</td>\n",
       "    </tr>\n",
       "    <tr>\n",
       "      <th>75~79세</th>\n",
       "      <td>45148249</td>\n",
       "      <td>200911989</td>\n",
       "    </tr>\n",
       "    <tr>\n",
       "      <th>5~9세</th>\n",
       "      <td>36451415</td>\n",
       "      <td>141941685</td>\n",
       "    </tr>\n",
       "    <tr>\n",
       "      <th>20~24세</th>\n",
       "      <td>35609413</td>\n",
       "      <td>77561483</td>\n",
       "    </tr>\n",
       "    <tr>\n",
       "      <th>80~84세</th>\n",
       "      <td>35334979</td>\n",
       "      <td>165209792</td>\n",
       "    </tr>\n",
       "    <tr>\n",
       "      <th>10~14세</th>\n",
       "      <td>33408278</td>\n",
       "      <td>90188947</td>\n",
       "    </tr>\n",
       "    <tr>\n",
       "      <th>15~19세</th>\n",
       "      <td>31893590</td>\n",
       "      <td>81046150</td>\n",
       "    </tr>\n",
       "    <tr>\n",
       "      <th>0~4세</th>\n",
       "      <td>28657740</td>\n",
       "      <td>173090273</td>\n",
       "    </tr>\n",
       "    <tr>\n",
       "      <th>85세 이상</th>\n",
       "      <td>22700557</td>\n",
       "      <td>105151521</td>\n",
       "    </tr>\n",
       "  </tbody>\n",
       "</table>\n",
       "</div>"
      ],
      "text/plain": [
       "             환자수    명세서청구건수\n",
       "연령군                        \n",
       "60~64세  84902901  289512255\n",
       "65~69세  76507931  291116967\n",
       "50~54세  72265960  212206210\n",
       "55~59세  71924579  225398057\n",
       "40~44세  61012844  160324750\n",
       "45~49세  59685026  164840184\n",
       "70~74세  57601517  240504417\n",
       "30~34세  51429865  121968707\n",
       "35~39세  50868648  129886255\n",
       "25~29세  47441269  105212802\n",
       "75~79세  45148249  200911989\n",
       "5~9세    36451415  141941685\n",
       "20~24세  35609413   77561483\n",
       "80~84세  35334979  165209792\n",
       "10~14세  33408278   90188947\n",
       "15~19세  31893590   81046150\n",
       "0~4세    28657740  173090273\n",
       "85세 이상  22700557  105151521"
      ]
     },
     "execution_count": 60,
     "metadata": {},
     "output_type": "execute_result"
    }
   ],
   "source": [
    "diseases.groupby('연령군').sum()[['환자수','명세서청구건수']].sort_values(by='환자수', ascending=False)"
   ]
  },
  {
   "cell_type": "code",
   "execution_count": 61,
   "metadata": {},
   "outputs": [
    {
     "data": {
      "text/plain": [
       "array(['0~4세', '5~9세', '10~14세', '15~19세', '20~24세', '25~29세', '30~34세',\n",
       "       '35~39세', '40~44세', '45~49세', '50~54세', '55~59세', '60~64세',\n",
       "       '65~69세', '70~74세', '75~79세', '80~84세', '85세 이상'], dtype=object)"
      ]
     },
     "execution_count": 61,
     "metadata": {},
     "output_type": "execute_result"
    }
   ],
   "source": [
    "diseases['연령군'].unique()"
   ]
  },
  {
   "cell_type": "code",
   "execution_count": 62,
   "metadata": {},
   "outputs": [
    {
     "data": {
      "text/html": [
       "<div>\n",
       "<style scoped>\n",
       "    .dataframe tbody tr th:only-of-type {\n",
       "        vertical-align: middle;\n",
       "    }\n",
       "\n",
       "    .dataframe tbody tr th {\n",
       "        vertical-align: top;\n",
       "    }\n",
       "\n",
       "    .dataframe thead th {\n",
       "        text-align: right;\n",
       "    }\n",
       "</style>\n",
       "<table border=\"1\" class=\"dataframe\">\n",
       "  <thead>\n",
       "    <tr style=\"text-align: right;\">\n",
       "      <th></th>\n",
       "      <th>진료년도</th>\n",
       "      <th>상병코드</th>\n",
       "      <th>성별</th>\n",
       "      <th>연령군</th>\n",
       "      <th>환자수</th>\n",
       "      <th>명세서청구건수</th>\n",
       "      <th>연령군_구분</th>\n",
       "      <th>한글명칭</th>\n",
       "      <th>영문명칭</th>\n",
       "    </tr>\n",
       "  </thead>\n",
       "  <tbody>\n",
       "    <tr>\n",
       "      <th>0</th>\n",
       "      <td>2023</td>\n",
       "      <td>A00</td>\n",
       "      <td>남</td>\n",
       "      <td>0~4세</td>\n",
       "      <td>31</td>\n",
       "      <td>65</td>\n",
       "      <td>1</td>\n",
       "      <td>콜레라</td>\n",
       "      <td>Cholera</td>\n",
       "    </tr>\n",
       "    <tr>\n",
       "      <th>1</th>\n",
       "      <td>2023</td>\n",
       "      <td>A00</td>\n",
       "      <td>남</td>\n",
       "      <td>5~9세</td>\n",
       "      <td>13</td>\n",
       "      <td>15</td>\n",
       "      <td>2</td>\n",
       "      <td>콜레라</td>\n",
       "      <td>Cholera</td>\n",
       "    </tr>\n",
       "    <tr>\n",
       "      <th>2</th>\n",
       "      <td>2023</td>\n",
       "      <td>A00</td>\n",
       "      <td>남</td>\n",
       "      <td>10~14세</td>\n",
       "      <td>6</td>\n",
       "      <td>21</td>\n",
       "      <td>3</td>\n",
       "      <td>콜레라</td>\n",
       "      <td>Cholera</td>\n",
       "    </tr>\n",
       "    <tr>\n",
       "      <th>3</th>\n",
       "      <td>2023</td>\n",
       "      <td>A00</td>\n",
       "      <td>남</td>\n",
       "      <td>15~19세</td>\n",
       "      <td>12</td>\n",
       "      <td>19</td>\n",
       "      <td>4</td>\n",
       "      <td>콜레라</td>\n",
       "      <td>Cholera</td>\n",
       "    </tr>\n",
       "    <tr>\n",
       "      <th>4</th>\n",
       "      <td>2023</td>\n",
       "      <td>A00</td>\n",
       "      <td>남</td>\n",
       "      <td>20~24세</td>\n",
       "      <td>20</td>\n",
       "      <td>22</td>\n",
       "      <td>5</td>\n",
       "      <td>콜레라</td>\n",
       "      <td>Cholera</td>\n",
       "    </tr>\n",
       "  </tbody>\n",
       "</table>\n",
       "</div>"
      ],
      "text/plain": [
       "   진료년도 상병코드 성별     연령군  환자수  명세서청구건수  연령군_구분 한글명칭     영문명칭\n",
       "0  2023  A00  남    0~4세   31       65       1  콜레라  Cholera\n",
       "1  2023  A00  남    5~9세   13       15       2  콜레라  Cholera\n",
       "2  2023  A00  남  10~14세    6       21       3  콜레라  Cholera\n",
       "3  2023  A00  남  15~19세   12       19       4  콜레라  Cholera\n",
       "4  2023  A00  남  20~24세   20       22       5  콜레라  Cholera"
      ]
     },
     "execution_count": 62,
     "metadata": {},
     "output_type": "execute_result"
    }
   ],
   "source": [
    "diseases.head()"
   ]
  },
  {
   "cell_type": "code",
   "execution_count": 63,
   "metadata": {},
   "outputs": [
    {
     "data": {
      "text/plain": [
       "2033"
      ]
     },
     "execution_count": 63,
     "metadata": {},
     "output_type": "execute_result"
    }
   ],
   "source": [
    "diseases['한글명칭'].nunique()"
   ]
  },
  {
   "cell_type": "code",
   "execution_count": 64,
   "metadata": {},
   "outputs": [
    {
     "data": {
      "text/plain": [
       "array(['콜레라', '장티푸스 및 파라티푸스', '기타 살모넬라감염', ..., '기타 장치의 존재', '기타 수술후 상태',\n",
       "       '달리 분류되지 않은 기능성 기계 및 장치에 대한 의존'], dtype=object)"
      ]
     },
     "execution_count": 64,
     "metadata": {},
     "output_type": "execute_result"
    }
   ],
   "source": [
    "diseases['한글명칭'].unique()"
   ]
  },
  {
   "cell_type": "code",
   "execution_count": 65,
   "metadata": {},
   "outputs": [],
   "source": [
    "# diseases = diseases[diseases['환자수'] > 1000]"
   ]
  },
  {
   "cell_type": "code",
   "execution_count": 66,
   "metadata": {},
   "outputs": [],
   "source": [
    "stop = ['기타','세균성']"
   ]
  },
  {
   "cell_type": "code",
   "execution_count": 90,
   "metadata": {},
   "outputs": [],
   "source": [
    "diseases.drop('진료년도', axis=1, inplace=True)"
   ]
  },
  {
   "cell_type": "code",
   "execution_count": 94,
   "metadata": {},
   "outputs": [],
   "source": [
    "diseases[['성별','연령군','한글명칭','환자수']].to_csv('diseases.csv', index=False)"
   ]
  },
  {
   "cell_type": "code",
   "execution_count": 3,
   "metadata": {},
   "outputs": [],
   "source": [
    "import pandas as pd"
   ]
  },
  {
   "cell_type": "code",
   "execution_count": 15,
   "metadata": {},
   "outputs": [],
   "source": [
    "# 데이터 로드\n",
    "diseases = pd.read_csv('diseases.csv')"
   ]
  },
  {
   "cell_type": "code",
   "execution_count": 16,
   "metadata": {},
   "outputs": [
    {
     "data": {
      "text/plain": [
       "902844761"
      ]
     },
     "execution_count": 16,
     "metadata": {},
     "output_type": "execute_result"
    }
   ],
   "source": [
    "diseases['환자수'].sum()"
   ]
  },
  {
   "cell_type": "code",
   "execution_count": 17,
   "metadata": {},
   "outputs": [
    {
     "data": {
      "text/html": [
       "<div>\n",
       "<style scoped>\n",
       "    .dataframe tbody tr th:only-of-type {\n",
       "        vertical-align: middle;\n",
       "    }\n",
       "\n",
       "    .dataframe tbody tr th {\n",
       "        vertical-align: top;\n",
       "    }\n",
       "\n",
       "    .dataframe thead th {\n",
       "        text-align: right;\n",
       "    }\n",
       "</style>\n",
       "<table border=\"1\" class=\"dataframe\">\n",
       "  <thead>\n",
       "    <tr style=\"text-align: right;\">\n",
       "      <th></th>\n",
       "      <th>성별</th>\n",
       "      <th>연령군</th>\n",
       "      <th>한글명칭</th>\n",
       "      <th>환자수</th>\n",
       "    </tr>\n",
       "  </thead>\n",
       "  <tbody>\n",
       "    <tr>\n",
       "      <th>0</th>\n",
       "      <td>남</td>\n",
       "      <td>0~4세</td>\n",
       "      <td>콜레라</td>\n",
       "      <td>31</td>\n",
       "    </tr>\n",
       "    <tr>\n",
       "      <th>1</th>\n",
       "      <td>남</td>\n",
       "      <td>5~9세</td>\n",
       "      <td>콜레라</td>\n",
       "      <td>13</td>\n",
       "    </tr>\n",
       "    <tr>\n",
       "      <th>2</th>\n",
       "      <td>남</td>\n",
       "      <td>10~14세</td>\n",
       "      <td>콜레라</td>\n",
       "      <td>6</td>\n",
       "    </tr>\n",
       "    <tr>\n",
       "      <th>3</th>\n",
       "      <td>남</td>\n",
       "      <td>15~19세</td>\n",
       "      <td>콜레라</td>\n",
       "      <td>12</td>\n",
       "    </tr>\n",
       "    <tr>\n",
       "      <th>4</th>\n",
       "      <td>남</td>\n",
       "      <td>20~24세</td>\n",
       "      <td>콜레라</td>\n",
       "      <td>20</td>\n",
       "    </tr>\n",
       "    <tr>\n",
       "      <th>...</th>\n",
       "      <td>...</td>\n",
       "      <td>...</td>\n",
       "      <td>...</td>\n",
       "      <td>...</td>\n",
       "    </tr>\n",
       "    <tr>\n",
       "      <th>60840</th>\n",
       "      <td>여</td>\n",
       "      <td>65~69세</td>\n",
       "      <td>달리 분류되지 않은 기능성 기계 및 장치에 대한 의존</td>\n",
       "      <td>488</td>\n",
       "    </tr>\n",
       "    <tr>\n",
       "      <th>60841</th>\n",
       "      <td>여</td>\n",
       "      <td>70~74세</td>\n",
       "      <td>달리 분류되지 않은 기능성 기계 및 장치에 대한 의존</td>\n",
       "      <td>487</td>\n",
       "    </tr>\n",
       "    <tr>\n",
       "      <th>60842</th>\n",
       "      <td>여</td>\n",
       "      <td>75~79세</td>\n",
       "      <td>달리 분류되지 않은 기능성 기계 및 장치에 대한 의존</td>\n",
       "      <td>484</td>\n",
       "    </tr>\n",
       "    <tr>\n",
       "      <th>60843</th>\n",
       "      <td>여</td>\n",
       "      <td>80~84세</td>\n",
       "      <td>달리 분류되지 않은 기능성 기계 및 장치에 대한 의존</td>\n",
       "      <td>522</td>\n",
       "    </tr>\n",
       "    <tr>\n",
       "      <th>60844</th>\n",
       "      <td>여</td>\n",
       "      <td>85세 이상</td>\n",
       "      <td>달리 분류되지 않은 기능성 기계 및 장치에 대한 의존</td>\n",
       "      <td>374</td>\n",
       "    </tr>\n",
       "  </tbody>\n",
       "</table>\n",
       "<p>60845 rows × 4 columns</p>\n",
       "</div>"
      ],
      "text/plain": [
       "      성별     연령군                           한글명칭  환자수\n",
       "0      남    0~4세                            콜레라   31\n",
       "1      남    5~9세                            콜레라   13\n",
       "2      남  10~14세                            콜레라    6\n",
       "3      남  15~19세                            콜레라   12\n",
       "4      남  20~24세                            콜레라   20\n",
       "...   ..     ...                            ...  ...\n",
       "60840  여  65~69세  달리 분류되지 않은 기능성 기계 및 장치에 대한 의존  488\n",
       "60841  여  70~74세  달리 분류되지 않은 기능성 기계 및 장치에 대한 의존  487\n",
       "60842  여  75~79세  달리 분류되지 않은 기능성 기계 및 장치에 대한 의존  484\n",
       "60843  여  80~84세  달리 분류되지 않은 기능성 기계 및 장치에 대한 의존  522\n",
       "60844  여  85세 이상  달리 분류되지 않은 기능성 기계 및 장치에 대한 의존  374\n",
       "\n",
       "[60845 rows x 4 columns]"
      ]
     },
     "execution_count": 17,
     "metadata": {},
     "output_type": "execute_result"
    }
   ],
   "source": [
    "diseases"
   ]
  },
  {
   "cell_type": "code",
   "execution_count": 18,
   "metadata": {},
   "outputs": [],
   "source": [
    "from tqdm import tqdm"
   ]
  },
  {
   "cell_type": "code",
   "execution_count": 1,
   "metadata": {},
   "outputs": [],
   "source": [
    "# # 새 데이터를 저장할 리스트\n",
    "# expanded_data = []\n",
    "\n",
    "# # 각 질병에 대해 환자 수만큼 반복\n",
    "# for _, row in tqdm(diseases.iterrows()):\n",
    "#     gender = row['성별']\n",
    "#     age_group = row['연령군']\n",
    "#     disease_name = row['한글명칭']\n",
    "#     patient_count = int(row['환자수'])  # 환자 수를 정수로 변환\n",
    "    \n",
    "#     # 환자 수만큼 데이터 추가\n",
    "#     for _ in range(patient_count):\n",
    "#         expanded_data.append([gender, age_group, disease_name])\n",
    "\n",
    "# # 리스트를 데이터프레임으로 변환\n",
    "# expanded_df = pd.DataFrame(expanded_data, columns=['성별', '연령군', '한글명칭'])\n",
    "\n",
    "# # 결과 저장\n",
    "# expanded_df.to_csv('expanded_diseases.csv', index=False)\n",
    "\n",
    "# print(f\"Expanded data saved to 'expanded_diseases.csv'.\")\n"
   ]
  },
  {
   "cell_type": "code",
   "execution_count": 19,
   "metadata": {},
   "outputs": [],
   "source": [
    "# expanded_df.shape"
   ]
  },
  {
   "cell_type": "code",
   "execution_count": 20,
   "metadata": {},
   "outputs": [],
   "source": [
    "pdf1 = pd.pivot_table(diseases,                # 피벗할 데이터프레임\n",
    "                     index = '한글명칭',    # 행 위치에 들어갈 열\n",
    "                     columns = '연령군',    # 열 위치에 들어갈 열\n",
    "                     values = '환자수',     # 데이터로 사용할 열\n",
    "                     aggfunc = 'sum')   # 데이터 집계함수"
   ]
  },
  {
   "cell_type": "code",
   "execution_count": 21,
   "metadata": {},
   "outputs": [],
   "source": [
    "pdf2 = pd.pivot_table(diseases,                # 피벗할 데이터프레임\n",
    "                     index = '한글명칭',    # 행 위치에 들어갈 열\n",
    "                     columns = '성별',    # 열 위치에 들어갈 열\n",
    "                     values = '환자수',     # 데이터로 사용할 열\n",
    "                     aggfunc = 'sum')   # 데이터 집계함수"
   ]
  },
  {
   "cell_type": "code",
   "execution_count": 22,
   "metadata": {},
   "outputs": [],
   "source": [
    "pdf = pd.concat([pdf1, pdf2], axis=1)"
   ]
  },
  {
   "cell_type": "code",
   "execution_count": 23,
   "metadata": {},
   "outputs": [
    {
     "data": {
      "text/plain": [
       "Index(['0~4세', '10~14세', '15~19세', '20~24세', '25~29세', '30~34세', '35~39세',\n",
       "       '40~44세', '45~49세', '50~54세', '55~59세', '5~9세', '60~64세', '65~69세',\n",
       "       '70~74세', '75~79세', '80~84세', '85세 이상', '남', '여'],\n",
       "      dtype='object')"
      ]
     },
     "execution_count": 23,
     "metadata": {},
     "output_type": "execute_result"
    }
   ],
   "source": [
    "pdf.columns"
   ]
  },
  {
   "cell_type": "code",
   "execution_count": 25,
   "metadata": {},
   "outputs": [],
   "source": [
    "from sklearn.preprocessing import MinMaxScaler\n",
    "\n",
    "scaler = MinMaxScaler()"
   ]
  },
  {
   "cell_type": "code",
   "execution_count": 28,
   "metadata": {},
   "outputs": [],
   "source": [
    "col = pdf.columns"
   ]
  },
  {
   "cell_type": "code",
   "execution_count": 33,
   "metadata": {},
   "outputs": [
    {
     "data": {
      "text/html": [
       "<div>\n",
       "<style scoped>\n",
       "    .dataframe tbody tr th:only-of-type {\n",
       "        vertical-align: middle;\n",
       "    }\n",
       "\n",
       "    .dataframe tbody tr th {\n",
       "        vertical-align: top;\n",
       "    }\n",
       "\n",
       "    .dataframe thead th {\n",
       "        text-align: right;\n",
       "    }\n",
       "</style>\n",
       "<table border=\"1\" class=\"dataframe\">\n",
       "  <thead>\n",
       "    <tr style=\"text-align: right;\">\n",
       "      <th></th>\n",
       "      <th>0~4세</th>\n",
       "      <th>10~14세</th>\n",
       "      <th>15~19세</th>\n",
       "      <th>20~24세</th>\n",
       "      <th>25~29세</th>\n",
       "      <th>30~34세</th>\n",
       "      <th>35~39세</th>\n",
       "      <th>40~44세</th>\n",
       "      <th>45~49세</th>\n",
       "      <th>50~54세</th>\n",
       "      <th>55~59세</th>\n",
       "      <th>5~9세</th>\n",
       "      <th>60~64세</th>\n",
       "      <th>65~69세</th>\n",
       "      <th>70~74세</th>\n",
       "      <th>75~79세</th>\n",
       "      <th>80~84세</th>\n",
       "      <th>85세 이상</th>\n",
       "      <th>남</th>\n",
       "      <th>여</th>\n",
       "    </tr>\n",
       "    <tr>\n",
       "      <th>한글명칭</th>\n",
       "      <th></th>\n",
       "      <th></th>\n",
       "      <th></th>\n",
       "      <th></th>\n",
       "      <th></th>\n",
       "      <th></th>\n",
       "      <th></th>\n",
       "      <th></th>\n",
       "      <th></th>\n",
       "      <th></th>\n",
       "      <th></th>\n",
       "      <th></th>\n",
       "      <th></th>\n",
       "      <th></th>\n",
       "      <th></th>\n",
       "      <th></th>\n",
       "      <th></th>\n",
       "      <th></th>\n",
       "      <th></th>\n",
       "      <th></th>\n",
       "    </tr>\n",
       "  </thead>\n",
       "  <tbody>\n",
       "    <tr>\n",
       "      <th>1형 당뇨병</th>\n",
       "      <td>173.0</td>\n",
       "      <td>1718.0</td>\n",
       "      <td>2510.0</td>\n",
       "      <td>3314.0</td>\n",
       "      <td>4483.0</td>\n",
       "      <td>4966.0</td>\n",
       "      <td>5452.0</td>\n",
       "      <td>6890.0</td>\n",
       "      <td>7948.0</td>\n",
       "      <td>11505.0</td>\n",
       "      <td>13503.0</td>\n",
       "      <td>782.0</td>\n",
       "      <td>17323.0</td>\n",
       "      <td>17165.0</td>\n",
       "      <td>16900.0</td>\n",
       "      <td>17509.0</td>\n",
       "      <td>10631.0</td>\n",
       "      <td>6436.0</td>\n",
       "      <td>81077.0</td>\n",
       "      <td>68131.0</td>\n",
       "    </tr>\n",
       "    <tr>\n",
       "      <th>2형 당뇨병</th>\n",
       "      <td>835.0</td>\n",
       "      <td>10317.0</td>\n",
       "      <td>20472.0</td>\n",
       "      <td>35635.0</td>\n",
       "      <td>61872.0</td>\n",
       "      <td>98631.0</td>\n",
       "      <td>155962.0</td>\n",
       "      <td>291039.0</td>\n",
       "      <td>421368.0</td>\n",
       "      <td>677745.0</td>\n",
       "      <td>853971.0</td>\n",
       "      <td>4655.0</td>\n",
       "      <td>1115502.0</td>\n",
       "      <td>1062073.0</td>\n",
       "      <td>853360.0</td>\n",
       "      <td>685027.0</td>\n",
       "      <td>536547.0</td>\n",
       "      <td>324006.0</td>\n",
       "      <td>3824108.0</td>\n",
       "      <td>3384909.0</td>\n",
       "    </tr>\n",
       "    <tr>\n",
       "      <th>T/NK-세포림프종의 기타 명시된 형태</th>\n",
       "      <td>1.0</td>\n",
       "      <td>18.0</td>\n",
       "      <td>27.0</td>\n",
       "      <td>45.0</td>\n",
       "      <td>65.0</td>\n",
       "      <td>79.0</td>\n",
       "      <td>69.0</td>\n",
       "      <td>108.0</td>\n",
       "      <td>120.0</td>\n",
       "      <td>193.0</td>\n",
       "      <td>278.0</td>\n",
       "      <td>6.0</td>\n",
       "      <td>343.0</td>\n",
       "      <td>282.0</td>\n",
       "      <td>232.0</td>\n",
       "      <td>219.0</td>\n",
       "      <td>133.0</td>\n",
       "      <td>61.0</td>\n",
       "      <td>1428.0</td>\n",
       "      <td>851.0</td>\n",
       "    </tr>\n",
       "    <tr>\n",
       "      <th>U07의 응급사용</th>\n",
       "      <td>424444.0</td>\n",
       "      <td>683412.0</td>\n",
       "      <td>732733.0</td>\n",
       "      <td>635621.0</td>\n",
       "      <td>812285.0</td>\n",
       "      <td>826606.0</td>\n",
       "      <td>770031.0</td>\n",
       "      <td>801297.0</td>\n",
       "      <td>685666.0</td>\n",
       "      <td>709164.0</td>\n",
       "      <td>608011.0</td>\n",
       "      <td>537315.0</td>\n",
       "      <td>701235.0</td>\n",
       "      <td>609335.0</td>\n",
       "      <td>440250.0</td>\n",
       "      <td>323105.0</td>\n",
       "      <td>248346.0</td>\n",
       "      <td>174491.0</td>\n",
       "      <td>4731460.0</td>\n",
       "      <td>5991887.0</td>\n",
       "    </tr>\n",
       "    <tr>\n",
       "      <th>가려움</th>\n",
       "      <td>174397.0</td>\n",
       "      <td>113136.0</td>\n",
       "      <td>123104.0</td>\n",
       "      <td>202930.0</td>\n",
       "      <td>283277.0</td>\n",
       "      <td>284942.0</td>\n",
       "      <td>255534.0</td>\n",
       "      <td>290219.0</td>\n",
       "      <td>270010.0</td>\n",
       "      <td>306986.0</td>\n",
       "      <td>289223.0</td>\n",
       "      <td>156864.0</td>\n",
       "      <td>324474.0</td>\n",
       "      <td>279792.0</td>\n",
       "      <td>208015.0</td>\n",
       "      <td>164827.0</td>\n",
       "      <td>128572.0</td>\n",
       "      <td>85870.0</td>\n",
       "      <td>1442095.0</td>\n",
       "      <td>2500077.0</td>\n",
       "    </tr>\n",
       "  </tbody>\n",
       "</table>\n",
       "</div>"
      ],
      "text/plain": [
       "                           0~4세    10~14세    15~19세    20~24세    25~29세  \\\n",
       "한글명칭                                                                      \n",
       "1형 당뇨병                    173.0    1718.0    2510.0    3314.0    4483.0   \n",
       "2형 당뇨병                    835.0   10317.0   20472.0   35635.0   61872.0   \n",
       "T/NK-세포림프종의 기타 명시된 형태       1.0      18.0      27.0      45.0      65.0   \n",
       "U07의 응급사용              424444.0  683412.0  732733.0  635621.0  812285.0   \n",
       "가려움                    174397.0  113136.0  123104.0  202930.0  283277.0   \n",
       "\n",
       "                         30~34세    35~39세    40~44세    45~49세    50~54세  \\\n",
       "한글명칭                                                                      \n",
       "1형 당뇨병                   4966.0    5452.0    6890.0    7948.0   11505.0   \n",
       "2형 당뇨병                  98631.0  155962.0  291039.0  421368.0  677745.0   \n",
       "T/NK-세포림프종의 기타 명시된 형태      79.0      69.0     108.0     120.0     193.0   \n",
       "U07의 응급사용              826606.0  770031.0  801297.0  685666.0  709164.0   \n",
       "가려움                    284942.0  255534.0  290219.0  270010.0  306986.0   \n",
       "\n",
       "                         55~59세      5~9세     60~64세     65~69세    70~74세  \\\n",
       "한글명칭                                                                        \n",
       "1형 당뇨병                  13503.0     782.0    17323.0    17165.0   16900.0   \n",
       "2형 당뇨병                 853971.0    4655.0  1115502.0  1062073.0  853360.0   \n",
       "T/NK-세포림프종의 기타 명시된 형태     278.0       6.0      343.0      282.0     232.0   \n",
       "U07의 응급사용              608011.0  537315.0   701235.0   609335.0  440250.0   \n",
       "가려움                    289223.0  156864.0   324474.0   279792.0  208015.0   \n",
       "\n",
       "                         75~79세    80~84세    85세 이상          남          여  \n",
       "한글명칭                                                                       \n",
       "1형 당뇨병                  17509.0   10631.0    6436.0    81077.0    68131.0  \n",
       "2형 당뇨병                 685027.0  536547.0  324006.0  3824108.0  3384909.0  \n",
       "T/NK-세포림프종의 기타 명시된 형태     219.0     133.0      61.0     1428.0      851.0  \n",
       "U07의 응급사용              323105.0  248346.0  174491.0  4731460.0  5991887.0  \n",
       "가려움                    164827.0  128572.0   85870.0  1442095.0  2500077.0  "
      ]
     },
     "execution_count": 33,
     "metadata": {},
     "output_type": "execute_result"
    }
   ],
   "source": [
    "pdf.head()"
   ]
  },
  {
   "cell_type": "code",
   "execution_count": 34,
   "metadata": {},
   "outputs": [
    {
     "data": {
      "text/plain": [
       "Index(['1형 당뇨병', '2형 당뇨병', 'T/NK-세포림프종의 기타 명시된 형태', 'U07의 응급사용', '가려움',\n",
       "       '가스통 폭발 및 파열', '가족상황을 포함하여 일차지원집단에 관련된 기타 문제', '가진통', '각막 흉터 및 혼탁',\n",
       "       '각막염',\n",
       "       ...\n",
       "       '흉부부위의 신경 및 척수의 손상', '흉부의 기타 및 상세불명의 손상', '흉부의 열린상처',\n",
       "       '흉부의 으깸손상 및 흉부 부분의 외상성 절단', '흉부의 표재성 손상', '흉선의 악성 신생물', '흉선의 질환',\n",
       "       '흉터탈모증[흉터성 모발손실]', '흑색극세포증', '히스토플라스마증'],\n",
       "      dtype='object', name='한글명칭', length=2033)"
      ]
     },
     "execution_count": 34,
     "metadata": {},
     "output_type": "execute_result"
    }
   ],
   "source": [
    "pdf.index"
   ]
  },
  {
   "cell_type": "code",
   "execution_count": 31,
   "metadata": {},
   "outputs": [],
   "source": [
    "pdf = pdf.fillna(0)"
   ]
  },
  {
   "cell_type": "code",
   "execution_count": 37,
   "metadata": {},
   "outputs": [],
   "source": [
    "pdf_scaled = pd.DataFrame(scaler.fit_transform(pdf), columns=col, index=pdf.index)"
   ]
  },
  {
   "cell_type": "code",
   "execution_count": 87,
   "metadata": {},
   "outputs": [],
   "source": [
    "pdf.to_csv('disease_data_ko.csv')"
   ]
  },
  {
   "cell_type": "code",
   "execution_count": null,
   "metadata": {},
   "outputs": [],
   "source": []
  },
  {
   "cell_type": "code",
   "execution_count": 205,
   "metadata": {},
   "outputs": [
    {
     "data": {
      "text/html": [
       "<div>\n",
       "<style scoped>\n",
       "    .dataframe tbody tr th:only-of-type {\n",
       "        vertical-align: middle;\n",
       "    }\n",
       "\n",
       "    .dataframe tbody tr th {\n",
       "        vertical-align: top;\n",
       "    }\n",
       "\n",
       "    .dataframe thead th {\n",
       "        text-align: right;\n",
       "    }\n",
       "</style>\n",
       "<table border=\"1\" class=\"dataframe\">\n",
       "  <thead>\n",
       "    <tr style=\"text-align: right;\">\n",
       "      <th></th>\n",
       "      <th>진료년도</th>\n",
       "      <th>상병코드</th>\n",
       "      <th>성별</th>\n",
       "      <th>연령군</th>\n",
       "      <th>환자수</th>\n",
       "      <th>명세서청구건수</th>\n",
       "      <th>연령군_구분</th>\n",
       "      <th>한글명칭</th>\n",
       "      <th>영문명칭</th>\n",
       "    </tr>\n",
       "  </thead>\n",
       "  <tbody>\n",
       "    <tr>\n",
       "      <th>144</th>\n",
       "      <td>2023</td>\n",
       "      <td>A04</td>\n",
       "      <td>남</td>\n",
       "      <td>0~4세</td>\n",
       "      <td>26416</td>\n",
       "      <td>101707</td>\n",
       "      <td>1</td>\n",
       "      <td>기타 세균성 장감염</td>\n",
       "      <td>Other bacterial intestinal infections</td>\n",
       "    </tr>\n",
       "    <tr>\n",
       "      <th>145</th>\n",
       "      <td>2023</td>\n",
       "      <td>A04</td>\n",
       "      <td>남</td>\n",
       "      <td>5~9세</td>\n",
       "      <td>25219</td>\n",
       "      <td>71161</td>\n",
       "      <td>2</td>\n",
       "      <td>기타 세균성 장감염</td>\n",
       "      <td>Other bacterial intestinal infections</td>\n",
       "    </tr>\n",
       "    <tr>\n",
       "      <th>146</th>\n",
       "      <td>2023</td>\n",
       "      <td>A04</td>\n",
       "      <td>남</td>\n",
       "      <td>10~14세</td>\n",
       "      <td>23138</td>\n",
       "      <td>40227</td>\n",
       "      <td>3</td>\n",
       "      <td>기타 세균성 장감염</td>\n",
       "      <td>Other bacterial intestinal infections</td>\n",
       "    </tr>\n",
       "    <tr>\n",
       "      <th>147</th>\n",
       "      <td>2023</td>\n",
       "      <td>A04</td>\n",
       "      <td>남</td>\n",
       "      <td>15~19세</td>\n",
       "      <td>31356</td>\n",
       "      <td>52620</td>\n",
       "      <td>4</td>\n",
       "      <td>기타 세균성 장감염</td>\n",
       "      <td>Other bacterial intestinal infections</td>\n",
       "    </tr>\n",
       "    <tr>\n",
       "      <th>148</th>\n",
       "      <td>2023</td>\n",
       "      <td>A04</td>\n",
       "      <td>남</td>\n",
       "      <td>20~24세</td>\n",
       "      <td>30309</td>\n",
       "      <td>40316</td>\n",
       "      <td>5</td>\n",
       "      <td>기타 세균성 장감염</td>\n",
       "      <td>Other bacterial intestinal infections</td>\n",
       "    </tr>\n",
       "  </tbody>\n",
       "</table>\n",
       "</div>"
      ],
      "text/plain": [
       "     진료년도 상병코드 성별     연령군    환자수  명세서청구건수  연령군_구분        한글명칭  \\\n",
       "144  2023  A04  남    0~4세  26416   101707       1  기타 세균성 장감염   \n",
       "145  2023  A04  남    5~9세  25219    71161       2  기타 세균성 장감염   \n",
       "146  2023  A04  남  10~14세  23138    40227       3  기타 세균성 장감염   \n",
       "147  2023  A04  남  15~19세  31356    52620       4  기타 세균성 장감염   \n",
       "148  2023  A04  남  20~24세  30309    40316       5  기타 세균성 장감염   \n",
       "\n",
       "                                      영문명칭  \n",
       "144  Other bacterial intestinal infections  \n",
       "145  Other bacterial intestinal infections  \n",
       "146  Other bacterial intestinal infections  \n",
       "147  Other bacterial intestinal infections  \n",
       "148  Other bacterial intestinal infections  "
      ]
     },
     "execution_count": 205,
     "metadata": {},
     "output_type": "execute_result"
    }
   ],
   "source": [
    "diseases.head()"
   ]
  },
  {
   "cell_type": "code",
   "execution_count": 209,
   "metadata": {},
   "outputs": [],
   "source": [
    "from tqdm import tqdm"
   ]
  },
  {
   "cell_type": "code",
   "execution_count": 214,
   "metadata": {},
   "outputs": [
    {
     "data": {
      "text/plain": [
       "Index(['질병명', '증상', '관련질환', '진료과', '동의어'], dtype='object')"
      ]
     },
     "execution_count": 214,
     "metadata": {},
     "output_type": "execute_result"
    }
   ],
   "source": [
    "df.columns"
   ]
  },
  {
   "cell_type": "code",
   "execution_count": 217,
   "metadata": {},
   "outputs": [
    {
     "data": {
      "text/plain": [
       "dict_keys(['기타 세균성 장감염', '달리 분류되지 않은 기타 세균성 음식매개중독', '바이러스성 및 기타 명시된 장감염', '감염성 및 상세불명 기원의 기타 위장염 및 결장염', '세균학적 및 조직학적으로 확인된 호흡기결핵', '세균학적으로나 조직학적으로 확인되지 않은 호흡기결핵', '기타 형태의 마이코박테리아에 의한 감염', '기타 패혈증', '달리 분류되지 않은 기타 세균성 질환', '상세불명 부위의 세균감염', '조기매독', '기타 및 상세불명의 매독', '임균감염', '기타 성행위로 전파되는 클라미디아질환', '편모충증', '항문생식기의 헤르페스바이러스[단순헤르페스]감염', '달리 분류되지 않은 기타 주로 성행위로 전파되는 질환', '상세불명의 성매개질환', '기타 스피로헤타감염', '클라미디아에 의한 기타 질환', '발진티푸스', '헤르페스바이러스[단순헤르페스] 감염', '수두', '대상포진', '바이러스사마귀', '달리 분류되지 않은 피부 및 점막병변이 특징인 기타 바이러스감염', '피부 및 점막병변이 특징인 상세불명의 바이러스감염', '급성 B형간염', '기타 급성 바이러스간염', '만성 바이러스간염', '상세불명의 바이러스간염', '상세불명의 사람면역결핍바이러스병', '볼거리', '감염성 단핵구증', '바이러스결막염', '달리 분류되지 않은 기타 바이러스질환', '상세불명 부위의 바이러스감염', '백선증', '기타 표재성 진균증', '칸디다증', '아스페르길루스증', '상세불명의 진균증', '기타 흡충감염', '이감염증 및 사면발이증', '옴', '기타 감염', '결핵의 후유증', '다른 장에서 분류된 질환의 원인으로서의 연쇄알균 및 포도알균', '다른 장에서 분류된 질환의 원인으로서의 기타 명시된 세균감염체', '다른 장에서 분류된 질환의 원인으로서의 바이러스감염체', '다른 장에서 분류된 질환의 원인으로서의 기타 명시된 감염체', '식도의 악성 신생물', '위의 악성 신생물', '결장의 악성 신생물', '직장구불결장접합부의 악성 신생물', '직장의 악성 신생물', '간 및 간내 담관의 악성 신생물', '담낭의 악성 신생물', '담도의 기타 및 상세불명 부분의 악성 신생물', '췌장의 악성 신생물', '후두의 악성 신생물', '기관지 및 폐의 악성 신생물', '기타 피부의 악성 신생물', '유방의 악성 신생물', '자궁경부의 악성 신생물', '자궁체부의 악성 신생물', '난소의 악성 신생물', '전립선의 악성 신생물', '신우를 제외한 신장의 악성 신생물', '방광의 악성 신생물', '갑상선의 악성 신생물', '림프절의 이차성 및 상세불명의 악성 신생물', '호흡 및 소화기관의 이차성 악성 신생물', '기타 및 상세불명 부위의 이차성 악성 신생물', '부위의 명시가 없는 악성 신생물', '비소포성 림프종', '기타 및 상세불명 유형의 비호지킨림프종', '악성 면역증식성 질환', '다발골수종 및 악성 형질세포신생물', '골수성 백혈병', '구강, 식도 및 위의 제자리암종', '기타 및 상세불명의 소화기관의 제자리암종', '피부의 제자리암종', '유방의 제자리암종', '자궁경부의 제자리암종', '기타 및 상세불명의 생식기관의 제자리암종', '기타 및 상세불명 부위의 제자리암종', '입 및 인두의 양성 신생물', '주침샘의 양성 신생물', '결장, 직장, 항문 및 항문관의 양성 신생물 ', '기타 및 부위불명의 소화계통의 양성 신생물', '중이 및 호흡계통의 양성 신생물', '골 및 관절연골의 양성 신생물', '양성 지방종성 신생물', '모든 부위의 혈관종 및 림프관종', '결합조직 및 기타 연조직의 기타 양성 신생물', '멜라닌세포모반', '피부의 기타 양성 신생물', '유방의 양성 신생물', '자궁의 평활근종', '자궁의 기타 양성 신생물', '난소의 양성 신생물', '기타 및 상세불명의 여성생식기관의 양성 신생물', '남성생식기관의 양성 신생물', '비뇨기관의 양성 신생물', '눈 및 부속기의 양성 신생물', '수막의 양성 신생물', '뇌 및 중추신경계통의 기타 부분의 양성 신생물', '갑상선의 양성 신생물', '기타 및 상세불명의 내분비선의 양성 신생물', '기타 및 상세불명 부위의 양성 신생물', '구강 및 소화기관의 행동양식 불명 또는 미상의 신생물', '중이, 호흡기관, 흉곽내기관의 행동양식 불명 또는 미상의 신생물', '여성생식기관의 행동양식 불명 또는 미상의 신생물', '남성생식기관의 행동양식 불명 또는 미상의 신생물', '비뇨기관의 행동양식 불명 또는 미상의 신생물', '뇌 및 중추신경계통의 행동양식 불명 또는 미상의 신생물', '내분비선의 행동양식 불명 또는 미상의 신생물', '림프, 조혈 및 관련 조직의 행동양식 불명 및 미상의 기타 신생물', '기타 및 상세불명 부위의 행동양식 불명 또는 미상의 신생물', '철결핍빈혈', '비타민B12결핍빈혈', '엽산결핍빈혈', '기타 영양성 빈혈', '급성 출혈후 빈혈', '달리 분류된 만성 질환에서의 빈혈', '기타 빈혈', '파종성 혈관내응고[탈피브린증후군]', '기타 응고결함', '자반 및 기타 출혈성 병태', '무과립구증', '백혈구의 기타 장애', '혈액 및 조혈기관의 기타 질환', '기타 면역결핍', '달리 분류되지 않은 면역메커니즘을 침범한 기타 장애', '무증상 요오드결핍성 갑상선기능저하증', '기타 갑상선기능저하증', '기타 비독성 고이터', '갑상선독증[갑상선기능항진증]', '갑상선염', '갑상선의 기타 장애', '1형 당뇨병', '2형 당뇨병', '기타 명시된 당뇨병', '상세불명의 당뇨병', '췌장내분비의 기타 장애', '부갑상선기능저하증', '부갑상선기능항진증 및 부갑상선의 기타 장애', '뇌하수체의 기능항진', '뇌하수체의 기능저하 및 기타 장애', '쿠싱증후군', '부신의 기타 장애', '난소의 기능이상', '고환의 기능이상', '달리 분류되지 않은 사춘기의 장애', '기타 내분비장애', '달리 분류된 질환에서의 내분비선장애', '영양성 소모증', '중등도 및 경도의 단백질-에너지영양실조', '상세불명의 단백질-에너지영양실조', '비타민A결핍', '티아민결핍', '기타 비타민B군의 결핍', '아스코르빈산결핍', '비타민D결핍', '기타 비타민결핍', '식사성 칼슘결핍', '식사성 셀레늄결핍', '식사성 아연결핍', '기타 영양소의 결핍', '기타 영양결핍', '영양실조 및 기타 영양결핍의 후유증', '비만', '젖당불내성', '지질단백질대사장애 및 기타 지질증', '퓨린 및 피리미딘의 대사장애', '포르피린 및 빌리루빈 대사장애', '무기질대사장애', '용적고갈', '수분, 전해질 및 산-염기균형의 기타 장애', '기타 대사장애', '달리 분류되지 않은 처치후 내분비 및 대사 장애', '알츠하이머병에서의 치매(G30.-+)', '혈관성 치매', '달리 분류된 기타 질환에서의 치매', '상세불명의 치매', '알코올 및 기타 정신활성물질에 의하여 유발된 것이 아닌 섬망', '뇌손상, 뇌기능이상 및 신체질환에 의한 기타 정신장애', '뇌질환, 뇌손상 및 기능이상에 의한 인격 및 행동장애', '알코올사용에 의한 정신 및 행동 장애', '조현병', '지속성 망상장애', '급성 및 일과성 정신병장애', '조현정동장애', '기타 비기질성 정신병장애', '상세불명의 비기질성 정신병', '조증에피소드', '양극성 정동장애', '우울에피소드', '재발성 우울장애', '지속성 기분[정동]장애', '기타 기분[정동]장애', '상세불명의 기분[정동]장애', '공포성 불안장애', '기타 불안장애', '강박장애', '심한 스트레스에 대한 반응 및 적응장애', '신체형장애', '기타 신경성 장애', '식사장애', '비기질성 수면장애', '기질성 장애나 질병에 의하지 않은 성기능장애', '달리 분류된 장애나 질환에 연관된 심리적 요인 및 행동적 요인', '특정 인격장애', '습관 및 충동 장애', '경도 정신지체', '중등도 정신지체', '상세불명의 정신지체', '말하기와 언어의 특정 발달장애', '학습술기의 특정 발달장애', '전반발달장애', '운동과다장애', '행동장애', '행동 및 정서의 혼합 장애', '소아기에만 발병하는 정서장애', '소아기 및 청소년기에만 발병하는 사회적 기능수행장애', '틱장애', '소아기 및 청소년기에 주로 발병하는 기타 행동 및 정서장애', '달리 분류된 질환에서의 뇌염, 척수염 및 뇌척수염', '척수성 근위축 및 관련 증후군', '파킨슨병', '이차성 파킨슨증', '달리 분류된 질환에서의 파킨슨증', '기저핵의 기타 퇴행성 질환', '근긴장이상', '기타 추체외로 및 운동 장애', '알츠하이머병', '달리 분류되지 않은 신경계통의 기타 퇴행성 질환', '뇌전증', '뇌전증지속상태', '편두통', '기타 두통증후군', '일과성 뇌허혈발작 및 관련 증후군', '뇌혈관질환에서의 뇌의 혈관증후군(I60-I67†)', '수면장애', '삼차신경의 장애', '안면신경장애', '기타 뇌신경의 장애', '달리 분류된 질환에서의 뇌신경장애', '신경근 및 신경총 장애', '달리 분류된 질환에서의 신경근 및 신경총 압박', '팔의 단일신경병증', '다리의 단일신경병증', '기타 단일신경병증', '달리 분류된 질환에서의 단일신경병증', '염증성 다발신경병증', '기타 다발신경병증', '달리 분류된 질환에서의 다발신경병증', '말초신경계통의 기타 장애', '중증근무력증 및 기타 근신경장애', '기타 근병증', '뇌성마비', '편마비', '하반신마비 및 사지마비', '기타 마비증후군', '자율신경계통의 장애', '수두증', '뇌의 기타 장애', '척수의 기타 질환', '중추신경계통의 기타 장애', '달리 분류되지 않은 신경계통의 기타 장애', '달리 분류된 질환에서의 신경계통의 기타 장애', '맥립종 및 콩다래끼', '눈꺼풀의 기타 염증', '눈꺼풀의 기타 장애', '달리 분류된 질환에서의 눈꺼풀의 장애', '눈물계통의 장애', '안와의 장애', '달리 분류된 질환에서의 눈물계통 및 안와의 장애', '결막염', '결막의 기타 장애', '달리 분류된 질환에서의 결막의 장애', '공막의 장애', '각막염', '각막 흉터 및 혼탁', '각막의 기타 장애', '달리 분류된 질환에서의 공막 및 각막의 장애', '홍채섬모체염', '홍채 및 섬모체의 기타 장애', '노년백내장', '기타 백내장', '수정체의 기타 장애', '맥락망막염증', '맥락막의 기타 장애', '망막박리 및 망막열공', '망막혈관폐쇄', '기타 망막장애', '달리 분류된 질환에서의 망막장애', '녹내장', '달리 분류된 질환에서의 녹내장', '유리체의 장애', '안구의 장애', '시신경염', '시[제2]신경 및 시각경로의 기타 장애', '달리 분류된 질환에서의 시[제2]신경 및 시각경로의 장애', '마비성 사시', '기타 사시', '양안운동의 기타 장애', '굴절 및 조절의 장애', '시각장애', '실명을 포함한 시력장애(양안의 또는 단안의)', '안진 및 기타 불규칙적 눈운동', '눈 및 눈부속기의 기타 장애', '달리 분류되지 않은 눈 및 눈부속기의 처치후 장애', '외이염', '외이의 기타 장애', '달리 분류된 질환에서의 외이의 장애', '비화농성 중이염', '화농성 및 상세불명의 중이염', '달리 분류된 질환에서의 중이염', '귀인두관염 및 귀인두관 폐색', '귀인두관의 기타 장애', '중이의 진주종', '고막의 천공', '고막의 기타 장애', '중이 및 유돌의 기타 장애', '전정기능의 장애', '달리 분류된 질환에서의 현기증후군', '내이의 기타 질환', '전음성 및 감각신경성 청력소실', '기타 청력소실', '귀통증 및 귀의 삼출액', '달리 분류되지 않은 귀의 기타 장애', '류마티스성 승모판질환', '류마티스성 삼첨판질환', '다발판막질환', '본태성(원발성) 고혈압', '고혈압성 심장병', '고혈압성 신장병', '고혈압성 심장 및 신장병', '이차성 고혈압', '협심증', '급성 심근경색증', '기타 급성 허혈심장질환', '만성 허혈심장병', '폐색전증', '기타 폐성 심장질환', '심장막의 기타 질환', '비류마티스성 승모판장애', '비류마티스성 대동맥판장애', '비류마티스성 삼첨판장애', '심근병증', '방실차단 및 좌각차단', '기타 전도장애', '심장정지', '발작성 빈맥', '심방세동 및 조동', '기타 심장부정맥', '심부전', '심장병의 불명확한 기록 및 합병증', '거미막하출혈', '뇌내출혈', '기타 비외상성 두개내출혈', '뇌경색증', '출혈 또는 경색증으로 명시되지 않은 뇌졸중', '뇌경색증을 유발하지 않은 뇌전동맥의 폐쇄 및 협착', '뇌경색증을 유발하지 않은 대뇌동맥의 폐쇄 및 협착', '기타 뇌혈관질환', '달리 분류된 질환에서의 뇌혈관장애', '뇌혈관질환의 후유증', '죽상경화증', '대동맥동맥류 및 박리', '기타 동맥류 및 박리', '기타 말초혈관질환', '동맥색전증 및 혈전증', '동맥 및 세동맥의 기타 장애', '모세혈관의 질환', '달리 분류된 질환에서의 동맥, 세동맥 및 모세혈관의 장애', '정맥염 및 혈전정맥염', '기타 정맥의 색전증 및 혈전증', '하지의 정맥류', '식도정맥류', '기타 부위의 정맥류', '정맥의 기타 장애', '비특이성 림프절염', '림프관 및 림프절의 기타 비감염성 장애', '저혈압', '달리 분류되지 않은 순환계통의 처치후 장애', '달리 분류된 질환에서의 순환계통의 기타 장애', '순환계통의 기타 및 상세불명의 장애', '급성 비인두염[감기]', '급성 부비동염', '급성 인두염', '급성 편도염', '급성 후두염 및 기관염', '급성 폐색성 후두염[크룹] 및 후두개염', '다발성 및 상세불명 부위의 급성 상기도감염', '확인된 동물매개 또는 범유행 인플루엔자바이러스에 의한 인플루엔자', '확인된 계절성 인플루엔자바이러스에 의한 인플루엔자', '바이러스가 확인되지 않은 인플루엔자', '달리 분류되지 않은 바이러스폐렴', '폐렴연쇄알균에 의한 폐렴', '인플루엔자균에 의한 폐렴', '달리 분류되지 않은 세균성 폐렴', '달리 분류되지 않은 기타 감염성 병원체에 의한 폐렴', '달리 분류된 질환에서의 폐렴', '상세불명 병원체의 폐렴', '급성 기관지염', '급성 세기관지염', '상세불명의 급성 하기도감염', '혈관운동성 및 알레르기성 비염', '만성 비염, 비인두염 및 인두염', '만성 부비동염', '코폴립', '코 및 비동의 기타 장애', '편도 및 아데노이드의 만성 질환', '편도주위농양', '만성 후두염 및 후두기관염', '달리 분류되지 않은 성대 및 후두의 질환', '상기도의 기타 질환', '급성인지 만성인지 명시되지 않은 기관지염', '단순성 및 점액화농성 만성 기관지염', '상세불명의 만성 기관지염', '폐기종', '기타 만성 폐쇄성 폐질환', '천식', '천식지속상태', '기관지확장증', '상세불명의 진폐증', '고체 및 액체에 의한 폐렴', '폐부종', '기타 간질성 폐질환', '달리 분류되지 않은 흉막삼출액', '달리 분류된 병태에서의 흉막삼출액', '기흉', '기타 흉막의 병태', '달리 분류되지 않은 호흡부전', '기타 호흡장애', '치아의 발육 및 맹출 장애', '매몰치 및 매복치', '치아우식', '치아경조직의 기타 질환', '치수 및 근단주위조직의 질환', '치은염 및 치주질환', '잇몸 및 무치성 치조융기의 기타 장애', '치아얼굴이상[부정교합포함]', '치아 및 지지구조의 기타 장애', '달리 분류되지 않은 구강영역의 낭', '턱의 기타 질환', '침샘의 질환', '구내염 및 관련 병변', '입술 및 구강점막의 기타 질환', '혀의 질환', '식도염', '위-식도역류병', '식도의 기타 질환', '위궤양', '십이지장궤양', '상세불명 부위의 소화성 궤양', '위공장궤양', '위염 및 십이지장염', '기능성 소화불량', '위 및 십이지장의 기타 질환', '급성 충수염', '상세불명의 충수염', '사타구니탈장', '배꼽탈장', '크론병[국소성 장염]', '궤양성 대장염', '기타 비감염성 위장염 및 결장염', '장의 혈관장애', '탈장이 없는 마비성 장폐색증 및 장폐색', '장의 게실병', '과민대장증후군', '기타 기능성 장장애', '항문 및 직장부의 열창 및 누공', '항문 및 직장부의 농양', '항문 및 직장의 기타 질환', '장의 기타 질환', '치핵 및 항문주위정맥혈전증', '복막염', '복막의 기타 장애', '알코올성 간질환', '독성간질환', '달리 분류되지 않은 간부전', '달리 분류되지 않은 만성 간염', '간의 섬유증 및 경변증', '기타 염증성 간질환', '간의 기타 질환', '달리 분류된 질환에서의 간장애', '담석증', '담낭염', '담낭의 기타 질환', '담도의 기타 질환', '급성 췌장염', '췌장의 기타 질환', '달리 분류된 질환에서의 담낭, 담도 및 췌장의 장애', '장흡수장애', '달리 분류되지 않은 소화계통의 처치후 장애', '소화계통의 기타 질환', '달리 분류된 질환에서의 기타 소화기관장애', '농가진', '피부의 농양, 종기 및 큰종기', '연조직염', '급성 림프절염', '모소낭', '피부 및 피하조직의 기타 국소감염', '기타 수포성 장애', '아토피성 피부염', '지루피부염', '기저귀[냅킨]피부염', '알레르기성 접촉피부염', '자극물접촉피부염', '상세불명의 접촉피부염', '내부로 섭취된 물질에 의한 피부염', '만성 단순태선 및 가려움발진', '가려움', '기타 피부염', '건선', '장미색잔비늘증(비강진)', '편평태선', '기타 구진비늘장애', '두드러기', '다형홍반', '기타 홍반성 병태', '일광화상', '자외선에 의한 기타 급성 피부변화', '비이온화방사선 만성 노출에 의한 피부변화', '손발톱장애', '원형 탈모증', '안드로젠탈모증', '기타 비흉터성 모발손실', '흉터탈모증[흉터성 모발손실]', '털과다증', '여드름', '주사', '피부 및 피하조직의 모낭낭', '기타 모낭장애', '에크린땀샘장애', '백반증', '색소침착의 기타 장애', '지루각화증', '흑색극세포증', '티눈 및 굳은살', '기타 표피의 비후', '달리 분류된 질환에서의 각피증', '욕창궤양 및 압박부위', '피부의 위축장애', '피부의 비대성 장애', '피부 및 피하조직의 육아종성 장애', '홍반루푸스', '달리 분류되지 않은 피부에 한정된 혈관염', '달리 분류되지 않은 피부 및 피하조직의 기타 장애', '화농성 관절염', '반응성 관절병증', '혈청검사양성 류마티스관절염', '기타 류마티스관절염', '건선성 및 장병성 관절병증', '통풍', '기타 결정 관절병증', '기타 특정 관절병증', '기타 관절염', '달리 분류된 기타 질환에서의 관절병증', '다발관절증', '고관절증', '무릎관절증', '제1수근중수관절의 관절증', '기타 관절증', '손가락 및 발가락의 후천변형', '사지의 기타 후천변형', '무릎뼈의 장애', '무릎의 내부장애', '기타 특정 관절장애', '달리 분류되지 않은 기타 관절장애', '결절성 다발동맥염 및 관련 병태', '전신홍반루푸스', '피부다발근염', '전신경화증', '결합조직의 기타 전신침범', '척주후만증 및 척주전만증', '척주측만증', '기타 변형성 등병증', '강직척추염', '기타 염증성 척추병증', '척추증', '기타 척추병증', '달리 분류된 질환에서의 척추병증', '경추간판장애', '기타 추간판장애', '달리 분류되지 않은 기타 등병증', '등통증', '근염', '근육의 석회화 및 골화', '근육의 기타 장애', '윤활막염 및 힘줄윤활막염', '윤활막 및 힘줄의 자연파열', '윤활막 및 힘줄의 기타 장애', '사용, 과용 및 압박에 관련된 연조직장애', '기타 윤활낭병증', '섬유모세포장애', '어깨병변', '발을 제외한 다리의 골부착부병증', '기타 골부착부병증', '달리 분류되지 않은 기타 연조직장애', '병적 골절을 동반한 골다공증', '병적 골절이 없는 골다공증', '달리 분류된 질환에서의 골다공증', '성인골연화증', '골연속성의 장애', '골밀도 및 구조의 기타 장애', '골수염', '골괴사', '뼈의 기타 장애', '기타 연소성 골연골증', '기타 골연골병증', '연골의 기타 장애', '근골격계통 및 결합조직의 기타 후천성 변형', '달리 분류되지 않은 처치후 근골격장애', '달리 분류되지 않은 생체역학적 병변', '급성 신염증후군', '재발성 및 지속성 혈뇨', '만성 신염증후군', '신증후군', '상세불명의 신염증후군', '명시된 형태학적 병변을 동반한 고립된 단백뇨', '달리 분류된 질환에서의 사구체장애', '급성 세뇨관-간질신장염', '만성 세뇨관-간질신장염', '급성 또는 만성으로 명시되지 않은 세뇨관-간질신장염', '폐색성 및 역류성 요로병증', '기타 신세뇨관-간질질환', '급성 신부전', '만성 신장병', '상세불명의 신부전', '신장 및 요관의 결석', '하부요로의 결석', '상세불명의 신장 급통증', '신세뇨관기능손상으로 인한 장애', '달리 분류되지 않은 신장 및 요관의 기타 장애', '달리 분류된 질환에서의 신장 및 요관의 기타 장애', '방광염', '달리 분류되지 않은 방광의 신경근육기능장애', '방광의 기타 장애', '요도염 및 요도증후군', '요도협착', '요도의 기타 장애', '달리 분류된 질환에서의 요도장애', '비뇨계통의 기타 장애', '전립선증식증', '전립선의 염증성 질환', '전립선의 기타 장애', '음낭수종 및 정액류', '고환의 염전', '고환염 및 부고환염', '남성불임', '과잉포피, 포경 및 감돈포경', '음경의 기타 장애', '달리 분류되지 않은 남성생식기관의 염증성 장애', '남성생식기관의 기타 장애', '달리 분류된 질환에서의 남성생식기관의 장애', '양성 유방형성이상', '유방의 염증성 장애', '유방의 비대', '유방의 상세불명의 덩이', '유방의 기타 장애', '난관염 및 난소염', '자궁경부를 제외한 자궁의 염증성 질환', '자궁경부의 염증성 질환', '기타 여성골반염증질환', '달리 분류된 질환에서의 여성골반염증장애', '바르톨린선의 질환', '질 및 외음부의 기타 염증', '달리 분류된 질환에서의 외음질의 궤양 및 염증', '자궁내막증', '여성생식기탈출', '난소, 난관 및 넓은인대의 비염증성 장애', '여성생식관의 폴립', '자궁경부를 제외한 자궁의 기타 비염증성 장애', '자궁경부의 미란 및 외반', '자궁경부의 이형성', '자궁경부의 기타 비염증성 장애', '질의 기타 비염증성 장애', '외음부 및 회음부의 기타 비염증성 장애', '무월경, 소량 및 희발 월경', '과다, 빈발 및 불규칙 월경', '기타 이상 자궁 및 질 출혈', '여성생식기관 및 월경주기와 관련된 통증 및 기타 병태', '폐경 및 기타 폐경전후 장애', '습관적 유산자', '여성불임', '인공수정과 관련된 합병증', '자궁외임신', '기타 비정상적 수태부산물', '자연유산', '유산, 자궁외임신 및 기태임신에 따른 합병증', '고혈압을 동반하지 않은 임신성[임신-유발] 부종 및 단백뇨', '임신[임신-유발]고혈압', '전자간', '상세불명의 산모고혈압', '초기임신중 출혈', '임신중 과다구토', '임신중 정맥합병증 및 치핵', '임신중 비뇨생식관의 감염', '임신중 당뇨병', '주로 임신에 관련된 기타 병태의 산모관리', '산모의 출산전 선별검사의 이상소견', '다태임신', '태아의 알려진 또는 의심되는 이상태위에 대한 산모관리', '알려진 또는 의심되는 불균형에 대한 산모관리', '골반기관의 알려진 또는 의심되는 이상에 대한 산모관리', '알려진 또는 의심되는 태아 이상 및 손상에 대한 산모관리', '기타 알려진 또는 의심되는 태아문제에 대한 산모관리', '양수과다증', '양수 및 양막의 기타 장애', '양막의 조기파열', '전치태반', '달리 분류되지 않은 분만전 출혈', '가진통', '조기진통 및 분만', '유도분만의 실패', '분만힘의 이상', '지연진통', '산모골반이상으로 인한 난산', '기타 난산', '달리 분류되지 않은 분만중 출혈이 합병된 진통 및 분만', '태아스트레스[절박]가 합병된 진통 및 분만', '분만중 회음열상', '기타 산과적 외상', '분만후 출혈', '단일자연분만', '집게 및 진공흡착기에 의한 단일분만', '제왕절개에 의한 단일분만', '기타 보조단일분만', '다태분만', '기타 산후기감염', '산후기중 정맥합병증 및 치핵', '달리 분류되지 않은 산후기의 합병증', '출산과 관련된 유방의 감염', '출산과 관련된 유방 및 수유의 기타 장애', '달리 분류될 수 있지만 임신, 출산 및 산후기에 합병된 산모의 감염성 및 기생충성 질환', '달리 분류될 수 있지만 임신, 출산 및 산후기에 합병된 기타 산모질환', '현재 임신과는 관계 없을 것 같은 산모병태에 의해 영향받은 태아 및 신생아', '임신의 산모합병증에 의해 영향을 받은 태아 및 신생아', '진통 및 분만의 기타 합병증에 의해 영향을 받은 태아 및 신생아', '태아성장지연 및 태아영양실조', '달리 분류되지 않은 단기임신 및 저체중출산에 관련된 장애', '장기임신 및 고체중출산에 관련된 장애', '두피의 출산손상', '골격의 출산손상', '신생아의 호흡곤란', '신생아흡인증후군', '출생전후기에 기원한 만성 호흡기질환', '출생전후기에 기원한 기타 호흡기병태', '출생전후기에 기원한 심혈관장애', '신생아의 세균패혈증', '경도의 출혈을 동반하거나 동반하지 않은 신생아배꼽염', '출생전후기에 특이한 기타 감염', '태아 및 신생아의 두개내 비외상성 출혈', '기타 및 상세불명의 원인으로 인한 신생아황달', '기타 출생전후기 혈액학적 장애', '태아 및 신생아에 특이한 일과성 탄수화물대사장애', '일과성 신생아 칼슘 및 마그네슘 대사장애', '기타 일과성 신생아내분비장애', '기타 일과성 신생아 전해질 및 대사 장애', '기타 출생전후기 소화계통장애', '태아 및 신생아에 특이한 피부의 기타 병태', '신생아 대뇌상태의 기타 장애', '신생아의 수유문제', '출생전후기에 기원한 기타 병태', '척수의 기타 선천기형', '눈꺼풀, 눈물기관 및 안와의 선천기형', '귀의 기타 선천기형', '심장중격의 선천기형', '폐동맥판 및 삼첨판의 선천기형', '대동맥판 및 승모판의 선천기형', '심장의 기타 선천기형', '대동맥혈관의 선천기형', '순환계통의 기타 선천기형', '혀, 입 및 인두의 기타 선천기형', '담낭, 담관 및 간의 선천기형', '자궁 및 자궁경부의 선천기형', '여성생식기의 기타 선천기형', '미하강고환', '요도하열', '남성생식기관의 기타 선천기형', '낭성 신장병', '신우의 선천성 폐색성 결손 및 요관의 선천기형', '고관절의 선천변형', '발의 선천변형', '머리, 얼굴, 척추 및 흉부의 선천성 근골격변형', '기타 선천성 근골격변형', '사지의 기타 선천기형', '두개골 및 안면골의 기타 선천기형', '척추 및 골성 흉곽의 선천기형', '피부의 기타 선천기형', '유방의 선천기형', '심장박동의 이상', '심잡음 및 기타 심음', '진단명 없는 혈압수치이상', '기도출혈', '기침', '호흡의 이상', '목구멍 및 가슴의 통증', '순환계통 및 호흡계통의 기타 증상 및 징후', '복부 및 골반 통증', '구역 및 구토', '속쓰림', '삼킴곤란', '고창 및 연관된 병태', '대변실금', '달리 분류되지 않은 간비대 및 비장비대', '황달을 동반하거나 동반하지 않은 달리 분류되지 않은 과빌리루빈혈증 ', '복수', '소화계통 및 복부의 기타 증상 및 징후', '피부감각의 장애', '발진 및 기타 비특이성 피부발진'])"
      ]
     },
     "execution_count": 217,
     "metadata": {},
     "output_type": "execute_result"
    }
   ],
   "source": [
    "symptoms.keys()"
   ]
  },
  {
   "cell_type": "code",
   "execution_count": 220,
   "metadata": {},
   "outputs": [],
   "source": [
    "tmp = symptoms['감염성 및 상세불명 기원의 기타 위장염 및 결장염']"
   ]
  },
  {
   "cell_type": "code",
   "execution_count": 221,
   "metadata": {},
   "outputs": [
    {
     "data": {
      "text/html": [
       "<div>\n",
       "<style scoped>\n",
       "    .dataframe tbody tr th:only-of-type {\n",
       "        vertical-align: middle;\n",
       "    }\n",
       "\n",
       "    .dataframe tbody tr th {\n",
       "        vertical-align: top;\n",
       "    }\n",
       "\n",
       "    .dataframe thead th {\n",
       "        text-align: right;\n",
       "    }\n",
       "</style>\n",
       "<table border=\"1\" class=\"dataframe\">\n",
       "  <thead>\n",
       "    <tr style=\"text-align: right;\">\n",
       "      <th></th>\n",
       "      <th>질병명</th>\n",
       "      <th>증상</th>\n",
       "      <th>관련질환</th>\n",
       "      <th>진료과</th>\n",
       "      <th>동의어</th>\n",
       "      <th>한글명칭</th>\n",
       "    </tr>\n",
       "  </thead>\n",
       "  <tbody>\n",
       "    <tr>\n",
       "      <th>0</th>\n",
       "      <td>각막 궤양(Corneal ulcer)</td>\n",
       "      <td>눈부심, 눈의 통증, 눈의 충혈, 눈물흘림</td>\n",
       "      <td>각막염, 대상포진, 각막 혼탁과 흉터, 헤르페스 바이러스 감염</td>\n",
       "      <td>안과, 소아안과</td>\n",
       "      <td>감염성 각막염</td>\n",
       "      <td>감염성 및 상세불명 기원의 기타 위장염 및 결장염</td>\n",
       "    </tr>\n",
       "    <tr>\n",
       "      <th>1</th>\n",
       "      <td>감염성 근육염(Infective myositis)</td>\n",
       "      <td>발진, 열감, 피부염증, 압통, 환부 부종</td>\n",
       "      <td>피부근육염</td>\n",
       "      <td>감염내과</td>\n",
       "      <td>바이러스성 근육염</td>\n",
       "      <td>감염성 및 상세불명 기원의 기타 위장염 및 결장염</td>\n",
       "    </tr>\n",
       "    <tr>\n",
       "      <th>2</th>\n",
       "      <td>감염성 단핵구증(Infectious mononucleosis)</td>\n",
       "      <td>압통, 목의 통증, 열감, 열, 기운없음, 발진, 오한, 삼키기 곤란</td>\n",
       "      <td>면역결핍증, 성병, 경부 림프절염, 후천성 면역결핍증</td>\n",
       "      <td>감염내과, 혈액내과</td>\n",
       "      <td>전염성단핵세포증,키스병,엡스타인-바 바이러스 감염증</td>\n",
       "      <td>감염성 및 상세불명 기원의 기타 위장염 및 결장염</td>\n",
       "    </tr>\n",
       "    <tr>\n",
       "      <th>3</th>\n",
       "      <td>감염성 홍반(Erythema infectiosum)</td>\n",
       "      <td>식욕부진, 안면홍조, 두통, 열, 권태감</td>\n",
       "      <td>감염성 홍반</td>\n",
       "      <td>감염내과</td>\n",
       "      <td>전염성 홍반,제5병</td>\n",
       "      <td>감염성 및 상세불명 기원의 기타 위장염 및 결장염</td>\n",
       "    </tr>\n",
       "    <tr>\n",
       "      <th>4</th>\n",
       "      <td>병원 감염성 폐렴(Hospital acquired pneumonia (HAP))</td>\n",
       "      <td>기침, 가래, 열, 오한, 근육통, 가슴 통증</td>\n",
       "      <td>폐렴간균에 의한 폐렴, 폐렴, 지역사회성 폐렴, 흡인성 폐렴, 패혈증, 폐 농양</td>\n",
       "      <td>호흡기내과</td>\n",
       "      <td>병원성폐렴</td>\n",
       "      <td>감염성 및 상세불명 기원의 기타 위장염 및 결장염</td>\n",
       "    </tr>\n",
       "    <tr>\n",
       "      <th>5</th>\n",
       "      <td>심내막염(Endocarditis)</td>\n",
       "      <td>반점, 식욕부진, 오한, 열, 두통, 호흡곤란, 저혈압</td>\n",
       "      <td>심낭 삼출, 울혈성 심부전, 심장 판막 질환, 류마티스 관절염, 선천성 심장 질환,...</td>\n",
       "      <td>심장내과, 심장병원</td>\n",
       "      <td>infectiveendocarditis,감염성심내막염,급성감염성심내막염,급성심내막염...</td>\n",
       "      <td>감염성 및 상세불명 기원의 기타 위장염 및 결장염</td>\n",
       "    </tr>\n",
       "    <tr>\n",
       "      <th>0</th>\n",
       "      <td>신생아 괴사성 장염(Necrotizing enterocolitis of fetus ...</td>\n",
       "      <td>기민상태, 신경과민, 복부팽만감, 구토, 혈변, 저체온, 설사, 무호흡, 서맥</td>\n",
       "      <td>신생아 호흡곤란증후군, 신생아 답즙정체증</td>\n",
       "      <td>산부인과, 신생아과, 소아외과</td>\n",
       "      <td>Neonatal Necrotizing Enterocolitis,신생아 괴사성 소장결...</td>\n",
       "      <td>감염성 및 상세불명 기원의 기타 위장염 및 결장염</td>\n",
       "    </tr>\n",
       "    <tr>\n",
       "      <th>1</th>\n",
       "      <td>위막성 대장염(Pseudomembranous colitis)</td>\n",
       "      <td>복부 통증, 설사, 열, 백혈구 증가, 혈변, 산통</td>\n",
       "      <td>대장염</td>\n",
       "      <td>소화기내과</td>\n",
       "      <td>거짓막결장염,거짓막잘룩창자염,위막성 대장염,위막성결정염,위박성장염</td>\n",
       "      <td>감염성 및 상세불명 기원의 기타 위장염 및 결장염</td>\n",
       "    </tr>\n",
       "  </tbody>\n",
       "</table>\n",
       "</div>"
      ],
      "text/plain": [
       "                                                 질병명  \\\n",
       "0                               각막 궤양(Corneal ulcer)   \n",
       "1                        감염성 근육염(Infective myositis)   \n",
       "2                 감염성 단핵구증(Infectious mononucleosis)   \n",
       "3                       감염성 홍반(Erythema infectiosum)   \n",
       "4       병원 감염성 폐렴(Hospital acquired pneumonia (HAP))   \n",
       "5                                 심내막염(Endocarditis)   \n",
       "0  신생아 괴사성 장염(Necrotizing enterocolitis of fetus ...   \n",
       "1                  위막성 대장염(Pseudomembranous colitis)   \n",
       "\n",
       "                                            증상  \\\n",
       "0                      눈부심, 눈의 통증, 눈의 충혈, 눈물흘림   \n",
       "1                      발진, 열감, 피부염증, 압통, 환부 부종   \n",
       "2       압통, 목의 통증, 열감, 열, 기운없음, 발진, 오한, 삼키기 곤란   \n",
       "3                       식욕부진, 안면홍조, 두통, 열, 권태감   \n",
       "4                    기침, 가래, 열, 오한, 근육통, 가슴 통증   \n",
       "5               반점, 식욕부진, 오한, 열, 두통, 호흡곤란, 저혈압   \n",
       "0  기민상태, 신경과민, 복부팽만감, 구토, 혈변, 저체온, 설사, 무호흡, 서맥   \n",
       "1                 복부 통증, 설사, 열, 백혈구 증가, 혈변, 산통   \n",
       "\n",
       "                                                관련질환               진료과  \\\n",
       "0                 각막염, 대상포진, 각막 혼탁과 흉터, 헤르페스 바이러스 감염          안과, 소아안과   \n",
       "1                                              피부근육염              감염내과   \n",
       "2                      면역결핍증, 성병, 경부 림프절염, 후천성 면역결핍증        감염내과, 혈액내과   \n",
       "3                                             감염성 홍반              감염내과   \n",
       "4       폐렴간균에 의한 폐렴, 폐렴, 지역사회성 폐렴, 흡인성 폐렴, 패혈증, 폐 농양             호흡기내과   \n",
       "5  심낭 삼출, 울혈성 심부전, 심장 판막 질환, 류마티스 관절염, 선천성 심장 질환,...        심장내과, 심장병원   \n",
       "0                             신생아 호흡곤란증후군, 신생아 답즙정체증  산부인과, 신생아과, 소아외과   \n",
       "1                                                대장염             소화기내과   \n",
       "\n",
       "                                                 동의어  \\\n",
       "0                                            감염성 각막염   \n",
       "1                                          바이러스성 근육염   \n",
       "2                       전염성단핵세포증,키스병,엡스타인-바 바이러스 감염증   \n",
       "3                                         전염성 홍반,제5병   \n",
       "4                                              병원성폐렴   \n",
       "5  infectiveendocarditis,감염성심내막염,급성감염성심내막염,급성심내막염...   \n",
       "0  Neonatal Necrotizing Enterocolitis,신생아 괴사성 소장결...   \n",
       "1               거짓막결장염,거짓막잘룩창자염,위막성 대장염,위막성결정염,위박성장염   \n",
       "\n",
       "                          한글명칭  \n",
       "0  감염성 및 상세불명 기원의 기타 위장염 및 결장염  \n",
       "1  감염성 및 상세불명 기원의 기타 위장염 및 결장염  \n",
       "2  감염성 및 상세불명 기원의 기타 위장염 및 결장염  \n",
       "3  감염성 및 상세불명 기원의 기타 위장염 및 결장염  \n",
       "4  감염성 및 상세불명 기원의 기타 위장염 및 결장염  \n",
       "5  감염성 및 상세불명 기원의 기타 위장염 및 결장염  \n",
       "0  감염성 및 상세불명 기원의 기타 위장염 및 결장염  \n",
       "1  감염성 및 상세불명 기원의 기타 위장염 및 결장염  "
      ]
     },
     "execution_count": 221,
     "metadata": {},
     "output_type": "execute_result"
    }
   ],
   "source": [
    "tmp['한글명칭'] = '감염성 및 상세불명 기원의 기타 위장염 및 결장염'\n",
    "tmp"
   ]
  },
  {
   "cell_type": "code",
   "execution_count": 222,
   "metadata": {},
   "outputs": [
    {
     "name": "stderr",
     "output_type": "stream",
     "text": [
      "  0%|          | 1/1022 [00:00<04:13,  4.03it/s]"
     ]
    },
    {
     "name": "stdout",
     "output_type": "stream",
     "text": [
      "결과를 찾을 수 없습니다. 다시 검색합니다.\n",
      "결과를 찾을 수 없습니다\n"
     ]
    },
    {
     "name": "stderr",
     "output_type": "stream",
     "text": [
      "  0%|          | 2/1022 [00:00<04:09,  4.08it/s]"
     ]
    },
    {
     "name": "stdout",
     "output_type": "stream",
     "text": [
      "결과를 찾을 수 없습니다. 다시 검색합니다.\n",
      "결과를 찾을 수 없습니다\n",
      "결과를 찾을 수 없습니다. 다시 검색합니다.\n",
      "['바이러스성', '기타 명시된 장감염']\n"
     ]
    },
    {
     "name": "stderr",
     "output_type": "stream",
     "text": [
      "  0%|          | 3/1022 [00:01<07:54,  2.15it/s]"
     ]
    },
    {
     "name": "stdout",
     "output_type": "stream",
     "text": [
      "결과를 찾을 수 없습니다. 다시 검색합니다.\n",
      "결과를 찾을 수 없습니다. 다시 검색합니다.\n",
      "['감염성', '상세불명 기원의 기타 위장염', '결장염']\n",
      "결과를 찾을 수 없습니다. 다시 검색합니다.\n"
     ]
    },
    {
     "name": "stderr",
     "output_type": "stream",
     "text": [
      "  0%|          | 4/1022 [00:02<11:20,  1.50it/s]"
     ]
    },
    {
     "name": "stdout",
     "output_type": "stream",
     "text": [
      "결과를 찾을 수 없습니다. 다시 검색합니다.\n",
      "['세균학적', '조직학적으로 확인된 호흡기결핵']\n",
      "결과를 찾을 수 없습니다. 다시 검색합니다.\n"
     ]
    },
    {
     "name": "stderr",
     "output_type": "stream",
     "text": [
      "  0%|          | 5/1022 [00:02<11:22,  1.49it/s]"
     ]
    },
    {
     "name": "stdout",
     "output_type": "stream",
     "text": [
      "결과를 찾을 수 없습니다. 다시 검색합니다.\n"
     ]
    },
    {
     "name": "stderr",
     "output_type": "stream",
     "text": [
      "  1%|          | 6/1022 [00:03<08:47,  1.93it/s]"
     ]
    },
    {
     "name": "stdout",
     "output_type": "stream",
     "text": [
      "결과를 찾을 수 없습니다. 다시 검색합니다.\n",
      "결과를 찾을 수 없습니다\n"
     ]
    },
    {
     "name": "stderr",
     "output_type": "stream",
     "text": [
      "  1%|          | 7/1022 [00:03<07:38,  2.21it/s]"
     ]
    },
    {
     "name": "stdout",
     "output_type": "stream",
     "text": [
      "결과를 찾을 수 없습니다. 다시 검색합니다.\n",
      "결과를 찾을 수 없습니다\n"
     ]
    },
    {
     "name": "stderr",
     "output_type": "stream",
     "text": [
      "  1%|          | 8/1022 [00:03<06:25,  2.63it/s]"
     ]
    },
    {
     "name": "stdout",
     "output_type": "stream",
     "text": [
      "결과를 찾을 수 없습니다. 다시 검색합니다.\n",
      "결과를 찾을 수 없습니다\n"
     ]
    },
    {
     "name": "stderr",
     "output_type": "stream",
     "text": [
      "  1%|          | 9/1022 [00:03<05:35,  3.02it/s]"
     ]
    },
    {
     "name": "stdout",
     "output_type": "stream",
     "text": [
      "결과를 찾을 수 없습니다. 다시 검색합니다.\n",
      "결과를 찾을 수 없습니다\n"
     ]
    },
    {
     "name": "stderr",
     "output_type": "stream",
     "text": [
      "  1%|          | 10/1022 [00:04<05:05,  3.31it/s]"
     ]
    },
    {
     "name": "stdout",
     "output_type": "stream",
     "text": [
      "결과를 찾을 수 없습니다. 다시 검색합니다.\n",
      "결과를 찾을 수 없습니다\n"
     ]
    },
    {
     "name": "stderr",
     "output_type": "stream",
     "text": [
      "  1%|          | 11/1022 [00:04<04:45,  3.54it/s]"
     ]
    },
    {
     "name": "stdout",
     "output_type": "stream",
     "text": [
      "결과를 찾을 수 없습니다. 다시 검색합니다.\n",
      "결과를 찾을 수 없습니다\n",
      "결과를 찾을 수 없습니다. 다시 검색합니다.\n",
      "['기타', '상세불명의 매독']\n"
     ]
    },
    {
     "name": "stderr",
     "output_type": "stream",
     "text": [
      "  1%|          | 12/1022 [00:05<07:02,  2.39it/s]"
     ]
    },
    {
     "name": "stdout",
     "output_type": "stream",
     "text": [
      "결과를 찾을 수 없습니다. 다시 검색합니다.\n"
     ]
    },
    {
     "name": "stderr",
     "output_type": "stream",
     "text": [
      "  1%|▏         | 14/1022 [00:05<05:40,  2.96it/s]"
     ]
    },
    {
     "name": "stdout",
     "output_type": "stream",
     "text": [
      "결과를 찾을 수 없습니다. 다시 검색합니다.\n",
      "결과를 찾을 수 없습니다\n"
     ]
    },
    {
     "name": "stderr",
     "output_type": "stream",
     "text": [
      "  1%|▏         | 15/1022 [00:05<05:11,  3.24it/s]"
     ]
    },
    {
     "name": "stdout",
     "output_type": "stream",
     "text": [
      "결과를 찾을 수 없습니다. 다시 검색합니다.\n",
      "결과를 찾을 수 없습니다\n"
     ]
    },
    {
     "name": "stderr",
     "output_type": "stream",
     "text": [
      "  2%|▏         | 16/1022 [00:06<04:53,  3.43it/s]"
     ]
    },
    {
     "name": "stdout",
     "output_type": "stream",
     "text": [
      "결과를 찾을 수 없습니다. 다시 검색합니다.\n",
      "결과를 찾을 수 없습니다\n"
     ]
    },
    {
     "name": "stderr",
     "output_type": "stream",
     "text": [
      "  2%|▏         | 17/1022 [00:06<04:39,  3.60it/s]"
     ]
    },
    {
     "name": "stdout",
     "output_type": "stream",
     "text": [
      "결과를 찾을 수 없습니다. 다시 검색합니다.\n",
      "결과를 찾을 수 없습니다\n"
     ]
    },
    {
     "name": "stderr",
     "output_type": "stream",
     "text": [
      "  2%|▏         | 18/1022 [00:06<04:30,  3.71it/s]"
     ]
    },
    {
     "name": "stdout",
     "output_type": "stream",
     "text": [
      "결과를 찾을 수 없습니다. 다시 검색합니다.\n",
      "결과를 찾을 수 없습니다\n"
     ]
    },
    {
     "name": "stderr",
     "output_type": "stream",
     "text": [
      "  2%|▏         | 19/1022 [00:06<04:31,  3.70it/s]"
     ]
    },
    {
     "name": "stdout",
     "output_type": "stream",
     "text": [
      "결과를 찾을 수 없습니다. 다시 검색합니다.\n",
      "결과를 찾을 수 없습니다\n"
     ]
    },
    {
     "name": "stderr",
     "output_type": "stream",
     "text": [
      "  2%|▏         | 20/1022 [00:07<04:22,  3.81it/s]"
     ]
    },
    {
     "name": "stdout",
     "output_type": "stream",
     "text": [
      "결과를 찾을 수 없습니다. 다시 검색합니다.\n",
      "결과를 찾을 수 없습니다\n"
     ]
    },
    {
     "name": "stderr",
     "output_type": "stream",
     "text": [
      "  2%|▏         | 22/1022 [00:07<04:37,  3.60it/s]"
     ]
    },
    {
     "name": "stdout",
     "output_type": "stream",
     "text": [
      "결과를 찾을 수 없습니다. 다시 검색합니다.\n",
      "결과를 찾을 수 없습니다\n"
     ]
    },
    {
     "name": "stderr",
     "output_type": "stream",
     "text": [
      "  2%|▏         | 25/1022 [00:08<04:19,  3.84it/s]"
     ]
    },
    {
     "name": "stdout",
     "output_type": "stream",
     "text": [
      "결과를 찾을 수 없습니다. 다시 검색합니다.\n",
      "결과를 찾을 수 없습니다\n",
      "결과를 찾을 수 없습니다. 다시 검색합니다.\n",
      "['달리 분류되지 않은 피부', '점막병변이 특징인 기타 바이러스감염']\n",
      "결과를 찾을 수 없습니다. 다시 검색합니다.\n"
     ]
    },
    {
     "name": "stderr",
     "output_type": "stream",
     "text": [
      "  3%|▎         | 26/1022 [00:09<06:44,  2.46it/s]"
     ]
    },
    {
     "name": "stdout",
     "output_type": "stream",
     "text": [
      "결과를 찾을 수 없습니다. 다시 검색합니다.\n",
      "결과를 찾을 수 없습니다. 다시 검색합니다.\n",
      "['피부', '점막병변이 특징인 상세불명의 바이러스감염']\n"
     ]
    },
    {
     "name": "stderr",
     "output_type": "stream",
     "text": [
      "  3%|▎         | 27/1022 [00:09<08:37,  1.92it/s]"
     ]
    },
    {
     "name": "stdout",
     "output_type": "stream",
     "text": [
      "결과를 찾을 수 없습니다. 다시 검색합니다.\n"
     ]
    },
    {
     "name": "stderr",
     "output_type": "stream",
     "text": [
      "  3%|▎         | 28/1022 [00:10<07:16,  2.28it/s]"
     ]
    },
    {
     "name": "stdout",
     "output_type": "stream",
     "text": [
      "결과를 찾을 수 없습니다. 다시 검색합니다.\n",
      "결과를 찾을 수 없습니다\n"
     ]
    },
    {
     "name": "stderr",
     "output_type": "stream",
     "text": [
      "  3%|▎         | 29/1022 [00:10<06:16,  2.63it/s]"
     ]
    },
    {
     "name": "stdout",
     "output_type": "stream",
     "text": [
      "결과를 찾을 수 없습니다. 다시 검색합니다.\n",
      "결과를 찾을 수 없습니다\n"
     ]
    },
    {
     "name": "stderr",
     "output_type": "stream",
     "text": [
      "  3%|▎         | 30/1022 [00:10<05:53,  2.81it/s]"
     ]
    },
    {
     "name": "stdout",
     "output_type": "stream",
     "text": [
      "결과를 찾을 수 없습니다. 다시 검색합니다.\n",
      "결과를 찾을 수 없습니다\n"
     ]
    },
    {
     "name": "stderr",
     "output_type": "stream",
     "text": [
      "  3%|▎         | 31/1022 [00:10<05:16,  3.13it/s]"
     ]
    },
    {
     "name": "stdout",
     "output_type": "stream",
     "text": [
      "결과를 찾을 수 없습니다. 다시 검색합니다.\n",
      "결과를 찾을 수 없습니다\n"
     ]
    },
    {
     "name": "stderr",
     "output_type": "stream",
     "text": [
      "  3%|▎         | 32/1022 [00:11<04:53,  3.37it/s]"
     ]
    },
    {
     "name": "stdout",
     "output_type": "stream",
     "text": [
      "결과를 찾을 수 없습니다. 다시 검색합니다.\n",
      "결과를 찾을 수 없습니다\n"
     ]
    },
    {
     "name": "stderr",
     "output_type": "stream",
     "text": [
      "  3%|▎         | 35/1022 [00:12<04:30,  3.65it/s]"
     ]
    },
    {
     "name": "stdout",
     "output_type": "stream",
     "text": [
      "결과를 찾을 수 없습니다. 다시 검색합니다.\n",
      "결과를 찾을 수 없습니다\n"
     ]
    },
    {
     "name": "stderr",
     "output_type": "stream",
     "text": [
      "  4%|▎         | 36/1022 [00:12<04:22,  3.76it/s]"
     ]
    },
    {
     "name": "stdout",
     "output_type": "stream",
     "text": [
      "결과를 찾을 수 없습니다. 다시 검색합니다.\n",
      "결과를 찾을 수 없습니다\n"
     ]
    },
    {
     "name": "stderr",
     "output_type": "stream",
     "text": [
      "  4%|▎         | 37/1022 [00:12<04:15,  3.86it/s]"
     ]
    },
    {
     "name": "stdout",
     "output_type": "stream",
     "text": [
      "결과를 찾을 수 없습니다. 다시 검색합니다.\n",
      "결과를 찾을 수 없습니다\n"
     ]
    },
    {
     "name": "stderr",
     "output_type": "stream",
     "text": [
      "  4%|▎         | 38/1022 [00:12<04:16,  3.84it/s]"
     ]
    },
    {
     "name": "stdout",
     "output_type": "stream",
     "text": [
      "결과를 찾을 수 없습니다. 다시 검색합니다.\n",
      "결과를 찾을 수 없습니다\n"
     ]
    },
    {
     "name": "stderr",
     "output_type": "stream",
     "text": [
      "  4%|▍         | 39/1022 [00:13<04:23,  3.73it/s]"
     ]
    },
    {
     "name": "stdout",
     "output_type": "stream",
     "text": [
      "결과를 찾을 수 없습니다. 다시 검색합니다.\n",
      "결과를 찾을 수 없습니다\n"
     ]
    },
    {
     "name": "stderr",
     "output_type": "stream",
     "text": [
      "  4%|▍         | 40/1022 [00:13<04:24,  3.71it/s]"
     ]
    },
    {
     "name": "stdout",
     "output_type": "stream",
     "text": [
      "결과를 찾을 수 없습니다. 다시 검색합니다.\n",
      "결과를 찾을 수 없습니다\n"
     ]
    },
    {
     "name": "stderr",
     "output_type": "stream",
     "text": [
      "  4%|▍         | 42/1022 [00:13<04:13,  3.87it/s]"
     ]
    },
    {
     "name": "stdout",
     "output_type": "stream",
     "text": [
      "결과를 찾을 수 없습니다. 다시 검색합니다.\n",
      "결과를 찾을 수 없습니다\n"
     ]
    },
    {
     "name": "stderr",
     "output_type": "stream",
     "text": [
      "  4%|▍         | 43/1022 [00:14<04:13,  3.86it/s]"
     ]
    },
    {
     "name": "stdout",
     "output_type": "stream",
     "text": [
      "결과를 찾을 수 없습니다. 다시 검색합니다.\n",
      "결과를 찾을 수 없습니다\n",
      "결과를 찾을 수 없습니다. 다시 검색합니다.\n",
      "['이감염증', '사면발이증']\n",
      "결과를 찾을 수 없습니다. 다시 검색합니다.\n"
     ]
    },
    {
     "name": "stderr",
     "output_type": "stream",
     "text": [
      "  5%|▍         | 46/1022 [00:15<05:28,  2.97it/s]"
     ]
    },
    {
     "name": "stdout",
     "output_type": "stream",
     "text": [
      "결과를 찾을 수 없습니다. 다시 검색합니다.\n",
      "결과를 찾을 수 없습니다\n"
     ]
    },
    {
     "name": "stderr",
     "output_type": "stream",
     "text": [
      "  5%|▍         | 47/1022 [00:15<05:09,  3.15it/s]"
     ]
    },
    {
     "name": "stdout",
     "output_type": "stream",
     "text": [
      "결과를 찾을 수 없습니다. 다시 검색합니다.\n",
      "결과를 찾을 수 없습니다\n",
      "결과를 찾을 수 없습니다. 다시 검색합니다.\n",
      "['다른 장에서 분류된 질환의 원인으로서의 연쇄알균', '포도알균']\n",
      "결과를 찾을 수 없습니다. 다시 검색합니다.\n"
     ]
    },
    {
     "name": "stderr",
     "output_type": "stream",
     "text": [
      "  5%|▍         | 49/1022 [00:16<06:17,  2.58it/s]"
     ]
    },
    {
     "name": "stdout",
     "output_type": "stream",
     "text": [
      "결과를 찾을 수 없습니다. 다시 검색합니다.\n",
      "결과를 찾을 수 없습니다\n"
     ]
    },
    {
     "name": "stderr",
     "output_type": "stream",
     "text": [
      "  5%|▍         | 50/1022 [00:16<05:39,  2.86it/s]"
     ]
    },
    {
     "name": "stdout",
     "output_type": "stream",
     "text": [
      "결과를 찾을 수 없습니다. 다시 검색합니다.\n",
      "결과를 찾을 수 없습니다\n"
     ]
    },
    {
     "name": "stderr",
     "output_type": "stream",
     "text": [
      "  5%|▍         | 51/1022 [00:17<05:14,  3.09it/s]"
     ]
    },
    {
     "name": "stdout",
     "output_type": "stream",
     "text": [
      "결과를 찾을 수 없습니다. 다시 검색합니다.\n",
      "결과를 찾을 수 없습니다\n"
     ]
    },
    {
     "name": "stderr",
     "output_type": "stream",
     "text": [
      "  5%|▌         | 52/1022 [00:17<04:47,  3.37it/s]"
     ]
    },
    {
     "name": "stdout",
     "output_type": "stream",
     "text": [
      "결과를 찾을 수 없습니다. 다시 검색합니다.\n",
      "결과를 찾을 수 없습니다\n"
     ]
    },
    {
     "name": "stderr",
     "output_type": "stream",
     "text": [
      "  5%|▌         | 53/1022 [00:17<04:35,  3.52it/s]"
     ]
    },
    {
     "name": "stdout",
     "output_type": "stream",
     "text": [
      "결과를 찾을 수 없습니다. 다시 검색합니다.\n",
      "결과를 찾을 수 없습니다\n"
     ]
    },
    {
     "name": "stderr",
     "output_type": "stream",
     "text": [
      "  5%|▌         | 54/1022 [00:17<04:29,  3.59it/s]"
     ]
    },
    {
     "name": "stdout",
     "output_type": "stream",
     "text": [
      "결과를 찾을 수 없습니다. 다시 검색합니다.\n",
      "결과를 찾을 수 없습니다\n"
     ]
    },
    {
     "name": "stderr",
     "output_type": "stream",
     "text": [
      "  5%|▌         | 55/1022 [00:18<04:20,  3.71it/s]"
     ]
    },
    {
     "name": "stdout",
     "output_type": "stream",
     "text": [
      "결과를 찾을 수 없습니다. 다시 검색합니다.\n",
      "결과를 찾을 수 없습니다\n"
     ]
    },
    {
     "name": "stderr",
     "output_type": "stream",
     "text": [
      "  5%|▌         | 56/1022 [00:18<04:33,  3.53it/s]"
     ]
    },
    {
     "name": "stdout",
     "output_type": "stream",
     "text": [
      "결과를 찾을 수 없습니다. 다시 검색합니다.\n",
      "결과를 찾을 수 없습니다\n",
      "결과를 찾을 수 없습니다. 다시 검색합니다.\n",
      "['간', '간내 담관의 악성 신생물']\n"
     ]
    },
    {
     "name": "stderr",
     "output_type": "stream",
     "text": [
      "  6%|▌         | 57/1022 [00:19<06:53,  2.33it/s]"
     ]
    },
    {
     "name": "stdout",
     "output_type": "stream",
     "text": [
      "결과를 찾을 수 없습니다. 다시 검색합니다.\n"
     ]
    },
    {
     "name": "stderr",
     "output_type": "stream",
     "text": [
      "  6%|▌         | 58/1022 [00:19<06:06,  2.63it/s]"
     ]
    },
    {
     "name": "stdout",
     "output_type": "stream",
     "text": [
      "결과를 찾을 수 없습니다. 다시 검색합니다.\n",
      "결과를 찾을 수 없습니다\n",
      "결과를 찾을 수 없습니다. 다시 검색합니다.\n",
      "['담도의 기타', '상세불명 부분의 악성 신생물']\n",
      "결과를 찾을 수 없습니다. 다시 검색합니다.\n"
     ]
    },
    {
     "name": "stderr",
     "output_type": "stream",
     "text": [
      "  6%|▌         | 59/1022 [00:20<08:03,  1.99it/s]"
     ]
    },
    {
     "name": "stdout",
     "output_type": "stream",
     "text": [
      "결과를 찾을 수 없습니다. 다시 검색합니다.\n"
     ]
    },
    {
     "name": "stderr",
     "output_type": "stream",
     "text": [
      "  6%|▌         | 60/1022 [00:20<06:52,  2.33it/s]"
     ]
    },
    {
     "name": "stdout",
     "output_type": "stream",
     "text": [
      "결과를 찾을 수 없습니다. 다시 검색합니다.\n",
      "결과를 찾을 수 없습니다\n"
     ]
    },
    {
     "name": "stderr",
     "output_type": "stream",
     "text": [
      "  6%|▌         | 61/1022 [00:20<06:03,  2.64it/s]"
     ]
    },
    {
     "name": "stdout",
     "output_type": "stream",
     "text": [
      "결과를 찾을 수 없습니다. 다시 검색합니다.\n",
      "결과를 찾을 수 없습니다\n",
      "결과를 찾을 수 없습니다. 다시 검색합니다.\n",
      "['기관지', '폐의 악성 신생물']\n"
     ]
    },
    {
     "name": "stderr",
     "output_type": "stream",
     "text": [
      "  6%|▌         | 62/1022 [00:21<08:00,  2.00it/s]"
     ]
    },
    {
     "name": "stdout",
     "output_type": "stream",
     "text": [
      "결과를 찾을 수 없습니다. 다시 검색합니다.\n"
     ]
    },
    {
     "name": "stderr",
     "output_type": "stream",
     "text": [
      "  6%|▌         | 63/1022 [00:21<06:46,  2.36it/s]"
     ]
    },
    {
     "name": "stdout",
     "output_type": "stream",
     "text": [
      "결과를 찾을 수 없습니다. 다시 검색합니다.\n",
      "결과를 찾을 수 없습니다\n"
     ]
    },
    {
     "name": "stderr",
     "output_type": "stream",
     "text": [
      "  6%|▋         | 64/1022 [00:22<06:14,  2.55it/s]"
     ]
    },
    {
     "name": "stdout",
     "output_type": "stream",
     "text": [
      "결과를 찾을 수 없습니다. 다시 검색합니다.\n",
      "결과를 찾을 수 없습니다\n"
     ]
    },
    {
     "name": "stderr",
     "output_type": "stream",
     "text": [
      "  6%|▋         | 65/1022 [00:22<05:30,  2.90it/s]"
     ]
    },
    {
     "name": "stdout",
     "output_type": "stream",
     "text": [
      "결과를 찾을 수 없습니다. 다시 검색합니다.\n",
      "결과를 찾을 수 없습니다\n"
     ]
    },
    {
     "name": "stderr",
     "output_type": "stream",
     "text": [
      "  6%|▋         | 66/1022 [00:22<05:06,  3.12it/s]"
     ]
    },
    {
     "name": "stdout",
     "output_type": "stream",
     "text": [
      "결과를 찾을 수 없습니다. 다시 검색합니다.\n",
      "결과를 찾을 수 없습니다\n"
     ]
    },
    {
     "name": "stderr",
     "output_type": "stream",
     "text": [
      "  7%|▋         | 67/1022 [00:22<04:50,  3.29it/s]"
     ]
    },
    {
     "name": "stdout",
     "output_type": "stream",
     "text": [
      "결과를 찾을 수 없습니다. 다시 검색합니다.\n",
      "결과를 찾을 수 없습니다\n"
     ]
    },
    {
     "name": "stderr",
     "output_type": "stream",
     "text": [
      "  7%|▋         | 68/1022 [00:23<04:34,  3.47it/s]"
     ]
    },
    {
     "name": "stdout",
     "output_type": "stream",
     "text": [
      "결과를 찾을 수 없습니다. 다시 검색합니다.\n",
      "결과를 찾을 수 없습니다\n"
     ]
    },
    {
     "name": "stderr",
     "output_type": "stream",
     "text": [
      "  7%|▋         | 69/1022 [00:23<04:22,  3.62it/s]"
     ]
    },
    {
     "name": "stdout",
     "output_type": "stream",
     "text": [
      "결과를 찾을 수 없습니다. 다시 검색합니다.\n",
      "결과를 찾을 수 없습니다\n"
     ]
    },
    {
     "name": "stderr",
     "output_type": "stream",
     "text": [
      "  7%|▋         | 70/1022 [00:23<04:26,  3.57it/s]"
     ]
    },
    {
     "name": "stdout",
     "output_type": "stream",
     "text": [
      "결과를 찾을 수 없습니다. 다시 검색합니다.\n",
      "결과를 찾을 수 없습니다\n"
     ]
    },
    {
     "name": "stderr",
     "output_type": "stream",
     "text": [
      "  7%|▋         | 71/1022 [00:24<04:11,  3.77it/s]"
     ]
    },
    {
     "name": "stdout",
     "output_type": "stream",
     "text": [
      "결과를 찾을 수 없습니다. 다시 검색합니다.\n",
      "결과를 찾을 수 없습니다\n",
      "결과를 찾을 수 없습니다. 다시 검색합니다.\n",
      "['림프절의 이차성', '상세불명의 악성 신생물']\n",
      "결과를 찾을 수 없습니다. 다시 검색합니다.\n"
     ]
    },
    {
     "name": "stderr",
     "output_type": "stream",
     "text": [
      "  7%|▋         | 72/1022 [00:24<06:29,  2.44it/s]"
     ]
    },
    {
     "name": "stdout",
     "output_type": "stream",
     "text": [
      "결과를 찾을 수 없습니다. 다시 검색합니다.\n",
      "결과를 찾을 수 없습니다. 다시 검색합니다.\n",
      "['호흡', '소화기관의 이차성 악성 신생물']\n"
     ]
    },
    {
     "name": "stderr",
     "output_type": "stream",
     "text": [
      "  7%|▋         | 73/1022 [00:25<08:17,  1.91it/s]"
     ]
    },
    {
     "name": "stdout",
     "output_type": "stream",
     "text": [
      "결과를 찾을 수 없습니다. 다시 검색합니다.\n",
      "결과를 찾을 수 없습니다. 다시 검색합니다.\n",
      "['기타', '상세불명 부위의 이차성 악성 신생물']\n"
     ]
    },
    {
     "name": "stderr",
     "output_type": "stream",
     "text": [
      "  7%|▋         | 74/1022 [00:26<09:43,  1.62it/s]"
     ]
    },
    {
     "name": "stdout",
     "output_type": "stream",
     "text": [
      "결과를 찾을 수 없습니다. 다시 검색합니다.\n"
     ]
    },
    {
     "name": "stderr",
     "output_type": "stream",
     "text": [
      "  7%|▋         | 75/1022 [00:26<08:01,  1.96it/s]"
     ]
    },
    {
     "name": "stdout",
     "output_type": "stream",
     "text": [
      "결과를 찾을 수 없습니다. 다시 검색합니다.\n",
      "결과를 찾을 수 없습니다\n"
     ]
    },
    {
     "name": "stderr",
     "output_type": "stream",
     "text": [
      "  7%|▋         | 76/1022 [00:26<06:52,  2.29it/s]"
     ]
    },
    {
     "name": "stdout",
     "output_type": "stream",
     "text": [
      "결과를 찾을 수 없습니다. 다시 검색합니다.\n",
      "결과를 찾을 수 없습니다\n",
      "결과를 찾을 수 없습니다. 다시 검색합니다.\n",
      "['기타', '상세불명 유형의 비호지킨림프종']\n"
     ]
    },
    {
     "name": "stderr",
     "output_type": "stream",
     "text": [
      "  8%|▊         | 77/1022 [00:27<08:22,  1.88it/s]"
     ]
    },
    {
     "name": "stdout",
     "output_type": "stream",
     "text": [
      "결과를 찾을 수 없습니다. 다시 검색합니다.\n"
     ]
    },
    {
     "name": "stderr",
     "output_type": "stream",
     "text": [
      "  8%|▊         | 78/1022 [00:27<07:04,  2.22it/s]"
     ]
    },
    {
     "name": "stdout",
     "output_type": "stream",
     "text": [
      "결과를 찾을 수 없습니다. 다시 검색합니다.\n",
      "결과를 찾을 수 없습니다\n",
      "결과를 찾을 수 없습니다. 다시 검색합니다.\n",
      "['다발골수종', '악성 형질세포신생물']\n"
     ]
    },
    {
     "name": "stderr",
     "output_type": "stream",
     "text": [
      "  8%|▊         | 79/1022 [00:28<08:32,  1.84it/s]"
     ]
    },
    {
     "name": "stdout",
     "output_type": "stream",
     "text": [
      "결과를 찾을 수 없습니다. 다시 검색합니다.\n"
     ]
    },
    {
     "name": "stderr",
     "output_type": "stream",
     "text": [
      "  8%|▊         | 80/1022 [00:28<07:10,  2.19it/s]"
     ]
    },
    {
     "name": "stdout",
     "output_type": "stream",
     "text": [
      "결과를 찾을 수 없습니다. 다시 검색합니다.\n",
      "['구강, 식도', '위의 제자리암종']\n",
      "결과를 찾을 수 없습니다. 다시 검색합니다.\n"
     ]
    },
    {
     "name": "stderr",
     "output_type": "stream",
     "text": [
      "  8%|▊         | 81/1022 [00:29<08:57,  1.75it/s]"
     ]
    },
    {
     "name": "stdout",
     "output_type": "stream",
     "text": [
      "결과를 찾을 수 없습니다. 다시 검색합니다.\n",
      "결과를 찾을 수 없습니다. 다시 검색합니다.\n",
      "['기타', '상세불명의 소화기관의 제자리암종']\n"
     ]
    },
    {
     "name": "stderr",
     "output_type": "stream",
     "text": [
      "  8%|▊         | 82/1022 [00:30<09:50,  1.59it/s]"
     ]
    },
    {
     "name": "stdout",
     "output_type": "stream",
     "text": [
      "결과를 찾을 수 없습니다. 다시 검색합니다.\n"
     ]
    },
    {
     "name": "stderr",
     "output_type": "stream",
     "text": [
      "  8%|▊         | 83/1022 [00:30<08:15,  1.89it/s]"
     ]
    },
    {
     "name": "stdout",
     "output_type": "stream",
     "text": [
      "결과를 찾을 수 없습니다. 다시 검색합니다.\n",
      "결과를 찾을 수 없습니다\n"
     ]
    },
    {
     "name": "stderr",
     "output_type": "stream",
     "text": [
      "  8%|▊         | 84/1022 [00:31<07:00,  2.23it/s]"
     ]
    },
    {
     "name": "stdout",
     "output_type": "stream",
     "text": [
      "결과를 찾을 수 없습니다. 다시 검색합니다.\n",
      "결과를 찾을 수 없습니다\n"
     ]
    },
    {
     "name": "stderr",
     "output_type": "stream",
     "text": [
      "  8%|▊         | 85/1022 [00:31<06:03,  2.58it/s]"
     ]
    },
    {
     "name": "stdout",
     "output_type": "stream",
     "text": [
      "결과를 찾을 수 없습니다. 다시 검색합니다.\n",
      "결과를 찾을 수 없습니다\n",
      "결과를 찾을 수 없습니다. 다시 검색합니다.\n",
      "['기타', '상세불명의 생식기관의 제자리암종']\n"
     ]
    },
    {
     "name": "stderr",
     "output_type": "stream",
     "text": [
      "  8%|▊         | 86/1022 [00:32<07:43,  2.02it/s]"
     ]
    },
    {
     "name": "stdout",
     "output_type": "stream",
     "text": [
      "결과를 찾을 수 없습니다. 다시 검색합니다.\n",
      "결과를 찾을 수 없습니다. 다시 검색합니다.\n",
      "['기타', '상세불명 부위의 제자리암종']\n"
     ]
    },
    {
     "name": "stderr",
     "output_type": "stream",
     "text": [
      "  9%|▊         | 87/1022 [00:32<09:02,  1.72it/s]"
     ]
    },
    {
     "name": "stdout",
     "output_type": "stream",
     "text": [
      "결과를 찾을 수 없습니다. 다시 검색합니다.\n",
      "결과를 찾을 수 없습니다. 다시 검색합니다.\n",
      "['입', '인두의 양성 신생물']\n",
      "입\n"
     ]
    },
    {
     "name": "stderr",
     "output_type": "stream",
     "text": [
      "  9%|▊         | 88/1022 [00:33<09:46,  1.59it/s]"
     ]
    },
    {
     "name": "stdout",
     "output_type": "stream",
     "text": [
      "결과를 찾을 수 없습니다. 다시 검색합니다.\n"
     ]
    },
    {
     "name": "stderr",
     "output_type": "stream",
     "text": [
      "  9%|▊         | 89/1022 [00:33<08:04,  1.93it/s]"
     ]
    },
    {
     "name": "stdout",
     "output_type": "stream",
     "text": [
      "결과를 찾을 수 없습니다. 다시 검색합니다.\n",
      "결과를 찾을 수 없습니다\n",
      "결과를 찾을 수 없습니다. 다시 검색합니다.\n",
      "['결장, 직장, 항문', '항문관의 양성 신생물 ']\n",
      "결과를 찾을 수 없습니다. 다시 검색합니다.\n"
     ]
    },
    {
     "name": "stderr",
     "output_type": "stream",
     "text": [
      "  9%|▉         | 90/1022 [00:34<09:22,  1.66it/s]"
     ]
    },
    {
     "name": "stdout",
     "output_type": "stream",
     "text": [
      "결과를 찾을 수 없습니다. 다시 검색합니다.\n",
      "결과를 찾을 수 없습니다. 다시 검색합니다.\n",
      "['기타', '부위불명의 소화계통의 양성 신생물']\n"
     ]
    },
    {
     "name": "stderr",
     "output_type": "stream",
     "text": [
      "  9%|▉         | 91/1022 [00:35<10:07,  1.53it/s]"
     ]
    },
    {
     "name": "stdout",
     "output_type": "stream",
     "text": [
      "결과를 찾을 수 없습니다. 다시 검색합니다.\n",
      "결과를 찾을 수 없습니다. 다시 검색합니다.\n",
      "['중이', '호흡계통의 양성 신생물']\n"
     ]
    },
    {
     "name": "stderr",
     "output_type": "stream",
     "text": [
      "  9%|▉         | 92/1022 [00:36<10:39,  1.45it/s]"
     ]
    },
    {
     "name": "stdout",
     "output_type": "stream",
     "text": [
      "결과를 찾을 수 없습니다. 다시 검색합니다.\n",
      "결과를 찾을 수 없습니다. 다시 검색합니다.\n",
      "['골', '관절연골의 양성 신생물']\n"
     ]
    },
    {
     "name": "stderr",
     "output_type": "stream",
     "text": [
      "  9%|▉         | 93/1022 [00:37<11:14,  1.38it/s]"
     ]
    },
    {
     "name": "stdout",
     "output_type": "stream",
     "text": [
      "결과를 찾을 수 없습니다. 다시 검색합니다.\n"
     ]
    },
    {
     "name": "stderr",
     "output_type": "stream",
     "text": [
      "  9%|▉         | 94/1022 [00:37<09:03,  1.71it/s]"
     ]
    },
    {
     "name": "stdout",
     "output_type": "stream",
     "text": [
      "결과를 찾을 수 없습니다. 다시 검색합니다.\n",
      "결과를 찾을 수 없습니다\n",
      "결과를 찾을 수 없습니다. 다시 검색합니다.\n",
      "['모든 부위의 혈관종', '림프관종']\n",
      "결과를 찾을 수 없습니다. 다시 검색합니다.\n"
     ]
    },
    {
     "name": "stderr",
     "output_type": "stream",
     "text": [
      "  9%|▉         | 95/1022 [00:38<10:12,  1.51it/s]"
     ]
    },
    {
     "name": "stdout",
     "output_type": "stream",
     "text": [
      "결과를 찾을 수 없습니다. 다시 검색합니다.\n",
      "['결합조직', '기타 연조직의 기타 양성 신생물']\n",
      "결과를 찾을 수 없습니다. 다시 검색합니다.\n"
     ]
    },
    {
     "name": "stderr",
     "output_type": "stream",
     "text": [
      "  9%|▉         | 96/1022 [00:38<10:38,  1.45it/s]"
     ]
    },
    {
     "name": "stdout",
     "output_type": "stream",
     "text": [
      "결과를 찾을 수 없습니다. 다시 검색합니다.\n"
     ]
    },
    {
     "name": "stderr",
     "output_type": "stream",
     "text": [
      "  9%|▉         | 97/1022 [00:39<08:33,  1.80it/s]"
     ]
    },
    {
     "name": "stdout",
     "output_type": "stream",
     "text": [
      "결과를 찾을 수 없습니다. 다시 검색합니다.\n",
      "결과를 찾을 수 없습니다\n"
     ]
    },
    {
     "name": "stderr",
     "output_type": "stream",
     "text": [
      " 10%|▉         | 98/1022 [00:39<07:07,  2.16it/s]"
     ]
    },
    {
     "name": "stdout",
     "output_type": "stream",
     "text": [
      "결과를 찾을 수 없습니다. 다시 검색합니다.\n",
      "결과를 찾을 수 없습니다\n"
     ]
    },
    {
     "name": "stderr",
     "output_type": "stream",
     "text": [
      " 10%|▉         | 99/1022 [00:39<06:13,  2.47it/s]"
     ]
    },
    {
     "name": "stdout",
     "output_type": "stream",
     "text": [
      "결과를 찾을 수 없습니다. 다시 검색합니다.\n",
      "결과를 찾을 수 없습니다\n"
     ]
    },
    {
     "name": "stderr",
     "output_type": "stream",
     "text": [
      " 10%|▉         | 101/1022 [00:40<05:01,  3.05it/s]"
     ]
    },
    {
     "name": "stdout",
     "output_type": "stream",
     "text": [
      "결과를 찾을 수 없습니다. 다시 검색합니다.\n",
      "결과를 찾을 수 없습니다\n"
     ]
    },
    {
     "name": "stderr",
     "output_type": "stream",
     "text": [
      " 10%|▉         | 102/1022 [00:40<04:37,  3.32it/s]"
     ]
    },
    {
     "name": "stdout",
     "output_type": "stream",
     "text": [
      "결과를 찾을 수 없습니다. 다시 검색합니다.\n",
      "결과를 찾을 수 없습니다\n",
      "결과를 찾을 수 없습니다. 다시 검색합니다.\n",
      "['기타', '상세불명의 여성생식기관의 양성 신생물']\n"
     ]
    },
    {
     "name": "stderr",
     "output_type": "stream",
     "text": [
      " 10%|█         | 103/1022 [00:41<06:37,  2.31it/s]"
     ]
    },
    {
     "name": "stdout",
     "output_type": "stream",
     "text": [
      "결과를 찾을 수 없습니다. 다시 검색합니다.\n"
     ]
    },
    {
     "name": "stderr",
     "output_type": "stream",
     "text": [
      " 10%|█         | 104/1022 [00:41<05:46,  2.65it/s]"
     ]
    },
    {
     "name": "stdout",
     "output_type": "stream",
     "text": [
      "결과를 찾을 수 없습니다. 다시 검색합니다.\n",
      "결과를 찾을 수 없습니다\n"
     ]
    },
    {
     "name": "stderr",
     "output_type": "stream",
     "text": [
      " 10%|█         | 105/1022 [00:41<05:43,  2.67it/s]"
     ]
    },
    {
     "name": "stdout",
     "output_type": "stream",
     "text": [
      "결과를 찾을 수 없습니다. 다시 검색합니다.\n",
      "결과를 찾을 수 없습니다\n",
      "결과를 찾을 수 없습니다. 다시 검색합니다.\n",
      "['눈', '부속기의 양성 신생물']\n"
     ]
    },
    {
     "name": "stderr",
     "output_type": "stream",
     "text": [
      " 10%|█         | 106/1022 [00:42<07:20,  2.08it/s]"
     ]
    },
    {
     "name": "stdout",
     "output_type": "stream",
     "text": [
      "결과를 찾을 수 없습니다. 다시 검색합니다.\n"
     ]
    },
    {
     "name": "stderr",
     "output_type": "stream",
     "text": [
      " 10%|█         | 107/1022 [00:42<06:13,  2.45it/s]"
     ]
    },
    {
     "name": "stdout",
     "output_type": "stream",
     "text": [
      "결과를 찾을 수 없습니다. 다시 검색합니다.\n",
      "결과를 찾을 수 없습니다\n",
      "결과를 찾을 수 없습니다. 다시 검색합니다.\n",
      "['뇌', '중추신경계통의 기타 부분의 양성 신생물']\n"
     ]
    },
    {
     "name": "stderr",
     "output_type": "stream",
     "text": [
      " 11%|█         | 108/1022 [00:43<07:55,  1.92it/s]"
     ]
    },
    {
     "name": "stdout",
     "output_type": "stream",
     "text": [
      "결과를 찾을 수 없습니다. 다시 검색합니다.\n"
     ]
    },
    {
     "name": "stderr",
     "output_type": "stream",
     "text": [
      " 11%|█         | 109/1022 [00:43<06:38,  2.29it/s]"
     ]
    },
    {
     "name": "stdout",
     "output_type": "stream",
     "text": [
      "결과를 찾을 수 없습니다. 다시 검색합니다.\n",
      "결과를 찾을 수 없습니다\n",
      "결과를 찾을 수 없습니다. 다시 검색합니다.\n",
      "['기타', '상세불명의 내분비선의 양성 신생물']\n"
     ]
    },
    {
     "name": "stderr",
     "output_type": "stream",
     "text": [
      " 11%|█         | 110/1022 [00:44<08:00,  1.90it/s]"
     ]
    },
    {
     "name": "stdout",
     "output_type": "stream",
     "text": [
      "결과를 찾을 수 없습니다. 다시 검색합니다.\n",
      "결과를 찾을 수 없습니다. 다시 검색합니다.\n",
      "['기타', '상세불명 부위의 양성 신생물']\n"
     ]
    },
    {
     "name": "stderr",
     "output_type": "stream",
     "text": [
      " 11%|█         | 111/1022 [00:45<09:16,  1.64it/s]"
     ]
    },
    {
     "name": "stdout",
     "output_type": "stream",
     "text": [
      "결과를 찾을 수 없습니다. 다시 검색합니다.\n",
      "결과를 찾을 수 없습니다. 다시 검색합니다.\n",
      "['구강', '소화기관의 행동양식 불명 또는 미상의 신생물']\n"
     ]
    },
    {
     "name": "stderr",
     "output_type": "stream",
     "text": [
      " 11%|█         | 112/1022 [00:46<09:46,  1.55it/s]"
     ]
    },
    {
     "name": "stdout",
     "output_type": "stream",
     "text": [
      "결과를 찾을 수 없습니다. 다시 검색합니다.\n"
     ]
    },
    {
     "name": "stderr",
     "output_type": "stream",
     "text": [
      " 11%|█         | 113/1022 [00:46<08:01,  1.89it/s]"
     ]
    },
    {
     "name": "stdout",
     "output_type": "stream",
     "text": [
      "결과를 찾을 수 없습니다. 다시 검색합니다.\n",
      "결과를 찾을 수 없습니다\n"
     ]
    },
    {
     "name": "stderr",
     "output_type": "stream",
     "text": [
      " 11%|█         | 114/1022 [00:46<06:47,  2.23it/s]"
     ]
    },
    {
     "name": "stdout",
     "output_type": "stream",
     "text": [
      "결과를 찾을 수 없습니다. 다시 검색합니다.\n",
      "결과를 찾을 수 없습니다\n"
     ]
    },
    {
     "name": "stderr",
     "output_type": "stream",
     "text": [
      " 11%|█▏        | 115/1022 [00:46<06:02,  2.50it/s]"
     ]
    },
    {
     "name": "stdout",
     "output_type": "stream",
     "text": [
      "결과를 찾을 수 없습니다. 다시 검색합니다.\n",
      "결과를 찾을 수 없습니다\n"
     ]
    },
    {
     "name": "stderr",
     "output_type": "stream",
     "text": [
      " 11%|█▏        | 116/1022 [00:47<05:19,  2.84it/s]"
     ]
    },
    {
     "name": "stdout",
     "output_type": "stream",
     "text": [
      "결과를 찾을 수 없습니다. 다시 검색합니다.\n",
      "결과를 찾을 수 없습니다\n",
      "결과를 찾을 수 없습니다. 다시 검색합니다.\n",
      "['뇌', '중추신경계통의 행동양식 불명 또는 미상의 신생물']\n"
     ]
    },
    {
     "name": "stderr",
     "output_type": "stream",
     "text": [
      " 11%|█▏        | 117/1022 [00:47<07:10,  2.10it/s]"
     ]
    },
    {
     "name": "stdout",
     "output_type": "stream",
     "text": [
      "결과를 찾을 수 없습니다. 다시 검색합니다.\n"
     ]
    },
    {
     "name": "stderr",
     "output_type": "stream",
     "text": [
      " 12%|█▏        | 118/1022 [00:48<06:04,  2.48it/s]"
     ]
    },
    {
     "name": "stdout",
     "output_type": "stream",
     "text": [
      "결과를 찾을 수 없습니다. 다시 검색합니다.\n",
      "결과를 찾을 수 없습니다\n",
      "결과를 찾을 수 없습니다. 다시 검색합니다.\n",
      "['림프, 조혈', '관련 조직의 행동양식 불명', '미상의 기타 신생물']\n",
      "결과를 찾을 수 없습니다. 다시 검색합니다.\n",
      "결과를 찾을 수 없습니다. 다시 검색합니다.\n"
     ]
    },
    {
     "name": "stderr",
     "output_type": "stream",
     "text": [
      " 12%|█▏        | 119/1022 [00:49<08:55,  1.69it/s]"
     ]
    },
    {
     "name": "stdout",
     "output_type": "stream",
     "text": [
      "결과를 찾을 수 없습니다. 다시 검색합니다.\n",
      "결과를 찾을 수 없습니다. 다시 검색합니다.\n",
      "['기타', '상세불명 부위의 행동양식 불명 또는 미상의 신생물']\n"
     ]
    },
    {
     "name": "stderr",
     "output_type": "stream",
     "text": [
      " 12%|█▏        | 120/1022 [00:49<09:44,  1.54it/s]"
     ]
    },
    {
     "name": "stdout",
     "output_type": "stream",
     "text": [
      "결과를 찾을 수 없습니다. 다시 검색합니다.\n"
     ]
    },
    {
     "name": "stderr",
     "output_type": "stream",
     "text": [
      " 12%|█▏        | 122/1022 [00:50<06:44,  2.22it/s]"
     ]
    },
    {
     "name": "stdout",
     "output_type": "stream",
     "text": [
      "결과를 찾을 수 없습니다. 다시 검색합니다.\n",
      "결과를 찾을 수 없습니다\n"
     ]
    },
    {
     "name": "stderr",
     "output_type": "stream",
     "text": [
      " 12%|█▏        | 123/1022 [00:50<05:56,  2.52it/s]"
     ]
    },
    {
     "name": "stdout",
     "output_type": "stream",
     "text": [
      "결과를 찾을 수 없습니다. 다시 검색합니다.\n",
      "결과를 찾을 수 없습니다\n"
     ]
    },
    {
     "name": "stderr",
     "output_type": "stream",
     "text": [
      " 12%|█▏        | 124/1022 [00:50<05:17,  2.83it/s]"
     ]
    },
    {
     "name": "stdout",
     "output_type": "stream",
     "text": [
      "결과를 찾을 수 없습니다. 다시 검색합니다.\n",
      "결과를 찾을 수 없습니다\n"
     ]
    },
    {
     "name": "stderr",
     "output_type": "stream",
     "text": [
      " 12%|█▏        | 125/1022 [00:51<04:54,  3.05it/s]"
     ]
    },
    {
     "name": "stdout",
     "output_type": "stream",
     "text": [
      "결과를 찾을 수 없습니다. 다시 검색합니다.\n",
      "결과를 찾을 수 없습니다\n"
     ]
    },
    {
     "name": "stderr",
     "output_type": "stream",
     "text": [
      " 12%|█▏        | 126/1022 [00:51<04:28,  3.34it/s]"
     ]
    },
    {
     "name": "stdout",
     "output_type": "stream",
     "text": [
      "결과를 찾을 수 없습니다. 다시 검색합니다.\n",
      "결과를 찾을 수 없습니다\n"
     ]
    },
    {
     "name": "stderr",
     "output_type": "stream",
     "text": [
      " 12%|█▏        | 127/1022 [00:51<04:18,  3.47it/s]"
     ]
    },
    {
     "name": "stdout",
     "output_type": "stream",
     "text": [
      "결과를 찾을 수 없습니다. 다시 검색합니다.\n",
      "결과를 찾을 수 없습니다\n"
     ]
    },
    {
     "name": "stderr",
     "output_type": "stream",
     "text": [
      " 13%|█▎        | 128/1022 [00:51<04:03,  3.66it/s]"
     ]
    },
    {
     "name": "stdout",
     "output_type": "stream",
     "text": [
      "결과를 찾을 수 없습니다. 다시 검색합니다.\n",
      "결과를 찾을 수 없습니다\n"
     ]
    },
    {
     "name": "stderr",
     "output_type": "stream",
     "text": [
      " 13%|█▎        | 129/1022 [00:52<04:10,  3.56it/s]"
     ]
    },
    {
     "name": "stdout",
     "output_type": "stream",
     "text": [
      "결과를 찾을 수 없습니다. 다시 검색합니다.\n",
      "결과를 찾을 수 없습니다\n",
      "결과를 찾을 수 없습니다. 다시 검색합니다.\n",
      "['자반', '기타 출혈성 병태']\n"
     ]
    },
    {
     "name": "stderr",
     "output_type": "stream",
     "text": [
      " 13%|█▎        | 130/1022 [00:52<06:25,  2.31it/s]"
     ]
    },
    {
     "name": "stdout",
     "output_type": "stream",
     "text": [
      "결과를 찾을 수 없습니다. 다시 검색합니다.\n"
     ]
    },
    {
     "name": "stderr",
     "output_type": "stream",
     "text": [
      " 13%|█▎        | 131/1022 [00:53<05:38,  2.63it/s]"
     ]
    },
    {
     "name": "stdout",
     "output_type": "stream",
     "text": [
      "결과를 찾을 수 없습니다. 다시 검색합니다.\n",
      "결과를 찾을 수 없습니다\n"
     ]
    },
    {
     "name": "stderr",
     "output_type": "stream",
     "text": [
      " 13%|█▎        | 132/1022 [00:53<05:07,  2.89it/s]"
     ]
    },
    {
     "name": "stdout",
     "output_type": "stream",
     "text": [
      "결과를 찾을 수 없습니다. 다시 검색합니다.\n",
      "결과를 찾을 수 없습니다\n",
      "결과를 찾을 수 없습니다. 다시 검색합니다.\n",
      "['혈액', '조혈기관의 기타 질환']\n",
      "결과를 찾을 수 없습니다. 다시 검색합니다.\n"
     ]
    },
    {
     "name": "stderr",
     "output_type": "stream",
     "text": [
      " 13%|█▎        | 133/1022 [00:54<06:43,  2.20it/s]"
     ]
    },
    {
     "name": "stdout",
     "output_type": "stream",
     "text": [
      "결과를 찾을 수 없습니다. 다시 검색합니다.\n"
     ]
    },
    {
     "name": "stderr",
     "output_type": "stream",
     "text": [
      " 13%|█▎        | 134/1022 [00:54<05:47,  2.56it/s]"
     ]
    },
    {
     "name": "stdout",
     "output_type": "stream",
     "text": [
      "결과를 찾을 수 없습니다. 다시 검색합니다.\n",
      "결과를 찾을 수 없습니다\n"
     ]
    },
    {
     "name": "stderr",
     "output_type": "stream",
     "text": [
      " 13%|█▎        | 135/1022 [00:54<05:10,  2.86it/s]"
     ]
    },
    {
     "name": "stdout",
     "output_type": "stream",
     "text": [
      "결과를 찾을 수 없습니다. 다시 검색합니다.\n",
      "결과를 찾을 수 없습니다\n"
     ]
    },
    {
     "name": "stderr",
     "output_type": "stream",
     "text": [
      " 13%|█▎        | 136/1022 [00:54<04:42,  3.14it/s]"
     ]
    },
    {
     "name": "stdout",
     "output_type": "stream",
     "text": [
      "결과를 찾을 수 없습니다. 다시 검색합니다.\n",
      "결과를 찾을 수 없습니다\n"
     ]
    },
    {
     "name": "stderr",
     "output_type": "stream",
     "text": [
      " 13%|█▎        | 137/1022 [00:55<04:27,  3.30it/s]"
     ]
    },
    {
     "name": "stdout",
     "output_type": "stream",
     "text": [
      "결과를 찾을 수 없습니다. 다시 검색합니다.\n",
      "결과를 찾을 수 없습니다\n"
     ]
    },
    {
     "name": "stderr",
     "output_type": "stream",
     "text": [
      " 14%|█▎        | 138/1022 [00:55<04:11,  3.52it/s]"
     ]
    },
    {
     "name": "stdout",
     "output_type": "stream",
     "text": [
      "결과를 찾을 수 없습니다. 다시 검색합니다.\n",
      "결과를 찾을 수 없습니다\n"
     ]
    },
    {
     "name": "stderr",
     "output_type": "stream",
     "text": [
      " 14%|█▎        | 139/1022 [00:55<03:58,  3.70it/s]"
     ]
    },
    {
     "name": "stdout",
     "output_type": "stream",
     "text": [
      "결과를 찾을 수 없습니다. 다시 검색합니다.\n",
      "결과를 찾을 수 없습니다\n"
     ]
    },
    {
     "name": "stderr",
     "output_type": "stream",
     "text": [
      " 14%|█▍        | 141/1022 [00:56<03:42,  3.96it/s]"
     ]
    },
    {
     "name": "stdout",
     "output_type": "stream",
     "text": [
      "결과를 찾을 수 없습니다. 다시 검색합니다.\n",
      "결과를 찾을 수 없습니다\n"
     ]
    },
    {
     "name": "stderr",
     "output_type": "stream",
     "text": [
      " 14%|█▍        | 144/1022 [00:56<03:33,  4.12it/s]"
     ]
    },
    {
     "name": "stdout",
     "output_type": "stream",
     "text": [
      "결과를 찾을 수 없습니다. 다시 검색합니다.\n",
      "결과를 찾을 수 없습니다\n"
     ]
    },
    {
     "name": "stderr",
     "output_type": "stream",
     "text": [
      " 14%|█▍        | 145/1022 [00:57<03:32,  4.12it/s]"
     ]
    },
    {
     "name": "stdout",
     "output_type": "stream",
     "text": [
      "결과를 찾을 수 없습니다. 다시 검색합니다.\n",
      "결과를 찾을 수 없습니다\n"
     ]
    },
    {
     "name": "stderr",
     "output_type": "stream",
     "text": [
      " 14%|█▍        | 146/1022 [00:57<03:30,  4.17it/s]"
     ]
    },
    {
     "name": "stdout",
     "output_type": "stream",
     "text": [
      "결과를 찾을 수 없습니다. 다시 검색합니다.\n",
      "결과를 찾을 수 없습니다\n"
     ]
    },
    {
     "name": "stderr",
     "output_type": "stream",
     "text": [
      " 14%|█▍        | 147/1022 [00:57<03:30,  4.16it/s]"
     ]
    },
    {
     "name": "stdout",
     "output_type": "stream",
     "text": [
      "결과를 찾을 수 없습니다. 다시 검색합니다.\n",
      "['부갑상선기능항진증', '부갑상선의 기타 장애']\n"
     ]
    },
    {
     "name": "stderr",
     "output_type": "stream",
     "text": [
      " 14%|█▍        | 148/1022 [00:58<05:39,  2.57it/s]"
     ]
    },
    {
     "name": "stdout",
     "output_type": "stream",
     "text": [
      "결과를 찾을 수 없습니다. 다시 검색합니다.\n"
     ]
    },
    {
     "name": "stderr",
     "output_type": "stream",
     "text": [
      " 15%|█▍        | 149/1022 [00:58<05:02,  2.89it/s]"
     ]
    },
    {
     "name": "stdout",
     "output_type": "stream",
     "text": [
      "결과를 찾을 수 없습니다. 다시 검색합니다.\n",
      "결과를 찾을 수 없습니다\n",
      "결과를 찾을 수 없습니다. 다시 검색합니다.\n",
      "['뇌하수체의 기능저하', '기타 장애']\n",
      "결과를 찾을 수 없습니다. 다시 검색합니다.\n"
     ]
    },
    {
     "name": "stderr",
     "output_type": "stream",
     "text": [
      " 15%|█▍        | 150/1022 [00:59<06:40,  2.18it/s]"
     ]
    },
    {
     "name": "stdout",
     "output_type": "stream",
     "text": [
      "결과를 찾을 수 없습니다. 다시 검색합니다.\n"
     ]
    },
    {
     "name": "stderr",
     "output_type": "stream",
     "text": [
      " 15%|█▍        | 151/1022 [00:59<05:45,  2.52it/s]"
     ]
    },
    {
     "name": "stdout",
     "output_type": "stream",
     "text": [
      "결과를 찾을 수 없습니다. 다시 검색합니다.\n",
      "결과를 찾을 수 없습니다\n"
     ]
    },
    {
     "name": "stderr",
     "output_type": "stream",
     "text": [
      " 15%|█▍        | 152/1022 [00:59<05:26,  2.66it/s]"
     ]
    },
    {
     "name": "stdout",
     "output_type": "stream",
     "text": [
      "결과를 찾을 수 없습니다. 다시 검색합니다.\n",
      "결과를 찾을 수 없습니다\n"
     ]
    },
    {
     "name": "stderr",
     "output_type": "stream",
     "text": [
      " 15%|█▍        | 153/1022 [01:00<04:52,  2.97it/s]"
     ]
    },
    {
     "name": "stdout",
     "output_type": "stream",
     "text": [
      "결과를 찾을 수 없습니다. 다시 검색합니다.\n",
      "결과를 찾을 수 없습니다\n"
     ]
    },
    {
     "name": "stderr",
     "output_type": "stream",
     "text": [
      " 15%|█▌        | 154/1022 [01:00<04:31,  3.20it/s]"
     ]
    },
    {
     "name": "stdout",
     "output_type": "stream",
     "text": [
      "결과를 찾을 수 없습니다. 다시 검색합니다.\n",
      "결과를 찾을 수 없습니다\n"
     ]
    },
    {
     "name": "stderr",
     "output_type": "stream",
     "text": [
      " 15%|█▌        | 155/1022 [01:00<04:19,  3.34it/s]"
     ]
    },
    {
     "name": "stdout",
     "output_type": "stream",
     "text": [
      "결과를 찾을 수 없습니다. 다시 검색합니다.\n",
      "결과를 찾을 수 없습니다\n"
     ]
    },
    {
     "name": "stderr",
     "output_type": "stream",
     "text": [
      " 15%|█▌        | 156/1022 [01:00<04:08,  3.48it/s]"
     ]
    },
    {
     "name": "stdout",
     "output_type": "stream",
     "text": [
      "결과를 찾을 수 없습니다. 다시 검색합니다.\n",
      "결과를 찾을 수 없습니다\n"
     ]
    },
    {
     "name": "stderr",
     "output_type": "stream",
     "text": [
      " 15%|█▌        | 157/1022 [01:01<03:58,  3.63it/s]"
     ]
    },
    {
     "name": "stdout",
     "output_type": "stream",
     "text": [
      "결과를 찾을 수 없습니다. 다시 검색합니다.\n",
      "결과를 찾을 수 없습니다\n"
     ]
    },
    {
     "name": "stderr",
     "output_type": "stream",
     "text": [
      " 15%|█▌        | 158/1022 [01:01<03:47,  3.80it/s]"
     ]
    },
    {
     "name": "stdout",
     "output_type": "stream",
     "text": [
      "결과를 찾을 수 없습니다. 다시 검색합니다.\n",
      "결과를 찾을 수 없습니다\n",
      "결과를 찾을 수 없습니다. 다시 검색합니다.\n",
      "['중등도', '경도의 단백질-에너지영양실조']\n",
      "결과를 찾을 수 없습니다. 다시 검색합니다.\n"
     ]
    },
    {
     "name": "stderr",
     "output_type": "stream",
     "text": [
      " 16%|█▌        | 159/1022 [01:02<05:47,  2.49it/s]"
     ]
    },
    {
     "name": "stdout",
     "output_type": "stream",
     "text": [
      "결과를 찾을 수 없습니다. 다시 검색합니다.\n"
     ]
    },
    {
     "name": "stderr",
     "output_type": "stream",
     "text": [
      " 16%|█▌        | 160/1022 [01:02<05:05,  2.82it/s]"
     ]
    },
    {
     "name": "stdout",
     "output_type": "stream",
     "text": [
      "결과를 찾을 수 없습니다. 다시 검색합니다.\n",
      "결과를 찾을 수 없습니다\n"
     ]
    },
    {
     "name": "stderr",
     "output_type": "stream",
     "text": [
      " 16%|█▌        | 161/1022 [01:02<04:36,  3.12it/s]"
     ]
    },
    {
     "name": "stdout",
     "output_type": "stream",
     "text": [
      "결과를 찾을 수 없습니다. 다시 검색합니다.\n",
      "결과를 찾을 수 없습니다\n"
     ]
    },
    {
     "name": "stderr",
     "output_type": "stream",
     "text": [
      " 16%|█▌        | 163/1022 [01:03<04:06,  3.48it/s]"
     ]
    },
    {
     "name": "stdout",
     "output_type": "stream",
     "text": [
      "결과를 찾을 수 없습니다. 다시 검색합니다.\n",
      "결과를 찾을 수 없습니다\n"
     ]
    },
    {
     "name": "stderr",
     "output_type": "stream",
     "text": [
      " 16%|█▌        | 164/1022 [01:03<03:54,  3.67it/s]"
     ]
    },
    {
     "name": "stdout",
     "output_type": "stream",
     "text": [
      "결과를 찾을 수 없습니다. 다시 검색합니다.\n",
      "결과를 찾을 수 없습니다\n"
     ]
    },
    {
     "name": "stderr",
     "output_type": "stream",
     "text": [
      " 16%|█▌        | 165/1022 [01:03<03:50,  3.72it/s]"
     ]
    },
    {
     "name": "stdout",
     "output_type": "stream",
     "text": [
      "결과를 찾을 수 없습니다. 다시 검색합니다.\n",
      "결과를 찾을 수 없습니다\n"
     ]
    },
    {
     "name": "stderr",
     "output_type": "stream",
     "text": [
      " 16%|█▌        | 166/1022 [01:03<03:46,  3.79it/s]"
     ]
    },
    {
     "name": "stdout",
     "output_type": "stream",
     "text": [
      "결과를 찾을 수 없습니다. 다시 검색합니다.\n",
      "결과를 찾을 수 없습니다\n"
     ]
    },
    {
     "name": "stderr",
     "output_type": "stream",
     "text": [
      " 16%|█▋        | 167/1022 [01:04<04:00,  3.55it/s]"
     ]
    },
    {
     "name": "stdout",
     "output_type": "stream",
     "text": [
      "결과를 찾을 수 없습니다. 다시 검색합니다.\n",
      "결과를 찾을 수 없습니다\n"
     ]
    },
    {
     "name": "stderr",
     "output_type": "stream",
     "text": [
      " 16%|█▋        | 168/1022 [01:04<03:51,  3.69it/s]"
     ]
    },
    {
     "name": "stdout",
     "output_type": "stream",
     "text": [
      "결과를 찾을 수 없습니다. 다시 검색합니다.\n",
      "결과를 찾을 수 없습니다\n"
     ]
    },
    {
     "name": "stderr",
     "output_type": "stream",
     "text": [
      " 17%|█▋        | 169/1022 [01:04<03:45,  3.78it/s]"
     ]
    },
    {
     "name": "stdout",
     "output_type": "stream",
     "text": [
      "결과를 찾을 수 없습니다. 다시 검색합니다.\n",
      "결과를 찾을 수 없습니다\n"
     ]
    },
    {
     "name": "stderr",
     "output_type": "stream",
     "text": [
      " 17%|█▋        | 170/1022 [01:04<03:43,  3.81it/s]"
     ]
    },
    {
     "name": "stdout",
     "output_type": "stream",
     "text": [
      "결과를 찾을 수 없습니다. 다시 검색합니다.\n",
      "결과를 찾을 수 없습니다\n"
     ]
    },
    {
     "name": "stderr",
     "output_type": "stream",
     "text": [
      " 17%|█▋        | 171/1022 [01:05<03:46,  3.77it/s]"
     ]
    },
    {
     "name": "stdout",
     "output_type": "stream",
     "text": [
      "결과를 찾을 수 없습니다. 다시 검색합니다.\n",
      "결과를 찾을 수 없습니다\n",
      "결과를 찾을 수 없습니다. 다시 검색합니다.\n",
      "['영양실조', '기타 영양결핍의 후유증']\n",
      "결과를 찾을 수 없습니다. 다시 검색합니다.\n"
     ]
    },
    {
     "name": "stderr",
     "output_type": "stream",
     "text": [
      " 17%|█▋        | 172/1022 [01:05<05:37,  2.52it/s]"
     ]
    },
    {
     "name": "stdout",
     "output_type": "stream",
     "text": [
      "결과를 찾을 수 없습니다. 다시 검색합니다.\n"
     ]
    },
    {
     "name": "stderr",
     "output_type": "stream",
     "text": [
      " 17%|█▋        | 174/1022 [01:06<04:35,  3.08it/s]"
     ]
    },
    {
     "name": "stdout",
     "output_type": "stream",
     "text": [
      "결과를 찾을 수 없습니다. 다시 검색합니다.\n",
      "['지질단백질대사장애', '기타 지질증']\n",
      "결과를 찾을 수 없습니다. 다시 검색합니다.\n"
     ]
    },
    {
     "name": "stderr",
     "output_type": "stream",
     "text": [
      " 17%|█▋        | 175/1022 [01:07<06:25,  2.20it/s]"
     ]
    },
    {
     "name": "stdout",
     "output_type": "stream",
     "text": [
      "결과를 찾을 수 없습니다. 다시 검색합니다.\n",
      "결과를 찾을 수 없습니다. 다시 검색합니다.\n",
      "['퓨린', '피리미딘의 대사장애']\n",
      "결과를 찾을 수 없습니다. 다시 검색합니다.\n"
     ]
    },
    {
     "name": "stderr",
     "output_type": "stream",
     "text": [
      " 17%|█▋        | 176/1022 [01:08<07:57,  1.77it/s]"
     ]
    },
    {
     "name": "stdout",
     "output_type": "stream",
     "text": [
      "결과를 찾을 수 없습니다. 다시 검색합니다.\n",
      "결과를 찾을 수 없습니다. 다시 검색합니다.\n",
      "['포르피린', '빌리루빈 대사장애']\n"
     ]
    },
    {
     "name": "stderr",
     "output_type": "stream",
     "text": [
      " 17%|█▋        | 177/1022 [01:08<08:45,  1.61it/s]"
     ]
    },
    {
     "name": "stdout",
     "output_type": "stream",
     "text": [
      "결과를 찾을 수 없습니다. 다시 검색합니다.\n"
     ]
    },
    {
     "name": "stderr",
     "output_type": "stream",
     "text": [
      " 17%|█▋        | 178/1022 [01:09<07:05,  1.98it/s]"
     ]
    },
    {
     "name": "stdout",
     "output_type": "stream",
     "text": [
      "결과를 찾을 수 없습니다. 다시 검색합니다.\n",
      "결과를 찾을 수 없습니다\n"
     ]
    },
    {
     "name": "stderr",
     "output_type": "stream",
     "text": [
      " 18%|█▊        | 179/1022 [01:09<05:59,  2.35it/s]"
     ]
    },
    {
     "name": "stdout",
     "output_type": "stream",
     "text": [
      "결과를 찾을 수 없습니다. 다시 검색합니다.\n",
      "결과를 찾을 수 없습니다\n",
      "결과를 찾을 수 없습니다. 다시 검색합니다.\n",
      "['수분, 전해질', '산-염기균형의 기타 장애']\n",
      "결과를 찾을 수 없습니다. 다시 검색합니다.\n"
     ]
    },
    {
     "name": "stderr",
     "output_type": "stream",
     "text": [
      " 18%|█▊        | 180/1022 [01:10<07:24,  1.89it/s]"
     ]
    },
    {
     "name": "stdout",
     "output_type": "stream",
     "text": [
      "결과를 찾을 수 없습니다. 다시 검색합니다.\n"
     ]
    },
    {
     "name": "stderr",
     "output_type": "stream",
     "text": [
      " 18%|█▊        | 181/1022 [01:10<06:28,  2.16it/s]"
     ]
    },
    {
     "name": "stdout",
     "output_type": "stream",
     "text": [
      "결과를 찾을 수 없습니다. 다시 검색합니다.\n",
      "결과를 찾을 수 없습니다\n",
      "결과를 찾을 수 없습니다. 다시 검색합니다.\n",
      "['달리 분류되지 않은 처치후 내분비', '대사 장애']\n",
      "결과를 찾을 수 없습니다. 다시 검색합니다.\n"
     ]
    },
    {
     "name": "stderr",
     "output_type": "stream",
     "text": [
      " 18%|█▊        | 182/1022 [01:11<07:29,  1.87it/s]"
     ]
    },
    {
     "name": "stdout",
     "output_type": "stream",
     "text": [
      "결과를 찾을 수 없습니다. 다시 검색합니다.\n"
     ]
    },
    {
     "name": "stderr",
     "output_type": "stream",
     "text": [
      " 18%|█▊        | 183/1022 [01:11<06:19,  2.21it/s]"
     ]
    },
    {
     "name": "stdout",
     "output_type": "stream",
     "text": [
      "결과를 찾을 수 없습니다. 다시 검색합니다.\n",
      "결과를 찾을 수 없습니다\n"
     ]
    },
    {
     "name": "stderr",
     "output_type": "stream",
     "text": [
      " 18%|█▊        | 185/1022 [01:11<05:10,  2.70it/s]"
     ]
    },
    {
     "name": "stdout",
     "output_type": "stream",
     "text": [
      "결과를 찾을 수 없습니다. 다시 검색합니다.\n",
      "결과를 찾을 수 없습니다\n"
     ]
    },
    {
     "name": "stderr",
     "output_type": "stream",
     "text": [
      " 18%|█▊        | 186/1022 [01:12<04:45,  2.92it/s]"
     ]
    },
    {
     "name": "stdout",
     "output_type": "stream",
     "text": [
      "결과를 찾을 수 없습니다. 다시 검색합니다.\n",
      "결과를 찾을 수 없습니다\n",
      "결과를 찾을 수 없습니다. 다시 검색합니다.\n",
      "['알코올', '기타 정신활성물질에 의하여 유발된 것이 아닌 섬망']\n"
     ]
    },
    {
     "name": "stderr",
     "output_type": "stream",
     "text": [
      " 18%|█▊        | 187/1022 [01:12<06:40,  2.09it/s]"
     ]
    },
    {
     "name": "stdout",
     "output_type": "stream",
     "text": [
      "결과를 찾을 수 없습니다. 다시 검색합니다.\n",
      "결과를 찾을 수 없습니다. 다시 검색합니다.\n",
      "['뇌손상, 뇌기능이상', '신체질환에 의한 기타 정신장애']\n",
      "결과를 찾을 수 없습니다. 다시 검색합니다.\n"
     ]
    },
    {
     "name": "stderr",
     "output_type": "stream",
     "text": [
      " 18%|█▊        | 188/1022 [01:13<07:33,  1.84it/s]"
     ]
    },
    {
     "name": "stdout",
     "output_type": "stream",
     "text": [
      "결과를 찾을 수 없습니다. 다시 검색합니다.\n",
      "결과를 찾을 수 없습니다. 다시 검색합니다.\n",
      "['뇌질환, 뇌손상', '기능이상에 의한 인격', '행동장애']\n",
      "결과를 찾을 수 없습니다. 다시 검색합니다.\n",
      "결과를 찾을 수 없습니다. 다시 검색합니다.\n"
     ]
    },
    {
     "name": "stderr",
     "output_type": "stream",
     "text": [
      " 18%|█▊        | 189/1022 [01:14<09:21,  1.48it/s]"
     ]
    },
    {
     "name": "stdout",
     "output_type": "stream",
     "text": [
      "결과를 찾을 수 없습니다. 다시 검색합니다.\n",
      "['알코올사용에 의한 정신', '행동 장애']\n",
      "결과를 찾을 수 없습니다. 다시 검색합니다.\n"
     ]
    },
    {
     "name": "stderr",
     "output_type": "stream",
     "text": [
      " 19%|█▊        | 190/1022 [01:15<09:47,  1.42it/s]"
     ]
    },
    {
     "name": "stdout",
     "output_type": "stream",
     "text": [
      "결과를 찾을 수 없습니다. 다시 검색합니다.\n"
     ]
    },
    {
     "name": "stderr",
     "output_type": "stream",
     "text": [
      " 19%|█▉        | 192/1022 [01:15<06:30,  2.13it/s]"
     ]
    },
    {
     "name": "stdout",
     "output_type": "stream",
     "text": [
      "결과를 찾을 수 없습니다. 다시 검색합니다.\n",
      "결과를 찾을 수 없습니다\n",
      "결과를 찾을 수 없습니다. 다시 검색합니다.\n",
      "['급성', '일과성 정신병장애']\n",
      "급성\n"
     ]
    },
    {
     "name": "stderr",
     "output_type": "stream",
     "text": [
      " 19%|█▉        | 193/1022 [01:16<07:33,  1.83it/s]"
     ]
    },
    {
     "name": "stdout",
     "output_type": "stream",
     "text": [
      "결과를 찾을 수 없습니다. 다시 검색합니다.\n"
     ]
    },
    {
     "name": "stderr",
     "output_type": "stream",
     "text": [
      " 19%|█▉        | 194/1022 [01:16<06:13,  2.22it/s]"
     ]
    },
    {
     "name": "stdout",
     "output_type": "stream",
     "text": [
      "결과를 찾을 수 없습니다. 다시 검색합니다.\n",
      "결과를 찾을 수 없습니다\n"
     ]
    },
    {
     "name": "stderr",
     "output_type": "stream",
     "text": [
      " 19%|█▉        | 195/1022 [01:17<05:19,  2.59it/s]"
     ]
    },
    {
     "name": "stdout",
     "output_type": "stream",
     "text": [
      "결과를 찾을 수 없습니다. 다시 검색합니다.\n",
      "결과를 찾을 수 없습니다\n"
     ]
    },
    {
     "name": "stderr",
     "output_type": "stream",
     "text": [
      " 19%|█▉        | 196/1022 [01:17<04:39,  2.95it/s]"
     ]
    },
    {
     "name": "stdout",
     "output_type": "stream",
     "text": [
      "결과를 찾을 수 없습니다. 다시 검색합니다.\n",
      "결과를 찾을 수 없습니다\n"
     ]
    },
    {
     "name": "stderr",
     "output_type": "stream",
     "text": [
      " 19%|█▉        | 197/1022 [01:17<04:14,  3.24it/s]"
     ]
    },
    {
     "name": "stdout",
     "output_type": "stream",
     "text": [
      "결과를 찾을 수 없습니다. 다시 검색합니다.\n",
      "결과를 찾을 수 없습니다\n"
     ]
    },
    {
     "name": "stderr",
     "output_type": "stream",
     "text": [
      " 19%|█▉        | 198/1022 [01:17<03:57,  3.48it/s]"
     ]
    },
    {
     "name": "stdout",
     "output_type": "stream",
     "text": [
      "결과를 찾을 수 없습니다. 다시 검색합니다.\n",
      "결과를 찾을 수 없습니다\n"
     ]
    },
    {
     "name": "stderr",
     "output_type": "stream",
     "text": [
      " 19%|█▉        | 199/1022 [01:18<04:07,  3.33it/s]"
     ]
    },
    {
     "name": "stdout",
     "output_type": "stream",
     "text": [
      "결과를 찾을 수 없습니다. 다시 검색합니다.\n",
      "결과를 찾을 수 없습니다\n"
     ]
    },
    {
     "name": "stderr",
     "output_type": "stream",
     "text": [
      " 20%|█▉        | 200/1022 [01:18<03:53,  3.51it/s]"
     ]
    },
    {
     "name": "stdout",
     "output_type": "stream",
     "text": [
      "결과를 찾을 수 없습니다. 다시 검색합니다.\n",
      "결과를 찾을 수 없습니다\n"
     ]
    },
    {
     "name": "stderr",
     "output_type": "stream",
     "text": [
      " 20%|█▉        | 201/1022 [01:18<03:41,  3.70it/s]"
     ]
    },
    {
     "name": "stdout",
     "output_type": "stream",
     "text": [
      "결과를 찾을 수 없습니다. 다시 검색합니다.\n",
      "결과를 찾을 수 없습니다\n"
     ]
    },
    {
     "name": "stderr",
     "output_type": "stream",
     "text": [
      " 20%|█▉        | 202/1022 [01:18<03:34,  3.82it/s]"
     ]
    },
    {
     "name": "stdout",
     "output_type": "stream",
     "text": [
      "결과를 찾을 수 없습니다. 다시 검색합니다.\n",
      "결과를 찾을 수 없습니다\n"
     ]
    },
    {
     "name": "stderr",
     "output_type": "stream",
     "text": [
      " 20%|█▉        | 203/1022 [01:19<03:35,  3.80it/s]"
     ]
    },
    {
     "name": "stdout",
     "output_type": "stream",
     "text": [
      "결과를 찾을 수 없습니다. 다시 검색합니다.\n",
      "결과를 찾을 수 없습니다\n"
     ]
    },
    {
     "name": "stderr",
     "output_type": "stream",
     "text": [
      " 20%|█▉        | 204/1022 [01:19<03:36,  3.78it/s]"
     ]
    },
    {
     "name": "stdout",
     "output_type": "stream",
     "text": [
      "결과를 찾을 수 없습니다. 다시 검색합니다.\n",
      "결과를 찾을 수 없습니다\n"
     ]
    },
    {
     "name": "stderr",
     "output_type": "stream",
     "text": [
      " 20%|██        | 205/1022 [01:19<03:44,  3.64it/s]"
     ]
    },
    {
     "name": "stdout",
     "output_type": "stream",
     "text": [
      "결과를 찾을 수 없습니다. 다시 검색합니다.\n",
      "결과를 찾을 수 없습니다\n"
     ]
    },
    {
     "name": "stderr",
     "output_type": "stream",
     "text": [
      " 20%|██        | 206/1022 [01:19<03:39,  3.72it/s]"
     ]
    },
    {
     "name": "stdout",
     "output_type": "stream",
     "text": [
      "결과를 찾을 수 없습니다. 다시 검색합니다.\n",
      "결과를 찾을 수 없습니다\n",
      "결과를 찾을 수 없습니다. 다시 검색합니다.\n",
      "['심한 스트레스에 대한 반응', '적응장애']\n",
      "결과를 찾을 수 없습니다. 다시 검색합니다.\n"
     ]
    },
    {
     "name": "stderr",
     "output_type": "stream",
     "text": [
      " 20%|██        | 207/1022 [01:20<05:39,  2.40it/s]"
     ]
    },
    {
     "name": "stdout",
     "output_type": "stream",
     "text": [
      "결과를 찾을 수 없습니다. 다시 검색합니다.\n"
     ]
    },
    {
     "name": "stderr",
     "output_type": "stream",
     "text": [
      " 20%|██        | 208/1022 [01:20<05:03,  2.68it/s]"
     ]
    },
    {
     "name": "stdout",
     "output_type": "stream",
     "text": [
      "결과를 찾을 수 없습니다. 다시 검색합니다.\n",
      "결과를 찾을 수 없습니다\n"
     ]
    },
    {
     "name": "stderr",
     "output_type": "stream",
     "text": [
      " 20%|██        | 209/1022 [01:21<04:33,  2.97it/s]"
     ]
    },
    {
     "name": "stdout",
     "output_type": "stream",
     "text": [
      "결과를 찾을 수 없습니다. 다시 검색합니다.\n",
      "결과를 찾을 수 없습니다\n"
     ]
    },
    {
     "name": "stderr",
     "output_type": "stream",
     "text": [
      " 21%|██        | 210/1022 [01:21<04:20,  3.12it/s]"
     ]
    },
    {
     "name": "stdout",
     "output_type": "stream",
     "text": [
      "결과를 찾을 수 없습니다. 다시 검색합니다.\n",
      "결과를 찾을 수 없습니다\n"
     ]
    },
    {
     "name": "stderr",
     "output_type": "stream",
     "text": [
      " 21%|██        | 211/1022 [01:21<03:59,  3.38it/s]"
     ]
    },
    {
     "name": "stdout",
     "output_type": "stream",
     "text": [
      "결과를 찾을 수 없습니다. 다시 검색합니다.\n",
      "결과를 찾을 수 없습니다\n"
     ]
    },
    {
     "name": "stderr",
     "output_type": "stream",
     "text": [
      " 21%|██        | 212/1022 [01:22<03:45,  3.59it/s]"
     ]
    },
    {
     "name": "stdout",
     "output_type": "stream",
     "text": [
      "결과를 찾을 수 없습니다. 다시 검색합니다.\n",
      "결과를 찾을 수 없습니다\n",
      "결과를 찾을 수 없습니다. 다시 검색합니다.\n",
      "['달리 분류된 장애나 질환에 연관된 심리적 요인', '행동적 요인']\n",
      "결과를 찾을 수 없습니다. 다시 검색합니다.\n"
     ]
    },
    {
     "name": "stderr",
     "output_type": "stream",
     "text": [
      " 21%|██        | 213/1022 [01:22<05:57,  2.26it/s]"
     ]
    },
    {
     "name": "stdout",
     "output_type": "stream",
     "text": [
      "결과를 찾을 수 없습니다. 다시 검색합니다.\n"
     ]
    },
    {
     "name": "stderr",
     "output_type": "stream",
     "text": [
      " 21%|██        | 214/1022 [01:23<05:11,  2.59it/s]"
     ]
    },
    {
     "name": "stdout",
     "output_type": "stream",
     "text": [
      "결과를 찾을 수 없습니다. 다시 검색합니다.\n",
      "결과를 찾을 수 없습니다\n",
      "결과를 찾을 수 없습니다. 다시 검색합니다.\n",
      "['습관', '충동 장애']\n"
     ]
    },
    {
     "name": "stderr",
     "output_type": "stream",
     "text": [
      " 21%|██        | 216/1022 [01:24<05:44,  2.34it/s]"
     ]
    },
    {
     "name": "stdout",
     "output_type": "stream",
     "text": [
      "결과를 찾을 수 없습니다. 다시 검색합니다.\n",
      "결과를 찾을 수 없습니다\n"
     ]
    },
    {
     "name": "stderr",
     "output_type": "stream",
     "text": [
      " 21%|██        | 217/1022 [01:24<05:02,  2.66it/s]"
     ]
    },
    {
     "name": "stdout",
     "output_type": "stream",
     "text": [
      "결과를 찾을 수 없습니다. 다시 검색합니다.\n",
      "결과를 찾을 수 없습니다\n"
     ]
    },
    {
     "name": "stderr",
     "output_type": "stream",
     "text": [
      " 21%|██▏       | 218/1022 [01:24<04:40,  2.86it/s]"
     ]
    },
    {
     "name": "stdout",
     "output_type": "stream",
     "text": [
      "결과를 찾을 수 없습니다. 다시 검색합니다.\n",
      "결과를 찾을 수 없습니다\n"
     ]
    },
    {
     "name": "stderr",
     "output_type": "stream",
     "text": [
      " 21%|██▏       | 219/1022 [01:24<04:17,  3.12it/s]"
     ]
    },
    {
     "name": "stdout",
     "output_type": "stream",
     "text": [
      "결과를 찾을 수 없습니다. 다시 검색합니다.\n",
      "결과를 찾을 수 없습니다\n"
     ]
    },
    {
     "name": "stderr",
     "output_type": "stream",
     "text": [
      " 22%|██▏       | 220/1022 [01:25<04:03,  3.29it/s]"
     ]
    },
    {
     "name": "stdout",
     "output_type": "stream",
     "text": [
      "결과를 찾을 수 없습니다. 다시 검색합니다.\n",
      "결과를 찾을 수 없습니다\n"
     ]
    },
    {
     "name": "stderr",
     "output_type": "stream",
     "text": [
      " 22%|██▏       | 221/1022 [01:25<03:50,  3.47it/s]"
     ]
    },
    {
     "name": "stdout",
     "output_type": "stream",
     "text": [
      "결과를 찾을 수 없습니다. 다시 검색합니다.\n",
      "결과를 찾을 수 없습니다\n"
     ]
    },
    {
     "name": "stderr",
     "output_type": "stream",
     "text": [
      " 22%|██▏       | 222/1022 [01:25<03:37,  3.68it/s]"
     ]
    },
    {
     "name": "stdout",
     "output_type": "stream",
     "text": [
      "결과를 찾을 수 없습니다. 다시 검색합니다.\n",
      "결과를 찾을 수 없습니다\n"
     ]
    },
    {
     "name": "stderr",
     "output_type": "stream",
     "text": [
      " 22%|██▏       | 223/1022 [01:25<03:50,  3.46it/s]"
     ]
    },
    {
     "name": "stdout",
     "output_type": "stream",
     "text": [
      "결과를 찾을 수 없습니다. 다시 검색합니다.\n",
      "['행동', '정서의 혼합 장애']\n"
     ]
    },
    {
     "name": "stderr",
     "output_type": "stream",
     "text": [
      " 22%|██▏       | 224/1022 [01:26<05:40,  2.34it/s]"
     ]
    },
    {
     "name": "stdout",
     "output_type": "stream",
     "text": [
      "결과를 찾을 수 없습니다. 다시 검색합니다.\n"
     ]
    },
    {
     "name": "stderr",
     "output_type": "stream",
     "text": [
      " 22%|██▏       | 225/1022 [01:26<04:59,  2.66it/s]"
     ]
    },
    {
     "name": "stdout",
     "output_type": "stream",
     "text": [
      "결과를 찾을 수 없습니다. 다시 검색합니다.\n",
      "결과를 찾을 수 없습니다\n",
      "결과를 찾을 수 없습니다. 다시 검색합니다.\n",
      "['소아기', '청소년기에만 발병하는 사회적 기능수행장애']\n",
      "결과를 찾을 수 없습니다. 다시 검색합니다.\n"
     ]
    },
    {
     "name": "stderr",
     "output_type": "stream",
     "text": [
      " 22%|██▏       | 226/1022 [01:27<06:28,  2.05it/s]"
     ]
    },
    {
     "name": "stdout",
     "output_type": "stream",
     "text": [
      "결과를 찾을 수 없습니다. 다시 검색합니다.\n"
     ]
    },
    {
     "name": "stderr",
     "output_type": "stream",
     "text": [
      " 22%|██▏       | 227/1022 [01:28<05:36,  2.37it/s]"
     ]
    },
    {
     "name": "stdout",
     "output_type": "stream",
     "text": [
      "결과를 찾을 수 없습니다. 다시 검색합니다.\n",
      "결과를 찾을 수 없습니다\n",
      "결과를 찾을 수 없습니다. 다시 검색합니다.\n",
      "['소아기', '청소년기에 주로 발병하는 기타 행동', '정서장애']\n",
      "결과를 찾을 수 없습니다. 다시 검색합니다.\n",
      "결과를 찾을 수 없습니다. 다시 검색합니다.\n"
     ]
    },
    {
     "name": "stderr",
     "output_type": "stream",
     "text": [
      " 22%|██▏       | 228/1022 [01:29<07:53,  1.68it/s]"
     ]
    },
    {
     "name": "stdout",
     "output_type": "stream",
     "text": [
      "결과를 찾을 수 없습니다. 다시 검색합니다.\n",
      "결과를 찾을 수 없습니다. 다시 검색합니다.\n",
      "['달리 분류된 질환에서의 뇌염, 척수염', '뇌척수염']\n",
      "결과를 찾을 수 없습니다. 다시 검색합니다.\n"
     ]
    },
    {
     "name": "stderr",
     "output_type": "stream",
     "text": [
      " 22%|██▏       | 229/1022 [01:29<08:34,  1.54it/s]"
     ]
    },
    {
     "name": "stdout",
     "output_type": "stream",
     "text": [
      "결과를 찾을 수 없습니다. 다시 검색합니다.\n",
      "['척수성 근위축', '관련 증후군']\n",
      "결과를 찾을 수 없습니다. 다시 검색합니다.\n"
     ]
    },
    {
     "name": "stderr",
     "output_type": "stream",
     "text": [
      " 23%|██▎       | 230/1022 [01:30<09:29,  1.39it/s]"
     ]
    },
    {
     "name": "stdout",
     "output_type": "stream",
     "text": [
      "결과를 찾을 수 없습니다. 다시 검색합니다.\n"
     ]
    },
    {
     "name": "stderr",
     "output_type": "stream",
     "text": [
      " 23%|██▎       | 233/1022 [01:31<05:31,  2.38it/s]"
     ]
    },
    {
     "name": "stdout",
     "output_type": "stream",
     "text": [
      "결과를 찾을 수 없습니다. 다시 검색합니다.\n",
      "결과를 찾을 수 없습니다\n"
     ]
    },
    {
     "name": "stderr",
     "output_type": "stream",
     "text": [
      " 23%|██▎       | 234/1022 [01:31<04:49,  2.72it/s]"
     ]
    },
    {
     "name": "stdout",
     "output_type": "stream",
     "text": [
      "결과를 찾을 수 없습니다. 다시 검색합니다.\n",
      "결과를 찾을 수 없습니다\n"
     ]
    },
    {
     "name": "stderr",
     "output_type": "stream",
     "text": [
      " 23%|██▎       | 235/1022 [01:31<04:22,  3.00it/s]"
     ]
    },
    {
     "name": "stdout",
     "output_type": "stream",
     "text": [
      "결과를 찾을 수 없습니다. 다시 검색합니다.\n",
      "['기타 추체외로', '운동 장애']\n",
      "결과를 찾을 수 없습니다. 다시 검색합니다.\n"
     ]
    },
    {
     "name": "stderr",
     "output_type": "stream",
     "text": [
      " 23%|██▎       | 238/1022 [01:33<04:35,  2.84it/s]"
     ]
    },
    {
     "name": "stdout",
     "output_type": "stream",
     "text": [
      "결과를 찾을 수 없습니다. 다시 검색합니다.\n",
      "결과를 찾을 수 없습니다\n"
     ]
    },
    {
     "name": "stderr",
     "output_type": "stream",
     "text": [
      " 23%|██▎       | 240/1022 [01:33<04:16,  3.05it/s]"
     ]
    },
    {
     "name": "stdout",
     "output_type": "stream",
     "text": [
      "결과를 찾을 수 없습니다. 다시 검색합니다.\n",
      "결과를 찾을 수 없습니다\n"
     ]
    },
    {
     "name": "stderr",
     "output_type": "stream",
     "text": [
      " 24%|██▎       | 242/1022 [01:34<03:48,  3.42it/s]"
     ]
    },
    {
     "name": "stdout",
     "output_type": "stream",
     "text": [
      "결과를 찾을 수 없습니다. 다시 검색합니다.\n",
      "결과를 찾을 수 없습니다\n",
      "결과를 찾을 수 없습니다. 다시 검색합니다.\n",
      "['일과성 뇌허혈발작', '관련 증후군']\n",
      "결과를 찾을 수 없습니다. 다시 검색합니다.\n"
     ]
    },
    {
     "name": "stderr",
     "output_type": "stream",
     "text": [
      " 24%|██▍       | 243/1022 [01:35<05:37,  2.31it/s]"
     ]
    },
    {
     "name": "stdout",
     "output_type": "stream",
     "text": [
      "결과를 찾을 수 없습니다. 다시 검색합니다.\n"
     ]
    },
    {
     "name": "stderr",
     "output_type": "stream",
     "text": [
      " 24%|██▍       | 244/1022 [01:35<04:56,  2.62it/s]"
     ]
    },
    {
     "name": "stdout",
     "output_type": "stream",
     "text": [
      "결과를 찾을 수 없습니다. 다시 검색합니다.\n",
      "결과를 찾을 수 없습니다\n"
     ]
    },
    {
     "name": "stderr",
     "output_type": "stream",
     "text": [
      " 24%|██▍       | 245/1022 [01:35<04:24,  2.94it/s]"
     ]
    },
    {
     "name": "stdout",
     "output_type": "stream",
     "text": [
      "결과를 찾을 수 없습니다. 다시 검색합니다.\n",
      "결과를 찾을 수 없습니다\n"
     ]
    },
    {
     "name": "stderr",
     "output_type": "stream",
     "text": [
      " 24%|██▍       | 246/1022 [01:35<04:01,  3.21it/s]"
     ]
    },
    {
     "name": "stdout",
     "output_type": "stream",
     "text": [
      "결과를 찾을 수 없습니다. 다시 검색합니다.\n",
      "결과를 찾을 수 없습니다\n"
     ]
    },
    {
     "name": "stderr",
     "output_type": "stream",
     "text": [
      " 24%|██▍       | 247/1022 [01:36<03:55,  3.29it/s]"
     ]
    },
    {
     "name": "stdout",
     "output_type": "stream",
     "text": [
      "결과를 찾을 수 없습니다. 다시 검색합니다.\n",
      "결과를 찾을 수 없습니다\n"
     ]
    },
    {
     "name": "stderr",
     "output_type": "stream",
     "text": [
      " 24%|██▍       | 248/1022 [01:36<03:41,  3.49it/s]"
     ]
    },
    {
     "name": "stdout",
     "output_type": "stream",
     "text": [
      "결과를 찾을 수 없습니다. 다시 검색합니다.\n",
      "결과를 찾을 수 없습니다\n"
     ]
    },
    {
     "name": "stderr",
     "output_type": "stream",
     "text": [
      " 24%|██▍       | 249/1022 [01:36<03:35,  3.59it/s]"
     ]
    },
    {
     "name": "stdout",
     "output_type": "stream",
     "text": [
      "결과를 찾을 수 없습니다. 다시 검색합니다.\n",
      "결과를 찾을 수 없습니다\n",
      "결과를 찾을 수 없습니다. 다시 검색합니다.\n",
      "['신경근', '신경총 장애']\n"
     ]
    },
    {
     "name": "stderr",
     "output_type": "stream",
     "text": [
      " 24%|██▍       | 250/1022 [01:37<05:35,  2.30it/s]"
     ]
    },
    {
     "name": "stdout",
     "output_type": "stream",
     "text": [
      "결과를 찾을 수 없습니다. 다시 검색합니다.\n",
      "결과를 찾을 수 없습니다. 다시 검색합니다.\n",
      "['달리 분류된 질환에서의 신경근', '신경총 압박']\n",
      "결과를 찾을 수 없습니다. 다시 검색합니다.\n"
     ]
    },
    {
     "name": "stderr",
     "output_type": "stream",
     "text": [
      " 25%|██▍       | 251/1022 [01:38<06:40,  1.93it/s]"
     ]
    },
    {
     "name": "stdout",
     "output_type": "stream",
     "text": [
      "결과를 찾을 수 없습니다. 다시 검색합니다.\n"
     ]
    },
    {
     "name": "stderr",
     "output_type": "stream",
     "text": [
      " 25%|██▍       | 252/1022 [01:38<05:36,  2.29it/s]"
     ]
    },
    {
     "name": "stdout",
     "output_type": "stream",
     "text": [
      "결과를 찾을 수 없습니다. 다시 검색합니다.\n",
      "결과를 찾을 수 없습니다\n"
     ]
    },
    {
     "name": "stderr",
     "output_type": "stream",
     "text": [
      " 25%|██▍       | 253/1022 [01:38<04:51,  2.64it/s]"
     ]
    },
    {
     "name": "stdout",
     "output_type": "stream",
     "text": [
      "결과를 찾을 수 없습니다. 다시 검색합니다.\n",
      "결과를 찾을 수 없습니다\n"
     ]
    },
    {
     "name": "stderr",
     "output_type": "stream",
     "text": [
      " 25%|██▍       | 254/1022 [01:38<04:21,  2.94it/s]"
     ]
    },
    {
     "name": "stdout",
     "output_type": "stream",
     "text": [
      "결과를 찾을 수 없습니다. 다시 검색합니다.\n",
      "결과를 찾을 수 없습니다\n"
     ]
    },
    {
     "name": "stderr",
     "output_type": "stream",
     "text": [
      " 25%|██▍       | 255/1022 [01:39<03:55,  3.26it/s]"
     ]
    },
    {
     "name": "stdout",
     "output_type": "stream",
     "text": [
      "결과를 찾을 수 없습니다. 다시 검색합니다.\n",
      "결과를 찾을 수 없습니다\n"
     ]
    },
    {
     "name": "stderr",
     "output_type": "stream",
     "text": [
      " 25%|██▌       | 256/1022 [01:39<03:39,  3.49it/s]"
     ]
    },
    {
     "name": "stdout",
     "output_type": "stream",
     "text": [
      "결과를 찾을 수 없습니다. 다시 검색합니다.\n",
      "결과를 찾을 수 없습니다\n"
     ]
    },
    {
     "name": "stderr",
     "output_type": "stream",
     "text": [
      " 25%|██▌       | 257/1022 [01:39<03:29,  3.64it/s]"
     ]
    },
    {
     "name": "stdout",
     "output_type": "stream",
     "text": [
      "결과를 찾을 수 없습니다. 다시 검색합니다.\n",
      "결과를 찾을 수 없습니다\n"
     ]
    },
    {
     "name": "stderr",
     "output_type": "stream",
     "text": [
      " 25%|██▌       | 258/1022 [01:39<03:23,  3.75it/s]"
     ]
    },
    {
     "name": "stdout",
     "output_type": "stream",
     "text": [
      "결과를 찾을 수 없습니다. 다시 검색합니다.\n",
      "결과를 찾을 수 없습니다\n"
     ]
    },
    {
     "name": "stderr",
     "output_type": "stream",
     "text": [
      " 25%|██▌       | 259/1022 [01:40<03:22,  3.77it/s]"
     ]
    },
    {
     "name": "stdout",
     "output_type": "stream",
     "text": [
      "결과를 찾을 수 없습니다. 다시 검색합니다.\n",
      "결과를 찾을 수 없습니다\n",
      "결과를 찾을 수 없습니다. 다시 검색합니다.\n",
      "['중증근무력증', '기타 근신경장애']\n",
      "결과를 찾을 수 없습니다. 다시 검색합니다.\n"
     ]
    },
    {
     "name": "stderr",
     "output_type": "stream",
     "text": [
      " 25%|██▌       | 260/1022 [01:40<05:16,  2.41it/s]"
     ]
    },
    {
     "name": "stdout",
     "output_type": "stream",
     "text": [
      "결과를 찾을 수 없습니다. 다시 검색합니다.\n"
     ]
    },
    {
     "name": "stderr",
     "output_type": "stream",
     "text": [
      " 26%|██▌       | 261/1022 [01:41<04:45,  2.67it/s]"
     ]
    },
    {
     "name": "stdout",
     "output_type": "stream",
     "text": [
      "결과를 찾을 수 없습니다. 다시 검색합니다.\n",
      "결과를 찾을 수 없습니다\n"
     ]
    },
    {
     "name": "stderr",
     "output_type": "stream",
     "text": [
      " 26%|██▌       | 262/1022 [01:41<04:40,  2.71it/s]"
     ]
    },
    {
     "name": "stdout",
     "output_type": "stream",
     "text": [
      "결과를 찾을 수 없습니다. 다시 검색합니다.\n",
      "결과를 찾을 수 없습니다\n"
     ]
    },
    {
     "name": "stderr",
     "output_type": "stream",
     "text": [
      " 26%|██▌       | 263/1022 [01:41<04:12,  3.01it/s]"
     ]
    },
    {
     "name": "stdout",
     "output_type": "stream",
     "text": [
      "결과를 찾을 수 없습니다. 다시 검색합니다.\n",
      "결과를 찾을 수 없습니다\n",
      "결과를 찾을 수 없습니다. 다시 검색합니다.\n",
      "['하반신마비', '사지마비']\n",
      "결과를 찾을 수 없습니다. 다시 검색합니다.\n"
     ]
    },
    {
     "name": "stderr",
     "output_type": "stream",
     "text": [
      " 26%|██▌       | 264/1022 [01:42<05:51,  2.15it/s]"
     ]
    },
    {
     "name": "stdout",
     "output_type": "stream",
     "text": [
      "결과를 찾을 수 없습니다. 다시 검색합니다.\n"
     ]
    },
    {
     "name": "stderr",
     "output_type": "stream",
     "text": [
      " 26%|██▌       | 265/1022 [01:42<05:00,  2.52it/s]"
     ]
    },
    {
     "name": "stdout",
     "output_type": "stream",
     "text": [
      "결과를 찾을 수 없습니다. 다시 검색합니다.\n",
      "결과를 찾을 수 없습니다\n"
     ]
    },
    {
     "name": "stderr",
     "output_type": "stream",
     "text": [
      " 26%|██▌       | 266/1022 [01:42<04:26,  2.84it/s]"
     ]
    },
    {
     "name": "stdout",
     "output_type": "stream",
     "text": [
      "결과를 찾을 수 없습니다. 다시 검색합니다.\n",
      "결과를 찾을 수 없습니다\n"
     ]
    },
    {
     "name": "stderr",
     "output_type": "stream",
     "text": [
      " 26%|██▌       | 268/1022 [01:43<03:47,  3.32it/s]"
     ]
    },
    {
     "name": "stdout",
     "output_type": "stream",
     "text": [
      "결과를 찾을 수 없습니다. 다시 검색합니다.\n",
      "결과를 찾을 수 없습니다\n"
     ]
    },
    {
     "name": "stderr",
     "output_type": "stream",
     "text": [
      " 26%|██▋       | 269/1022 [01:43<03:33,  3.52it/s]"
     ]
    },
    {
     "name": "stdout",
     "output_type": "stream",
     "text": [
      "결과를 찾을 수 없습니다. 다시 검색합니다.\n",
      "결과를 찾을 수 없습니다\n"
     ]
    },
    {
     "name": "stderr",
     "output_type": "stream",
     "text": [
      " 26%|██▋       | 270/1022 [01:43<03:27,  3.62it/s]"
     ]
    },
    {
     "name": "stdout",
     "output_type": "stream",
     "text": [
      "결과를 찾을 수 없습니다. 다시 검색합니다.\n",
      "결과를 찾을 수 없습니다\n"
     ]
    },
    {
     "name": "stderr",
     "output_type": "stream",
     "text": [
      " 27%|██▋       | 271/1022 [01:44<03:22,  3.71it/s]"
     ]
    },
    {
     "name": "stdout",
     "output_type": "stream",
     "text": [
      "결과를 찾을 수 없습니다. 다시 검색합니다.\n",
      "결과를 찾을 수 없습니다\n"
     ]
    },
    {
     "name": "stderr",
     "output_type": "stream",
     "text": [
      " 27%|██▋       | 272/1022 [01:44<03:27,  3.62it/s]"
     ]
    },
    {
     "name": "stdout",
     "output_type": "stream",
     "text": [
      "결과를 찾을 수 없습니다. 다시 검색합니다.\n",
      "결과를 찾을 수 없습니다\n",
      "결과를 찾을 수 없습니다. 다시 검색합니다.\n",
      "['맥립종', '콩다래끼']\n"
     ]
    },
    {
     "name": "stderr",
     "output_type": "stream",
     "text": [
      " 27%|██▋       | 273/1022 [01:45<05:18,  2.35it/s]"
     ]
    },
    {
     "name": "stdout",
     "output_type": "stream",
     "text": [
      "결과를 찾을 수 없습니다. 다시 검색합니다.\n"
     ]
    },
    {
     "name": "stderr",
     "output_type": "stream",
     "text": [
      " 27%|██▋       | 274/1022 [01:45<04:38,  2.69it/s]"
     ]
    },
    {
     "name": "stdout",
     "output_type": "stream",
     "text": [
      "결과를 찾을 수 없습니다. 다시 검색합니다.\n",
      "결과를 찾을 수 없습니다\n"
     ]
    },
    {
     "name": "stderr",
     "output_type": "stream",
     "text": [
      " 27%|██▋       | 275/1022 [01:45<04:13,  2.95it/s]"
     ]
    },
    {
     "name": "stdout",
     "output_type": "stream",
     "text": [
      "결과를 찾을 수 없습니다. 다시 검색합니다.\n",
      "결과를 찾을 수 없습니다\n"
     ]
    },
    {
     "name": "stderr",
     "output_type": "stream",
     "text": [
      " 27%|██▋       | 276/1022 [01:46<03:50,  3.23it/s]"
     ]
    },
    {
     "name": "stdout",
     "output_type": "stream",
     "text": [
      "결과를 찾을 수 없습니다. 다시 검색합니다.\n",
      "결과를 찾을 수 없습니다\n"
     ]
    },
    {
     "name": "stderr",
     "output_type": "stream",
     "text": [
      " 27%|██▋       | 277/1022 [01:46<03:36,  3.44it/s]"
     ]
    },
    {
     "name": "stdout",
     "output_type": "stream",
     "text": [
      "결과를 찾을 수 없습니다. 다시 검색합니다.\n",
      "결과를 찾을 수 없습니다\n"
     ]
    },
    {
     "name": "stderr",
     "output_type": "stream",
     "text": [
      " 27%|██▋       | 278/1022 [01:46<03:27,  3.58it/s]"
     ]
    },
    {
     "name": "stdout",
     "output_type": "stream",
     "text": [
      "결과를 찾을 수 없습니다. 다시 검색합니다.\n",
      "결과를 찾을 수 없습니다\n",
      "결과를 찾을 수 없습니다. 다시 검색합니다.\n",
      "['달리 분류된 질환에서의 눈물계통', '안와의 장애']\n",
      "결과를 찾을 수 없습니다. 다시 검색합니다.\n"
     ]
    },
    {
     "name": "stderr",
     "output_type": "stream",
     "text": [
      " 27%|██▋       | 279/1022 [01:47<05:07,  2.41it/s]"
     ]
    },
    {
     "name": "stdout",
     "output_type": "stream",
     "text": [
      "결과를 찾을 수 없습니다. 다시 검색합니다.\n"
     ]
    },
    {
     "name": "stderr",
     "output_type": "stream",
     "text": [
      " 27%|██▋       | 281/1022 [01:47<04:09,  2.96it/s]"
     ]
    },
    {
     "name": "stdout",
     "output_type": "stream",
     "text": [
      "결과를 찾을 수 없습니다. 다시 검색합니다.\n",
      "결과를 찾을 수 없습니다\n"
     ]
    },
    {
     "name": "stderr",
     "output_type": "stream",
     "text": [
      " 28%|██▊       | 282/1022 [01:48<03:53,  3.17it/s]"
     ]
    },
    {
     "name": "stdout",
     "output_type": "stream",
     "text": [
      "결과를 찾을 수 없습니다. 다시 검색합니다.\n",
      "결과를 찾을 수 없습니다\n"
     ]
    },
    {
     "name": "stderr",
     "output_type": "stream",
     "text": [
      " 28%|██▊       | 283/1022 [01:48<03:37,  3.40it/s]"
     ]
    },
    {
     "name": "stdout",
     "output_type": "stream",
     "text": [
      "결과를 찾을 수 없습니다. 다시 검색합니다.\n",
      "결과를 찾을 수 없습니다\n"
     ]
    },
    {
     "name": "stderr",
     "output_type": "stream",
     "text": [
      " 28%|██▊       | 284/1022 [01:48<03:31,  3.50it/s]"
     ]
    },
    {
     "name": "stdout",
     "output_type": "stream",
     "text": [
      "결과를 찾을 수 없습니다. 다시 검색합니다.\n",
      "['각막 흉터', '혼탁']\n",
      "결과를 찾을 수 없습니다. 다시 검색합니다.\n"
     ]
    },
    {
     "name": "stderr",
     "output_type": "stream",
     "text": [
      " 28%|██▊       | 286/1022 [01:49<04:55,  2.49it/s]"
     ]
    },
    {
     "name": "stdout",
     "output_type": "stream",
     "text": [
      "결과를 찾을 수 없습니다. 다시 검색합니다.\n",
      "결과를 찾을 수 없습니다\n",
      "결과를 찾을 수 없습니다. 다시 검색합니다.\n",
      "['달리 분류된 질환에서의 공막', '각막의 장애']\n",
      "결과를 찾을 수 없습니다. 다시 검색합니다.\n"
     ]
    },
    {
     "name": "stderr",
     "output_type": "stream",
     "text": [
      " 28%|██▊       | 287/1022 [01:50<06:20,  1.93it/s]"
     ]
    },
    {
     "name": "stdout",
     "output_type": "stream",
     "text": [
      "결과를 찾을 수 없습니다. 다시 검색합니다.\n"
     ]
    },
    {
     "name": "stderr",
     "output_type": "stream",
     "text": [
      " 28%|██▊       | 288/1022 [01:50<05:23,  2.27it/s]"
     ]
    },
    {
     "name": "stdout",
     "output_type": "stream",
     "text": [
      "결과를 찾을 수 없습니다. 다시 검색합니다.\n",
      "결과를 찾을 수 없습니다\n",
      "결과를 찾을 수 없습니다. 다시 검색합니다.\n",
      "['홍채', '섬모체의 기타 장애']\n"
     ]
    },
    {
     "name": "stderr",
     "output_type": "stream",
     "text": [
      " 28%|██▊       | 289/1022 [01:51<06:42,  1.82it/s]"
     ]
    },
    {
     "name": "stdout",
     "output_type": "stream",
     "text": [
      "결과를 찾을 수 없습니다. 다시 검색합니다.\n"
     ]
    },
    {
     "name": "stderr",
     "output_type": "stream",
     "text": [
      " 28%|██▊       | 290/1022 [01:51<05:36,  2.17it/s]"
     ]
    },
    {
     "name": "stdout",
     "output_type": "stream",
     "text": [
      "결과를 찾을 수 없습니다. 다시 검색합니다.\n",
      "결과를 찾을 수 없습니다\n"
     ]
    },
    {
     "name": "stderr",
     "output_type": "stream",
     "text": [
      " 28%|██▊       | 291/1022 [01:52<04:52,  2.50it/s]"
     ]
    },
    {
     "name": "stdout",
     "output_type": "stream",
     "text": [
      "결과를 찾을 수 없습니다. 다시 검색합니다.\n",
      "결과를 찾을 수 없습니다\n"
     ]
    },
    {
     "name": "stderr",
     "output_type": "stream",
     "text": [
      " 29%|██▊       | 292/1022 [01:52<04:22,  2.78it/s]"
     ]
    },
    {
     "name": "stdout",
     "output_type": "stream",
     "text": [
      "결과를 찾을 수 없습니다. 다시 검색합니다.\n",
      "결과를 찾을 수 없습니다\n"
     ]
    },
    {
     "name": "stderr",
     "output_type": "stream",
     "text": [
      " 29%|██▊       | 293/1022 [01:52<03:59,  3.04it/s]"
     ]
    },
    {
     "name": "stdout",
     "output_type": "stream",
     "text": [
      "결과를 찾을 수 없습니다. 다시 검색합니다.\n",
      "결과를 찾을 수 없습니다\n"
     ]
    },
    {
     "name": "stderr",
     "output_type": "stream",
     "text": [
      " 29%|██▉       | 294/1022 [01:52<03:42,  3.28it/s]"
     ]
    },
    {
     "name": "stdout",
     "output_type": "stream",
     "text": [
      "결과를 찾을 수 없습니다. 다시 검색합니다.\n",
      "결과를 찾을 수 없습니다\n",
      "결과를 찾을 수 없습니다. 다시 검색합니다.\n",
      "['망막박리', '망막열공']\n"
     ]
    },
    {
     "name": "stderr",
     "output_type": "stream",
     "text": [
      " 29%|██▉       | 295/1022 [01:53<05:34,  2.17it/s]"
     ]
    },
    {
     "name": "stdout",
     "output_type": "stream",
     "text": [
      "결과를 찾을 수 없습니다. 다시 검색합니다.\n"
     ]
    },
    {
     "name": "stderr",
     "output_type": "stream",
     "text": [
      " 29%|██▉       | 296/1022 [01:53<04:47,  2.52it/s]"
     ]
    },
    {
     "name": "stdout",
     "output_type": "stream",
     "text": [
      "결과를 찾을 수 없습니다. 다시 검색합니다.\n",
      "결과를 찾을 수 없습니다\n"
     ]
    },
    {
     "name": "stderr",
     "output_type": "stream",
     "text": [
      " 29%|██▉       | 297/1022 [01:54<04:13,  2.85it/s]"
     ]
    },
    {
     "name": "stdout",
     "output_type": "stream",
     "text": [
      "결과를 찾을 수 없습니다. 다시 검색합니다.\n",
      "결과를 찾을 수 없습니다\n"
     ]
    },
    {
     "name": "stderr",
     "output_type": "stream",
     "text": [
      " 29%|██▉       | 298/1022 [01:54<03:58,  3.04it/s]"
     ]
    },
    {
     "name": "stdout",
     "output_type": "stream",
     "text": [
      "결과를 찾을 수 없습니다. 다시 검색합니다.\n",
      "결과를 찾을 수 없습니다\n"
     ]
    },
    {
     "name": "stderr",
     "output_type": "stream",
     "text": [
      " 29%|██▉       | 300/1022 [01:54<03:33,  3.38it/s]"
     ]
    },
    {
     "name": "stdout",
     "output_type": "stream",
     "text": [
      "결과를 찾을 수 없습니다. 다시 검색합니다.\n",
      "결과를 찾을 수 없습니다\n"
     ]
    },
    {
     "name": "stderr",
     "output_type": "stream",
     "text": [
      " 29%|██▉       | 301/1022 [01:55<03:23,  3.54it/s]"
     ]
    },
    {
     "name": "stdout",
     "output_type": "stream",
     "text": [
      "결과를 찾을 수 없습니다. 다시 검색합니다.\n",
      "결과를 찾을 수 없습니다\n"
     ]
    },
    {
     "name": "stderr",
     "output_type": "stream",
     "text": [
      " 30%|██▉       | 302/1022 [01:55<03:15,  3.69it/s]"
     ]
    },
    {
     "name": "stdout",
     "output_type": "stream",
     "text": [
      "결과를 찾을 수 없습니다. 다시 검색합니다.\n",
      "결과를 찾을 수 없습니다\n"
     ]
    },
    {
     "name": "stderr",
     "output_type": "stream",
     "text": [
      " 30%|██▉       | 303/1022 [01:55<03:11,  3.76it/s]"
     ]
    },
    {
     "name": "stdout",
     "output_type": "stream",
     "text": [
      "결과를 찾을 수 없습니다. 다시 검색합니다.\n",
      "['시[제2]신경', '시각경로의 기타 장애']\n",
      "결과를 찾을 수 없습니다. 다시 검색합니다.\n"
     ]
    },
    {
     "name": "stderr",
     "output_type": "stream",
     "text": [
      " 30%|██▉       | 304/1022 [01:56<05:00,  2.39it/s]"
     ]
    },
    {
     "name": "stdout",
     "output_type": "stream",
     "text": [
      "결과를 찾을 수 없습니다. 다시 검색합니다.\n",
      "결과를 찾을 수 없습니다. 다시 검색합니다.\n",
      "['달리 분류된 질환에서의 시[제2]신경', '시각경로의 장애']\n",
      "결과를 찾을 수 없습니다. 다시 검색합니다.\n"
     ]
    },
    {
     "name": "stderr",
     "output_type": "stream",
     "text": [
      " 30%|██▉       | 305/1022 [01:57<06:12,  1.93it/s]"
     ]
    },
    {
     "name": "stdout",
     "output_type": "stream",
     "text": [
      "결과를 찾을 수 없습니다. 다시 검색합니다.\n"
     ]
    },
    {
     "name": "stderr",
     "output_type": "stream",
     "text": [
      " 30%|██▉       | 306/1022 [01:57<05:34,  2.14it/s]"
     ]
    },
    {
     "name": "stdout",
     "output_type": "stream",
     "text": [
      "결과를 찾을 수 없습니다. 다시 검색합니다.\n",
      "결과를 찾을 수 없습니다\n"
     ]
    },
    {
     "name": "stderr",
     "output_type": "stream",
     "text": [
      " 30%|███       | 307/1022 [01:57<04:45,  2.51it/s]"
     ]
    },
    {
     "name": "stdout",
     "output_type": "stream",
     "text": [
      "결과를 찾을 수 없습니다. 다시 검색합니다.\n",
      "결과를 찾을 수 없습니다\n"
     ]
    },
    {
     "name": "stderr",
     "output_type": "stream",
     "text": [
      " 30%|███       | 308/1022 [01:58<04:13,  2.82it/s]"
     ]
    },
    {
     "name": "stdout",
     "output_type": "stream",
     "text": [
      "결과를 찾을 수 없습니다. 다시 검색합니다.\n",
      "결과를 찾을 수 없습니다\n",
      "결과를 찾을 수 없습니다. 다시 검색합니다.\n",
      "['굴절', '조절의 장애']\n",
      "결과를 찾을 수 없습니다. 다시 검색합니다.\n"
     ]
    },
    {
     "name": "stderr",
     "output_type": "stream",
     "text": [
      " 30%|███       | 309/1022 [01:58<05:36,  2.12it/s]"
     ]
    },
    {
     "name": "stdout",
     "output_type": "stream",
     "text": [
      "결과를 찾을 수 없습니다. 다시 검색합니다.\n"
     ]
    },
    {
     "name": "stderr",
     "output_type": "stream",
     "text": [
      " 30%|███       | 310/1022 [01:59<04:46,  2.49it/s]"
     ]
    },
    {
     "name": "stdout",
     "output_type": "stream",
     "text": [
      "결과를 찾을 수 없습니다. 다시 검색합니다.\n",
      "결과를 찾을 수 없습니다\n"
     ]
    },
    {
     "name": "stderr",
     "output_type": "stream",
     "text": [
      " 30%|███       | 311/1022 [01:59<04:14,  2.79it/s]"
     ]
    },
    {
     "name": "stdout",
     "output_type": "stream",
     "text": [
      "결과를 찾을 수 없습니다. 다시 검색합니다.\n",
      "결과를 찾을 수 없습니다\n",
      "결과를 찾을 수 없습니다. 다시 검색합니다.\n",
      "['안진', '기타 불규칙적 눈운동']\n",
      "결과를 찾을 수 없습니다. 다시 검색합니다.\n"
     ]
    },
    {
     "name": "stderr",
     "output_type": "stream",
     "text": [
      " 31%|███       | 312/1022 [02:00<05:47,  2.05it/s]"
     ]
    },
    {
     "name": "stdout",
     "output_type": "stream",
     "text": [
      "결과를 찾을 수 없습니다. 다시 검색합니다.\n",
      "결과를 찾을 수 없습니다. 다시 검색합니다.\n",
      "['눈', '눈부속기의 기타 장애']\n"
     ]
    },
    {
     "name": "stderr",
     "output_type": "stream",
     "text": [
      " 31%|███       | 313/1022 [02:00<06:48,  1.73it/s]"
     ]
    },
    {
     "name": "stdout",
     "output_type": "stream",
     "text": [
      "결과를 찾을 수 없습니다. 다시 검색합니다.\n",
      "결과를 찾을 수 없습니다. 다시 검색합니다.\n",
      "['달리 분류되지 않은 눈', '눈부속기의 처치후 장애']\n",
      "결과를 찾을 수 없습니다. 다시 검색합니다.\n"
     ]
    },
    {
     "name": "stderr",
     "output_type": "stream",
     "text": [
      " 31%|███       | 314/1022 [02:01<07:44,  1.52it/s]"
     ]
    },
    {
     "name": "stdout",
     "output_type": "stream",
     "text": [
      "결과를 찾을 수 없습니다. 다시 검색합니다.\n"
     ]
    },
    {
     "name": "stderr",
     "output_type": "stream",
     "text": [
      " 31%|███       | 315/1022 [02:01<06:16,  1.88it/s]"
     ]
    },
    {
     "name": "stdout",
     "output_type": "stream",
     "text": [
      "결과를 찾을 수 없습니다. 다시 검색합니다.\n",
      "결과를 찾을 수 없습니다\n"
     ]
    },
    {
     "name": "stderr",
     "output_type": "stream",
     "text": [
      " 31%|███       | 316/1022 [02:02<05:24,  2.18it/s]"
     ]
    },
    {
     "name": "stdout",
     "output_type": "stream",
     "text": [
      "결과를 찾을 수 없습니다. 다시 검색합니다.\n",
      "결과를 찾을 수 없습니다\n"
     ]
    },
    {
     "name": "stderr",
     "output_type": "stream",
     "text": [
      " 31%|███       | 317/1022 [02:02<04:42,  2.49it/s]"
     ]
    },
    {
     "name": "stdout",
     "output_type": "stream",
     "text": [
      "결과를 찾을 수 없습니다. 다시 검색합니다.\n",
      "결과를 찾을 수 없습니다\n"
     ]
    },
    {
     "name": "stderr",
     "output_type": "stream",
     "text": [
      " 31%|███       | 318/1022 [02:02<04:11,  2.80it/s]"
     ]
    },
    {
     "name": "stdout",
     "output_type": "stream",
     "text": [
      "결과를 찾을 수 없습니다. 다시 검색합니다.\n",
      "결과를 찾을 수 없습니다\n",
      "결과를 찾을 수 없습니다. 다시 검색합니다.\n",
      "['화농성', '상세불명의 중이염']\n"
     ]
    },
    {
     "name": "stderr",
     "output_type": "stream",
     "text": [
      " 31%|███       | 319/1022 [02:03<05:36,  2.09it/s]"
     ]
    },
    {
     "name": "stdout",
     "output_type": "stream",
     "text": [
      "결과를 찾을 수 없습니다. 다시 검색합니다.\n"
     ]
    },
    {
     "name": "stderr",
     "output_type": "stream",
     "text": [
      " 31%|███▏      | 320/1022 [02:03<04:53,  2.39it/s]"
     ]
    },
    {
     "name": "stdout",
     "output_type": "stream",
     "text": [
      "결과를 찾을 수 없습니다. 다시 검색합니다.\n",
      "결과를 찾을 수 없습니다\n",
      "결과를 찾을 수 없습니다. 다시 검색합니다.\n",
      "['귀인두관염', '귀인두관 폐색']\n",
      "결과를 찾을 수 없습니다. 다시 검색합니다.\n"
     ]
    },
    {
     "name": "stderr",
     "output_type": "stream",
     "text": [
      " 31%|███▏      | 321/1022 [02:04<06:10,  1.89it/s]"
     ]
    },
    {
     "name": "stdout",
     "output_type": "stream",
     "text": [
      "결과를 찾을 수 없습니다. 다시 검색합니다.\n"
     ]
    },
    {
     "name": "stderr",
     "output_type": "stream",
     "text": [
      " 32%|███▏      | 322/1022 [02:04<05:25,  2.15it/s]"
     ]
    },
    {
     "name": "stdout",
     "output_type": "stream",
     "text": [
      "결과를 찾을 수 없습니다. 다시 검색합니다.\n",
      "결과를 찾을 수 없습니다\n"
     ]
    },
    {
     "name": "stderr",
     "output_type": "stream",
     "text": [
      " 32%|███▏      | 323/1022 [02:05<04:38,  2.51it/s]"
     ]
    },
    {
     "name": "stdout",
     "output_type": "stream",
     "text": [
      "결과를 찾을 수 없습니다. 다시 검색합니다.\n",
      "결과를 찾을 수 없습니다\n"
     ]
    },
    {
     "name": "stderr",
     "output_type": "stream",
     "text": [
      " 32%|███▏      | 324/1022 [02:05<04:04,  2.85it/s]"
     ]
    },
    {
     "name": "stdout",
     "output_type": "stream",
     "text": [
      "결과를 찾을 수 없습니다. 다시 검색합니다.\n",
      "결과를 찾을 수 없습니다\n"
     ]
    },
    {
     "name": "stderr",
     "output_type": "stream",
     "text": [
      " 32%|███▏      | 325/1022 [02:05<03:48,  3.05it/s]"
     ]
    },
    {
     "name": "stdout",
     "output_type": "stream",
     "text": [
      "결과를 찾을 수 없습니다. 다시 검색합니다.\n",
      "결과를 찾을 수 없습니다\n",
      "결과를 찾을 수 없습니다. 다시 검색합니다.\n",
      "['중이', '유돌의 기타 장애']\n"
     ]
    },
    {
     "name": "stderr",
     "output_type": "stream",
     "text": [
      " 32%|███▏      | 326/1022 [02:06<05:24,  2.15it/s]"
     ]
    },
    {
     "name": "stdout",
     "output_type": "stream",
     "text": [
      "결과를 찾을 수 없습니다. 다시 검색합니다.\n"
     ]
    },
    {
     "name": "stderr",
     "output_type": "stream",
     "text": [
      " 32%|███▏      | 327/1022 [02:06<04:34,  2.53it/s]"
     ]
    },
    {
     "name": "stdout",
     "output_type": "stream",
     "text": [
      "결과를 찾을 수 없습니다. 다시 검색합니다.\n",
      "결과를 찾을 수 없습니다\n"
     ]
    },
    {
     "name": "stderr",
     "output_type": "stream",
     "text": [
      " 32%|███▏      | 328/1022 [02:06<04:02,  2.86it/s]"
     ]
    },
    {
     "name": "stdout",
     "output_type": "stream",
     "text": [
      "결과를 찾을 수 없습니다. 다시 검색합니다.\n",
      "결과를 찾을 수 없습니다\n"
     ]
    },
    {
     "name": "stderr",
     "output_type": "stream",
     "text": [
      " 32%|███▏      | 329/1022 [02:07<03:39,  3.16it/s]"
     ]
    },
    {
     "name": "stdout",
     "output_type": "stream",
     "text": [
      "결과를 찾을 수 없습니다. 다시 검색합니다.\n",
      "결과를 찾을 수 없습니다\n",
      "결과를 찾을 수 없습니다. 다시 검색합니다.\n",
      "['전음성', '감각신경성 청력소실']\n"
     ]
    },
    {
     "name": "stderr",
     "output_type": "stream",
     "text": [
      " 32%|███▏      | 330/1022 [02:07<05:03,  2.28it/s]"
     ]
    },
    {
     "name": "stdout",
     "output_type": "stream",
     "text": [
      "결과를 찾을 수 없습니다. 다시 검색합니다.\n"
     ]
    },
    {
     "name": "stderr",
     "output_type": "stream",
     "text": [
      " 32%|███▏      | 331/1022 [02:08<04:23,  2.62it/s]"
     ]
    },
    {
     "name": "stdout",
     "output_type": "stream",
     "text": [
      "결과를 찾을 수 없습니다. 다시 검색합니다.\n",
      "결과를 찾을 수 없습니다\n",
      "결과를 찾을 수 없습니다. 다시 검색합니다.\n",
      "['귀통증', '귀의 삼출액']\n",
      "결과를 찾을 수 없습니다. 다시 검색합니다.\n"
     ]
    },
    {
     "name": "stderr",
     "output_type": "stream",
     "text": [
      " 32%|███▏      | 332/1022 [02:08<05:29,  2.10it/s]"
     ]
    },
    {
     "name": "stdout",
     "output_type": "stream",
     "text": [
      "결과를 찾을 수 없습니다. 다시 검색합니다.\n"
     ]
    },
    {
     "name": "stderr",
     "output_type": "stream",
     "text": [
      " 33%|███▎      | 333/1022 [02:09<04:59,  2.30it/s]"
     ]
    },
    {
     "name": "stdout",
     "output_type": "stream",
     "text": [
      "결과를 찾을 수 없습니다. 다시 검색합니다.\n",
      "결과를 찾을 수 없습니다\n"
     ]
    },
    {
     "name": "stderr",
     "output_type": "stream",
     "text": [
      " 33%|███▎      | 334/1022 [02:09<04:19,  2.65it/s]"
     ]
    },
    {
     "name": "stdout",
     "output_type": "stream",
     "text": [
      "결과를 찾을 수 없습니다. 다시 검색합니다.\n",
      "결과를 찾을 수 없습니다\n"
     ]
    },
    {
     "name": "stderr",
     "output_type": "stream",
     "text": [
      " 33%|███▎      | 335/1022 [02:09<03:58,  2.88it/s]"
     ]
    },
    {
     "name": "stdout",
     "output_type": "stream",
     "text": [
      "결과를 찾을 수 없습니다. 다시 검색합니다.\n",
      "결과를 찾을 수 없습니다\n"
     ]
    },
    {
     "name": "stderr",
     "output_type": "stream",
     "text": [
      " 33%|███▎      | 336/1022 [02:09<03:40,  3.11it/s]"
     ]
    },
    {
     "name": "stdout",
     "output_type": "stream",
     "text": [
      "결과를 찾을 수 없습니다. 다시 검색합니다.\n",
      "결과를 찾을 수 없습니다\n"
     ]
    },
    {
     "name": "stderr",
     "output_type": "stream",
     "text": [
      " 33%|███▎      | 337/1022 [02:10<03:27,  3.30it/s]"
     ]
    },
    {
     "name": "stdout",
     "output_type": "stream",
     "text": [
      "결과를 찾을 수 없습니다. 다시 검색합니다.\n",
      "결과를 찾을 수 없습니다\n"
     ]
    },
    {
     "name": "stderr",
     "output_type": "stream",
     "text": [
      " 33%|███▎      | 338/1022 [02:10<03:18,  3.44it/s]"
     ]
    },
    {
     "name": "stdout",
     "output_type": "stream",
     "text": [
      "결과를 찾을 수 없습니다. 다시 검색합니다.\n",
      "결과를 찾을 수 없습니다\n"
     ]
    },
    {
     "name": "stderr",
     "output_type": "stream",
     "text": [
      " 33%|███▎      | 339/1022 [02:10<03:11,  3.57it/s]"
     ]
    },
    {
     "name": "stdout",
     "output_type": "stream",
     "text": [
      "결과를 찾을 수 없습니다. 다시 검색합니다.\n",
      "결과를 찾을 수 없습니다\n",
      "결과를 찾을 수 없습니다. 다시 검색합니다.\n",
      "['고혈압성 심장', '신장병']\n",
      "결과를 찾을 수 없습니다. 다시 검색합니다.\n"
     ]
    },
    {
     "name": "stderr",
     "output_type": "stream",
     "text": [
      " 33%|███▎      | 340/1022 [02:11<04:49,  2.36it/s]"
     ]
    },
    {
     "name": "stdout",
     "output_type": "stream",
     "text": [
      "결과를 찾을 수 없습니다. 다시 검색합니다.\n"
     ]
    },
    {
     "name": "stderr",
     "output_type": "stream",
     "text": [
      " 33%|███▎      | 341/1022 [02:11<04:14,  2.68it/s]"
     ]
    },
    {
     "name": "stdout",
     "output_type": "stream",
     "text": [
      "결과를 찾을 수 없습니다. 다시 검색합니다.\n",
      "결과를 찾을 수 없습니다\n"
     ]
    },
    {
     "name": "stderr",
     "output_type": "stream",
     "text": [
      " 34%|███▎      | 344/1022 [02:12<03:20,  3.38it/s]"
     ]
    },
    {
     "name": "stdout",
     "output_type": "stream",
     "text": [
      "결과를 찾을 수 없습니다. 다시 검색합니다.\n",
      "결과를 찾을 수 없습니다\n"
     ]
    },
    {
     "name": "stderr",
     "output_type": "stream",
     "text": [
      " 34%|███▍      | 345/1022 [02:12<03:25,  3.30it/s]"
     ]
    },
    {
     "name": "stdout",
     "output_type": "stream",
     "text": [
      "결과를 찾을 수 없습니다. 다시 검색합니다.\n",
      "결과를 찾을 수 없습니다\n"
     ]
    },
    {
     "name": "stderr",
     "output_type": "stream",
     "text": [
      " 34%|███▍      | 347/1022 [02:13<03:09,  3.56it/s]"
     ]
    },
    {
     "name": "stdout",
     "output_type": "stream",
     "text": [
      "결과를 찾을 수 없습니다. 다시 검색합니다.\n",
      "결과를 찾을 수 없습니다\n"
     ]
    },
    {
     "name": "stderr",
     "output_type": "stream",
     "text": [
      " 34%|███▍      | 348/1022 [02:13<03:03,  3.67it/s]"
     ]
    },
    {
     "name": "stdout",
     "output_type": "stream",
     "text": [
      "결과를 찾을 수 없습니다. 다시 검색합니다.\n",
      "결과를 찾을 수 없습니다\n"
     ]
    },
    {
     "name": "stderr",
     "output_type": "stream",
     "text": [
      " 34%|███▍      | 349/1022 [02:13<03:00,  3.73it/s]"
     ]
    },
    {
     "name": "stdout",
     "output_type": "stream",
     "text": [
      "결과를 찾을 수 없습니다. 다시 검색합니다.\n",
      "결과를 찾을 수 없습니다\n"
     ]
    },
    {
     "name": "stderr",
     "output_type": "stream",
     "text": [
      " 34%|███▍      | 350/1022 [02:14<02:54,  3.86it/s]"
     ]
    },
    {
     "name": "stdout",
     "output_type": "stream",
     "text": [
      "결과를 찾을 수 없습니다. 다시 검색합니다.\n",
      "결과를 찾을 수 없습니다\n"
     ]
    },
    {
     "name": "stderr",
     "output_type": "stream",
     "text": [
      " 34%|███▍      | 351/1022 [02:14<02:53,  3.87it/s]"
     ]
    },
    {
     "name": "stdout",
     "output_type": "stream",
     "text": [
      "결과를 찾을 수 없습니다. 다시 검색합니다.\n",
      "결과를 찾을 수 없습니다\n"
     ]
    },
    {
     "name": "stderr",
     "output_type": "stream",
     "text": [
      " 34%|███▍      | 352/1022 [02:14<02:53,  3.87it/s]"
     ]
    },
    {
     "name": "stdout",
     "output_type": "stream",
     "text": [
      "결과를 찾을 수 없습니다. 다시 검색합니다.\n",
      "['방실차단', '좌각차단']\n",
      "결과를 찾을 수 없습니다. 다시 검색합니다.\n"
     ]
    },
    {
     "name": "stderr",
     "output_type": "stream",
     "text": [
      " 35%|███▍      | 353/1022 [02:15<04:35,  2.43it/s]"
     ]
    },
    {
     "name": "stdout",
     "output_type": "stream",
     "text": [
      "결과를 찾을 수 없습니다. 다시 검색합니다.\n"
     ]
    },
    {
     "name": "stderr",
     "output_type": "stream",
     "text": [
      " 35%|███▍      | 354/1022 [02:15<03:59,  2.79it/s]"
     ]
    },
    {
     "name": "stdout",
     "output_type": "stream",
     "text": [
      "결과를 찾을 수 없습니다. 다시 검색합니다.\n",
      "결과를 찾을 수 없습니다\n"
     ]
    },
    {
     "name": "stderr",
     "output_type": "stream",
     "text": [
      " 35%|███▍      | 355/1022 [02:15<03:38,  3.05it/s]"
     ]
    },
    {
     "name": "stdout",
     "output_type": "stream",
     "text": [
      "결과를 찾을 수 없습니다. 다시 검색합니다.\n",
      "결과를 찾을 수 없습니다\n"
     ]
    },
    {
     "name": "stderr",
     "output_type": "stream",
     "text": [
      " 35%|███▍      | 356/1022 [02:16<03:22,  3.29it/s]"
     ]
    },
    {
     "name": "stdout",
     "output_type": "stream",
     "text": [
      "결과를 찾을 수 없습니다. 다시 검색합니다.\n",
      "결과를 찾을 수 없습니다\n",
      "결과를 찾을 수 없습니다. 다시 검색합니다.\n",
      "['심방세동', '조동']\n",
      "결과를 찾을 수 없습니다. 다시 검색합니다.\n"
     ]
    },
    {
     "name": "stderr",
     "output_type": "stream",
     "text": [
      " 35%|███▌      | 358/1022 [02:17<04:21,  2.54it/s]"
     ]
    },
    {
     "name": "stdout",
     "output_type": "stream",
     "text": [
      "결과를 찾을 수 없습니다. 다시 검색합니다.\n",
      "결과를 찾을 수 없습니다\n"
     ]
    },
    {
     "name": "stderr",
     "output_type": "stream",
     "text": [
      " 35%|███▌      | 359/1022 [02:17<03:53,  2.84it/s]"
     ]
    },
    {
     "name": "stdout",
     "output_type": "stream",
     "text": [
      "결과를 찾을 수 없습니다. 다시 검색합니다.\n",
      "['심장병의 불명확한 기록', '합병증']\n",
      "결과를 찾을 수 없습니다. 다시 검색합니다.\n"
     ]
    },
    {
     "name": "stderr",
     "output_type": "stream",
     "text": [
      " 35%|███▌      | 360/1022 [02:18<05:14,  2.10it/s]"
     ]
    },
    {
     "name": "stdout",
     "output_type": "stream",
     "text": [
      "결과를 찾을 수 없습니다. 다시 검색합니다.\n"
     ]
    },
    {
     "name": "stderr",
     "output_type": "stream",
     "text": [
      " 35%|███▌      | 361/1022 [02:18<04:29,  2.45it/s]"
     ]
    },
    {
     "name": "stdout",
     "output_type": "stream",
     "text": [
      "결과를 찾을 수 없습니다. 다시 검색합니다.\n",
      "결과를 찾을 수 없습니다\n"
     ]
    },
    {
     "name": "stderr",
     "output_type": "stream",
     "text": [
      " 36%|███▌      | 363/1022 [02:18<03:31,  3.12it/s]"
     ]
    },
    {
     "name": "stdout",
     "output_type": "stream",
     "text": [
      "결과를 찾을 수 없습니다. 다시 검색합니다.\n",
      "결과를 찾을 수 없습니다\n"
     ]
    },
    {
     "name": "stderr",
     "output_type": "stream",
     "text": [
      " 36%|███▌      | 365/1022 [02:19<03:11,  3.42it/s]"
     ]
    },
    {
     "name": "stdout",
     "output_type": "stream",
     "text": [
      "결과를 찾을 수 없습니다. 다시 검색합니다.\n",
      "결과를 찾을 수 없습니다\n",
      "결과를 찾을 수 없습니다. 다시 검색합니다.\n",
      "['뇌경색증을 유발하지 않은 뇌전동맥의 폐쇄', '협착']\n",
      "결과를 찾을 수 없습니다. 다시 검색합니다.\n"
     ]
    },
    {
     "name": "stderr",
     "output_type": "stream",
     "text": [
      " 36%|███▌      | 366/1022 [02:20<04:49,  2.27it/s]"
     ]
    },
    {
     "name": "stdout",
     "output_type": "stream",
     "text": [
      "협착\n",
      "결과를 찾을 수 없습니다. 다시 검색합니다.\n",
      "['뇌경색증을 유발하지 않은 대뇌동맥의 폐쇄', '협착']\n",
      "결과를 찾을 수 없습니다. 다시 검색합니다.\n"
     ]
    },
    {
     "name": "stderr",
     "output_type": "stream",
     "text": [
      " 36%|███▌      | 367/1022 [02:21<06:09,  1.77it/s]"
     ]
    },
    {
     "name": "stdout",
     "output_type": "stream",
     "text": [
      "협착\n"
     ]
    },
    {
     "name": "stderr",
     "output_type": "stream",
     "text": [
      " 36%|███▌      | 368/1022 [02:21<05:05,  2.14it/s]"
     ]
    },
    {
     "name": "stdout",
     "output_type": "stream",
     "text": [
      "결과를 찾을 수 없습니다. 다시 검색합니다.\n",
      "결과를 찾을 수 없습니다\n"
     ]
    },
    {
     "name": "stderr",
     "output_type": "stream",
     "text": [
      " 36%|███▌      | 369/1022 [02:21<04:23,  2.48it/s]"
     ]
    },
    {
     "name": "stdout",
     "output_type": "stream",
     "text": [
      "결과를 찾을 수 없습니다. 다시 검색합니다.\n",
      "결과를 찾을 수 없습니다\n"
     ]
    },
    {
     "name": "stderr",
     "output_type": "stream",
     "text": [
      " 36%|███▌      | 370/1022 [02:21<03:51,  2.81it/s]"
     ]
    },
    {
     "name": "stdout",
     "output_type": "stream",
     "text": [
      "결과를 찾을 수 없습니다. 다시 검색합니다.\n",
      "결과를 찾을 수 없습니다\n"
     ]
    },
    {
     "name": "stderr",
     "output_type": "stream",
     "text": [
      " 36%|███▋      | 371/1022 [02:22<03:32,  3.07it/s]"
     ]
    },
    {
     "name": "stdout",
     "output_type": "stream",
     "text": [
      "결과를 찾을 수 없습니다. 다시 검색합니다.\n",
      "['대동맥동맥류', '박리']\n",
      "결과를 찾을 수 없습니다. 다시 검색합니다.\n"
     ]
    },
    {
     "name": "stderr",
     "output_type": "stream",
     "text": [
      " 36%|███▋      | 372/1022 [02:22<04:59,  2.17it/s]"
     ]
    },
    {
     "name": "stdout",
     "output_type": "stream",
     "text": [
      "결과를 찾을 수 없습니다. 다시 검색합니다.\n",
      "['기타 동맥류', '박리']\n",
      "결과를 찾을 수 없습니다. 다시 검색합니다.\n"
     ]
    },
    {
     "name": "stderr",
     "output_type": "stream",
     "text": [
      " 37%|███▋      | 374/1022 [02:23<05:13,  2.07it/s]"
     ]
    },
    {
     "name": "stdout",
     "output_type": "stream",
     "text": [
      "결과를 찾을 수 없습니다. 다시 검색합니다.\n",
      "결과를 찾을 수 없습니다\n"
     ]
    },
    {
     "name": "stderr",
     "output_type": "stream",
     "text": [
      " 37%|███▋      | 375/1022 [02:24<04:28,  2.41it/s]"
     ]
    },
    {
     "name": "stdout",
     "output_type": "stream",
     "text": [
      "결과를 찾을 수 없습니다. 다시 검색합니다.\n",
      "['동맥', '세동맥의 기타 장애']\n"
     ]
    },
    {
     "name": "stderr",
     "output_type": "stream",
     "text": [
      " 37%|███▋      | 376/1022 [02:25<05:39,  1.90it/s]"
     ]
    },
    {
     "name": "stdout",
     "output_type": "stream",
     "text": [
      "결과를 찾을 수 없습니다. 다시 검색합니다.\n"
     ]
    },
    {
     "name": "stderr",
     "output_type": "stream",
     "text": [
      " 37%|███▋      | 377/1022 [02:25<04:47,  2.24it/s]"
     ]
    },
    {
     "name": "stdout",
     "output_type": "stream",
     "text": [
      "결과를 찾을 수 없습니다. 다시 검색합니다.\n",
      "결과를 찾을 수 없습니다\n",
      "결과를 찾을 수 없습니다. 다시 검색합니다.\n",
      "['달리 분류된 질환에서의 동맥, 세동맥', '모세혈관의 장애']\n",
      "결과를 찾을 수 없습니다. 다시 검색합니다.\n"
     ]
    },
    {
     "name": "stderr",
     "output_type": "stream",
     "text": [
      " 37%|███▋      | 378/1022 [02:26<05:43,  1.87it/s]"
     ]
    },
    {
     "name": "stdout",
     "output_type": "stream",
     "text": [
      "결과를 찾을 수 없습니다. 다시 검색합니다.\n",
      "결과를 찾을 수 없습니다. 다시 검색합니다.\n",
      "['정맥염', '혈전정맥염']\n",
      "결과를 찾을 수 없습니다. 다시 검색합니다.\n"
     ]
    },
    {
     "name": "stderr",
     "output_type": "stream",
     "text": [
      " 37%|███▋      | 379/1022 [02:26<06:19,  1.69it/s]"
     ]
    },
    {
     "name": "stdout",
     "output_type": "stream",
     "text": [
      "결과를 찾을 수 없습니다. 다시 검색합니다.\n",
      "결과를 찾을 수 없습니다. 다시 검색합니다.\n",
      "['기타 정맥의 색전증', '혈전증']\n",
      "결과를 찾을 수 없습니다. 다시 검색합니다.\n"
     ]
    },
    {
     "name": "stderr",
     "output_type": "stream",
     "text": [
      " 37%|███▋      | 381/1022 [02:27<05:43,  1.87it/s]"
     ]
    },
    {
     "name": "stdout",
     "output_type": "stream",
     "text": [
      "결과를 찾을 수 없습니다. 다시 검색합니다.\n",
      "결과를 찾을 수 없습니다\n"
     ]
    },
    {
     "name": "stderr",
     "output_type": "stream",
     "text": [
      " 37%|███▋      | 382/1022 [02:28<04:47,  2.22it/s]"
     ]
    },
    {
     "name": "stdout",
     "output_type": "stream",
     "text": [
      "결과를 찾을 수 없습니다. 다시 검색합니다.\n",
      "결과를 찾을 수 없습니다\n"
     ]
    },
    {
     "name": "stderr",
     "output_type": "stream",
     "text": [
      " 37%|███▋      | 383/1022 [02:28<04:13,  2.52it/s]"
     ]
    },
    {
     "name": "stdout",
     "output_type": "stream",
     "text": [
      "결과를 찾을 수 없습니다. 다시 검색합니다.\n",
      "결과를 찾을 수 없습니다\n"
     ]
    },
    {
     "name": "stderr",
     "output_type": "stream",
     "text": [
      " 38%|███▊      | 384/1022 [02:28<03:44,  2.84it/s]"
     ]
    },
    {
     "name": "stdout",
     "output_type": "stream",
     "text": [
      "결과를 찾을 수 없습니다. 다시 검색합니다.\n",
      "결과를 찾을 수 없습니다\n"
     ]
    },
    {
     "name": "stderr",
     "output_type": "stream",
     "text": [
      " 38%|███▊      | 385/1022 [02:28<03:27,  3.08it/s]"
     ]
    },
    {
     "name": "stdout",
     "output_type": "stream",
     "text": [
      "결과를 찾을 수 없습니다. 다시 검색합니다.\n",
      "결과를 찾을 수 없습니다\n",
      "결과를 찾을 수 없습니다. 다시 검색합니다.\n",
      "['림프관', '림프절의 기타 비감염성 장애']\n"
     ]
    },
    {
     "name": "stderr",
     "output_type": "stream",
     "text": [
      " 38%|███▊      | 386/1022 [02:29<04:47,  2.21it/s]"
     ]
    },
    {
     "name": "stdout",
     "output_type": "stream",
     "text": [
      "결과를 찾을 수 없습니다. 다시 검색합니다.\n"
     ]
    },
    {
     "name": "stderr",
     "output_type": "stream",
     "text": [
      " 38%|███▊      | 388/1022 [02:30<03:43,  2.83it/s]"
     ]
    },
    {
     "name": "stdout",
     "output_type": "stream",
     "text": [
      "결과를 찾을 수 없습니다. 다시 검색합니다.\n",
      "결과를 찾을 수 없습니다\n"
     ]
    },
    {
     "name": "stderr",
     "output_type": "stream",
     "text": [
      " 38%|███▊      | 389/1022 [02:30<03:24,  3.10it/s]"
     ]
    },
    {
     "name": "stdout",
     "output_type": "stream",
     "text": [
      "결과를 찾을 수 없습니다. 다시 검색합니다.\n",
      "결과를 찾을 수 없습니다\n",
      "결과를 찾을 수 없습니다. 다시 검색합니다.\n",
      "['순환계통의 기타', '상세불명의 장애']\n",
      "결과를 찾을 수 없습니다. 다시 검색합니다.\n"
     ]
    },
    {
     "name": "stderr",
     "output_type": "stream",
     "text": [
      " 38%|███▊      | 390/1022 [02:31<04:53,  2.16it/s]"
     ]
    },
    {
     "name": "stdout",
     "output_type": "stream",
     "text": [
      "결과를 찾을 수 없습니다. 다시 검색합니다.\n"
     ]
    },
    {
     "name": "stderr",
     "output_type": "stream",
     "text": [
      " 38%|███▊      | 391/1022 [02:31<04:16,  2.46it/s]"
     ]
    },
    {
     "name": "stdout",
     "output_type": "stream",
     "text": [
      "결과를 찾을 수 없습니다. 다시 검색합니다.\n",
      "결과를 찾을 수 없습니다\n"
     ]
    },
    {
     "name": "stderr",
     "output_type": "stream",
     "text": [
      " 39%|███▊      | 394/1022 [02:32<03:14,  3.23it/s]"
     ]
    },
    {
     "name": "stdout",
     "output_type": "stream",
     "text": [
      "결과를 찾을 수 없습니다. 다시 검색합니다.\n",
      "['급성 후두염', '기관염']\n"
     ]
    },
    {
     "name": "stderr",
     "output_type": "stream",
     "text": [
      " 39%|███▊      | 395/1022 [02:33<04:50,  2.16it/s]"
     ]
    },
    {
     "name": "stdout",
     "output_type": "stream",
     "text": [
      "결과를 찾을 수 없습니다. 다시 검색합니다.\n",
      "['급성 폐색성 후두염[크룹]', '후두개염']\n",
      "결과를 찾을 수 없습니다. 다시 검색합니다.\n"
     ]
    },
    {
     "name": "stderr",
     "output_type": "stream",
     "text": [
      " 39%|███▊      | 396/1022 [02:33<05:43,  1.82it/s]"
     ]
    },
    {
     "name": "stdout",
     "output_type": "stream",
     "text": [
      "결과를 찾을 수 없습니다. 다시 검색합니다.\n",
      "['다발성', '상세불명 부위의 급성 상기도감염']\n"
     ]
    },
    {
     "name": "stderr",
     "output_type": "stream",
     "text": [
      " 39%|███▉      | 397/1022 [02:34<06:23,  1.63it/s]"
     ]
    },
    {
     "name": "stdout",
     "output_type": "stream",
     "text": [
      "결과를 찾을 수 없습니다. 다시 검색합니다.\n"
     ]
    },
    {
     "name": "stderr",
     "output_type": "stream",
     "text": [
      " 39%|███▉      | 398/1022 [02:34<05:14,  1.98it/s]"
     ]
    },
    {
     "name": "stdout",
     "output_type": "stream",
     "text": [
      "결과를 찾을 수 없습니다. 다시 검색합니다.\n",
      "결과를 찾을 수 없습니다\n"
     ]
    },
    {
     "name": "stderr",
     "output_type": "stream",
     "text": [
      " 39%|███▉      | 399/1022 [02:35<04:27,  2.33it/s]"
     ]
    },
    {
     "name": "stdout",
     "output_type": "stream",
     "text": [
      "결과를 찾을 수 없습니다. 다시 검색합니다.\n",
      "결과를 찾을 수 없습니다\n"
     ]
    },
    {
     "name": "stderr",
     "output_type": "stream",
     "text": [
      " 39%|███▉      | 400/1022 [02:35<04:07,  2.51it/s]"
     ]
    },
    {
     "name": "stdout",
     "output_type": "stream",
     "text": [
      "결과를 찾을 수 없습니다. 다시 검색합니다.\n",
      "결과를 찾을 수 없습니다\n"
     ]
    },
    {
     "name": "stderr",
     "output_type": "stream",
     "text": [
      " 39%|███▉      | 401/1022 [02:35<03:39,  2.83it/s]"
     ]
    },
    {
     "name": "stdout",
     "output_type": "stream",
     "text": [
      "결과를 찾을 수 없습니다. 다시 검색합니다.\n",
      "결과를 찾을 수 없습니다\n"
     ]
    },
    {
     "name": "stderr",
     "output_type": "stream",
     "text": [
      " 39%|███▉      | 402/1022 [02:35<03:17,  3.14it/s]"
     ]
    },
    {
     "name": "stdout",
     "output_type": "stream",
     "text": [
      "결과를 찾을 수 없습니다. 다시 검색합니다.\n",
      "결과를 찾을 수 없습니다\n"
     ]
    },
    {
     "name": "stderr",
     "output_type": "stream",
     "text": [
      " 39%|███▉      | 403/1022 [02:36<03:05,  3.34it/s]"
     ]
    },
    {
     "name": "stdout",
     "output_type": "stream",
     "text": [
      "결과를 찾을 수 없습니다. 다시 검색합니다.\n",
      "결과를 찾을 수 없습니다\n"
     ]
    },
    {
     "name": "stderr",
     "output_type": "stream",
     "text": [
      " 40%|███▉      | 404/1022 [02:36<02:58,  3.46it/s]"
     ]
    },
    {
     "name": "stdout",
     "output_type": "stream",
     "text": [
      "결과를 찾을 수 없습니다. 다시 검색합니다.\n",
      "결과를 찾을 수 없습니다\n"
     ]
    },
    {
     "name": "stderr",
     "output_type": "stream",
     "text": [
      " 40%|███▉      | 405/1022 [02:36<02:53,  3.55it/s]"
     ]
    },
    {
     "name": "stdout",
     "output_type": "stream",
     "text": [
      "결과를 찾을 수 없습니다. 다시 검색합니다.\n",
      "결과를 찾을 수 없습니다\n"
     ]
    },
    {
     "name": "stderr",
     "output_type": "stream",
     "text": [
      " 40%|███▉      | 406/1022 [02:36<02:48,  3.65it/s]"
     ]
    },
    {
     "name": "stdout",
     "output_type": "stream",
     "text": [
      "결과를 찾을 수 없습니다. 다시 검색합니다.\n",
      "결과를 찾을 수 없습니다\n"
     ]
    },
    {
     "name": "stderr",
     "output_type": "stream",
     "text": [
      " 40%|███▉      | 407/1022 [02:37<02:51,  3.58it/s]"
     ]
    },
    {
     "name": "stdout",
     "output_type": "stream",
     "text": [
      "결과를 찾을 수 없습니다. 다시 검색합니다.\n",
      "결과를 찾을 수 없습니다\n"
     ]
    },
    {
     "name": "stderr",
     "output_type": "stream",
     "text": [
      " 40%|████      | 409/1022 [02:37<02:44,  3.72it/s]"
     ]
    },
    {
     "name": "stdout",
     "output_type": "stream",
     "text": [
      "결과를 찾을 수 없습니다. 다시 검색합니다.\n",
      "결과를 찾을 수 없습니다\n"
     ]
    },
    {
     "name": "stderr",
     "output_type": "stream",
     "text": [
      " 40%|████      | 410/1022 [02:37<02:42,  3.76it/s]"
     ]
    },
    {
     "name": "stdout",
     "output_type": "stream",
     "text": [
      "결과를 찾을 수 없습니다. 다시 검색합니다.\n",
      "결과를 찾을 수 없습니다\n",
      "결과를 찾을 수 없습니다. 다시 검색합니다.\n",
      "['혈관운동성', '알레르기성 비염']\n",
      "결과를 찾을 수 없습니다. 다시 검색합니다.\n"
     ]
    },
    {
     "name": "stderr",
     "output_type": "stream",
     "text": [
      " 40%|████      | 411/1022 [02:38<04:16,  2.38it/s]"
     ]
    },
    {
     "name": "stdout",
     "output_type": "stream",
     "text": [
      "결과를 찾을 수 없습니다. 다시 검색합니다.\n",
      "['만성 비염, 비인두염', '인두염']\n",
      "결과를 찾을 수 없습니다. 다시 검색합니다.\n"
     ]
    },
    {
     "name": "stderr",
     "output_type": "stream",
     "text": [
      " 41%|████      | 414/1022 [02:40<04:06,  2.47it/s]"
     ]
    },
    {
     "name": "stdout",
     "output_type": "stream",
     "text": [
      "결과를 찾을 수 없습니다. 다시 검색합니다.\n",
      "결과를 찾을 수 없습니다\n",
      "결과를 찾을 수 없습니다. 다시 검색합니다.\n",
      "['코', '비동의 기타 장애']\n"
     ]
    },
    {
     "name": "stderr",
     "output_type": "stream",
     "text": [
      " 41%|████      | 415/1022 [02:40<05:22,  1.88it/s]"
     ]
    },
    {
     "name": "stdout",
     "output_type": "stream",
     "text": [
      "결과를 찾을 수 없습니다. 다시 검색합니다.\n",
      "결과를 찾을 수 없습니다. 다시 검색합니다.\n",
      "['편도', '아데노이드의 만성 질환']\n"
     ]
    },
    {
     "name": "stderr",
     "output_type": "stream",
     "text": [
      " 41%|████      | 416/1022 [02:41<06:02,  1.67it/s]"
     ]
    },
    {
     "name": "stdout",
     "output_type": "stream",
     "text": [
      "결과를 찾을 수 없습니다. 다시 검색합니다.\n"
     ]
    },
    {
     "name": "stderr",
     "output_type": "stream",
     "text": [
      " 41%|████      | 417/1022 [02:41<04:58,  2.03it/s]"
     ]
    },
    {
     "name": "stdout",
     "output_type": "stream",
     "text": [
      "결과를 찾을 수 없습니다. 다시 검색합니다.\n",
      "결과를 찾을 수 없습니다\n",
      "결과를 찾을 수 없습니다. 다시 검색합니다.\n",
      "['만성 후두염', '후두기관염']\n",
      "결과를 찾을 수 없습니다. 다시 검색합니다.\n"
     ]
    },
    {
     "name": "stderr",
     "output_type": "stream",
     "text": [
      " 41%|████      | 418/1022 [02:42<06:06,  1.65it/s]"
     ]
    },
    {
     "name": "stdout",
     "output_type": "stream",
     "text": [
      "결과를 찾을 수 없습니다. 다시 검색합니다.\n",
      "결과를 찾을 수 없습니다. 다시 검색합니다.\n",
      "['달리 분류되지 않은 성대', '후두의 질환']\n",
      "결과를 찾을 수 없습니다. 다시 검색합니다.\n"
     ]
    },
    {
     "name": "stderr",
     "output_type": "stream",
     "text": [
      " 41%|████      | 419/1022 [02:43<06:32,  1.54it/s]"
     ]
    },
    {
     "name": "stdout",
     "output_type": "stream",
     "text": [
      "결과를 찾을 수 없습니다. 다시 검색합니다.\n"
     ]
    },
    {
     "name": "stderr",
     "output_type": "stream",
     "text": [
      " 41%|████      | 420/1022 [02:43<05:19,  1.88it/s]"
     ]
    },
    {
     "name": "stdout",
     "output_type": "stream",
     "text": [
      "결과를 찾을 수 없습니다. 다시 검색합니다.\n",
      "결과를 찾을 수 없습니다\n"
     ]
    },
    {
     "name": "stderr",
     "output_type": "stream",
     "text": [
      " 41%|████      | 421/1022 [02:44<04:27,  2.24it/s]"
     ]
    },
    {
     "name": "stdout",
     "output_type": "stream",
     "text": [
      "결과를 찾을 수 없습니다. 다시 검색합니다.\n",
      "결과를 찾을 수 없습니다\n",
      "결과를 찾을 수 없습니다. 다시 검색합니다.\n",
      "['단순성', '점액화농성 만성 기관지염']\n",
      "결과를 찾을 수 없습니다. 다시 검색합니다.\n"
     ]
    },
    {
     "name": "stderr",
     "output_type": "stream",
     "text": [
      " 41%|████▏     | 422/1022 [02:44<05:29,  1.82it/s]"
     ]
    },
    {
     "name": "stdout",
     "output_type": "stream",
     "text": [
      "결과를 찾을 수 없습니다. 다시 검색합니다.\n"
     ]
    },
    {
     "name": "stderr",
     "output_type": "stream",
     "text": [
      " 41%|████▏     | 423/1022 [02:45<04:37,  2.16it/s]"
     ]
    },
    {
     "name": "stdout",
     "output_type": "stream",
     "text": [
      "결과를 찾을 수 없습니다. 다시 검색합니다.\n",
      "결과를 찾을 수 없습니다\n"
     ]
    },
    {
     "name": "stderr",
     "output_type": "stream",
     "text": [
      " 42%|████▏     | 425/1022 [02:45<03:29,  2.85it/s]"
     ]
    },
    {
     "name": "stdout",
     "output_type": "stream",
     "text": [
      "결과를 찾을 수 없습니다. 다시 검색합니다.\n",
      "결과를 찾을 수 없습니다\n"
     ]
    },
    {
     "name": "stderr",
     "output_type": "stream",
     "text": [
      " 42%|████▏     | 427/1022 [02:46<03:11,  3.10it/s]"
     ]
    },
    {
     "name": "stdout",
     "output_type": "stream",
     "text": [
      "결과를 찾을 수 없습니다. 다시 검색합니다.\n",
      "결과를 찾을 수 없습니다\n"
     ]
    },
    {
     "name": "stderr",
     "output_type": "stream",
     "text": [
      " 42%|████▏     | 429/1022 [02:46<02:51,  3.46it/s]"
     ]
    },
    {
     "name": "stdout",
     "output_type": "stream",
     "text": [
      "결과를 찾을 수 없습니다. 다시 검색합니다.\n",
      "결과를 찾을 수 없습니다\n",
      "결과를 찾을 수 없습니다. 다시 검색합니다.\n",
      "['고체', '액체에 의한 폐렴']\n"
     ]
    },
    {
     "name": "stderr",
     "output_type": "stream",
     "text": [
      " 42%|████▏     | 430/1022 [02:47<04:26,  2.22it/s]"
     ]
    },
    {
     "name": "stdout",
     "output_type": "stream",
     "text": [
      "결과를 찾을 수 없습니다. 다시 검색합니다.\n"
     ]
    },
    {
     "name": "stderr",
     "output_type": "stream",
     "text": [
      " 42%|████▏     | 432/1022 [02:48<03:30,  2.81it/s]"
     ]
    },
    {
     "name": "stdout",
     "output_type": "stream",
     "text": [
      "결과를 찾을 수 없습니다. 다시 검색합니다.\n",
      "결과를 찾을 수 없습니다\n"
     ]
    },
    {
     "name": "stderr",
     "output_type": "stream",
     "text": [
      " 42%|████▏     | 433/1022 [02:48<03:11,  3.08it/s]"
     ]
    },
    {
     "name": "stdout",
     "output_type": "stream",
     "text": [
      "결과를 찾을 수 없습니다. 다시 검색합니다.\n",
      "결과를 찾을 수 없습니다\n"
     ]
    },
    {
     "name": "stderr",
     "output_type": "stream",
     "text": [
      " 42%|████▏     | 434/1022 [02:48<03:00,  3.26it/s]"
     ]
    },
    {
     "name": "stdout",
     "output_type": "stream",
     "text": [
      "결과를 찾을 수 없습니다. 다시 검색합니다.\n",
      "결과를 찾을 수 없습니다\n"
     ]
    },
    {
     "name": "stderr",
     "output_type": "stream",
     "text": [
      " 43%|████▎     | 436/1022 [02:49<02:43,  3.58it/s]"
     ]
    },
    {
     "name": "stdout",
     "output_type": "stream",
     "text": [
      "결과를 찾을 수 없습니다. 다시 검색합니다.\n",
      "결과를 찾을 수 없습니다\n"
     ]
    },
    {
     "name": "stderr",
     "output_type": "stream",
     "text": [
      " 43%|████▎     | 437/1022 [02:49<02:38,  3.68it/s]"
     ]
    },
    {
     "name": "stdout",
     "output_type": "stream",
     "text": [
      "결과를 찾을 수 없습니다. 다시 검색합니다.\n",
      "결과를 찾을 수 없습니다\n"
     ]
    },
    {
     "name": "stderr",
     "output_type": "stream",
     "text": [
      " 43%|████▎     | 438/1022 [02:49<02:37,  3.71it/s]"
     ]
    },
    {
     "name": "stdout",
     "output_type": "stream",
     "text": [
      "결과를 찾을 수 없습니다. 다시 검색합니다.\n",
      "결과를 찾을 수 없습니다\n",
      "결과를 찾을 수 없습니다. 다시 검색합니다.\n",
      "['치아의 발육', '맹출 장애']\n",
      "결과를 찾을 수 없습니다. 다시 검색합니다.\n"
     ]
    },
    {
     "name": "stderr",
     "output_type": "stream",
     "text": [
      " 43%|████▎     | 439/1022 [02:50<04:14,  2.29it/s]"
     ]
    },
    {
     "name": "stdout",
     "output_type": "stream",
     "text": [
      "결과를 찾을 수 없습니다. 다시 검색합니다.\n",
      "결과를 찾을 수 없습니다. 다시 검색합니다.\n",
      "['매몰치', '매복치']\n",
      "결과를 찾을 수 없습니다. 다시 검색합니다.\n"
     ]
    },
    {
     "name": "stderr",
     "output_type": "stream",
     "text": [
      " 43%|████▎     | 441/1022 [02:51<04:16,  2.26it/s]"
     ]
    },
    {
     "name": "stdout",
     "output_type": "stream",
     "text": [
      "결과를 찾을 수 없습니다. 다시 검색합니다.\n",
      "결과를 찾을 수 없습니다\n"
     ]
    },
    {
     "name": "stderr",
     "output_type": "stream",
     "text": [
      " 43%|████▎     | 442/1022 [02:51<03:42,  2.61it/s]"
     ]
    },
    {
     "name": "stdout",
     "output_type": "stream",
     "text": [
      "결과를 찾을 수 없습니다. 다시 검색합니다.\n",
      "결과를 찾을 수 없습니다\n",
      "결과를 찾을 수 없습니다. 다시 검색합니다.\n",
      "['치수', '근단주위조직의 질환']\n",
      "치수\n"
     ]
    },
    {
     "name": "stderr",
     "output_type": "stream",
     "text": [
      " 43%|████▎     | 443/1022 [02:52<04:47,  2.01it/s]"
     ]
    },
    {
     "name": "stdout",
     "output_type": "stream",
     "text": [
      "결과를 찾을 수 없습니다. 다시 검색합니다.\n",
      "결과를 찾을 수 없습니다. 다시 검색합니다.\n",
      "['치은염', '치주질환']\n"
     ]
    },
    {
     "name": "stderr",
     "output_type": "stream",
     "text": [
      " 43%|████▎     | 444/1022 [02:53<05:29,  1.75it/s]"
     ]
    },
    {
     "name": "stdout",
     "output_type": "stream",
     "text": [
      "결과를 찾을 수 없습니다. 다시 검색합니다.\n",
      "결과를 찾을 수 없습니다. 다시 검색합니다.\n",
      "['잇몸', '무치성 치조융기의 기타 장애']\n"
     ]
    },
    {
     "name": "stderr",
     "output_type": "stream",
     "text": [
      " 44%|████▎     | 445/1022 [02:53<06:15,  1.54it/s]"
     ]
    },
    {
     "name": "stdout",
     "output_type": "stream",
     "text": [
      "결과를 찾을 수 없습니다. 다시 검색합니다.\n"
     ]
    },
    {
     "name": "stderr",
     "output_type": "stream",
     "text": [
      " 44%|████▎     | 446/1022 [02:54<05:06,  1.88it/s]"
     ]
    },
    {
     "name": "stdout",
     "output_type": "stream",
     "text": [
      "결과를 찾을 수 없습니다. 다시 검색합니다.\n",
      "결과를 찾을 수 없습니다\n",
      "결과를 찾을 수 없습니다. 다시 검색합니다.\n",
      "['치아', '지지구조의 기타 장애']\n"
     ]
    },
    {
     "name": "stderr",
     "output_type": "stream",
     "text": [
      " 44%|████▎     | 447/1022 [02:55<05:48,  1.65it/s]"
     ]
    },
    {
     "name": "stdout",
     "output_type": "stream",
     "text": [
      "결과를 찾을 수 없습니다. 다시 검색합니다.\n"
     ]
    },
    {
     "name": "stderr",
     "output_type": "stream",
     "text": [
      " 44%|████▍     | 448/1022 [02:55<04:46,  2.01it/s]"
     ]
    },
    {
     "name": "stdout",
     "output_type": "stream",
     "text": [
      "결과를 찾을 수 없습니다. 다시 검색합니다.\n",
      "결과를 찾을 수 없습니다\n"
     ]
    },
    {
     "name": "stderr",
     "output_type": "stream",
     "text": [
      " 44%|████▍     | 449/1022 [02:55<04:01,  2.37it/s]"
     ]
    },
    {
     "name": "stdout",
     "output_type": "stream",
     "text": [
      "결과를 찾을 수 없습니다. 다시 검색합니다.\n",
      "결과를 찾을 수 없습니다\n"
     ]
    },
    {
     "name": "stderr",
     "output_type": "stream",
     "text": [
      " 44%|████▍     | 450/1022 [02:55<03:30,  2.71it/s]"
     ]
    },
    {
     "name": "stdout",
     "output_type": "stream",
     "text": [
      "결과를 찾을 수 없습니다. 다시 검색합니다.\n",
      "결과를 찾을 수 없습니다\n",
      "결과를 찾을 수 없습니다. 다시 검색합니다.\n",
      "['구내염', '관련 병변']\n"
     ]
    },
    {
     "name": "stderr",
     "output_type": "stream",
     "text": [
      " 44%|████▍     | 451/1022 [02:56<04:39,  2.04it/s]"
     ]
    },
    {
     "name": "stdout",
     "output_type": "stream",
     "text": [
      "결과를 찾을 수 없습니다. 다시 검색합니다.\n",
      "결과를 찾을 수 없습니다. 다시 검색합니다.\n",
      "['입술', '구강점막의 기타 질환']\n"
     ]
    },
    {
     "name": "stderr",
     "output_type": "stream",
     "text": [
      " 44%|████▍     | 452/1022 [02:57<05:27,  1.74it/s]"
     ]
    },
    {
     "name": "stdout",
     "output_type": "stream",
     "text": [
      "결과를 찾을 수 없습니다. 다시 검색합니다.\n"
     ]
    },
    {
     "name": "stderr",
     "output_type": "stream",
     "text": [
      " 44%|████▍     | 453/1022 [02:57<04:31,  2.09it/s]"
     ]
    },
    {
     "name": "stdout",
     "output_type": "stream",
     "text": [
      "결과를 찾을 수 없습니다. 다시 검색합니다.\n",
      "결과를 찾을 수 없습니다\n"
     ]
    },
    {
     "name": "stderr",
     "output_type": "stream",
     "text": [
      " 45%|████▍     | 455/1022 [02:58<03:30,  2.69it/s]"
     ]
    },
    {
     "name": "stdout",
     "output_type": "stream",
     "text": [
      "결과를 찾을 수 없습니다. 다시 검색합니다.\n",
      "결과를 찾을 수 없습니다\n"
     ]
    },
    {
     "name": "stderr",
     "output_type": "stream",
     "text": [
      " 45%|████▍     | 456/1022 [02:58<03:08,  3.00it/s]"
     ]
    },
    {
     "name": "stdout",
     "output_type": "stream",
     "text": [
      "결과를 찾을 수 없습니다. 다시 검색합니다.\n",
      "결과를 찾을 수 없습니다\n"
     ]
    },
    {
     "name": "stderr",
     "output_type": "stream",
     "text": [
      " 45%|████▍     | 458/1022 [02:58<02:44,  3.42it/s]"
     ]
    },
    {
     "name": "stdout",
     "output_type": "stream",
     "text": [
      "결과를 찾을 수 없습니다. 다시 검색합니다.\n",
      "결과를 찾을 수 없습니다\n"
     ]
    },
    {
     "name": "stderr",
     "output_type": "stream",
     "text": [
      " 45%|████▍     | 459/1022 [02:59<02:38,  3.55it/s]"
     ]
    },
    {
     "name": "stdout",
     "output_type": "stream",
     "text": [
      "결과를 찾을 수 없습니다. 다시 검색합니다.\n",
      "결과를 찾을 수 없습니다\n"
     ]
    },
    {
     "name": "stderr",
     "output_type": "stream",
     "text": [
      " 45%|████▌     | 460/1022 [02:59<02:35,  3.62it/s]"
     ]
    },
    {
     "name": "stdout",
     "output_type": "stream",
     "text": [
      "결과를 찾을 수 없습니다. 다시 검색합니다.\n",
      "결과를 찾을 수 없습니다\n",
      "결과를 찾을 수 없습니다. 다시 검색합니다.\n",
      "['위염', '십이지장염']\n"
     ]
    },
    {
     "name": "stderr",
     "output_type": "stream",
     "text": [
      " 45%|████▌     | 462/1022 [03:00<03:31,  2.65it/s]"
     ]
    },
    {
     "name": "stdout",
     "output_type": "stream",
     "text": [
      "결과를 찾을 수 없습니다. 다시 검색합니다.\n",
      "결과를 찾을 수 없습니다\n",
      "결과를 찾을 수 없습니다. 다시 검색합니다.\n",
      "['위', '십이지장의 기타 질환']\n"
     ]
    },
    {
     "name": "stderr",
     "output_type": "stream",
     "text": [
      " 45%|████▌     | 463/1022 [03:01<04:49,  1.93it/s]"
     ]
    },
    {
     "name": "stdout",
     "output_type": "stream",
     "text": [
      "결과를 찾을 수 없습니다. 다시 검색합니다.\n"
     ]
    },
    {
     "name": "stderr",
     "output_type": "stream",
     "text": [
      " 45%|████▌     | 465/1022 [03:01<03:45,  2.47it/s]"
     ]
    },
    {
     "name": "stdout",
     "output_type": "stream",
     "text": [
      "결과를 찾을 수 없습니다. 다시 검색합니다.\n",
      "결과를 찾을 수 없습니다\n"
     ]
    },
    {
     "name": "stderr",
     "output_type": "stream",
     "text": [
      " 46%|████▌     | 466/1022 [03:02<03:21,  2.76it/s]"
     ]
    },
    {
     "name": "stdout",
     "output_type": "stream",
     "text": [
      "결과를 찾을 수 없습니다. 다시 검색합니다.\n",
      "결과를 찾을 수 없습니다\n"
     ]
    },
    {
     "name": "stderr",
     "output_type": "stream",
     "text": [
      " 46%|████▌     | 467/1022 [03:02<03:02,  3.04it/s]"
     ]
    },
    {
     "name": "stdout",
     "output_type": "stream",
     "text": [
      "결과를 찾을 수 없습니다. 다시 검색합니다.\n",
      "결과를 찾을 수 없습니다\n"
     ]
    },
    {
     "name": "stderr",
     "output_type": "stream",
     "text": [
      " 46%|████▌     | 468/1022 [03:02<02:50,  3.25it/s]"
     ]
    },
    {
     "name": "stdout",
     "output_type": "stream",
     "text": [
      "결과를 찾을 수 없습니다. 다시 검색합니다.\n",
      "결과를 찾을 수 없습니다\n"
     ]
    },
    {
     "name": "stderr",
     "output_type": "stream",
     "text": [
      " 46%|████▌     | 469/1022 [03:02<02:39,  3.47it/s]"
     ]
    },
    {
     "name": "stdout",
     "output_type": "stream",
     "text": [
      "결과를 찾을 수 없습니다. 다시 검색합니다.\n",
      "['기타 비감염성 위장염', '결장염']\n",
      "결과를 찾을 수 없습니다. 다시 검색합니다.\n"
     ]
    },
    {
     "name": "stderr",
     "output_type": "stream",
     "text": [
      " 46%|████▌     | 471/1022 [03:03<03:27,  2.65it/s]"
     ]
    },
    {
     "name": "stdout",
     "output_type": "stream",
     "text": [
      "결과를 찾을 수 없습니다. 다시 검색합니다.\n",
      "결과를 찾을 수 없습니다\n",
      "결과를 찾을 수 없습니다. 다시 검색합니다.\n",
      "['탈장이 없는 마비성 장폐색증', '장폐색']\n",
      "결과를 찾을 수 없습니다. 다시 검색합니다.\n"
     ]
    },
    {
     "name": "stderr",
     "output_type": "stream",
     "text": [
      " 46%|████▋     | 473/1022 [03:04<04:00,  2.29it/s]"
     ]
    },
    {
     "name": "stdout",
     "output_type": "stream",
     "text": [
      "결과를 찾을 수 없습니다. 다시 검색합니다.\n",
      "결과를 찾을 수 없습니다\n"
     ]
    },
    {
     "name": "stderr",
     "output_type": "stream",
     "text": [
      " 46%|████▋     | 474/1022 [03:05<03:33,  2.57it/s]"
     ]
    },
    {
     "name": "stdout",
     "output_type": "stream",
     "text": [
      "결과를 찾을 수 없습니다. 다시 검색합니다.\n",
      "결과를 찾을 수 없습니다\n"
     ]
    },
    {
     "name": "stderr",
     "output_type": "stream",
     "text": [
      " 46%|████▋     | 475/1022 [03:05<03:21,  2.72it/s]"
     ]
    },
    {
     "name": "stdout",
     "output_type": "stream",
     "text": [
      "결과를 찾을 수 없습니다. 다시 검색합니다.\n",
      "결과를 찾을 수 없습니다\n",
      "결과를 찾을 수 없습니다. 다시 검색합니다.\n",
      "['항문', '직장부의 열창', '누공']\n",
      "결과를 찾을 수 없습니다. 다시 검색합니다.\n"
     ]
    },
    {
     "name": "stderr",
     "output_type": "stream",
     "text": [
      " 47%|████▋     | 476/1022 [03:06<05:09,  1.76it/s]"
     ]
    },
    {
     "name": "stdout",
     "output_type": "stream",
     "text": [
      "결과를 찾을 수 없습니다. 다시 검색합니다.\n",
      "['항문', '직장부의 농양']\n"
     ]
    },
    {
     "name": "stderr",
     "output_type": "stream",
     "text": [
      " 47%|████▋     | 477/1022 [03:07<05:42,  1.59it/s]"
     ]
    },
    {
     "name": "stdout",
     "output_type": "stream",
     "text": [
      "결과를 찾을 수 없습니다. 다시 검색합니다.\n",
      "결과를 찾을 수 없습니다. 다시 검색합니다.\n",
      "['항문', '직장의 기타 질환']\n"
     ]
    },
    {
     "name": "stderr",
     "output_type": "stream",
     "text": [
      " 47%|████▋     | 478/1022 [03:08<06:06,  1.49it/s]"
     ]
    },
    {
     "name": "stdout",
     "output_type": "stream",
     "text": [
      "결과를 찾을 수 없습니다. 다시 검색합니다.\n"
     ]
    },
    {
     "name": "stderr",
     "output_type": "stream",
     "text": [
      " 47%|████▋     | 479/1022 [03:08<04:56,  1.83it/s]"
     ]
    },
    {
     "name": "stdout",
     "output_type": "stream",
     "text": [
      "결과를 찾을 수 없습니다. 다시 검색합니다.\n",
      "결과를 찾을 수 없습니다\n",
      "결과를 찾을 수 없습니다. 다시 검색합니다.\n",
      "['치핵', '항문주위정맥혈전증']\n"
     ]
    },
    {
     "name": "stderr",
     "output_type": "stream",
     "text": [
      " 47%|████▋     | 480/1022 [03:09<05:34,  1.62it/s]"
     ]
    },
    {
     "name": "stdout",
     "output_type": "stream",
     "text": [
      "결과를 찾을 수 없습니다. 다시 검색합니다.\n"
     ]
    },
    {
     "name": "stderr",
     "output_type": "stream",
     "text": [
      " 47%|████▋     | 482/1022 [03:09<04:01,  2.24it/s]"
     ]
    },
    {
     "name": "stdout",
     "output_type": "stream",
     "text": [
      "결과를 찾을 수 없습니다. 다시 검색합니다.\n",
      "결과를 찾을 수 없습니다\n"
     ]
    },
    {
     "name": "stderr",
     "output_type": "stream",
     "text": [
      " 47%|████▋     | 484/1022 [03:10<03:08,  2.85it/s]"
     ]
    },
    {
     "name": "stdout",
     "output_type": "stream",
     "text": [
      "결과를 찾을 수 없습니다. 다시 검색합니다.\n",
      "결과를 찾을 수 없습니다\n"
     ]
    },
    {
     "name": "stderr",
     "output_type": "stream",
     "text": [
      " 47%|████▋     | 485/1022 [03:10<02:52,  3.11it/s]"
     ]
    },
    {
     "name": "stdout",
     "output_type": "stream",
     "text": [
      "결과를 찾을 수 없습니다. 다시 검색합니다.\n",
      "결과를 찾을 수 없습니다\n"
     ]
    },
    {
     "name": "stderr",
     "output_type": "stream",
     "text": [
      " 48%|████▊     | 486/1022 [03:10<02:40,  3.34it/s]"
     ]
    },
    {
     "name": "stdout",
     "output_type": "stream",
     "text": [
      "결과를 찾을 수 없습니다. 다시 검색합니다.\n",
      "결과를 찾을 수 없습니다\n",
      "결과를 찾을 수 없습니다. 다시 검색합니다.\n",
      "['간의 섬유증', '경변증']\n",
      "결과를 찾을 수 없습니다. 다시 검색합니다.\n"
     ]
    },
    {
     "name": "stderr",
     "output_type": "stream",
     "text": [
      " 48%|████▊     | 488/1022 [03:11<03:25,  2.59it/s]"
     ]
    },
    {
     "name": "stdout",
     "output_type": "stream",
     "text": [
      "결과를 찾을 수 없습니다. 다시 검색합니다.\n",
      "결과를 찾을 수 없습니다\n"
     ]
    },
    {
     "name": "stderr",
     "output_type": "stream",
     "text": [
      " 48%|████▊     | 489/1022 [03:12<03:08,  2.83it/s]"
     ]
    },
    {
     "name": "stdout",
     "output_type": "stream",
     "text": [
      "결과를 찾을 수 없습니다. 다시 검색합니다.\n",
      "결과를 찾을 수 없습니다\n"
     ]
    },
    {
     "name": "stderr",
     "output_type": "stream",
     "text": [
      " 48%|████▊     | 490/1022 [03:12<02:53,  3.07it/s]"
     ]
    },
    {
     "name": "stdout",
     "output_type": "stream",
     "text": [
      "결과를 찾을 수 없습니다. 다시 검색합니다.\n",
      "결과를 찾을 수 없습니다\n"
     ]
    },
    {
     "name": "stderr",
     "output_type": "stream",
     "text": [
      " 48%|████▊     | 493/1022 [03:13<02:29,  3.55it/s]"
     ]
    },
    {
     "name": "stdout",
     "output_type": "stream",
     "text": [
      "결과를 찾을 수 없습니다. 다시 검색합니다.\n",
      "결과를 찾을 수 없습니다\n"
     ]
    },
    {
     "name": "stderr",
     "output_type": "stream",
     "text": [
      " 48%|████▊     | 494/1022 [03:13<02:34,  3.41it/s]"
     ]
    },
    {
     "name": "stdout",
     "output_type": "stream",
     "text": [
      "결과를 찾을 수 없습니다. 다시 검색합니다.\n",
      "결과를 찾을 수 없습니다\n"
     ]
    },
    {
     "name": "stderr",
     "output_type": "stream",
     "text": [
      " 49%|████▊     | 496/1022 [03:13<02:22,  3.68it/s]"
     ]
    },
    {
     "name": "stdout",
     "output_type": "stream",
     "text": [
      "결과를 찾을 수 없습니다. 다시 검색합니다.\n",
      "결과를 찾을 수 없습니다\n",
      "결과를 찾을 수 없습니다. 다시 검색합니다.\n",
      "['달리 분류된 질환에서의 담낭, 담도', '췌장의 장애']\n",
      "결과를 찾을 수 없습니다. 다시 검색합니다.\n"
     ]
    },
    {
     "name": "stderr",
     "output_type": "stream",
     "text": [
      " 49%|████▊     | 497/1022 [03:14<03:39,  2.39it/s]"
     ]
    },
    {
     "name": "stdout",
     "output_type": "stream",
     "text": [
      "결과를 찾을 수 없습니다. 다시 검색합니다.\n"
     ]
    },
    {
     "name": "stderr",
     "output_type": "stream",
     "text": [
      " 49%|████▊     | 498/1022 [03:14<03:14,  2.70it/s]"
     ]
    },
    {
     "name": "stdout",
     "output_type": "stream",
     "text": [
      "결과를 찾을 수 없습니다. 다시 검색합니다.\n",
      "결과를 찾을 수 없습니다\n"
     ]
    },
    {
     "name": "stderr",
     "output_type": "stream",
     "text": [
      " 49%|████▉     | 499/1022 [03:15<02:57,  2.95it/s]"
     ]
    },
    {
     "name": "stdout",
     "output_type": "stream",
     "text": [
      "결과를 찾을 수 없습니다. 다시 검색합니다.\n",
      "결과를 찾을 수 없습니다\n"
     ]
    },
    {
     "name": "stderr",
     "output_type": "stream",
     "text": [
      " 49%|████▉     | 500/1022 [03:15<02:47,  3.12it/s]"
     ]
    },
    {
     "name": "stdout",
     "output_type": "stream",
     "text": [
      "결과를 찾을 수 없습니다. 다시 검색합니다.\n",
      "결과를 찾을 수 없습니다\n"
     ]
    },
    {
     "name": "stderr",
     "output_type": "stream",
     "text": [
      " 49%|████▉     | 501/1022 [03:15<02:37,  3.31it/s]"
     ]
    },
    {
     "name": "stdout",
     "output_type": "stream",
     "text": [
      "결과를 찾을 수 없습니다. 다시 검색합니다.\n",
      "결과를 찾을 수 없습니다\n"
     ]
    },
    {
     "name": "stderr",
     "output_type": "stream",
     "text": [
      " 49%|████▉     | 502/1022 [03:15<02:30,  3.45it/s]"
     ]
    },
    {
     "name": "stdout",
     "output_type": "stream",
     "text": [
      "결과를 찾을 수 없습니다. 다시 검색합니다.\n",
      "['피부의 농양, 종기', '큰종기']\n",
      "결과를 찾을 수 없습니다. 다시 검색합니다.\n"
     ]
    },
    {
     "name": "stderr",
     "output_type": "stream",
     "text": [
      " 49%|████▉     | 503/1022 [03:16<03:45,  2.30it/s]"
     ]
    },
    {
     "name": "stdout",
     "output_type": "stream",
     "text": [
      "결과를 찾을 수 없습니다. 다시 검색합니다.\n"
     ]
    },
    {
     "name": "stderr",
     "output_type": "stream",
     "text": [
      " 50%|████▉     | 506/1022 [03:17<02:48,  3.06it/s]"
     ]
    },
    {
     "name": "stdout",
     "output_type": "stream",
     "text": [
      "결과를 찾을 수 없습니다. 다시 검색합니다.\n",
      "결과를 찾을 수 없습니다\n",
      "결과를 찾을 수 없습니다. 다시 검색합니다.\n",
      "['피부', '피하조직의 기타 국소감염']\n"
     ]
    },
    {
     "name": "stderr",
     "output_type": "stream",
     "text": [
      " 50%|████▉     | 507/1022 [03:18<04:04,  2.11it/s]"
     ]
    },
    {
     "name": "stdout",
     "output_type": "stream",
     "text": [
      "결과를 찾을 수 없습니다. 다시 검색합니다.\n"
     ]
    },
    {
     "name": "stderr",
     "output_type": "stream",
     "text": [
      " 50%|████▉     | 508/1022 [03:18<03:30,  2.45it/s]"
     ]
    },
    {
     "name": "stdout",
     "output_type": "stream",
     "text": [
      "결과를 찾을 수 없습니다. 다시 검색합니다.\n",
      "결과를 찾을 수 없습니다\n"
     ]
    },
    {
     "name": "stderr",
     "output_type": "stream",
     "text": [
      " 50%|█████     | 511/1022 [03:19<02:37,  3.25it/s]"
     ]
    },
    {
     "name": "stdout",
     "output_type": "stream",
     "text": [
      "결과를 찾을 수 없습니다. 다시 검색합니다.\n",
      "결과를 찾을 수 없습니다\n"
     ]
    },
    {
     "name": "stderr",
     "output_type": "stream",
     "text": [
      " 50%|█████     | 512/1022 [03:19<02:31,  3.36it/s]"
     ]
    },
    {
     "name": "stdout",
     "output_type": "stream",
     "text": [
      "결과를 찾을 수 없습니다. 다시 검색합니다.\n",
      "결과를 찾을 수 없습니다\n"
     ]
    },
    {
     "name": "stderr",
     "output_type": "stream",
     "text": [
      " 50%|█████     | 513/1022 [03:19<02:30,  3.39it/s]"
     ]
    },
    {
     "name": "stdout",
     "output_type": "stream",
     "text": [
      "결과를 찾을 수 없습니다. 다시 검색합니다.\n",
      "결과를 찾을 수 없습니다\n"
     ]
    },
    {
     "name": "stderr",
     "output_type": "stream",
     "text": [
      " 50%|█████     | 514/1022 [03:20<02:22,  3.56it/s]"
     ]
    },
    {
     "name": "stdout",
     "output_type": "stream",
     "text": [
      "결과를 찾을 수 없습니다. 다시 검색합니다.\n",
      "결과를 찾을 수 없습니다\n"
     ]
    },
    {
     "name": "stderr",
     "output_type": "stream",
     "text": [
      " 50%|█████     | 515/1022 [03:20<02:17,  3.68it/s]"
     ]
    },
    {
     "name": "stdout",
     "output_type": "stream",
     "text": [
      "결과를 찾을 수 없습니다. 다시 검색합니다.\n",
      "결과를 찾을 수 없습니다\n",
      "결과를 찾을 수 없습니다. 다시 검색합니다.\n",
      "['만성 단순태선', '가려움발진']\n",
      "결과를 찾을 수 없습니다. 다시 검색합니다.\n"
     ]
    },
    {
     "name": "stderr",
     "output_type": "stream",
     "text": [
      " 50%|█████     | 516/1022 [03:21<03:40,  2.29it/s]"
     ]
    },
    {
     "name": "stdout",
     "output_type": "stream",
     "text": [
      "결과를 찾을 수 없습니다. 다시 검색합니다.\n"
     ]
    },
    {
     "name": "stderr",
     "output_type": "stream",
     "text": [
      " 51%|█████     | 518/1022 [03:21<02:51,  2.93it/s]"
     ]
    },
    {
     "name": "stdout",
     "output_type": "stream",
     "text": [
      "결과를 찾을 수 없습니다. 다시 검색합니다.\n",
      "결과를 찾을 수 없습니다\n"
     ]
    },
    {
     "name": "stderr",
     "output_type": "stream",
     "text": [
      " 51%|█████     | 520/1022 [03:22<02:30,  3.34it/s]"
     ]
    },
    {
     "name": "stdout",
     "output_type": "stream",
     "text": [
      "결과를 찾을 수 없습니다. 다시 검색합니다.\n",
      "결과를 찾을 수 없습니다\n"
     ]
    },
    {
     "name": "stderr",
     "output_type": "stream",
     "text": [
      " 51%|█████     | 522/1022 [03:22<02:18,  3.62it/s]"
     ]
    },
    {
     "name": "stdout",
     "output_type": "stream",
     "text": [
      "결과를 찾을 수 없습니다. 다시 검색합니다.\n",
      "결과를 찾을 수 없습니다\n"
     ]
    },
    {
     "name": "stderr",
     "output_type": "stream",
     "text": [
      " 51%|█████▏    | 524/1022 [03:23<02:13,  3.73it/s]"
     ]
    },
    {
     "name": "stdout",
     "output_type": "stream",
     "text": [
      "결과를 찾을 수 없습니다. 다시 검색합니다.\n",
      "결과를 찾을 수 없습니다\n"
     ]
    },
    {
     "name": "stderr",
     "output_type": "stream",
     "text": [
      " 51%|█████▏    | 525/1022 [03:23<02:12,  3.75it/s]"
     ]
    },
    {
     "name": "stdout",
     "output_type": "stream",
     "text": [
      "결과를 찾을 수 없습니다. 다시 검색합니다.\n",
      "결과를 찾을 수 없습니다\n"
     ]
    },
    {
     "name": "stderr",
     "output_type": "stream",
     "text": [
      " 51%|█████▏    | 526/1022 [03:23<02:15,  3.67it/s]"
     ]
    },
    {
     "name": "stdout",
     "output_type": "stream",
     "text": [
      "결과를 찾을 수 없습니다. 다시 검색합니다.\n",
      "결과를 찾을 수 없습니다\n"
     ]
    },
    {
     "name": "stderr",
     "output_type": "stream",
     "text": [
      " 52%|█████▏    | 527/1022 [03:24<02:12,  3.74it/s]"
     ]
    },
    {
     "name": "stdout",
     "output_type": "stream",
     "text": [
      "결과를 찾을 수 없습니다. 다시 검색합니다.\n",
      "결과를 찾을 수 없습니다\n"
     ]
    },
    {
     "name": "stderr",
     "output_type": "stream",
     "text": [
      " 52%|█████▏    | 528/1022 [03:24<02:11,  3.76it/s]"
     ]
    },
    {
     "name": "stdout",
     "output_type": "stream",
     "text": [
      "결과를 찾을 수 없습니다. 다시 검색합니다.\n",
      "결과를 찾을 수 없습니다\n"
     ]
    },
    {
     "name": "stderr",
     "output_type": "stream",
     "text": [
      " 52%|█████▏    | 529/1022 [03:24<02:18,  3.55it/s]"
     ]
    },
    {
     "name": "stdout",
     "output_type": "stream",
     "text": [
      "결과를 찾을 수 없습니다. 다시 검색합니다.\n",
      "결과를 찾을 수 없습니다\n"
     ]
    },
    {
     "name": "stderr",
     "output_type": "stream",
     "text": [
      " 52%|█████▏    | 530/1022 [03:24<02:11,  3.73it/s]"
     ]
    },
    {
     "name": "stdout",
     "output_type": "stream",
     "text": [
      "결과를 찾을 수 없습니다. 다시 검색합니다.\n",
      "결과를 찾을 수 없습니다\n"
     ]
    },
    {
     "name": "stderr",
     "output_type": "stream",
     "text": [
      " 52%|█████▏    | 531/1022 [03:25<02:08,  3.81it/s]"
     ]
    },
    {
     "name": "stdout",
     "output_type": "stream",
     "text": [
      "결과를 찾을 수 없습니다. 다시 검색합니다.\n",
      "결과를 찾을 수 없습니다\n"
     ]
    },
    {
     "name": "stderr",
     "output_type": "stream",
     "text": [
      " 52%|█████▏    | 532/1022 [03:25<02:07,  3.84it/s]"
     ]
    },
    {
     "name": "stdout",
     "output_type": "stream",
     "text": [
      "결과를 찾을 수 없습니다. 다시 검색합니다.\n",
      "결과를 찾을 수 없습니다\n"
     ]
    },
    {
     "name": "stderr",
     "output_type": "stream",
     "text": [
      " 52%|█████▏    | 533/1022 [03:25<02:05,  3.90it/s]"
     ]
    },
    {
     "name": "stdout",
     "output_type": "stream",
     "text": [
      "결과를 찾을 수 없습니다. 다시 검색합니다.\n",
      "결과를 찾을 수 없습니다\n"
     ]
    },
    {
     "name": "stderr",
     "output_type": "stream",
     "text": [
      " 52%|█████▏    | 536/1022 [03:26<02:03,  3.94it/s]"
     ]
    },
    {
     "name": "stdout",
     "output_type": "stream",
     "text": [
      "결과를 찾을 수 없습니다. 다시 검색합니다.\n",
      "['피부', '피하조직의 모낭낭']\n"
     ]
    },
    {
     "name": "stderr",
     "output_type": "stream",
     "text": [
      " 53%|█████▎    | 537/1022 [03:27<03:24,  2.37it/s]"
     ]
    },
    {
     "name": "stdout",
     "output_type": "stream",
     "text": [
      "결과를 찾을 수 없습니다. 다시 검색합니다.\n"
     ]
    },
    {
     "name": "stderr",
     "output_type": "stream",
     "text": [
      " 53%|█████▎    | 538/1022 [03:27<02:58,  2.71it/s]"
     ]
    },
    {
     "name": "stdout",
     "output_type": "stream",
     "text": [
      "결과를 찾을 수 없습니다. 다시 검색합니다.\n",
      "결과를 찾을 수 없습니다\n"
     ]
    },
    {
     "name": "stderr",
     "output_type": "stream",
     "text": [
      " 53%|█████▎    | 539/1022 [03:27<02:41,  2.99it/s]"
     ]
    },
    {
     "name": "stdout",
     "output_type": "stream",
     "text": [
      "결과를 찾을 수 없습니다. 다시 검색합니다.\n",
      "결과를 찾을 수 없습니다\n"
     ]
    },
    {
     "name": "stderr",
     "output_type": "stream",
     "text": [
      " 53%|█████▎    | 541/1022 [03:28<02:32,  3.15it/s]"
     ]
    },
    {
     "name": "stdout",
     "output_type": "stream",
     "text": [
      "결과를 찾을 수 없습니다. 다시 검색합니다.\n",
      "결과를 찾을 수 없습니다\n"
     ]
    },
    {
     "name": "stderr",
     "output_type": "stream",
     "text": [
      " 53%|█████▎    | 542/1022 [03:28<02:23,  3.36it/s]"
     ]
    },
    {
     "name": "stdout",
     "output_type": "stream",
     "text": [
      "결과를 찾을 수 없습니다. 다시 검색합니다.\n",
      "결과를 찾을 수 없습니다\n"
     ]
    },
    {
     "name": "stderr",
     "output_type": "stream",
     "text": [
      " 53%|█████▎    | 543/1022 [03:28<02:19,  3.42it/s]"
     ]
    },
    {
     "name": "stdout",
     "output_type": "stream",
     "text": [
      "결과를 찾을 수 없습니다. 다시 검색합니다.\n",
      "결과를 찾을 수 없습니다\n"
     ]
    },
    {
     "name": "stderr",
     "output_type": "stream",
     "text": [
      " 53%|█████▎    | 545/1022 [03:29<02:12,  3.60it/s]"
     ]
    },
    {
     "name": "stdout",
     "output_type": "stream",
     "text": [
      "결과를 찾을 수 없습니다. 다시 검색합니다.\n",
      "결과를 찾을 수 없습니다\n"
     ]
    },
    {
     "name": "stderr",
     "output_type": "stream",
     "text": [
      " 53%|█████▎    | 546/1022 [03:29<02:11,  3.62it/s]"
     ]
    },
    {
     "name": "stdout",
     "output_type": "stream",
     "text": [
      "결과를 찾을 수 없습니다. 다시 검색합니다.\n",
      "결과를 찾을 수 없습니다\n",
      "결과를 찾을 수 없습니다. 다시 검색합니다.\n",
      "['욕창궤양', '압박부위']\n",
      "결과를 찾을 수 없습니다. 다시 검색합니다.\n"
     ]
    },
    {
     "name": "stderr",
     "output_type": "stream",
     "text": [
      " 54%|█████▎    | 547/1022 [03:30<03:19,  2.38it/s]"
     ]
    },
    {
     "name": "stdout",
     "output_type": "stream",
     "text": [
      "결과를 찾을 수 없습니다. 다시 검색합니다.\n"
     ]
    },
    {
     "name": "stderr",
     "output_type": "stream",
     "text": [
      " 54%|█████▎    | 548/1022 [03:30<02:56,  2.68it/s]"
     ]
    },
    {
     "name": "stdout",
     "output_type": "stream",
     "text": [
      "결과를 찾을 수 없습니다. 다시 검색합니다.\n",
      "결과를 찾을 수 없습니다\n"
     ]
    },
    {
     "name": "stderr",
     "output_type": "stream",
     "text": [
      " 54%|█████▎    | 549/1022 [03:30<02:38,  2.99it/s]"
     ]
    },
    {
     "name": "stdout",
     "output_type": "stream",
     "text": [
      "결과를 찾을 수 없습니다. 다시 검색합니다.\n",
      "결과를 찾을 수 없습니다\n",
      "결과를 찾을 수 없습니다. 다시 검색합니다.\n",
      "['피부', '피하조직의 육아종성 장애']\n"
     ]
    },
    {
     "name": "stderr",
     "output_type": "stream",
     "text": [
      " 54%|█████▍    | 550/1022 [03:31<03:43,  2.11it/s]"
     ]
    },
    {
     "name": "stdout",
     "output_type": "stream",
     "text": [
      "결과를 찾을 수 없습니다. 다시 검색합니다.\n"
     ]
    },
    {
     "name": "stderr",
     "output_type": "stream",
     "text": [
      " 54%|█████▍    | 551/1022 [03:32<03:22,  2.33it/s]"
     ]
    },
    {
     "name": "stdout",
     "output_type": "stream",
     "text": [
      "결과를 찾을 수 없습니다. 다시 검색합니다.\n",
      "결과를 찾을 수 없습니다\n"
     ]
    },
    {
     "name": "stderr",
     "output_type": "stream",
     "text": [
      " 54%|█████▍    | 552/1022 [03:32<02:57,  2.65it/s]"
     ]
    },
    {
     "name": "stdout",
     "output_type": "stream",
     "text": [
      "결과를 찾을 수 없습니다. 다시 검색합니다.\n",
      "결과를 찾을 수 없습니다\n",
      "결과를 찾을 수 없습니다. 다시 검색합니다.\n",
      "['달리 분류되지 않은 피부', '피하조직의 기타 장애']\n",
      "결과를 찾을 수 없습니다. 다시 검색합니다.\n"
     ]
    },
    {
     "name": "stderr",
     "output_type": "stream",
     "text": [
      " 54%|█████▍    | 553/1022 [03:33<03:49,  2.04it/s]"
     ]
    },
    {
     "name": "stdout",
     "output_type": "stream",
     "text": [
      "결과를 찾을 수 없습니다. 다시 검색합니다.\n"
     ]
    },
    {
     "name": "stderr",
     "output_type": "stream",
     "text": [
      " 54%|█████▍    | 554/1022 [03:33<03:17,  2.37it/s]"
     ]
    },
    {
     "name": "stdout",
     "output_type": "stream",
     "text": [
      "결과를 찾을 수 없습니다. 다시 검색합니다.\n",
      "결과를 찾을 수 없습니다\n"
     ]
    },
    {
     "name": "stderr",
     "output_type": "stream",
     "text": [
      " 54%|█████▍    | 555/1022 [03:33<02:53,  2.70it/s]"
     ]
    },
    {
     "name": "stdout",
     "output_type": "stream",
     "text": [
      "결과를 찾을 수 없습니다. 다시 검색합니다.\n",
      "결과를 찾을 수 없습니다\n"
     ]
    },
    {
     "name": "stderr",
     "output_type": "stream",
     "text": [
      " 54%|█████▍    | 556/1022 [03:33<02:36,  2.98it/s]"
     ]
    },
    {
     "name": "stdout",
     "output_type": "stream",
     "text": [
      "결과를 찾을 수 없습니다. 다시 검색합니다.\n",
      "결과를 찾을 수 없습니다\n"
     ]
    },
    {
     "name": "stderr",
     "output_type": "stream",
     "text": [
      " 55%|█████▍    | 557/1022 [03:34<02:24,  3.22it/s]"
     ]
    },
    {
     "name": "stdout",
     "output_type": "stream",
     "text": [
      "결과를 찾을 수 없습니다. 다시 검색합니다.\n",
      "결과를 찾을 수 없습니다\n",
      "결과를 찾을 수 없습니다. 다시 검색합니다.\n",
      "['건선성', '장병성 관절병증']\n",
      "결과를 찾을 수 없습니다. 다시 검색합니다.\n"
     ]
    },
    {
     "name": "stderr",
     "output_type": "stream",
     "text": [
      " 55%|█████▍    | 558/1022 [03:34<03:29,  2.21it/s]"
     ]
    },
    {
     "name": "stdout",
     "output_type": "stream",
     "text": [
      "결과를 찾을 수 없습니다. 다시 검색합니다.\n"
     ]
    },
    {
     "name": "stderr",
     "output_type": "stream",
     "text": [
      " 55%|█████▍    | 560/1022 [03:35<02:41,  2.85it/s]"
     ]
    },
    {
     "name": "stdout",
     "output_type": "stream",
     "text": [
      "결과를 찾을 수 없습니다. 다시 검색합니다.\n",
      "결과를 찾을 수 없습니다\n"
     ]
    },
    {
     "name": "stderr",
     "output_type": "stream",
     "text": [
      " 55%|█████▍    | 561/1022 [03:35<02:37,  2.93it/s]"
     ]
    },
    {
     "name": "stdout",
     "output_type": "stream",
     "text": [
      "결과를 찾을 수 없습니다. 다시 검색합니다.\n",
      "결과를 찾을 수 없습니다\n"
     ]
    },
    {
     "name": "stderr",
     "output_type": "stream",
     "text": [
      " 55%|█████▍    | 562/1022 [03:35<02:23,  3.21it/s]"
     ]
    },
    {
     "name": "stdout",
     "output_type": "stream",
     "text": [
      "결과를 찾을 수 없습니다. 다시 검색합니다.\n",
      "결과를 찾을 수 없습니다\n"
     ]
    },
    {
     "name": "stderr",
     "output_type": "stream",
     "text": [
      " 55%|█████▌    | 563/1022 [03:36<02:15,  3.38it/s]"
     ]
    },
    {
     "name": "stdout",
     "output_type": "stream",
     "text": [
      "결과를 찾을 수 없습니다. 다시 검색합니다.\n",
      "결과를 찾을 수 없습니다\n"
     ]
    },
    {
     "name": "stderr",
     "output_type": "stream",
     "text": [
      " 55%|█████▌    | 564/1022 [03:36<02:08,  3.57it/s]"
     ]
    },
    {
     "name": "stdout",
     "output_type": "stream",
     "text": [
      "결과를 찾을 수 없습니다. 다시 검색합니다.\n",
      "결과를 찾을 수 없습니다\n"
     ]
    },
    {
     "name": "stderr",
     "output_type": "stream",
     "text": [
      " 55%|█████▌    | 567/1022 [03:37<01:59,  3.81it/s]"
     ]
    },
    {
     "name": "stdout",
     "output_type": "stream",
     "text": [
      "결과를 찾을 수 없습니다. 다시 검색합니다.\n",
      "결과를 찾을 수 없습니다\n"
     ]
    },
    {
     "name": "stderr",
     "output_type": "stream",
     "text": [
      " 56%|█████▌    | 568/1022 [03:37<01:56,  3.90it/s]"
     ]
    },
    {
     "name": "stdout",
     "output_type": "stream",
     "text": [
      "결과를 찾을 수 없습니다. 다시 검색합니다.\n",
      "결과를 찾을 수 없습니다\n",
      "결과를 찾을 수 없습니다. 다시 검색합니다.\n",
      "['손가락', '발가락의 후천변형']\n"
     ]
    },
    {
     "name": "stderr",
     "output_type": "stream",
     "text": [
      " 56%|█████▌    | 569/1022 [03:38<03:05,  2.44it/s]"
     ]
    },
    {
     "name": "stdout",
     "output_type": "stream",
     "text": [
      "결과를 찾을 수 없습니다. 다시 검색합니다.\n"
     ]
    },
    {
     "name": "stderr",
     "output_type": "stream",
     "text": [
      " 56%|█████▌    | 570/1022 [03:38<02:42,  2.77it/s]"
     ]
    },
    {
     "name": "stdout",
     "output_type": "stream",
     "text": [
      "결과를 찾을 수 없습니다. 다시 검색합니다.\n",
      "결과를 찾을 수 없습니다\n"
     ]
    },
    {
     "name": "stderr",
     "output_type": "stream",
     "text": [
      " 56%|█████▌    | 571/1022 [03:38<02:28,  3.03it/s]"
     ]
    },
    {
     "name": "stdout",
     "output_type": "stream",
     "text": [
      "결과를 찾을 수 없습니다. 다시 검색합니다.\n",
      "결과를 찾을 수 없습니다\n"
     ]
    },
    {
     "name": "stderr",
     "output_type": "stream",
     "text": [
      " 56%|█████▌    | 572/1022 [03:39<02:16,  3.30it/s]"
     ]
    },
    {
     "name": "stdout",
     "output_type": "stream",
     "text": [
      "결과를 찾을 수 없습니다. 다시 검색합니다.\n",
      "결과를 찾을 수 없습니다\n"
     ]
    },
    {
     "name": "stderr",
     "output_type": "stream",
     "text": [
      " 56%|█████▌    | 573/1022 [03:39<02:08,  3.51it/s]"
     ]
    },
    {
     "name": "stdout",
     "output_type": "stream",
     "text": [
      "결과를 찾을 수 없습니다. 다시 검색합니다.\n",
      "결과를 찾을 수 없습니다\n"
     ]
    },
    {
     "name": "stderr",
     "output_type": "stream",
     "text": [
      " 56%|█████▌    | 574/1022 [03:39<02:03,  3.64it/s]"
     ]
    },
    {
     "name": "stdout",
     "output_type": "stream",
     "text": [
      "결과를 찾을 수 없습니다. 다시 검색합니다.\n",
      "결과를 찾을 수 없습니다\n",
      "결과를 찾을 수 없습니다. 다시 검색합니다.\n",
      "['결절성 다발동맥염', '관련 병태']\n"
     ]
    },
    {
     "name": "stderr",
     "output_type": "stream",
     "text": [
      " 56%|█████▋    | 575/1022 [03:40<03:18,  2.25it/s]"
     ]
    },
    {
     "name": "stdout",
     "output_type": "stream",
     "text": [
      "결과를 찾을 수 없습니다. 다시 검색합니다.\n"
     ]
    },
    {
     "name": "stderr",
     "output_type": "stream",
     "text": [
      " 56%|█████▋    | 576/1022 [03:40<02:53,  2.57it/s]"
     ]
    },
    {
     "name": "stdout",
     "output_type": "stream",
     "text": [
      "결과를 찾을 수 없습니다. 다시 검색합니다.\n",
      "결과를 찾을 수 없습니다\n"
     ]
    },
    {
     "name": "stderr",
     "output_type": "stream",
     "text": [
      " 56%|█████▋    | 577/1022 [03:40<02:33,  2.90it/s]"
     ]
    },
    {
     "name": "stdout",
     "output_type": "stream",
     "text": [
      "결과를 찾을 수 없습니다. 다시 검색합니다.\n",
      "결과를 찾을 수 없습니다\n"
     ]
    },
    {
     "name": "stderr",
     "output_type": "stream",
     "text": [
      " 57%|█████▋    | 578/1022 [03:41<02:20,  3.16it/s]"
     ]
    },
    {
     "name": "stdout",
     "output_type": "stream",
     "text": [
      "결과를 찾을 수 없습니다. 다시 검색합니다.\n",
      "결과를 찾을 수 없습니다\n"
     ]
    },
    {
     "name": "stderr",
     "output_type": "stream",
     "text": [
      " 57%|█████▋    | 579/1022 [03:41<02:09,  3.43it/s]"
     ]
    },
    {
     "name": "stdout",
     "output_type": "stream",
     "text": [
      "결과를 찾을 수 없습니다. 다시 검색합니다.\n",
      "결과를 찾을 수 없습니다\n",
      "결과를 찾을 수 없습니다. 다시 검색합니다.\n",
      "['척주후만증', '척주전만증']\n",
      "결과를 찾을 수 없습니다. 다시 검색합니다.\n"
     ]
    },
    {
     "name": "stderr",
     "output_type": "stream",
     "text": [
      " 57%|█████▋    | 580/1022 [03:42<03:10,  2.32it/s]"
     ]
    },
    {
     "name": "stdout",
     "output_type": "stream",
     "text": [
      "결과를 찾을 수 없습니다. 다시 검색합니다.\n"
     ]
    },
    {
     "name": "stderr",
     "output_type": "stream",
     "text": [
      " 57%|█████▋    | 581/1022 [03:42<02:46,  2.66it/s]"
     ]
    },
    {
     "name": "stdout",
     "output_type": "stream",
     "text": [
      "결과를 찾을 수 없습니다. 다시 검색합니다.\n",
      "결과를 찾을 수 없습니다\n"
     ]
    },
    {
     "name": "stderr",
     "output_type": "stream",
     "text": [
      " 57%|█████▋    | 582/1022 [03:42<02:29,  2.95it/s]"
     ]
    },
    {
     "name": "stdout",
     "output_type": "stream",
     "text": [
      "결과를 찾을 수 없습니다. 다시 검색합니다.\n",
      "결과를 찾을 수 없습니다\n"
     ]
    },
    {
     "name": "stderr",
     "output_type": "stream",
     "text": [
      " 57%|█████▋    | 584/1022 [03:43<02:09,  3.38it/s]"
     ]
    },
    {
     "name": "stdout",
     "output_type": "stream",
     "text": [
      "결과를 찾을 수 없습니다. 다시 검색합니다.\n",
      "결과를 찾을 수 없습니다\n"
     ]
    },
    {
     "name": "stderr",
     "output_type": "stream",
     "text": [
      " 57%|█████▋    | 586/1022 [03:43<02:10,  3.34it/s]"
     ]
    },
    {
     "name": "stdout",
     "output_type": "stream",
     "text": [
      "결과를 찾을 수 없습니다. 다시 검색합니다.\n",
      "결과를 찾을 수 없습니다\n"
     ]
    },
    {
     "name": "stderr",
     "output_type": "stream",
     "text": [
      " 57%|█████▋    | 587/1022 [03:43<02:07,  3.42it/s]"
     ]
    },
    {
     "name": "stdout",
     "output_type": "stream",
     "text": [
      "결과를 찾을 수 없습니다. 다시 검색합니다.\n",
      "결과를 찾을 수 없습니다\n"
     ]
    },
    {
     "name": "stderr",
     "output_type": "stream",
     "text": [
      " 58%|█████▊    | 588/1022 [03:44<02:02,  3.55it/s]"
     ]
    },
    {
     "name": "stdout",
     "output_type": "stream",
     "text": [
      "결과를 찾을 수 없습니다. 다시 검색합니다.\n",
      "결과를 찾을 수 없습니다\n"
     ]
    },
    {
     "name": "stderr",
     "output_type": "stream",
     "text": [
      " 58%|█████▊    | 589/1022 [03:44<01:57,  3.67it/s]"
     ]
    },
    {
     "name": "stdout",
     "output_type": "stream",
     "text": [
      "결과를 찾을 수 없습니다. 다시 검색합니다.\n",
      "결과를 찾을 수 없습니다\n"
     ]
    },
    {
     "name": "stderr",
     "output_type": "stream",
     "text": [
      " 58%|█████▊    | 590/1022 [03:44<02:00,  3.57it/s]"
     ]
    },
    {
     "name": "stdout",
     "output_type": "stream",
     "text": [
      "결과를 찾을 수 없습니다. 다시 검색합니다.\n",
      "결과를 찾을 수 없습니다\n"
     ]
    },
    {
     "name": "stderr",
     "output_type": "stream",
     "text": [
      " 58%|█████▊    | 591/1022 [03:45<01:56,  3.69it/s]"
     ]
    },
    {
     "name": "stdout",
     "output_type": "stream",
     "text": [
      "결과를 찾을 수 없습니다. 다시 검색합니다.\n",
      "결과를 찾을 수 없습니다\n"
     ]
    },
    {
     "name": "stderr",
     "output_type": "stream",
     "text": [
      " 58%|█████▊    | 592/1022 [03:45<01:56,  3.69it/s]"
     ]
    },
    {
     "name": "stdout",
     "output_type": "stream",
     "text": [
      "결과를 찾을 수 없습니다. 다시 검색합니다.\n",
      "['근육의 석회화', '골화']\n",
      "결과를 찾을 수 없습니다. 다시 검색합니다.\n"
     ]
    },
    {
     "name": "stderr",
     "output_type": "stream",
     "text": [
      " 58%|█████▊    | 594/1022 [03:46<02:37,  2.72it/s]"
     ]
    },
    {
     "name": "stdout",
     "output_type": "stream",
     "text": [
      "결과를 찾을 수 없습니다. 다시 검색합니다.\n",
      "결과를 찾을 수 없습니다\n",
      "결과를 찾을 수 없습니다. 다시 검색합니다.\n",
      "['윤활막염', '힘줄윤활막염']\n",
      "결과를 찾을 수 없습니다. 다시 검색합니다.\n"
     ]
    },
    {
     "name": "stderr",
     "output_type": "stream",
     "text": [
      " 58%|█████▊    | 595/1022 [03:47<03:30,  2.03it/s]"
     ]
    },
    {
     "name": "stdout",
     "output_type": "stream",
     "text": [
      "결과를 찾을 수 없습니다. 다시 검색합니다.\n",
      "결과를 찾을 수 없습니다. 다시 검색합니다.\n",
      "['윤활막', '힘줄의 자연파열']\n",
      "결과를 찾을 수 없습니다. 다시 검색합니다.\n"
     ]
    },
    {
     "name": "stderr",
     "output_type": "stream",
     "text": [
      " 58%|█████▊    | 596/1022 [03:47<04:13,  1.68it/s]"
     ]
    },
    {
     "name": "stdout",
     "output_type": "stream",
     "text": [
      "결과를 찾을 수 없습니다. 다시 검색합니다.\n",
      "결과를 찾을 수 없습니다. 다시 검색합니다.\n",
      "['윤활막', '힘줄의 기타 장애']\n",
      "결과를 찾을 수 없습니다. 다시 검색합니다.\n"
     ]
    },
    {
     "name": "stderr",
     "output_type": "stream",
     "text": [
      " 58%|█████▊    | 597/1022 [03:48<04:33,  1.55it/s]"
     ]
    },
    {
     "name": "stdout",
     "output_type": "stream",
     "text": [
      "결과를 찾을 수 없습니다. 다시 검색합니다.\n",
      "결과를 찾을 수 없습니다. 다시 검색합니다.\n",
      "['사용, 과용', '압박에 관련된 연조직장애']\n",
      "결과를 찾을 수 없습니다. 다시 검색합니다.\n"
     ]
    },
    {
     "name": "stderr",
     "output_type": "stream",
     "text": [
      " 59%|█████▊    | 598/1022 [03:49<04:45,  1.48it/s]"
     ]
    },
    {
     "name": "stdout",
     "output_type": "stream",
     "text": [
      "결과를 찾을 수 없습니다. 다시 검색합니다.\n"
     ]
    },
    {
     "name": "stderr",
     "output_type": "stream",
     "text": [
      " 59%|█████▊    | 599/1022 [03:49<03:52,  1.82it/s]"
     ]
    },
    {
     "name": "stdout",
     "output_type": "stream",
     "text": [
      "결과를 찾을 수 없습니다. 다시 검색합니다.\n",
      "결과를 찾을 수 없습니다\n"
     ]
    },
    {
     "name": "stderr",
     "output_type": "stream",
     "text": [
      " 59%|█████▊    | 600/1022 [03:49<03:19,  2.12it/s]"
     ]
    },
    {
     "name": "stdout",
     "output_type": "stream",
     "text": [
      "결과를 찾을 수 없습니다. 다시 검색합니다.\n",
      "결과를 찾을 수 없습니다\n"
     ]
    },
    {
     "name": "stderr",
     "output_type": "stream",
     "text": [
      " 59%|█████▉    | 601/1022 [03:50<02:50,  2.48it/s]"
     ]
    },
    {
     "name": "stdout",
     "output_type": "stream",
     "text": [
      "결과를 찾을 수 없습니다. 다시 검색합니다.\n",
      "결과를 찾을 수 없습니다\n"
     ]
    },
    {
     "name": "stderr",
     "output_type": "stream",
     "text": [
      " 59%|█████▉    | 602/1022 [03:50<02:31,  2.77it/s]"
     ]
    },
    {
     "name": "stdout",
     "output_type": "stream",
     "text": [
      "결과를 찾을 수 없습니다. 다시 검색합니다.\n",
      "결과를 찾을 수 없습니다\n"
     ]
    },
    {
     "name": "stderr",
     "output_type": "stream",
     "text": [
      " 59%|█████▉    | 603/1022 [03:50<02:23,  2.92it/s]"
     ]
    },
    {
     "name": "stdout",
     "output_type": "stream",
     "text": [
      "결과를 찾을 수 없습니다. 다시 검색합니다.\n",
      "결과를 찾을 수 없습니다\n"
     ]
    },
    {
     "name": "stderr",
     "output_type": "stream",
     "text": [
      " 59%|█████▉    | 604/1022 [03:51<02:11,  3.17it/s]"
     ]
    },
    {
     "name": "stdout",
     "output_type": "stream",
     "text": [
      "결과를 찾을 수 없습니다. 다시 검색합니다.\n",
      "결과를 찾을 수 없습니다\n"
     ]
    },
    {
     "name": "stderr",
     "output_type": "stream",
     "text": [
      " 59%|█████▉    | 605/1022 [03:51<02:11,  3.16it/s]"
     ]
    },
    {
     "name": "stdout",
     "output_type": "stream",
     "text": [
      "결과를 찾을 수 없습니다. 다시 검색합니다.\n",
      "결과를 찾을 수 없습니다\n"
     ]
    },
    {
     "name": "stderr",
     "output_type": "stream",
     "text": [
      " 59%|█████▉    | 606/1022 [03:51<02:05,  3.31it/s]"
     ]
    },
    {
     "name": "stdout",
     "output_type": "stream",
     "text": [
      "결과를 찾을 수 없습니다. 다시 검색합니다.\n",
      "결과를 찾을 수 없습니다\n"
     ]
    },
    {
     "name": "stderr",
     "output_type": "stream",
     "text": [
      " 59%|█████▉    | 607/1022 [03:51<02:00,  3.46it/s]"
     ]
    },
    {
     "name": "stdout",
     "output_type": "stream",
     "text": [
      "결과를 찾을 수 없습니다. 다시 검색합니다.\n",
      "결과를 찾을 수 없습니다\n"
     ]
    },
    {
     "name": "stderr",
     "output_type": "stream",
     "text": [
      " 59%|█████▉    | 608/1022 [03:52<01:55,  3.60it/s]"
     ]
    },
    {
     "name": "stdout",
     "output_type": "stream",
     "text": [
      "결과를 찾을 수 없습니다. 다시 검색합니다.\n",
      "결과를 찾을 수 없습니다\n"
     ]
    },
    {
     "name": "stderr",
     "output_type": "stream",
     "text": [
      " 60%|█████▉    | 609/1022 [03:52<01:51,  3.69it/s]"
     ]
    },
    {
     "name": "stdout",
     "output_type": "stream",
     "text": [
      "결과를 찾을 수 없습니다. 다시 검색합니다.\n",
      "결과를 찾을 수 없습니다\n",
      "결과를 찾을 수 없습니다. 다시 검색합니다.\n",
      "['골밀도', '구조의 기타 장애']\n",
      "결과를 찾을 수 없습니다. 다시 검색합니다.\n"
     ]
    },
    {
     "name": "stderr",
     "output_type": "stream",
     "text": [
      " 60%|█████▉    | 610/1022 [03:53<02:54,  2.36it/s]"
     ]
    },
    {
     "name": "stdout",
     "output_type": "stream",
     "text": [
      "결과를 찾을 수 없습니다. 다시 검색합니다.\n"
     ]
    },
    {
     "name": "stderr",
     "output_type": "stream",
     "text": [
      " 60%|█████▉    | 613/1022 [03:53<02:07,  3.21it/s]"
     ]
    },
    {
     "name": "stdout",
     "output_type": "stream",
     "text": [
      "결과를 찾을 수 없습니다. 다시 검색합니다.\n",
      "결과를 찾을 수 없습니다\n"
     ]
    },
    {
     "name": "stderr",
     "output_type": "stream",
     "text": [
      " 60%|██████    | 614/1022 [03:54<01:59,  3.41it/s]"
     ]
    },
    {
     "name": "stdout",
     "output_type": "stream",
     "text": [
      "결과를 찾을 수 없습니다. 다시 검색합니다.\n",
      "결과를 찾을 수 없습니다\n"
     ]
    },
    {
     "name": "stderr",
     "output_type": "stream",
     "text": [
      " 60%|██████    | 615/1022 [03:54<01:55,  3.52it/s]"
     ]
    },
    {
     "name": "stdout",
     "output_type": "stream",
     "text": [
      "결과를 찾을 수 없습니다. 다시 검색합니다.\n",
      "결과를 찾을 수 없습니다\n"
     ]
    },
    {
     "name": "stderr",
     "output_type": "stream",
     "text": [
      " 60%|██████    | 616/1022 [03:54<01:50,  3.68it/s]"
     ]
    },
    {
     "name": "stdout",
     "output_type": "stream",
     "text": [
      "결과를 찾을 수 없습니다. 다시 검색합니다.\n",
      "결과를 찾을 수 없습니다\n",
      "결과를 찾을 수 없습니다. 다시 검색합니다.\n",
      "['근골격계통', '결합조직의 기타 후천성 변형']\n",
      "결과를 찾을 수 없습니다. 다시 검색합니다.\n"
     ]
    },
    {
     "name": "stderr",
     "output_type": "stream",
     "text": [
      " 60%|██████    | 617/1022 [03:55<02:54,  2.32it/s]"
     ]
    },
    {
     "name": "stdout",
     "output_type": "stream",
     "text": [
      "결과를 찾을 수 없습니다. 다시 검색합니다.\n"
     ]
    },
    {
     "name": "stderr",
     "output_type": "stream",
     "text": [
      " 60%|██████    | 618/1022 [03:55<02:31,  2.66it/s]"
     ]
    },
    {
     "name": "stdout",
     "output_type": "stream",
     "text": [
      "결과를 찾을 수 없습니다. 다시 검색합니다.\n",
      "결과를 찾을 수 없습니다\n"
     ]
    },
    {
     "name": "stderr",
     "output_type": "stream",
     "text": [
      " 61%|██████    | 619/1022 [03:56<02:17,  2.92it/s]"
     ]
    },
    {
     "name": "stdout",
     "output_type": "stream",
     "text": [
      "결과를 찾을 수 없습니다. 다시 검색합니다.\n",
      "결과를 찾을 수 없습니다\n"
     ]
    },
    {
     "name": "stderr",
     "output_type": "stream",
     "text": [
      " 61%|██████    | 620/1022 [03:56<02:08,  3.14it/s]"
     ]
    },
    {
     "name": "stdout",
     "output_type": "stream",
     "text": [
      "결과를 찾을 수 없습니다. 다시 검색합니다.\n",
      "결과를 찾을 수 없습니다\n",
      "결과를 찾을 수 없습니다. 다시 검색합니다.\n",
      "['재발성', '지속성 혈뇨']\n"
     ]
    },
    {
     "name": "stderr",
     "output_type": "stream",
     "text": [
      " 61%|██████    | 621/1022 [03:57<02:58,  2.24it/s]"
     ]
    },
    {
     "name": "stdout",
     "output_type": "stream",
     "text": [
      "결과를 찾을 수 없습니다. 다시 검색합니다.\n"
     ]
    },
    {
     "name": "stderr",
     "output_type": "stream",
     "text": [
      " 61%|██████    | 622/1022 [03:57<02:36,  2.56it/s]"
     ]
    },
    {
     "name": "stdout",
     "output_type": "stream",
     "text": [
      "결과를 찾을 수 없습니다. 다시 검색합니다.\n",
      "결과를 찾을 수 없습니다\n"
     ]
    },
    {
     "name": "stderr",
     "output_type": "stream",
     "text": [
      " 61%|██████    | 624/1022 [03:57<02:06,  3.14it/s]"
     ]
    },
    {
     "name": "stdout",
     "output_type": "stream",
     "text": [
      "결과를 찾을 수 없습니다. 다시 검색합니다.\n",
      "결과를 찾을 수 없습니다\n"
     ]
    },
    {
     "name": "stderr",
     "output_type": "stream",
     "text": [
      " 61%|██████    | 625/1022 [03:58<01:59,  3.32it/s]"
     ]
    },
    {
     "name": "stdout",
     "output_type": "stream",
     "text": [
      "결과를 찾을 수 없습니다. 다시 검색합니다.\n",
      "결과를 찾을 수 없습니다\n"
     ]
    },
    {
     "name": "stderr",
     "output_type": "stream",
     "text": [
      " 61%|██████▏   | 626/1022 [03:58<01:51,  3.55it/s]"
     ]
    },
    {
     "name": "stdout",
     "output_type": "stream",
     "text": [
      "결과를 찾을 수 없습니다. 다시 검색합니다.\n",
      "결과를 찾을 수 없습니다\n"
     ]
    },
    {
     "name": "stderr",
     "output_type": "stream",
     "text": [
      " 61%|██████▏   | 627/1022 [03:58<01:47,  3.68it/s]"
     ]
    },
    {
     "name": "stdout",
     "output_type": "stream",
     "text": [
      "결과를 찾을 수 없습니다. 다시 검색합니다.\n",
      "결과를 찾을 수 없습니다\n"
     ]
    },
    {
     "name": "stderr",
     "output_type": "stream",
     "text": [
      " 61%|██████▏   | 628/1022 [03:58<01:51,  3.52it/s]"
     ]
    },
    {
     "name": "stdout",
     "output_type": "stream",
     "text": [
      "결과를 찾을 수 없습니다. 다시 검색합니다.\n",
      "결과를 찾을 수 없습니다\n"
     ]
    },
    {
     "name": "stderr",
     "output_type": "stream",
     "text": [
      " 62%|██████▏   | 629/1022 [03:59<01:47,  3.66it/s]"
     ]
    },
    {
     "name": "stdout",
     "output_type": "stream",
     "text": [
      "결과를 찾을 수 없습니다. 다시 검색합니다.\n",
      "결과를 찾을 수 없습니다\n",
      "결과를 찾을 수 없습니다. 다시 검색합니다.\n",
      "['폐색성', '역류성 요로병증']\n"
     ]
    },
    {
     "name": "stderr",
     "output_type": "stream",
     "text": [
      " 62%|██████▏   | 630/1022 [03:59<02:45,  2.36it/s]"
     ]
    },
    {
     "name": "stdout",
     "output_type": "stream",
     "text": [
      "결과를 찾을 수 없습니다. 다시 검색합니다.\n"
     ]
    },
    {
     "name": "stderr",
     "output_type": "stream",
     "text": [
      " 62%|██████▏   | 631/1022 [04:00<02:25,  2.70it/s]"
     ]
    },
    {
     "name": "stdout",
     "output_type": "stream",
     "text": [
      "결과를 찾을 수 없습니다. 다시 검색합니다.\n",
      "결과를 찾을 수 없습니다\n"
     ]
    },
    {
     "name": "stderr",
     "output_type": "stream",
     "text": [
      " 62%|██████▏   | 633/1022 [04:00<02:00,  3.22it/s]"
     ]
    },
    {
     "name": "stdout",
     "output_type": "stream",
     "text": [
      "결과를 찾을 수 없습니다. 다시 검색합니다.\n",
      "결과를 찾을 수 없습니다\n"
     ]
    },
    {
     "name": "stderr",
     "output_type": "stream",
     "text": [
      " 62%|██████▏   | 634/1022 [04:00<01:53,  3.41it/s]"
     ]
    },
    {
     "name": "stdout",
     "output_type": "stream",
     "text": [
      "결과를 찾을 수 없습니다. 다시 검색합니다.\n",
      "결과를 찾을 수 없습니다\n",
      "결과를 찾을 수 없습니다. 다시 검색합니다.\n",
      "['신장', '요관의 결석']\n"
     ]
    },
    {
     "name": "stderr",
     "output_type": "stream",
     "text": [
      " 62%|██████▏   | 635/1022 [04:01<02:48,  2.30it/s]"
     ]
    },
    {
     "name": "stdout",
     "output_type": "stream",
     "text": [
      "결과를 찾을 수 없습니다. 다시 검색합니다.\n"
     ]
    },
    {
     "name": "stderr",
     "output_type": "stream",
     "text": [
      " 62%|██████▏   | 636/1022 [04:01<02:35,  2.48it/s]"
     ]
    },
    {
     "name": "stdout",
     "output_type": "stream",
     "text": [
      "결과를 찾을 수 없습니다. 다시 검색합니다.\n",
      "결과를 찾을 수 없습니다\n"
     ]
    },
    {
     "name": "stderr",
     "output_type": "stream",
     "text": [
      " 62%|██████▏   | 637/1022 [04:02<02:19,  2.77it/s]"
     ]
    },
    {
     "name": "stdout",
     "output_type": "stream",
     "text": [
      "결과를 찾을 수 없습니다. 다시 검색합니다.\n",
      "결과를 찾을 수 없습니다\n"
     ]
    },
    {
     "name": "stderr",
     "output_type": "stream",
     "text": [
      " 62%|██████▏   | 638/1022 [04:02<02:05,  3.06it/s]"
     ]
    },
    {
     "name": "stdout",
     "output_type": "stream",
     "text": [
      "결과를 찾을 수 없습니다. 다시 검색합니다.\n",
      "결과를 찾을 수 없습니다\n",
      "결과를 찾을 수 없습니다. 다시 검색합니다.\n",
      "['달리 분류되지 않은 신장', '요관의 기타 장애']\n",
      "결과를 찾을 수 없습니다. 다시 검색합니다.\n"
     ]
    },
    {
     "name": "stderr",
     "output_type": "stream",
     "text": [
      " 63%|██████▎   | 639/1022 [04:03<02:51,  2.23it/s]"
     ]
    },
    {
     "name": "stdout",
     "output_type": "stream",
     "text": [
      "결과를 찾을 수 없습니다. 다시 검색합니다.\n",
      "결과를 찾을 수 없습니다. 다시 검색합니다.\n",
      "['달리 분류된 질환에서의 신장', '요관의 기타 장애']\n",
      "결과를 찾을 수 없습니다. 다시 검색합니다.\n"
     ]
    },
    {
     "name": "stderr",
     "output_type": "stream",
     "text": [
      " 63%|██████▎   | 640/1022 [04:03<03:26,  1.85it/s]"
     ]
    },
    {
     "name": "stdout",
     "output_type": "stream",
     "text": [
      "결과를 찾을 수 없습니다. 다시 검색합니다.\n"
     ]
    },
    {
     "name": "stderr",
     "output_type": "stream",
     "text": [
      " 63%|██████▎   | 642/1022 [04:04<02:29,  2.55it/s]"
     ]
    },
    {
     "name": "stdout",
     "output_type": "stream",
     "text": [
      "결과를 찾을 수 없습니다. 다시 검색합니다.\n",
      "결과를 찾을 수 없습니다\n"
     ]
    },
    {
     "name": "stderr",
     "output_type": "stream",
     "text": [
      " 63%|██████▎   | 643/1022 [04:04<02:12,  2.87it/s]"
     ]
    },
    {
     "name": "stdout",
     "output_type": "stream",
     "text": [
      "결과를 찾을 수 없습니다. 다시 검색합니다.\n",
      "결과를 찾을 수 없습니다\n",
      "결과를 찾을 수 없습니다. 다시 검색합니다.\n",
      "['요도염', '요도증후군']\n"
     ]
    },
    {
     "name": "stderr",
     "output_type": "stream",
     "text": [
      " 63%|██████▎   | 644/1022 [04:05<02:59,  2.10it/s]"
     ]
    },
    {
     "name": "stdout",
     "output_type": "stream",
     "text": [
      "결과를 찾을 수 없습니다. 다시 검색합니다.\n"
     ]
    },
    {
     "name": "stderr",
     "output_type": "stream",
     "text": [
      " 63%|██████▎   | 645/1022 [04:05<02:33,  2.45it/s]"
     ]
    },
    {
     "name": "stdout",
     "output_type": "stream",
     "text": [
      "결과를 찾을 수 없습니다. 다시 검색합니다.\n",
      "결과를 찾을 수 없습니다\n"
     ]
    },
    {
     "name": "stderr",
     "output_type": "stream",
     "text": [
      " 63%|██████▎   | 646/1022 [04:06<02:25,  2.59it/s]"
     ]
    },
    {
     "name": "stdout",
     "output_type": "stream",
     "text": [
      "결과를 찾을 수 없습니다. 다시 검색합니다.\n",
      "결과를 찾을 수 없습니다\n"
     ]
    },
    {
     "name": "stderr",
     "output_type": "stream",
     "text": [
      " 63%|██████▎   | 647/1022 [04:06<02:10,  2.88it/s]"
     ]
    },
    {
     "name": "stdout",
     "output_type": "stream",
     "text": [
      "결과를 찾을 수 없습니다. 다시 검색합니다.\n",
      "결과를 찾을 수 없습니다\n"
     ]
    },
    {
     "name": "stderr",
     "output_type": "stream",
     "text": [
      " 63%|██████▎   | 648/1022 [04:06<01:59,  3.12it/s]"
     ]
    },
    {
     "name": "stdout",
     "output_type": "stream",
     "text": [
      "결과를 찾을 수 없습니다. 다시 검색합니다.\n",
      "결과를 찾을 수 없습니다\n"
     ]
    },
    {
     "name": "stderr",
     "output_type": "stream",
     "text": [
      " 64%|██████▎   | 649/1022 [04:06<01:51,  3.35it/s]"
     ]
    },
    {
     "name": "stdout",
     "output_type": "stream",
     "text": [
      "결과를 찾을 수 없습니다. 다시 검색합니다.\n",
      "결과를 찾을 수 없습니다\n"
     ]
    },
    {
     "name": "stderr",
     "output_type": "stream",
     "text": [
      " 64%|██████▎   | 650/1022 [04:07<01:45,  3.51it/s]"
     ]
    },
    {
     "name": "stdout",
     "output_type": "stream",
     "text": [
      "결과를 찾을 수 없습니다. 다시 검색합니다.\n",
      "결과를 찾을 수 없습니다\n"
     ]
    },
    {
     "name": "stderr",
     "output_type": "stream",
     "text": [
      " 64%|██████▎   | 651/1022 [04:07<01:42,  3.61it/s]"
     ]
    },
    {
     "name": "stdout",
     "output_type": "stream",
     "text": [
      "결과를 찾을 수 없습니다. 다시 검색합니다.\n",
      "결과를 찾을 수 없습니다\n",
      "결과를 찾을 수 없습니다. 다시 검색합니다.\n",
      "['음낭수종', '정액류']\n"
     ]
    },
    {
     "name": "stderr",
     "output_type": "stream",
     "text": [
      " 64%|██████▍   | 652/1022 [04:08<02:38,  2.33it/s]"
     ]
    },
    {
     "name": "stdout",
     "output_type": "stream",
     "text": [
      "결과를 찾을 수 없습니다. 다시 검색합니다.\n"
     ]
    },
    {
     "name": "stderr",
     "output_type": "stream",
     "text": [
      " 64%|██████▍   | 653/1022 [04:08<02:19,  2.65it/s]"
     ]
    },
    {
     "name": "stdout",
     "output_type": "stream",
     "text": [
      "결과를 찾을 수 없습니다. 다시 검색합니다.\n",
      "['고환염', '부고환염']\n"
     ]
    },
    {
     "name": "stderr",
     "output_type": "stream",
     "text": [
      " 64%|██████▍   | 655/1022 [04:09<02:33,  2.40it/s]"
     ]
    },
    {
     "name": "stdout",
     "output_type": "stream",
     "text": [
      "결과를 찾을 수 없습니다. 다시 검색합니다.\n",
      "결과를 찾을 수 없습니다\n",
      "결과를 찾을 수 없습니다. 다시 검색합니다.\n",
      "['과잉포피, 포경', '감돈포경']\n",
      "결과를 찾을 수 없습니다. 다시 검색합니다.\n"
     ]
    },
    {
     "name": "stderr",
     "output_type": "stream",
     "text": [
      " 64%|██████▍   | 657/1022 [04:10<02:47,  2.18it/s]"
     ]
    },
    {
     "name": "stdout",
     "output_type": "stream",
     "text": [
      "결과를 찾을 수 없습니다. 다시 검색합니다.\n",
      "결과를 찾을 수 없습니다\n"
     ]
    },
    {
     "name": "stderr",
     "output_type": "stream",
     "text": [
      " 64%|██████▍   | 658/1022 [04:10<02:23,  2.54it/s]"
     ]
    },
    {
     "name": "stdout",
     "output_type": "stream",
     "text": [
      "결과를 찾을 수 없습니다. 다시 검색합니다.\n",
      "결과를 찾을 수 없습니다\n"
     ]
    },
    {
     "name": "stderr",
     "output_type": "stream",
     "text": [
      " 64%|██████▍   | 659/1022 [04:10<02:08,  2.82it/s]"
     ]
    },
    {
     "name": "stdout",
     "output_type": "stream",
     "text": [
      "결과를 찾을 수 없습니다. 다시 검색합니다.\n",
      "결과를 찾을 수 없습니다\n"
     ]
    },
    {
     "name": "stderr",
     "output_type": "stream",
     "text": [
      " 65%|██████▍   | 660/1022 [04:11<01:56,  3.10it/s]"
     ]
    },
    {
     "name": "stdout",
     "output_type": "stream",
     "text": [
      "결과를 찾을 수 없습니다. 다시 검색합니다.\n",
      "결과를 찾을 수 없습니다\n"
     ]
    },
    {
     "name": "stderr",
     "output_type": "stream",
     "text": [
      " 65%|██████▍   | 661/1022 [04:11<01:50,  3.27it/s]"
     ]
    },
    {
     "name": "stdout",
     "output_type": "stream",
     "text": [
      "결과를 찾을 수 없습니다. 다시 검색합니다.\n",
      "결과를 찾을 수 없습니다\n"
     ]
    },
    {
     "name": "stderr",
     "output_type": "stream",
     "text": [
      " 65%|██████▍   | 662/1022 [04:11<01:44,  3.46it/s]"
     ]
    },
    {
     "name": "stdout",
     "output_type": "stream",
     "text": [
      "결과를 찾을 수 없습니다. 다시 검색합니다.\n",
      "결과를 찾을 수 없습니다\n"
     ]
    },
    {
     "name": "stderr",
     "output_type": "stream",
     "text": [
      " 65%|██████▍   | 663/1022 [04:11<01:39,  3.61it/s]"
     ]
    },
    {
     "name": "stdout",
     "output_type": "stream",
     "text": [
      "결과를 찾을 수 없습니다. 다시 검색합니다.\n",
      "결과를 찾을 수 없습니다\n"
     ]
    },
    {
     "name": "stderr",
     "output_type": "stream",
     "text": [
      " 65%|██████▍   | 664/1022 [04:12<01:36,  3.71it/s]"
     ]
    },
    {
     "name": "stdout",
     "output_type": "stream",
     "text": [
      "결과를 찾을 수 없습니다. 다시 검색합니다.\n",
      "결과를 찾을 수 없습니다\n"
     ]
    },
    {
     "name": "stderr",
     "output_type": "stream",
     "text": [
      " 65%|██████▌   | 665/1022 [04:12<01:35,  3.74it/s]"
     ]
    },
    {
     "name": "stdout",
     "output_type": "stream",
     "text": [
      "결과를 찾을 수 없습니다. 다시 검색합니다.\n",
      "결과를 찾을 수 없습니다\n",
      "결과를 찾을 수 없습니다. 다시 검색합니다.\n",
      "['난관염', '난소염']\n"
     ]
    },
    {
     "name": "stderr",
     "output_type": "stream",
     "text": [
      " 65%|██████▌   | 667/1022 [04:13<02:08,  2.76it/s]"
     ]
    },
    {
     "name": "stdout",
     "output_type": "stream",
     "text": [
      "결과를 찾을 수 없습니다. 다시 검색합니다.\n",
      "결과를 찾을 수 없습니다\n"
     ]
    },
    {
     "name": "stderr",
     "output_type": "stream",
     "text": [
      " 65%|██████▌   | 668/1022 [04:13<02:04,  2.85it/s]"
     ]
    },
    {
     "name": "stdout",
     "output_type": "stream",
     "text": [
      "결과를 찾을 수 없습니다. 다시 검색합니다.\n",
      "결과를 찾을 수 없습니다\n"
     ]
    },
    {
     "name": "stderr",
     "output_type": "stream",
     "text": [
      " 65%|██████▌   | 669/1022 [04:14<01:52,  3.13it/s]"
     ]
    },
    {
     "name": "stdout",
     "output_type": "stream",
     "text": [
      "결과를 찾을 수 없습니다. 다시 검색합니다.\n",
      "결과를 찾을 수 없습니다\n"
     ]
    },
    {
     "name": "stderr",
     "output_type": "stream",
     "text": [
      " 66%|██████▌   | 670/1022 [04:14<01:46,  3.31it/s]"
     ]
    },
    {
     "name": "stdout",
     "output_type": "stream",
     "text": [
      "결과를 찾을 수 없습니다. 다시 검색합니다.\n",
      "결과를 찾을 수 없습니다\n"
     ]
    },
    {
     "name": "stderr",
     "output_type": "stream",
     "text": [
      " 66%|██████▌   | 671/1022 [04:14<01:40,  3.51it/s]"
     ]
    },
    {
     "name": "stdout",
     "output_type": "stream",
     "text": [
      "결과를 찾을 수 없습니다. 다시 검색합니다.\n",
      "결과를 찾을 수 없습니다\n",
      "결과를 찾을 수 없습니다. 다시 검색합니다.\n",
      "['질', '외음부의 기타 염증']\n"
     ]
    },
    {
     "name": "stderr",
     "output_type": "stream",
     "text": [
      " 66%|██████▌   | 672/1022 [04:15<02:32,  2.29it/s]"
     ]
    },
    {
     "name": "stdout",
     "output_type": "stream",
     "text": [
      "결과를 찾을 수 없습니다. 다시 검색합니다.\n",
      "결과를 찾을 수 없습니다. 다시 검색합니다.\n",
      "['달리 분류된 질환에서의 외음질의 궤양', '염증']\n",
      "결과를 찾을 수 없습니다. 다시 검색합니다.\n"
     ]
    },
    {
     "name": "stderr",
     "output_type": "stream",
     "text": [
      " 66%|██████▌   | 675/1022 [04:16<02:16,  2.54it/s]"
     ]
    },
    {
     "name": "stdout",
     "output_type": "stream",
     "text": [
      "결과를 찾을 수 없습니다. 다시 검색합니다.\n",
      "결과를 찾을 수 없습니다\n",
      "결과를 찾을 수 없습니다. 다시 검색합니다.\n",
      "['난소, 난관', '넓은인대의 비염증성 장애']\n"
     ]
    },
    {
     "name": "stderr",
     "output_type": "stream",
     "text": [
      " 66%|██████▌   | 676/1022 [04:17<03:02,  1.90it/s]"
     ]
    },
    {
     "name": "stdout",
     "output_type": "stream",
     "text": [
      "결과를 찾을 수 없습니다. 다시 검색합니다.\n"
     ]
    },
    {
     "name": "stderr",
     "output_type": "stream",
     "text": [
      " 66%|██████▌   | 677/1022 [04:17<02:32,  2.26it/s]"
     ]
    },
    {
     "name": "stdout",
     "output_type": "stream",
     "text": [
      "결과를 찾을 수 없습니다. 다시 검색합니다.\n",
      "결과를 찾을 수 없습니다\n"
     ]
    },
    {
     "name": "stderr",
     "output_type": "stream",
     "text": [
      " 66%|██████▋   | 678/1022 [04:18<02:13,  2.57it/s]"
     ]
    },
    {
     "name": "stdout",
     "output_type": "stream",
     "text": [
      "결과를 찾을 수 없습니다. 다시 검색합니다.\n",
      "결과를 찾을 수 없습니다\n",
      "결과를 찾을 수 없습니다. 다시 검색합니다.\n",
      "['자궁경부의 미란', '외반']\n",
      "결과를 찾을 수 없습니다. 다시 검색합니다.\n"
     ]
    },
    {
     "name": "stderr",
     "output_type": "stream",
     "text": [
      " 67%|██████▋   | 680/1022 [04:19<02:27,  2.31it/s]"
     ]
    },
    {
     "name": "stdout",
     "output_type": "stream",
     "text": [
      "결과를 찾을 수 없습니다. 다시 검색합니다.\n",
      "결과를 찾을 수 없습니다\n"
     ]
    },
    {
     "name": "stderr",
     "output_type": "stream",
     "text": [
      " 67%|██████▋   | 681/1022 [04:19<02:10,  2.62it/s]"
     ]
    },
    {
     "name": "stdout",
     "output_type": "stream",
     "text": [
      "결과를 찾을 수 없습니다. 다시 검색합니다.\n",
      "결과를 찾을 수 없습니다\n"
     ]
    },
    {
     "name": "stderr",
     "output_type": "stream",
     "text": [
      " 67%|██████▋   | 682/1022 [04:19<01:55,  2.93it/s]"
     ]
    },
    {
     "name": "stdout",
     "output_type": "stream",
     "text": [
      "결과를 찾을 수 없습니다. 다시 검색합니다.\n",
      "결과를 찾을 수 없습니다\n",
      "결과를 찾을 수 없습니다. 다시 검색합니다.\n",
      "['외음부', '회음부의 기타 비염증성 장애']\n"
     ]
    },
    {
     "name": "stderr",
     "output_type": "stream",
     "text": [
      " 67%|██████▋   | 683/1022 [04:20<02:42,  2.09it/s]"
     ]
    },
    {
     "name": "stdout",
     "output_type": "stream",
     "text": [
      "결과를 찾을 수 없습니다. 다시 검색합니다.\n",
      "결과를 찾을 수 없습니다. 다시 검색합니다.\n",
      "['무월경, 소량', '희발 월경']\n",
      "결과를 찾을 수 없습니다. 다시 검색합니다.\n"
     ]
    },
    {
     "name": "stderr",
     "output_type": "stream",
     "text": [
      " 67%|██████▋   | 684/1022 [04:21<03:17,  1.71it/s]"
     ]
    },
    {
     "name": "stdout",
     "output_type": "stream",
     "text": [
      "결과를 찾을 수 없습니다. 다시 검색합니다.\n",
      "결과를 찾을 수 없습니다. 다시 검색합니다.\n",
      "['과다, 빈발', '불규칙 월경']\n",
      "결과를 찾을 수 없습니다. 다시 검색합니다.\n"
     ]
    },
    {
     "name": "stderr",
     "output_type": "stream",
     "text": [
      " 67%|██████▋   | 685/1022 [04:21<03:34,  1.57it/s]"
     ]
    },
    {
     "name": "stdout",
     "output_type": "stream",
     "text": [
      "결과를 찾을 수 없습니다. 다시 검색합니다.\n",
      "결과를 찾을 수 없습니다. 다시 검색합니다.\n",
      "['기타 이상 자궁', '질 출혈']\n",
      "결과를 찾을 수 없습니다. 다시 검색합니다.\n"
     ]
    },
    {
     "name": "stderr",
     "output_type": "stream",
     "text": [
      " 67%|██████▋   | 686/1022 [04:22<03:44,  1.49it/s]"
     ]
    },
    {
     "name": "stdout",
     "output_type": "stream",
     "text": [
      "결과를 찾을 수 없습니다. 다시 검색합니다.\n",
      "['여성생식기관', '월경주기와 관련된 통증', '기타 병태']\n",
      "결과를 찾을 수 없습니다. 다시 검색합니다.\n",
      "결과를 찾을 수 없습니다. 다시 검색합니다.\n"
     ]
    },
    {
     "name": "stderr",
     "output_type": "stream",
     "text": [
      " 67%|██████▋   | 687/1022 [04:23<04:20,  1.29it/s]"
     ]
    },
    {
     "name": "stdout",
     "output_type": "stream",
     "text": [
      "결과를 찾을 수 없습니다. 다시 검색합니다.\n",
      "결과를 찾을 수 없습니다. 다시 검색합니다.\n",
      "['폐경', '기타 폐경전후 장애']\n"
     ]
    },
    {
     "name": "stderr",
     "output_type": "stream",
     "text": [
      " 67%|██████▋   | 688/1022 [04:24<04:16,  1.30it/s]"
     ]
    },
    {
     "name": "stdout",
     "output_type": "stream",
     "text": [
      "결과를 찾을 수 없습니다. 다시 검색합니다.\n"
     ]
    },
    {
     "name": "stderr",
     "output_type": "stream",
     "text": [
      " 67%|██████▋   | 689/1022 [04:24<03:24,  1.63it/s]"
     ]
    },
    {
     "name": "stdout",
     "output_type": "stream",
     "text": [
      "결과를 찾을 수 없습니다. 다시 검색합니다.\n",
      "결과를 찾을 수 없습니다\n"
     ]
    },
    {
     "name": "stderr",
     "output_type": "stream",
     "text": [
      " 68%|██████▊   | 690/1022 [04:24<02:47,  1.98it/s]"
     ]
    },
    {
     "name": "stdout",
     "output_type": "stream",
     "text": [
      "결과를 찾을 수 없습니다. 다시 검색합니다.\n",
      "결과를 찾을 수 없습니다\n"
     ]
    },
    {
     "name": "stderr",
     "output_type": "stream",
     "text": [
      " 68%|██████▊   | 691/1022 [04:25<02:21,  2.33it/s]"
     ]
    },
    {
     "name": "stdout",
     "output_type": "stream",
     "text": [
      "결과를 찾을 수 없습니다. 다시 검색합니다.\n",
      "결과를 찾을 수 없습니다\n"
     ]
    },
    {
     "name": "stderr",
     "output_type": "stream",
     "text": [
      " 68%|██████▊   | 692/1022 [04:25<02:10,  2.52it/s]"
     ]
    },
    {
     "name": "stdout",
     "output_type": "stream",
     "text": [
      "결과를 찾을 수 없습니다. 다시 검색합니다.\n",
      "결과를 찾을 수 없습니다\n"
     ]
    },
    {
     "name": "stderr",
     "output_type": "stream",
     "text": [
      " 68%|██████▊   | 693/1022 [04:25<01:55,  2.85it/s]"
     ]
    },
    {
     "name": "stdout",
     "output_type": "stream",
     "text": [
      "결과를 찾을 수 없습니다. 다시 검색합니다.\n",
      "결과를 찾을 수 없습니다\n"
     ]
    },
    {
     "name": "stderr",
     "output_type": "stream",
     "text": [
      " 68%|██████▊   | 694/1022 [04:26<01:45,  3.10it/s]"
     ]
    },
    {
     "name": "stdout",
     "output_type": "stream",
     "text": [
      "결과를 찾을 수 없습니다. 다시 검색합니다.\n",
      "['유산, 자궁외임신', '기태임신에 따른 합병증']\n",
      "결과를 찾을 수 없습니다. 다시 검색합니다.\n"
     ]
    },
    {
     "name": "stderr",
     "output_type": "stream",
     "text": [
      " 68%|██████▊   | 695/1022 [04:26<02:26,  2.24it/s]"
     ]
    },
    {
     "name": "stdout",
     "output_type": "stream",
     "text": [
      "결과를 찾을 수 없습니다. 다시 검색합니다.\n",
      "결과를 찾을 수 없습니다. 다시 검색합니다.\n",
      "['고혈압을 동반하지 않은 임신성[임신-유발] 부종', '단백뇨']\n",
      "결과를 찾을 수 없습니다. 다시 검색합니다.\n"
     ]
    },
    {
     "name": "stderr",
     "output_type": "stream",
     "text": [
      " 68%|██████▊   | 696/1022 [04:27<02:54,  1.87it/s]"
     ]
    },
    {
     "name": "stdout",
     "output_type": "stream",
     "text": [
      "결과를 찾을 수 없습니다. 다시 검색합니다.\n"
     ]
    },
    {
     "name": "stderr",
     "output_type": "stream",
     "text": [
      " 68%|██████▊   | 697/1022 [04:27<02:27,  2.20it/s]"
     ]
    },
    {
     "name": "stdout",
     "output_type": "stream",
     "text": [
      "결과를 찾을 수 없습니다. 다시 검색합니다.\n",
      "결과를 찾을 수 없습니다\n"
     ]
    },
    {
     "name": "stderr",
     "output_type": "stream",
     "text": [
      " 68%|██████▊   | 698/1022 [04:28<02:07,  2.54it/s]"
     ]
    },
    {
     "name": "stdout",
     "output_type": "stream",
     "text": [
      "결과를 찾을 수 없습니다. 다시 검색합니다.\n",
      "결과를 찾을 수 없습니다\n"
     ]
    },
    {
     "name": "stderr",
     "output_type": "stream",
     "text": [
      " 68%|██████▊   | 699/1022 [04:28<01:53,  2.85it/s]"
     ]
    },
    {
     "name": "stdout",
     "output_type": "stream",
     "text": [
      "결과를 찾을 수 없습니다. 다시 검색합니다.\n",
      "결과를 찾을 수 없습니다\n"
     ]
    },
    {
     "name": "stderr",
     "output_type": "stream",
     "text": [
      " 68%|██████▊   | 700/1022 [04:28<01:43,  3.12it/s]"
     ]
    },
    {
     "name": "stdout",
     "output_type": "stream",
     "text": [
      "결과를 찾을 수 없습니다. 다시 검색합니다.\n",
      "결과를 찾을 수 없습니다\n"
     ]
    },
    {
     "name": "stderr",
     "output_type": "stream",
     "text": [
      " 69%|██████▊   | 701/1022 [04:28<01:36,  3.32it/s]"
     ]
    },
    {
     "name": "stdout",
     "output_type": "stream",
     "text": [
      "결과를 찾을 수 없습니다. 다시 검색합니다.\n",
      "결과를 찾을 수 없습니다\n",
      "결과를 찾을 수 없습니다. 다시 검색합니다.\n",
      "['임신중 정맥합병증', '치핵']\n",
      "결과를 찾을 수 없습니다. 다시 검색합니다.\n"
     ]
    },
    {
     "name": "stderr",
     "output_type": "stream",
     "text": [
      " 69%|██████▉   | 703/1022 [04:29<02:08,  2.48it/s]"
     ]
    },
    {
     "name": "stdout",
     "output_type": "stream",
     "text": [
      "결과를 찾을 수 없습니다. 다시 검색합니다.\n",
      "결과를 찾을 수 없습니다\n"
     ]
    },
    {
     "name": "stderr",
     "output_type": "stream",
     "text": [
      " 69%|██████▉   | 704/1022 [04:30<01:53,  2.80it/s]"
     ]
    },
    {
     "name": "stdout",
     "output_type": "stream",
     "text": [
      "결과를 찾을 수 없습니다. 다시 검색합니다.\n",
      "결과를 찾을 수 없습니다\n"
     ]
    },
    {
     "name": "stderr",
     "output_type": "stream",
     "text": [
      " 69%|██████▉   | 705/1022 [04:30<01:41,  3.12it/s]"
     ]
    },
    {
     "name": "stdout",
     "output_type": "stream",
     "text": [
      "결과를 찾을 수 없습니다. 다시 검색합니다.\n",
      "결과를 찾을 수 없습니다\n"
     ]
    },
    {
     "name": "stderr",
     "output_type": "stream",
     "text": [
      " 69%|██████▉   | 706/1022 [04:30<01:33,  3.39it/s]"
     ]
    },
    {
     "name": "stdout",
     "output_type": "stream",
     "text": [
      "결과를 찾을 수 없습니다. 다시 검색합니다.\n",
      "결과를 찾을 수 없습니다\n"
     ]
    },
    {
     "name": "stderr",
     "output_type": "stream",
     "text": [
      " 69%|██████▉   | 708/1022 [04:31<01:25,  3.67it/s]"
     ]
    },
    {
     "name": "stdout",
     "output_type": "stream",
     "text": [
      "결과를 찾을 수 없습니다. 다시 검색합니다.\n",
      "결과를 찾을 수 없습니다\n"
     ]
    },
    {
     "name": "stderr",
     "output_type": "stream",
     "text": [
      " 69%|██████▉   | 709/1022 [04:31<01:23,  3.75it/s]"
     ]
    },
    {
     "name": "stdout",
     "output_type": "stream",
     "text": [
      "결과를 찾을 수 없습니다. 다시 검색합니다.\n",
      "결과를 찾을 수 없습니다\n"
     ]
    },
    {
     "name": "stderr",
     "output_type": "stream",
     "text": [
      " 69%|██████▉   | 710/1022 [04:31<01:23,  3.73it/s]"
     ]
    },
    {
     "name": "stdout",
     "output_type": "stream",
     "text": [
      "결과를 찾을 수 없습니다. 다시 검색합니다.\n",
      "결과를 찾을 수 없습니다\n",
      "결과를 찾을 수 없습니다. 다시 검색합니다.\n",
      "['알려진 또는 의심되는 태아 이상', '손상에 대한 산모관리']\n",
      "결과를 찾을 수 없습니다. 다시 검색합니다.\n"
     ]
    },
    {
     "name": "stderr",
     "output_type": "stream",
     "text": [
      " 70%|██████▉   | 711/1022 [04:32<02:08,  2.43it/s]"
     ]
    },
    {
     "name": "stdout",
     "output_type": "stream",
     "text": [
      "결과를 찾을 수 없습니다. 다시 검색합니다.\n"
     ]
    },
    {
     "name": "stderr",
     "output_type": "stream",
     "text": [
      " 70%|██████▉   | 712/1022 [04:32<01:53,  2.73it/s]"
     ]
    },
    {
     "name": "stdout",
     "output_type": "stream",
     "text": [
      "결과를 찾을 수 없습니다. 다시 검색합니다.\n",
      "결과를 찾을 수 없습니다\n"
     ]
    },
    {
     "name": "stderr",
     "output_type": "stream",
     "text": [
      " 70%|██████▉   | 713/1022 [04:32<01:45,  2.94it/s]"
     ]
    },
    {
     "name": "stdout",
     "output_type": "stream",
     "text": [
      "결과를 찾을 수 없습니다. 다시 검색합니다.\n",
      "['양수', '양막의 기타 장애']\n"
     ]
    },
    {
     "name": "stderr",
     "output_type": "stream",
     "text": [
      " 70%|██████▉   | 714/1022 [04:33<02:28,  2.07it/s]"
     ]
    },
    {
     "name": "stdout",
     "output_type": "stream",
     "text": [
      "결과를 찾을 수 없습니다. 다시 검색합니다.\n"
     ]
    },
    {
     "name": "stderr",
     "output_type": "stream",
     "text": [
      " 70%|██████▉   | 715/1022 [04:34<02:10,  2.35it/s]"
     ]
    },
    {
     "name": "stdout",
     "output_type": "stream",
     "text": [
      "결과를 찾을 수 없습니다. 다시 검색합니다.\n",
      "결과를 찾을 수 없습니다\n"
     ]
    },
    {
     "name": "stderr",
     "output_type": "stream",
     "text": [
      " 70%|███████   | 716/1022 [04:34<01:53,  2.70it/s]"
     ]
    },
    {
     "name": "stdout",
     "output_type": "stream",
     "text": [
      "결과를 찾을 수 없습니다. 다시 검색합니다.\n",
      "결과를 찾을 수 없습니다\n"
     ]
    },
    {
     "name": "stderr",
     "output_type": "stream",
     "text": [
      " 70%|███████   | 717/1022 [04:34<01:42,  2.98it/s]"
     ]
    },
    {
     "name": "stdout",
     "output_type": "stream",
     "text": [
      "결과를 찾을 수 없습니다. 다시 검색합니다.\n",
      "결과를 찾을 수 없습니다\n"
     ]
    },
    {
     "name": "stderr",
     "output_type": "stream",
     "text": [
      " 70%|███████   | 718/1022 [04:34<01:33,  3.26it/s]"
     ]
    },
    {
     "name": "stdout",
     "output_type": "stream",
     "text": [
      "결과를 찾을 수 없습니다. 다시 검색합니다.\n",
      "['조기진통', '분만']\n",
      "결과를 찾을 수 없습니다. 다시 검색합니다.\n"
     ]
    },
    {
     "name": "stderr",
     "output_type": "stream",
     "text": [
      " 70%|███████   | 720/1022 [04:35<01:56,  2.59it/s]"
     ]
    },
    {
     "name": "stdout",
     "output_type": "stream",
     "text": [
      "결과를 찾을 수 없습니다. 다시 검색합니다.\n",
      "결과를 찾을 수 없습니다\n"
     ]
    },
    {
     "name": "stderr",
     "output_type": "stream",
     "text": [
      " 71%|███████   | 721/1022 [04:36<01:43,  2.90it/s]"
     ]
    },
    {
     "name": "stdout",
     "output_type": "stream",
     "text": [
      "결과를 찾을 수 없습니다. 다시 검색합니다.\n",
      "결과를 찾을 수 없습니다\n"
     ]
    },
    {
     "name": "stderr",
     "output_type": "stream",
     "text": [
      " 71%|███████   | 722/1022 [04:36<01:34,  3.17it/s]"
     ]
    },
    {
     "name": "stdout",
     "output_type": "stream",
     "text": [
      "결과를 찾을 수 없습니다. 다시 검색합니다.\n",
      "결과를 찾을 수 없습니다\n"
     ]
    },
    {
     "name": "stderr",
     "output_type": "stream",
     "text": [
      " 71%|███████   | 723/1022 [04:36<01:29,  3.34it/s]"
     ]
    },
    {
     "name": "stdout",
     "output_type": "stream",
     "text": [
      "결과를 찾을 수 없습니다. 다시 검색합니다.\n",
      "결과를 찾을 수 없습니다\n"
     ]
    },
    {
     "name": "stderr",
     "output_type": "stream",
     "text": [
      " 71%|███████   | 724/1022 [04:36<01:31,  3.25it/s]"
     ]
    },
    {
     "name": "stdout",
     "output_type": "stream",
     "text": [
      "결과를 찾을 수 없습니다. 다시 검색합니다.\n",
      "결과를 찾을 수 없습니다\n",
      "결과를 찾을 수 없습니다. 다시 검색합니다.\n",
      "['달리 분류되지 않은 분만중 출혈이 합병된 진통', '분만']\n",
      "결과를 찾을 수 없습니다. 다시 검색합니다.\n"
     ]
    },
    {
     "name": "stderr",
     "output_type": "stream",
     "text": [
      " 71%|███████   | 725/1022 [04:37<02:10,  2.28it/s]"
     ]
    },
    {
     "name": "stdout",
     "output_type": "stream",
     "text": [
      "결과를 찾을 수 없습니다. 다시 검색합니다.\n",
      "['태아스트레스[절박]가 합병된 진통', '분만']\n",
      "결과를 찾을 수 없습니다. 다시 검색합니다.\n"
     ]
    },
    {
     "name": "stderr",
     "output_type": "stream",
     "text": [
      " 71%|███████   | 727/1022 [04:38<02:12,  2.23it/s]"
     ]
    },
    {
     "name": "stdout",
     "output_type": "stream",
     "text": [
      "결과를 찾을 수 없습니다. 다시 검색합니다.\n",
      "결과를 찾을 수 없습니다\n"
     ]
    },
    {
     "name": "stderr",
     "output_type": "stream",
     "text": [
      " 71%|███████   | 728/1022 [04:38<01:55,  2.55it/s]"
     ]
    },
    {
     "name": "stdout",
     "output_type": "stream",
     "text": [
      "결과를 찾을 수 없습니다. 다시 검색합니다.\n",
      "결과를 찾을 수 없습니다\n"
     ]
    },
    {
     "name": "stderr",
     "output_type": "stream",
     "text": [
      " 71%|███████▏  | 729/1022 [04:39<01:41,  2.88it/s]"
     ]
    },
    {
     "name": "stdout",
     "output_type": "stream",
     "text": [
      "결과를 찾을 수 없습니다. 다시 검색합니다.\n",
      "결과를 찾을 수 없습니다\n"
     ]
    },
    {
     "name": "stderr",
     "output_type": "stream",
     "text": [
      " 71%|███████▏  | 730/1022 [04:39<01:32,  3.15it/s]"
     ]
    },
    {
     "name": "stdout",
     "output_type": "stream",
     "text": [
      "결과를 찾을 수 없습니다. 다시 검색합니다.\n",
      "결과를 찾을 수 없습니다\n",
      "결과를 찾을 수 없습니다. 다시 검색합니다.\n",
      "['집게', '진공흡착기에 의한 단일분만']\n",
      "결과를 찾을 수 없습니다. 다시 검색합니다.\n"
     ]
    },
    {
     "name": "stderr",
     "output_type": "stream",
     "text": [
      " 72%|███████▏  | 731/1022 [04:40<02:15,  2.15it/s]"
     ]
    },
    {
     "name": "stdout",
     "output_type": "stream",
     "text": [
      "결과를 찾을 수 없습니다. 다시 검색합니다.\n"
     ]
    },
    {
     "name": "stderr",
     "output_type": "stream",
     "text": [
      " 72%|███████▏  | 732/1022 [04:40<02:02,  2.37it/s]"
     ]
    },
    {
     "name": "stdout",
     "output_type": "stream",
     "text": [
      "결과를 찾을 수 없습니다. 다시 검색합니다.\n",
      "결과를 찾을 수 없습니다\n"
     ]
    },
    {
     "name": "stderr",
     "output_type": "stream",
     "text": [
      " 72%|███████▏  | 733/1022 [04:40<01:49,  2.65it/s]"
     ]
    },
    {
     "name": "stdout",
     "output_type": "stream",
     "text": [
      "결과를 찾을 수 없습니다. 다시 검색합니다.\n",
      "결과를 찾을 수 없습니다\n"
     ]
    },
    {
     "name": "stderr",
     "output_type": "stream",
     "text": [
      " 72%|███████▏  | 734/1022 [04:41<01:38,  2.91it/s]"
     ]
    },
    {
     "name": "stdout",
     "output_type": "stream",
     "text": [
      "결과를 찾을 수 없습니다. 다시 검색합니다.\n",
      "결과를 찾을 수 없습니다\n"
     ]
    },
    {
     "name": "stderr",
     "output_type": "stream",
     "text": [
      " 72%|███████▏  | 735/1022 [04:41<01:31,  3.15it/s]"
     ]
    },
    {
     "name": "stdout",
     "output_type": "stream",
     "text": [
      "결과를 찾을 수 없습니다. 다시 검색합니다.\n",
      "결과를 찾을 수 없습니다\n",
      "결과를 찾을 수 없습니다. 다시 검색합니다.\n",
      "['산후기중 정맥합병증', '치핵']\n",
      "결과를 찾을 수 없습니다. 다시 검색합니다.\n"
     ]
    },
    {
     "name": "stderr",
     "output_type": "stream",
     "text": [
      " 72%|███████▏  | 737/1022 [04:42<01:52,  2.54it/s]"
     ]
    },
    {
     "name": "stdout",
     "output_type": "stream",
     "text": [
      "결과를 찾을 수 없습니다. 다시 검색합니다.\n",
      "결과를 찾을 수 없습니다\n"
     ]
    },
    {
     "name": "stderr",
     "output_type": "stream",
     "text": [
      " 72%|███████▏  | 738/1022 [04:42<01:41,  2.81it/s]"
     ]
    },
    {
     "name": "stdout",
     "output_type": "stream",
     "text": [
      "결과를 찾을 수 없습니다. 다시 검색합니다.\n",
      "결과를 찾을 수 없습니다\n",
      "결과를 찾을 수 없습니다. 다시 검색합니다.\n",
      "['출산과 관련된 유방', '수유의 기타 장애']\n",
      "결과를 찾을 수 없습니다. 다시 검색합니다.\n"
     ]
    },
    {
     "name": "stderr",
     "output_type": "stream",
     "text": [
      " 72%|███████▏  | 739/1022 [04:43<02:15,  2.09it/s]"
     ]
    },
    {
     "name": "stdout",
     "output_type": "stream",
     "text": [
      "결과를 찾을 수 없습니다. 다시 검색합니다.\n",
      "결과를 찾을 수 없습니다. 다시 검색합니다.\n",
      "['달리 분류될 수 있지만 임신, 출산', '산후기에 합병된 산모의 감염성', '기생충성 질환']\n",
      "결과를 찾을 수 없습니다. 다시 검색합니다.\n",
      "결과를 찾을 수 없습니다. 다시 검색합니다.\n"
     ]
    },
    {
     "name": "stderr",
     "output_type": "stream",
     "text": [
      " 72%|███████▏  | 740/1022 [04:44<03:01,  1.55it/s]"
     ]
    },
    {
     "name": "stdout",
     "output_type": "stream",
     "text": [
      "결과를 찾을 수 없습니다. 다시 검색합니다.\n",
      "결과를 찾을 수 없습니다. 다시 검색합니다.\n",
      "['달리 분류될 수 있지만 임신, 출산', '산후기에 합병된 기타 산모질환']\n",
      "결과를 찾을 수 없습니다. 다시 검색합니다.\n"
     ]
    },
    {
     "name": "stderr",
     "output_type": "stream",
     "text": [
      " 73%|███████▎  | 741/1022 [04:45<03:18,  1.42it/s]"
     ]
    },
    {
     "name": "stdout",
     "output_type": "stream",
     "text": [
      "결과를 찾을 수 없습니다. 다시 검색합니다.\n",
      "결과를 찾을 수 없습니다. 다시 검색합니다.\n",
      "['현재 임신과는 관계 없을 것 같은 산모병태에 의해 영향받은 태아', '신생아']\n",
      "결과를 찾을 수 없습니다. 다시 검색합니다.\n"
     ]
    },
    {
     "name": "stderr",
     "output_type": "stream",
     "text": [
      " 73%|███████▎  | 742/1022 [04:46<03:23,  1.37it/s]"
     ]
    },
    {
     "name": "stdout",
     "output_type": "stream",
     "text": [
      "결과를 찾을 수 없습니다. 다시 검색합니다.\n",
      "['임신의 산모합병증에 의해 영향을 받은 태아', '신생아']\n",
      "결과를 찾을 수 없습니다. 다시 검색합니다.\n"
     ]
    },
    {
     "name": "stderr",
     "output_type": "stream",
     "text": [
      " 73%|███████▎  | 743/1022 [04:46<03:26,  1.35it/s]"
     ]
    },
    {
     "name": "stdout",
     "output_type": "stream",
     "text": [
      "결과를 찾을 수 없습니다. 다시 검색합니다.\n",
      "['진통', '분만의 기타 합병증에 의해 영향을 받은 태아', '신생아']\n",
      "결과를 찾을 수 없습니다. 다시 검색합니다.\n"
     ]
    },
    {
     "name": "stderr",
     "output_type": "stream",
     "text": [
      " 73%|███████▎  | 744/1022 [04:47<03:58,  1.17it/s]"
     ]
    },
    {
     "name": "stdout",
     "output_type": "stream",
     "text": [
      "결과를 찾을 수 없습니다. 다시 검색합니다.\n",
      "['태아성장지연', '태아영양실조']\n",
      "결과를 찾을 수 없습니다. 다시 검색합니다.\n"
     ]
    },
    {
     "name": "stderr",
     "output_type": "stream",
     "text": [
      " 73%|███████▎  | 745/1022 [04:48<03:49,  1.21it/s]"
     ]
    },
    {
     "name": "stdout",
     "output_type": "stream",
     "text": [
      "결과를 찾을 수 없습니다. 다시 검색합니다.\n",
      "결과를 찾을 수 없습니다. 다시 검색합니다.\n",
      "['달리 분류되지 않은 단기임신', '저체중출산에 관련된 장애']\n",
      "결과를 찾을 수 없습니다. 다시 검색합니다.\n"
     ]
    },
    {
     "name": "stderr",
     "output_type": "stream",
     "text": [
      " 73%|███████▎  | 746/1022 [04:49<03:44,  1.23it/s]"
     ]
    },
    {
     "name": "stdout",
     "output_type": "stream",
     "text": [
      "결과를 찾을 수 없습니다. 다시 검색합니다.\n",
      "결과를 찾을 수 없습니다. 다시 검색합니다.\n",
      "['장기임신', '고체중출산에 관련된 장애']\n",
      "결과를 찾을 수 없습니다. 다시 검색합니다.\n"
     ]
    },
    {
     "name": "stderr",
     "output_type": "stream",
     "text": [
      " 73%|███████▎  | 747/1022 [04:50<03:40,  1.25it/s]"
     ]
    },
    {
     "name": "stdout",
     "output_type": "stream",
     "text": [
      "결과를 찾을 수 없습니다. 다시 검색합니다.\n"
     ]
    },
    {
     "name": "stderr",
     "output_type": "stream",
     "text": [
      " 73%|███████▎  | 748/1022 [04:50<02:53,  1.58it/s]"
     ]
    },
    {
     "name": "stdout",
     "output_type": "stream",
     "text": [
      "결과를 찾을 수 없습니다. 다시 검색합니다.\n",
      "결과를 찾을 수 없습니다\n"
     ]
    },
    {
     "name": "stderr",
     "output_type": "stream",
     "text": [
      " 73%|███████▎  | 749/1022 [04:50<02:21,  1.93it/s]"
     ]
    },
    {
     "name": "stdout",
     "output_type": "stream",
     "text": [
      "결과를 찾을 수 없습니다. 다시 검색합니다.\n",
      "결과를 찾을 수 없습니다\n"
     ]
    },
    {
     "name": "stderr",
     "output_type": "stream",
     "text": [
      " 73%|███████▎  | 750/1022 [04:50<01:59,  2.27it/s]"
     ]
    },
    {
     "name": "stdout",
     "output_type": "stream",
     "text": [
      "결과를 찾을 수 없습니다. 다시 검색합니다.\n",
      "결과를 찾을 수 없습니다\n"
     ]
    },
    {
     "name": "stderr",
     "output_type": "stream",
     "text": [
      " 73%|███████▎  | 751/1022 [04:51<01:44,  2.60it/s]"
     ]
    },
    {
     "name": "stdout",
     "output_type": "stream",
     "text": [
      "결과를 찾을 수 없습니다. 다시 검색합니다.\n",
      "결과를 찾을 수 없습니다\n"
     ]
    },
    {
     "name": "stderr",
     "output_type": "stream",
     "text": [
      " 74%|███████▎  | 752/1022 [04:51<01:33,  2.88it/s]"
     ]
    },
    {
     "name": "stdout",
     "output_type": "stream",
     "text": [
      "결과를 찾을 수 없습니다. 다시 검색합니다.\n",
      "결과를 찾을 수 없습니다\n"
     ]
    },
    {
     "name": "stderr",
     "output_type": "stream",
     "text": [
      " 74%|███████▎  | 753/1022 [04:51<01:26,  3.12it/s]"
     ]
    },
    {
     "name": "stdout",
     "output_type": "stream",
     "text": [
      "결과를 찾을 수 없습니다. 다시 검색합니다.\n",
      "결과를 찾을 수 없습니다\n"
     ]
    },
    {
     "name": "stderr",
     "output_type": "stream",
     "text": [
      " 74%|███████▍  | 754/1022 [04:52<01:27,  3.08it/s]"
     ]
    },
    {
     "name": "stdout",
     "output_type": "stream",
     "text": [
      "결과를 찾을 수 없습니다. 다시 검색합니다.\n",
      "결과를 찾을 수 없습니다\n"
     ]
    },
    {
     "name": "stderr",
     "output_type": "stream",
     "text": [
      " 74%|███████▍  | 755/1022 [04:52<01:20,  3.30it/s]"
     ]
    },
    {
     "name": "stdout",
     "output_type": "stream",
     "text": [
      "결과를 찾을 수 없습니다. 다시 검색합니다.\n",
      "결과를 찾을 수 없습니다\n"
     ]
    },
    {
     "name": "stderr",
     "output_type": "stream",
     "text": [
      " 74%|███████▍  | 756/1022 [04:52<01:16,  3.47it/s]"
     ]
    },
    {
     "name": "stdout",
     "output_type": "stream",
     "text": [
      "결과를 찾을 수 없습니다. 다시 검색합니다.\n",
      "결과를 찾을 수 없습니다\n"
     ]
    },
    {
     "name": "stderr",
     "output_type": "stream",
     "text": [
      " 74%|███████▍  | 757/1022 [04:52<01:13,  3.63it/s]"
     ]
    },
    {
     "name": "stdout",
     "output_type": "stream",
     "text": [
      "결과를 찾을 수 없습니다. 다시 검색합니다.\n",
      "결과를 찾을 수 없습니다\n",
      "결과를 찾을 수 없습니다. 다시 검색합니다.\n",
      "['태아', '신생아의 두개내 비외상성 출혈']\n"
     ]
    },
    {
     "name": "stderr",
     "output_type": "stream",
     "text": [
      " 74%|███████▍  | 758/1022 [04:53<01:52,  2.34it/s]"
     ]
    },
    {
     "name": "stdout",
     "output_type": "stream",
     "text": [
      "결과를 찾을 수 없습니다. 다시 검색합니다.\n",
      "결과를 찾을 수 없습니다. 다시 검색합니다.\n",
      "['기타', '상세불명의 원인으로 인한 신생아황달']\n"
     ]
    },
    {
     "name": "stderr",
     "output_type": "stream",
     "text": [
      " 74%|███████▍  | 759/1022 [04:54<02:20,  1.88it/s]"
     ]
    },
    {
     "name": "stdout",
     "output_type": "stream",
     "text": [
      "결과를 찾을 수 없습니다. 다시 검색합니다.\n"
     ]
    },
    {
     "name": "stderr",
     "output_type": "stream",
     "text": [
      " 74%|███████▍  | 760/1022 [04:54<01:57,  2.23it/s]"
     ]
    },
    {
     "name": "stdout",
     "output_type": "stream",
     "text": [
      "결과를 찾을 수 없습니다. 다시 검색합니다.\n",
      "결과를 찾을 수 없습니다\n",
      "결과를 찾을 수 없습니다. 다시 검색합니다.\n",
      "['태아', '신생아에 특이한 일과성 탄수화물대사장애']\n"
     ]
    },
    {
     "name": "stderr",
     "output_type": "stream",
     "text": [
      " 74%|███████▍  | 761/1022 [04:55<02:24,  1.81it/s]"
     ]
    },
    {
     "name": "stdout",
     "output_type": "stream",
     "text": [
      "결과를 찾을 수 없습니다. 다시 검색합니다.\n",
      "결과를 찾을 수 없습니다. 다시 검색합니다.\n",
      "['일과성 신생아 칼슘', '마그네슘 대사장애']\n",
      "결과를 찾을 수 없습니다. 다시 검색합니다.\n"
     ]
    },
    {
     "name": "stderr",
     "output_type": "stream",
     "text": [
      " 75%|███████▍  | 762/1022 [04:56<02:44,  1.58it/s]"
     ]
    },
    {
     "name": "stdout",
     "output_type": "stream",
     "text": [
      "결과를 찾을 수 없습니다. 다시 검색합니다.\n"
     ]
    },
    {
     "name": "stderr",
     "output_type": "stream",
     "text": [
      " 75%|███████▍  | 763/1022 [04:56<02:14,  1.93it/s]"
     ]
    },
    {
     "name": "stdout",
     "output_type": "stream",
     "text": [
      "결과를 찾을 수 없습니다. 다시 검색합니다.\n",
      "결과를 찾을 수 없습니다\n",
      "결과를 찾을 수 없습니다. 다시 검색합니다.\n",
      "['기타 일과성 신생아 전해질', '대사 장애']\n",
      "결과를 찾을 수 없습니다. 다시 검색합니다.\n"
     ]
    },
    {
     "name": "stderr",
     "output_type": "stream",
     "text": [
      " 75%|███████▍  | 764/1022 [04:57<02:30,  1.71it/s]"
     ]
    },
    {
     "name": "stdout",
     "output_type": "stream",
     "text": [
      "결과를 찾을 수 없습니다. 다시 검색합니다.\n"
     ]
    },
    {
     "name": "stderr",
     "output_type": "stream",
     "text": [
      " 75%|███████▍  | 765/1022 [04:57<02:07,  2.01it/s]"
     ]
    },
    {
     "name": "stdout",
     "output_type": "stream",
     "text": [
      "결과를 찾을 수 없습니다. 다시 검색합니다.\n",
      "결과를 찾을 수 없습니다\n",
      "결과를 찾을 수 없습니다. 다시 검색합니다.\n",
      "['태아', '신생아에 특이한 피부의 기타 병태']\n"
     ]
    },
    {
     "name": "stderr",
     "output_type": "stream",
     "text": [
      " 75%|███████▍  | 766/1022 [04:58<02:29,  1.72it/s]"
     ]
    },
    {
     "name": "stdout",
     "output_type": "stream",
     "text": [
      "결과를 찾을 수 없습니다. 다시 검색합니다.\n"
     ]
    },
    {
     "name": "stderr",
     "output_type": "stream",
     "text": [
      " 75%|███████▌  | 767/1022 [04:58<02:04,  2.05it/s]"
     ]
    },
    {
     "name": "stdout",
     "output_type": "stream",
     "text": [
      "결과를 찾을 수 없습니다. 다시 검색합니다.\n",
      "결과를 찾을 수 없습니다\n"
     ]
    },
    {
     "name": "stderr",
     "output_type": "stream",
     "text": [
      " 75%|███████▌  | 768/1022 [04:58<01:46,  2.38it/s]"
     ]
    },
    {
     "name": "stdout",
     "output_type": "stream",
     "text": [
      "결과를 찾을 수 없습니다. 다시 검색합니다.\n",
      "결과를 찾을 수 없습니다\n"
     ]
    },
    {
     "name": "stderr",
     "output_type": "stream",
     "text": [
      " 75%|███████▌  | 769/1022 [04:59<01:33,  2.70it/s]"
     ]
    },
    {
     "name": "stdout",
     "output_type": "stream",
     "text": [
      "결과를 찾을 수 없습니다. 다시 검색합니다.\n",
      "결과를 찾을 수 없습니다\n"
     ]
    },
    {
     "name": "stderr",
     "output_type": "stream",
     "text": [
      " 75%|███████▌  | 770/1022 [04:59<01:29,  2.82it/s]"
     ]
    },
    {
     "name": "stdout",
     "output_type": "stream",
     "text": [
      "결과를 찾을 수 없습니다. 다시 검색합니다.\n",
      "결과를 찾을 수 없습니다\n",
      "결과를 찾을 수 없습니다. 다시 검색합니다.\n",
      "['눈꺼풀, 눈물기관', '안와의 선천기형']\n",
      "결과를 찾을 수 없습니다. 다시 검색합니다.\n"
     ]
    },
    {
     "name": "stderr",
     "output_type": "stream",
     "text": [
      " 75%|███████▌  | 771/1022 [05:00<01:58,  2.11it/s]"
     ]
    },
    {
     "name": "stdout",
     "output_type": "stream",
     "text": [
      "결과를 찾을 수 없습니다. 다시 검색합니다.\n"
     ]
    },
    {
     "name": "stderr",
     "output_type": "stream",
     "text": [
      " 76%|███████▌  | 772/1022 [05:00<01:42,  2.44it/s]"
     ]
    },
    {
     "name": "stdout",
     "output_type": "stream",
     "text": [
      "결과를 찾을 수 없습니다. 다시 검색합니다.\n",
      "결과를 찾을 수 없습니다\n"
     ]
    },
    {
     "name": "stderr",
     "output_type": "stream",
     "text": [
      " 76%|███████▌  | 773/1022 [05:00<01:33,  2.68it/s]"
     ]
    },
    {
     "name": "stdout",
     "output_type": "stream",
     "text": [
      "결과를 찾을 수 없습니다. 다시 검색합니다.\n",
      "결과를 찾을 수 없습니다\n",
      "결과를 찾을 수 없습니다. 다시 검색합니다.\n",
      "['폐동맥판', '삼첨판의 선천기형']\n",
      "결과를 찾을 수 없습니다. 다시 검색합니다.\n"
     ]
    },
    {
     "name": "stderr",
     "output_type": "stream",
     "text": [
      " 76%|███████▌  | 774/1022 [05:01<02:00,  2.06it/s]"
     ]
    },
    {
     "name": "stdout",
     "output_type": "stream",
     "text": [
      "결과를 찾을 수 없습니다. 다시 검색합니다.\n",
      "결과를 찾을 수 없습니다. 다시 검색합니다.\n",
      "['대동맥판', '승모판의 선천기형']\n"
     ]
    },
    {
     "name": "stderr",
     "output_type": "stream",
     "text": [
      " 76%|███████▌  | 775/1022 [05:02<02:20,  1.76it/s]"
     ]
    },
    {
     "name": "stdout",
     "output_type": "stream",
     "text": [
      "결과를 찾을 수 없습니다. 다시 검색합니다.\n"
     ]
    },
    {
     "name": "stderr",
     "output_type": "stream",
     "text": [
      " 76%|███████▌  | 776/1022 [05:02<01:55,  2.12it/s]"
     ]
    },
    {
     "name": "stdout",
     "output_type": "stream",
     "text": [
      "결과를 찾을 수 없습니다. 다시 검색합니다.\n",
      "결과를 찾을 수 없습니다\n"
     ]
    },
    {
     "name": "stderr",
     "output_type": "stream",
     "text": [
      " 76%|███████▌  | 777/1022 [05:02<01:39,  2.46it/s]"
     ]
    },
    {
     "name": "stdout",
     "output_type": "stream",
     "text": [
      "결과를 찾을 수 없습니다. 다시 검색합니다.\n",
      "결과를 찾을 수 없습니다\n"
     ]
    },
    {
     "name": "stderr",
     "output_type": "stream",
     "text": [
      " 76%|███████▌  | 778/1022 [05:03<01:32,  2.64it/s]"
     ]
    },
    {
     "name": "stdout",
     "output_type": "stream",
     "text": [
      "결과를 찾을 수 없습니다. 다시 검색합니다.\n",
      "결과를 찾을 수 없습니다\n",
      "결과를 찾을 수 없습니다. 다시 검색합니다.\n",
      "['혀, 입', '인두의 기타 선천기형']\n",
      "결과를 찾을 수 없습니다. 다시 검색합니다.\n"
     ]
    },
    {
     "name": "stderr",
     "output_type": "stream",
     "text": [
      " 76%|███████▌  | 779/1022 [05:03<01:59,  2.03it/s]"
     ]
    },
    {
     "name": "stdout",
     "output_type": "stream",
     "text": [
      "결과를 찾을 수 없습니다. 다시 검색합니다.\n",
      "결과를 찾을 수 없습니다. 다시 검색합니다.\n",
      "['담낭, 담관', '간의 선천기형']\n",
      "결과를 찾을 수 없습니다. 다시 검색합니다.\n"
     ]
    },
    {
     "name": "stderr",
     "output_type": "stream",
     "text": [
      " 76%|███████▋  | 780/1022 [05:04<02:19,  1.73it/s]"
     ]
    },
    {
     "name": "stdout",
     "output_type": "stream",
     "text": [
      "결과를 찾을 수 없습니다. 다시 검색합니다.\n",
      "결과를 찾을 수 없습니다. 다시 검색합니다.\n",
      "['자궁', '자궁경부의 선천기형']\n"
     ]
    },
    {
     "name": "stderr",
     "output_type": "stream",
     "text": [
      " 76%|███████▋  | 781/1022 [05:05<02:35,  1.55it/s]"
     ]
    },
    {
     "name": "stdout",
     "output_type": "stream",
     "text": [
      "결과를 찾을 수 없습니다. 다시 검색합니다.\n"
     ]
    },
    {
     "name": "stderr",
     "output_type": "stream",
     "text": [
      " 77%|███████▋  | 782/1022 [05:05<02:06,  1.89it/s]"
     ]
    },
    {
     "name": "stdout",
     "output_type": "stream",
     "text": [
      "결과를 찾을 수 없습니다. 다시 검색합니다.\n",
      "결과를 찾을 수 없습니다\n"
     ]
    },
    {
     "name": "stderr",
     "output_type": "stream",
     "text": [
      " 77%|███████▋  | 783/1022 [05:05<01:47,  2.22it/s]"
     ]
    },
    {
     "name": "stdout",
     "output_type": "stream",
     "text": [
      "결과를 찾을 수 없습니다. 다시 검색합니다.\n",
      "결과를 찾을 수 없습니다\n"
     ]
    },
    {
     "name": "stderr",
     "output_type": "stream",
     "text": [
      " 77%|███████▋  | 785/1022 [05:06<01:24,  2.82it/s]"
     ]
    },
    {
     "name": "stdout",
     "output_type": "stream",
     "text": [
      "결과를 찾을 수 없습니다. 다시 검색합니다.\n",
      "결과를 찾을 수 없습니다\n"
     ]
    },
    {
     "name": "stderr",
     "output_type": "stream",
     "text": [
      " 77%|███████▋  | 786/1022 [05:06<01:22,  2.87it/s]"
     ]
    },
    {
     "name": "stdout",
     "output_type": "stream",
     "text": [
      "결과를 찾을 수 없습니다. 다시 검색합니다.\n",
      "결과를 찾을 수 없습니다\n",
      "결과를 찾을 수 없습니다. 다시 검색합니다.\n",
      "['신우의 선천성 폐색성 결손', '요관의 선천기형']\n",
      "결과를 찾을 수 없습니다. 다시 검색합니다.\n"
     ]
    },
    {
     "name": "stderr",
     "output_type": "stream",
     "text": [
      " 77%|███████▋  | 787/1022 [05:07<01:49,  2.15it/s]"
     ]
    },
    {
     "name": "stdout",
     "output_type": "stream",
     "text": [
      "결과를 찾을 수 없습니다. 다시 검색합니다.\n"
     ]
    },
    {
     "name": "stderr",
     "output_type": "stream",
     "text": [
      " 77%|███████▋  | 788/1022 [05:07<01:35,  2.46it/s]"
     ]
    },
    {
     "name": "stdout",
     "output_type": "stream",
     "text": [
      "결과를 찾을 수 없습니다. 다시 검색합니다.\n",
      "결과를 찾을 수 없습니다\n"
     ]
    },
    {
     "name": "stderr",
     "output_type": "stream",
     "text": [
      " 77%|███████▋  | 789/1022 [05:08<01:24,  2.75it/s]"
     ]
    },
    {
     "name": "stdout",
     "output_type": "stream",
     "text": [
      "결과를 찾을 수 없습니다. 다시 검색합니다.\n",
      "결과를 찾을 수 없습니다\n",
      "결과를 찾을 수 없습니다. 다시 검색합니다.\n",
      "['머리, 얼굴, 척추', '흉부의 선천성 근골격변형']\n",
      "결과를 찾을 수 없습니다. 다시 검색합니다.\n"
     ]
    },
    {
     "name": "stderr",
     "output_type": "stream",
     "text": [
      " 77%|███████▋  | 790/1022 [05:08<01:53,  2.04it/s]"
     ]
    },
    {
     "name": "stdout",
     "output_type": "stream",
     "text": [
      "결과를 찾을 수 없습니다. 다시 검색합니다.\n"
     ]
    },
    {
     "name": "stderr",
     "output_type": "stream",
     "text": [
      " 77%|███████▋  | 791/1022 [05:09<01:37,  2.37it/s]"
     ]
    },
    {
     "name": "stdout",
     "output_type": "stream",
     "text": [
      "결과를 찾을 수 없습니다. 다시 검색합니다.\n",
      "결과를 찾을 수 없습니다\n"
     ]
    },
    {
     "name": "stderr",
     "output_type": "stream",
     "text": [
      " 77%|███████▋  | 792/1022 [05:09<01:25,  2.70it/s]"
     ]
    },
    {
     "name": "stdout",
     "output_type": "stream",
     "text": [
      "결과를 찾을 수 없습니다. 다시 검색합니다.\n",
      "결과를 찾을 수 없습니다\n",
      "결과를 찾을 수 없습니다. 다시 검색합니다.\n",
      "['두개골', '안면골의 기타 선천기형']\n"
     ]
    },
    {
     "name": "stderr",
     "output_type": "stream",
     "text": [
      " 78%|███████▊  | 793/1022 [05:10<01:54,  2.01it/s]"
     ]
    },
    {
     "name": "stdout",
     "output_type": "stream",
     "text": [
      "결과를 찾을 수 없습니다. 다시 검색합니다.\n",
      "결과를 찾을 수 없습니다. 다시 검색합니다.\n",
      "['척추', '골성 흉곽의 선천기형']\n",
      "척추\n"
     ]
    },
    {
     "name": "stderr",
     "output_type": "stream",
     "text": [
      " 78%|███████▊  | 794/1022 [05:11<02:19,  1.63it/s]"
     ]
    },
    {
     "name": "stdout",
     "output_type": "stream",
     "text": [
      "결과를 찾을 수 없습니다. 다시 검색합니다.\n"
     ]
    },
    {
     "name": "stderr",
     "output_type": "stream",
     "text": [
      " 78%|███████▊  | 795/1022 [05:11<01:58,  1.92it/s]"
     ]
    },
    {
     "name": "stdout",
     "output_type": "stream",
     "text": [
      "결과를 찾을 수 없습니다. 다시 검색합니다.\n",
      "결과를 찾을 수 없습니다\n"
     ]
    },
    {
     "name": "stderr",
     "output_type": "stream",
     "text": [
      " 78%|███████▊  | 796/1022 [05:11<01:38,  2.29it/s]"
     ]
    },
    {
     "name": "stdout",
     "output_type": "stream",
     "text": [
      "결과를 찾을 수 없습니다. 다시 검색합니다.\n",
      "결과를 찾을 수 없습니다\n"
     ]
    },
    {
     "name": "stderr",
     "output_type": "stream",
     "text": [
      " 78%|███████▊  | 797/1022 [05:11<01:26,  2.61it/s]"
     ]
    },
    {
     "name": "stdout",
     "output_type": "stream",
     "text": [
      "결과를 찾을 수 없습니다. 다시 검색합니다.\n",
      "결과를 찾을 수 없습니다\n",
      "결과를 찾을 수 없습니다. 다시 검색합니다.\n",
      "['심잡음', '기타 심음']\n",
      "결과를 찾을 수 없습니다. 다시 검색합니다.\n"
     ]
    },
    {
     "name": "stderr",
     "output_type": "stream",
     "text": [
      " 78%|███████▊  | 798/1022 [05:12<01:51,  2.01it/s]"
     ]
    },
    {
     "name": "stdout",
     "output_type": "stream",
     "text": [
      "결과를 찾을 수 없습니다. 다시 검색합니다.\n"
     ]
    },
    {
     "name": "stderr",
     "output_type": "stream",
     "text": [
      " 78%|███████▊  | 799/1022 [05:12<01:34,  2.37it/s]"
     ]
    },
    {
     "name": "stdout",
     "output_type": "stream",
     "text": [
      "결과를 찾을 수 없습니다. 다시 검색합니다.\n",
      "결과를 찾을 수 없습니다\n"
     ]
    },
    {
     "name": "stderr",
     "output_type": "stream",
     "text": [
      " 78%|███████▊  | 800/1022 [05:13<01:23,  2.67it/s]"
     ]
    },
    {
     "name": "stdout",
     "output_type": "stream",
     "text": [
      "결과를 찾을 수 없습니다. 다시 검색합니다.\n",
      "결과를 찾을 수 없습니다\n"
     ]
    },
    {
     "name": "stderr",
     "output_type": "stream",
     "text": [
      " 78%|███████▊  | 802/1022 [05:13<01:10,  3.14it/s]"
     ]
    },
    {
     "name": "stdout",
     "output_type": "stream",
     "text": [
      "결과를 찾을 수 없습니다. 다시 검색합니다.\n",
      "결과를 찾을 수 없습니다\n",
      "결과를 찾을 수 없습니다. 다시 검색합니다.\n",
      "['목구멍', '가슴의 통증']\n",
      "결과를 찾을 수 없습니다. 다시 검색합니다.\n"
     ]
    },
    {
     "name": "stderr",
     "output_type": "stream",
     "text": [
      " 79%|███████▊  | 803/1022 [05:14<01:41,  2.16it/s]"
     ]
    },
    {
     "name": "stdout",
     "output_type": "stream",
     "text": [
      "결과를 찾을 수 없습니다. 다시 검색합니다.\n",
      "결과를 찾을 수 없습니다. 다시 검색합니다.\n",
      "['순환계통', '호흡계통의 기타 증상', '징후']\n",
      "결과를 찾을 수 없습니다. 다시 검색합니다.\n",
      "결과를 찾을 수 없습니다. 다시 검색합니다.\n"
     ]
    },
    {
     "name": "stderr",
     "output_type": "stream",
     "text": [
      " 79%|███████▊  | 804/1022 [05:15<02:19,  1.56it/s]"
     ]
    },
    {
     "name": "stdout",
     "output_type": "stream",
     "text": [
      "결과를 찾을 수 없습니다. 다시 검색합니다.\n",
      "['복부', '골반 통증']\n"
     ]
    },
    {
     "name": "stderr",
     "output_type": "stream",
     "text": [
      " 79%|███████▉  | 805/1022 [05:16<02:28,  1.46it/s]"
     ]
    },
    {
     "name": "stdout",
     "output_type": "stream",
     "text": [
      "결과를 찾을 수 없습니다. 다시 검색합니다.\n",
      "결과를 찾을 수 없습니다. 다시 검색합니다.\n",
      "['구역', '구토']\n",
      "결과를 찾을 수 없습니다. 다시 검색합니다.\n"
     ]
    },
    {
     "name": "stderr",
     "output_type": "stream",
     "text": [
      " 79%|███████▉  | 806/1022 [05:17<02:34,  1.40it/s]"
     ]
    },
    {
     "name": "stdout",
     "output_type": "stream",
     "text": [
      "구토\n"
     ]
    },
    {
     "name": "stderr",
     "output_type": "stream",
     "text": [
      " 79%|███████▉  | 807/1022 [05:17<02:03,  1.74it/s]"
     ]
    },
    {
     "name": "stdout",
     "output_type": "stream",
     "text": [
      "결과를 찾을 수 없습니다. 다시 검색합니다.\n",
      "결과를 찾을 수 없습니다\n"
     ]
    },
    {
     "name": "stderr",
     "output_type": "stream",
     "text": [
      " 79%|███████▉  | 808/1022 [05:17<01:42,  2.08it/s]"
     ]
    },
    {
     "name": "stdout",
     "output_type": "stream",
     "text": [
      "결과를 찾을 수 없습니다. 다시 검색합니다.\n",
      "결과를 찾을 수 없습니다\n",
      "결과를 찾을 수 없습니다. 다시 검색합니다.\n",
      "['고창', '연관된 병태']\n",
      "결과를 찾을 수 없습니다. 다시 검색합니다.\n"
     ]
    },
    {
     "name": "stderr",
     "output_type": "stream",
     "text": [
      " 79%|███████▉  | 809/1022 [05:18<01:59,  1.78it/s]"
     ]
    },
    {
     "name": "stdout",
     "output_type": "stream",
     "text": [
      "결과를 찾을 수 없습니다. 다시 검색합니다.\n"
     ]
    },
    {
     "name": "stderr",
     "output_type": "stream",
     "text": [
      " 79%|███████▉  | 810/1022 [05:18<01:39,  2.12it/s]"
     ]
    },
    {
     "name": "stdout",
     "output_type": "stream",
     "text": [
      "결과를 찾을 수 없습니다. 다시 검색합니다.\n",
      "['달리 분류되지 않은 간비대', '비장비대']\n",
      "결과를 찾을 수 없습니다. 다시 검색합니다.\n"
     ]
    },
    {
     "name": "stderr",
     "output_type": "stream",
     "text": [
      " 79%|███████▉  | 811/1022 [05:19<02:00,  1.75it/s]"
     ]
    },
    {
     "name": "stdout",
     "output_type": "stream",
     "text": [
      "결과를 찾을 수 없습니다. 다시 검색합니다.\n"
     ]
    },
    {
     "name": "stderr",
     "output_type": "stream",
     "text": [
      " 79%|███████▉  | 812/1022 [05:19<01:40,  2.10it/s]"
     ]
    },
    {
     "name": "stdout",
     "output_type": "stream",
     "text": [
      "결과를 찾을 수 없습니다. 다시 검색합니다.\n",
      "결과를 찾을 수 없습니다\n"
     ]
    },
    {
     "name": "stderr",
     "output_type": "stream",
     "text": [
      " 80%|███████▉  | 813/1022 [05:19<01:27,  2.40it/s]"
     ]
    },
    {
     "name": "stdout",
     "output_type": "stream",
     "text": [
      "결과를 찾을 수 없습니다. 다시 검색합니다.\n",
      "['소화계통', '복부의 기타 증상', '징후']\n",
      "결과를 찾을 수 없습니다. 다시 검색합니다.\n",
      "결과를 찾을 수 없습니다. 다시 검색합니다.\n"
     ]
    },
    {
     "name": "stderr",
     "output_type": "stream",
     "text": [
      " 80%|███████▉  | 815/1022 [05:21<01:40,  2.06it/s]"
     ]
    },
    {
     "name": "stdout",
     "output_type": "stream",
     "text": [
      "결과를 찾을 수 없습니다. 다시 검색합니다.\n",
      "결과를 찾을 수 없습니다\n",
      "결과를 찾을 수 없습니다. 다시 검색합니다.\n",
      "['발진', '기타 비특이성 피부발진']\n"
     ]
    },
    {
     "name": "stderr",
     "output_type": "stream",
     "text": [
      " 80%|███████▉  | 816/1022 [05:21<01:58,  1.74it/s]"
     ]
    },
    {
     "name": "stdout",
     "output_type": "stream",
     "text": [
      "결과를 찾을 수 없습니다. 다시 검색합니다.\n",
      "결과를 찾을 수 없습니다. 다시 검색합니다.\n",
      "['피부', '피하조직의 국소적 부기, 종괴', '덩이']\n",
      "결과를 찾을 수 없습니다. 다시 검색합니다.\n"
     ]
    },
    {
     "name": "stderr",
     "output_type": "stream",
     "text": [
      " 80%|████████  | 818/1022 [05:23<02:00,  1.69it/s]"
     ]
    },
    {
     "name": "stdout",
     "output_type": "stream",
     "text": [
      "결과를 찾을 수 없습니다. 다시 검색합니다.\n",
      "결과를 찾을 수 없습니다\n"
     ]
    },
    {
     "name": "stderr",
     "output_type": "stream",
     "text": [
      " 80%|████████  | 819/1022 [05:23<01:39,  2.04it/s]"
     ]
    },
    {
     "name": "stdout",
     "output_type": "stream",
     "text": [
      "결과를 찾을 수 없습니다. 다시 검색합니다.\n",
      "결과를 찾을 수 없습니다\n"
     ]
    },
    {
     "name": "stderr",
     "output_type": "stream",
     "text": [
      " 80%|████████  | 820/1022 [05:23<01:25,  2.37it/s]"
     ]
    },
    {
     "name": "stdout",
     "output_type": "stream",
     "text": [
      "결과를 찾을 수 없습니다. 다시 검색합니다.\n",
      "결과를 찾을 수 없습니다\n"
     ]
    },
    {
     "name": "stderr",
     "output_type": "stream",
     "text": [
      " 80%|████████  | 821/1022 [05:24<01:15,  2.68it/s]"
     ]
    },
    {
     "name": "stdout",
     "output_type": "stream",
     "text": [
      "결과를 찾을 수 없습니다. 다시 검색합니다.\n",
      "결과를 찾을 수 없습니다\n",
      "결과를 찾을 수 없습니다. 다시 검색합니다.\n",
      "['신경계통', '근골격계통의 기타 증상', '징후']\n",
      "결과를 찾을 수 없습니다. 다시 검색합니다.\n",
      "결과를 찾을 수 없습니다. 다시 검색합니다.\n"
     ]
    },
    {
     "name": "stderr",
     "output_type": "stream",
     "text": [
      " 81%|████████  | 823/1022 [05:25<01:35,  2.08it/s]"
     ]
    },
    {
     "name": "stdout",
     "output_type": "stream",
     "text": [
      "결과를 찾을 수 없습니다. 다시 검색합니다.\n",
      "결과를 찾을 수 없습니다\n"
     ]
    },
    {
     "name": "stderr",
     "output_type": "stream",
     "text": [
      " 81%|████████  | 824/1022 [05:25<01:21,  2.42it/s]"
     ]
    },
    {
     "name": "stdout",
     "output_type": "stream",
     "text": [
      "결과를 찾을 수 없습니다. 다시 검색합니다.\n",
      "결과를 찾을 수 없습니다\n"
     ]
    },
    {
     "name": "stderr",
     "output_type": "stream",
     "text": [
      " 81%|████████  | 825/1022 [05:25<01:11,  2.74it/s]"
     ]
    },
    {
     "name": "stdout",
     "output_type": "stream",
     "text": [
      "결과를 찾을 수 없습니다. 다시 검색합니다.\n",
      "결과를 찾을 수 없습니다\n"
     ]
    },
    {
     "name": "stderr",
     "output_type": "stream",
     "text": [
      " 81%|████████  | 826/1022 [05:26<01:04,  3.02it/s]"
     ]
    },
    {
     "name": "stdout",
     "output_type": "stream",
     "text": [
      "결과를 찾을 수 없습니다. 다시 검색합니다.\n",
      "['무뇨', '핍뇨']\n",
      "결과를 찾을 수 없습니다. 다시 검색합니다.\n"
     ]
    },
    {
     "name": "stderr",
     "output_type": "stream",
     "text": [
      " 81%|████████  | 827/1022 [05:26<01:33,  2.09it/s]"
     ]
    },
    {
     "name": "stdout",
     "output_type": "stream",
     "text": [
      "결과를 찾을 수 없습니다. 다시 검색합니다.\n"
     ]
    },
    {
     "name": "stderr",
     "output_type": "stream",
     "text": [
      " 81%|████████  | 828/1022 [05:27<01:19,  2.44it/s]"
     ]
    },
    {
     "name": "stdout",
     "output_type": "stream",
     "text": [
      "결과를 찾을 수 없습니다. 다시 검색합니다.\n",
      "결과를 찾을 수 없습니다\n",
      "결과를 찾을 수 없습니다. 다시 검색합니다.\n",
      "['비뇨계통의 기타 증상', '징후']\n",
      "결과를 찾을 수 없습니다. 다시 검색합니다.\n"
     ]
    },
    {
     "name": "stderr",
     "output_type": "stream",
     "text": [
      " 81%|████████  | 829/1022 [05:27<01:38,  1.95it/s]"
     ]
    },
    {
     "name": "stdout",
     "output_type": "stream",
     "text": [
      "결과를 찾을 수 없습니다. 다시 검색합니다.\n",
      "['기면, 혼미', '혼수']\n",
      "결과를 찾을 수 없습니다. 다시 검색합니다.\n"
     ]
    },
    {
     "name": "stderr",
     "output_type": "stream",
     "text": [
      " 81%|████████  | 830/1022 [05:28<01:53,  1.69it/s]"
     ]
    },
    {
     "name": "stdout",
     "output_type": "stream",
     "text": [
      "결과를 찾을 수 없습니다. 다시 검색합니다.\n",
      "['인지기능', '자각에 관련된 기타 증상', '징후']\n",
      "결과를 찾을 수 없습니다. 다시 검색합니다.\n"
     ]
    },
    {
     "name": "stderr",
     "output_type": "stream",
     "text": [
      " 81%|████████▏ | 831/1022 [05:29<02:18,  1.38it/s]"
     ]
    },
    {
     "name": "stdout",
     "output_type": "stream",
     "text": [
      "결과를 찾을 수 없습니다. 다시 검색합니다.\n",
      "['어지럼증', '어지럼']\n"
     ]
    },
    {
     "name": "stderr",
     "output_type": "stream",
     "text": [
      " 81%|████████▏ | 832/1022 [05:30<02:25,  1.30it/s]"
     ]
    },
    {
     "name": "stdout",
     "output_type": "stream",
     "text": [
      "결과를 찾을 수 없습니다. 다시 검색합니다.\n",
      "['후각', '미각 장애']\n"
     ]
    },
    {
     "name": "stderr",
     "output_type": "stream",
     "text": [
      " 82%|████████▏ | 833/1022 [05:31<02:23,  1.32it/s]"
     ]
    },
    {
     "name": "stdout",
     "output_type": "stream",
     "text": [
      "결과를 찾을 수 없습니다. 다시 검색합니다.\n",
      "결과를 찾을 수 없습니다. 다시 검색합니다.\n",
      "['일반적 감각', '지각에 관련된 기타 증상', '징후']\n",
      "결과를 찾을 수 없습니다. 다시 검색합니다.\n",
      "결과를 찾을 수 없습니다. 다시 검색합니다.\n"
     ]
    },
    {
     "name": "stderr",
     "output_type": "stream",
     "text": [
      " 82%|████████▏ | 834/1022 [05:32<02:38,  1.18it/s]"
     ]
    },
    {
     "name": "stdout",
     "output_type": "stream",
     "text": [
      "결과를 찾을 수 없습니다. 다시 검색합니다.\n",
      "['정서상태에 관련된 증상', '징후']\n",
      "결과를 찾을 수 없습니다. 다시 검색합니다.\n"
     ]
    },
    {
     "name": "stderr",
     "output_type": "stream",
     "text": [
      " 82%|████████▏ | 836/1022 [05:33<02:00,  1.54it/s]"
     ]
    },
    {
     "name": "stdout",
     "output_type": "stream",
     "text": [
      "결과를 찾을 수 없습니다. 다시 검색합니다.\n",
      "결과를 찾을 수 없습니다\n"
     ]
    },
    {
     "name": "stderr",
     "output_type": "stream",
     "text": [
      " 82%|████████▏ | 837/1022 [05:33<01:37,  1.90it/s]"
     ]
    },
    {
     "name": "stdout",
     "output_type": "stream",
     "text": [
      "결과를 찾을 수 없습니다. 다시 검색합니다.\n",
      "결과를 찾을 수 없습니다\n",
      "결과를 찾을 수 없습니다. 다시 검색합니다.\n",
      "['기타', '원인미상의 열']\n"
     ]
    },
    {
     "name": "stderr",
     "output_type": "stream",
     "text": [
      " 82%|████████▏ | 838/1022 [05:34<01:53,  1.62it/s]"
     ]
    },
    {
     "name": "stdout",
     "output_type": "stream",
     "text": [
      "결과를 찾을 수 없습니다. 다시 검색합니다.\n"
     ]
    },
    {
     "name": "stderr",
     "output_type": "stream",
     "text": [
      " 82%|████████▏ | 840/1022 [05:35<01:18,  2.32it/s]"
     ]
    },
    {
     "name": "stdout",
     "output_type": "stream",
     "text": [
      "결과를 찾을 수 없습니다. 다시 검색합니다.\n",
      "결과를 찾을 수 없습니다\n",
      "결과를 찾을 수 없습니다. 다시 검색합니다.\n",
      "['병감', '피로']\n",
      "결과를 찾을 수 없습니다. 다시 검색합니다.\n"
     ]
    },
    {
     "name": "stderr",
     "output_type": "stream",
     "text": [
      " 82%|████████▏ | 841/1022 [05:36<01:12,  2.50it/s]\n"
     ]
    },
    {
     "ename": "IndexError",
     "evalue": "list index out of range",
     "output_type": "error",
     "traceback": [
      "\u001b[0;31m---------------------------------------------------------------------------\u001b[0m",
      "\u001b[0;31mIndexError\u001b[0m                                Traceback (most recent call last)",
      "Cell \u001b[0;32mIn[222], line 5\u001b[0m\n\u001b[1;32m      3\u001b[0m \u001b[38;5;28;01mif\u001b[39;00m d \u001b[38;5;129;01min\u001b[39;00m symptoms[\u001b[38;5;124m'\u001b[39m\u001b[38;5;124m한글명칭\u001b[39m\u001b[38;5;124m'\u001b[39m]\u001b[38;5;241m.\u001b[39munique():\n\u001b[1;32m      4\u001b[0m     \u001b[38;5;28;01mpass\u001b[39;00m\n\u001b[0;32m----> 5\u001b[0m tmp \u001b[38;5;241m=\u001b[39m \u001b[43mget_disease_dataset\u001b[49m\u001b[43m(\u001b[49m\u001b[43md\u001b[49m\u001b[43m)\u001b[49m\n\u001b[1;32m      6\u001b[0m tmp[\u001b[38;5;124m'\u001b[39m\u001b[38;5;124m한글명칭\u001b[39m\u001b[38;5;124m'\u001b[39m] \u001b[38;5;241m=\u001b[39m d\n\u001b[1;32m      7\u001b[0m symptoms \u001b[38;5;241m=\u001b[39m pd\u001b[38;5;241m.\u001b[39mconcat([symptoms, tmp])\n",
      "Cell \u001b[0;32mIn[193], line 2\u001b[0m, in \u001b[0;36mget_disease_dataset\u001b[0;34m(disease_name)\u001b[0m\n\u001b[1;32m      1\u001b[0m \u001b[38;5;28;01mdef\u001b[39;00m \u001b[38;5;21mget_disease_dataset\u001b[39m(disease_name):\n\u001b[0;32m----> 2\u001b[0m     df \u001b[38;5;241m=\u001b[39m \u001b[43mget_disease_info\u001b[49m\u001b[43m(\u001b[49m\u001b[43mdisease_name\u001b[49m\u001b[43m)\u001b[49m\n\u001b[1;32m      3\u001b[0m     \u001b[38;5;28;01mif\u001b[39;00m df\u001b[38;5;241m.\u001b[39mshape[\u001b[38;5;241m0\u001b[39m] \u001b[38;5;241m==\u001b[39m \u001b[38;5;241m0\u001b[39m:\n\u001b[1;32m      4\u001b[0m         \u001b[38;5;28;01mif\u001b[39;00m (\u001b[38;5;124m'\u001b[39m\u001b[38;5;124m and \u001b[39m\u001b[38;5;124m'\u001b[39m \u001b[38;5;129;01min\u001b[39;00m disease_name) \u001b[38;5;129;01mor\u001b[39;00m (\u001b[38;5;124m'\u001b[39m\u001b[38;5;124m 및 \u001b[39m\u001b[38;5;124m'\u001b[39m \u001b[38;5;129;01min\u001b[39;00m disease_name):\n",
      "Cell \u001b[0;32mIn[192], line 33\u001b[0m, in \u001b[0;36mget_disease_info\u001b[0;34m(disease_name)\u001b[0m\n\u001b[1;32m     30\u001b[0m disease_info[\u001b[38;5;124m'\u001b[39m\u001b[38;5;124m관련질환\u001b[39m\u001b[38;5;124m'\u001b[39m] \u001b[38;5;241m=\u001b[39m \u001b[38;5;124m'\u001b[39m\u001b[38;5;124m, \u001b[39m\u001b[38;5;124m'\u001b[39m\u001b[38;5;241m.\u001b[39mjoin(related_diseases)\n\u001b[1;32m     32\u001b[0m \u001b[38;5;66;03m# 진료과\u001b[39;00m\n\u001b[0;32m---> 33\u001b[0m medical_departments \u001b[38;5;241m=\u001b[39m [a\u001b[38;5;241m.\u001b[39mget_text(strip\u001b[38;5;241m=\u001b[39m\u001b[38;5;28;01mTrue\u001b[39;00m) \u001b[38;5;28;01mfor\u001b[39;00m a \u001b[38;5;129;01min\u001b[39;00m \u001b[43mcontBox\u001b[49m\u001b[38;5;241;43m.\u001b[39;49m\u001b[43mfind_all\u001b[49m\u001b[43m(\u001b[49m\u001b[38;5;124;43m'\u001b[39;49m\u001b[38;5;124;43mdd\u001b[39;49m\u001b[38;5;124;43m'\u001b[39;49m\u001b[43m)\u001b[49m\u001b[43m[\u001b[49m\u001b[38;5;241;43m2\u001b[39;49m\u001b[43m]\u001b[49m\u001b[38;5;241m.\u001b[39mfind_all(\u001b[38;5;124m'\u001b[39m\u001b[38;5;124ma\u001b[39m\u001b[38;5;124m'\u001b[39m)]\n\u001b[1;32m     34\u001b[0m disease_info[\u001b[38;5;124m'\u001b[39m\u001b[38;5;124m진료과\u001b[39m\u001b[38;5;124m'\u001b[39m] \u001b[38;5;241m=\u001b[39m \u001b[38;5;124m'\u001b[39m\u001b[38;5;124m, \u001b[39m\u001b[38;5;124m'\u001b[39m\u001b[38;5;241m.\u001b[39mjoin(medical_departments)\n\u001b[1;32m     36\u001b[0m \u001b[38;5;66;03m# 동의어\u001b[39;00m\n",
      "\u001b[0;31mIndexError\u001b[0m: list index out of range"
     ]
    }
   ],
   "source": [
    "symptoms = pd.DataFrame(columns=['질병명', '증상', '관련질환', '진료과', '동의어','한글명칭'])\n",
    "for d in tqdm(diseases['한글명칭'].unique().tolist()):\n",
    "    if d in symptoms['한글명칭'].unique():\n",
    "        pass\n",
    "    tmp = get_disease_dataset(d)\n",
    "    tmp['한글명칭'] = d\n",
    "    symptoms = pd.concat([symptoms, tmp])\n",
    "    "
   ]
  },
  {
   "cell_type": "code",
   "execution_count": 223,
   "metadata": {},
   "outputs": [
    {
     "name": "stdout",
     "output_type": "stream",
     "text": [
      "저장완료\n"
     ]
    }
   ],
   "source": [
    "symptoms.to_csv('symptoms.csv', index=False)\n",
    "print('저장완료')"
   ]
  },
  {
   "cell_type": "code",
   "execution_count": 224,
   "metadata": {},
   "outputs": [
    {
     "data": {
      "text/html": [
       "<div>\n",
       "<style scoped>\n",
       "    .dataframe tbody tr th:only-of-type {\n",
       "        vertical-align: middle;\n",
       "    }\n",
       "\n",
       "    .dataframe tbody tr th {\n",
       "        vertical-align: top;\n",
       "    }\n",
       "\n",
       "    .dataframe thead th {\n",
       "        text-align: right;\n",
       "    }\n",
       "</style>\n",
       "<table border=\"1\" class=\"dataframe\">\n",
       "  <thead>\n",
       "    <tr style=\"text-align: right;\">\n",
       "      <th></th>\n",
       "      <th>질병명</th>\n",
       "      <th>증상</th>\n",
       "      <th>관련질환</th>\n",
       "      <th>진료과</th>\n",
       "      <th>동의어</th>\n",
       "      <th>한글명칭</th>\n",
       "    </tr>\n",
       "  </thead>\n",
       "  <tbody>\n",
       "    <tr>\n",
       "      <th>0</th>\n",
       "      <td>감염성 근육염(Infective myositis)</td>\n",
       "      <td>발진, 환부 부종, 압통, 열감, 피부염증</td>\n",
       "      <td>피부근육염</td>\n",
       "      <td>감염내과</td>\n",
       "      <td>바이러스성 근육염</td>\n",
       "      <td>바이러스성 및 기타 명시된 장감염</td>\n",
       "    </tr>\n",
       "    <tr>\n",
       "      <th>1</th>\n",
       "      <td>급성 바이러스성 간염(Acute viral hepatitis)</td>\n",
       "      <td>피부 긴장도 저하, 오심, 복부 통증, 관절통, 황달, 피부소양감, 구토, 식욕부진...</td>\n",
       "      <td>급성 C형 간염, 급성 B형 간염, 전격성 간염, 간염, 만성 C형 간염, 만성 B...</td>\n",
       "      <td>소화기내과, 간담도췌외과, 간이식ㆍ간담도외과</td>\n",
       "      <td>Viral Hepatitis,바이러스 간염,바이러스성 간염</td>\n",
       "      <td>바이러스성 및 기타 명시된 장감염</td>\n",
       "    </tr>\n",
       "    <tr>\n",
       "      <th>2</th>\n",
       "      <td>바이러스성 뇌수막염(Viral meningitis)</td>\n",
       "      <td>성격의변화, 두통, 경련, 혼수, 열, 뇌전증 발작, 경부 강직</td>\n",
       "      <td>출혈성 결막염, 수족구병, 박테리아성 뇌수막염</td>\n",
       "      <td>감염내과, 신경과, 소아신경과, 소아감염과</td>\n",
       "      <td>뇌막염,뇌수막염,뇌척수막염,뇌척수염,수막염</td>\n",
       "      <td>바이러스성 및 기타 명시된 장감염</td>\n",
       "    </tr>\n",
       "    <tr>\n",
       "      <th>3</th>\n",
       "      <td>바이러스성 장염(Viral enteritis(Rota))</td>\n",
       "      <td>콧물, 탈수, 구토, 기침, 설사, 열</td>\n",
       "      <td>대장염, 식중독, 노로바이러스 장염, 급성 위장염</td>\n",
       "      <td>가정의학과, 소화기내과, 노년내과, 신생아과, 소아신장과, 소아소화기영양과, 소아중...</td>\n",
       "      <td>Viral enteritis,로타바이러스,로타바이러스 장염,장염</td>\n",
       "      <td>바이러스성 및 기타 명시된 장감염</td>\n",
       "    </tr>\n",
       "    <tr>\n",
       "      <th>4</th>\n",
       "      <td>폐렴(Pneumonia)</td>\n",
       "      <td>흉수, 기침, 피로감, 두통, 호흡곤란, 가래, 가슴 통증, 열, 오한</td>\n",
       "      <td>병원 감염성 폐렴, 지역사회성 폐렴, 흡인성 폐렴, 폐렴간균에 의한 폐렴</td>\n",
       "      <td>노년내과, 호흡기내과</td>\n",
       "      <td>바이러스성 폐렴,폐염증</td>\n",
       "      <td>바이러스성 및 기타 명시된 장감염</td>\n",
       "    </tr>\n",
       "    <tr>\n",
       "      <th>...</th>\n",
       "      <td>...</td>\n",
       "      <td>...</td>\n",
       "      <td>...</td>\n",
       "      <td>...</td>\n",
       "      <td>...</td>\n",
       "      <td>...</td>\n",
       "    </tr>\n",
       "    <tr>\n",
       "      <th>3</th>\n",
       "      <td>측두동맥염(Temporal arteritis)</td>\n",
       "      <td>편두통, 눈의 통증, 식욕부진, 시력 감소, 눈의 충혈, 근육통</td>\n",
       "      <td>혈관염, 뇌경색</td>\n",
       "      <td>혈관외과, 심장외과</td>\n",
       "      <td>Giant Cell Arteritis,거대세포 동맥염,노인 혈관성 두통,노인성 혈관...</td>\n",
       "      <td>두통</td>\n",
       "    </tr>\n",
       "    <tr>\n",
       "      <th>4</th>\n",
       "      <td>편두통(Migraine)</td>\n",
       "      <td>박동성 통증, 오심, 빛이나 소리 공포증, 구토</td>\n",
       "      <td>근육 긴장성 두통, 측두동맥염, 두통, 군발성 두통 증후군</td>\n",
       "      <td>가정의학과, 신경과</td>\n",
       "      <td></td>\n",
       "      <td>두통</td>\n",
       "    </tr>\n",
       "    <tr>\n",
       "      <th>0</th>\n",
       "      <td>만성 피로 증후군(Chronic Fatigue Syndrome)</td>\n",
       "      <td>피로감, 전신 통증, 권태감, 수면장애, 기억장애, 식욕부진</td>\n",
       "      <td>수면 장애, 거북목 증후군, 우울증</td>\n",
       "      <td>가정의학과, 노년내과</td>\n",
       "      <td>만성피로증후군</td>\n",
       "      <td>병감 및 피로</td>\n",
       "    </tr>\n",
       "    <tr>\n",
       "      <th>1</th>\n",
       "      <td>열 피로(heat exhaustion)</td>\n",
       "      <td>어지러움, 권태감, 차갑고 축축한 피부, 탈수</td>\n",
       "      <td>열사병</td>\n",
       "      <td>가정의학과, 응급의학과</td>\n",
       "      <td>열경기,열경련,열성경기,열성경련,열탈진,일사병</td>\n",
       "      <td>병감 및 피로</td>\n",
       "    </tr>\n",
       "    <tr>\n",
       "      <th>2</th>\n",
       "      <td>피로 골절(Stress fracture)</td>\n",
       "      <td>무증상, 손상 부위 통증, 환부 부종</td>\n",
       "      <td>천추골 골절, 팔죽지 골절, 병리적 골절, 골절 후 부정 유합, 불유합, 원위 요골...</td>\n",
       "      <td>정형외과</td>\n",
       "      <td>스트레스 골절</td>\n",
       "      <td>병감 및 피로</td>\n",
       "    </tr>\n",
       "  </tbody>\n",
       "</table>\n",
       "<p>775 rows × 6 columns</p>\n",
       "</div>"
      ],
      "text/plain": [
       "                                    질병명  \\\n",
       "0           감염성 근육염(Infective myositis)   \n",
       "1    급성 바이러스성 간염(Acute viral hepatitis)   \n",
       "2          바이러스성 뇌수막염(Viral meningitis)   \n",
       "3       바이러스성 장염(Viral enteritis(Rota))   \n",
       "4                         폐렴(Pneumonia)   \n",
       "..                                  ...   \n",
       "3             측두동맥염(Temporal arteritis)   \n",
       "4                         편두통(Migraine)   \n",
       "0   만성 피로 증후군(Chronic Fatigue Syndrome)   \n",
       "1                 열 피로(heat exhaustion)   \n",
       "2                피로 골절(Stress fracture)   \n",
       "\n",
       "                                                   증상  \\\n",
       "0                             발진, 환부 부종, 압통, 열감, 피부염증   \n",
       "1   피부 긴장도 저하, 오심, 복부 통증, 관절통, 황달, 피부소양감, 구토, 식욕부진...   \n",
       "2                 성격의변화, 두통, 경련, 혼수, 열, 뇌전증 발작, 경부 강직   \n",
       "3                               콧물, 탈수, 구토, 기침, 설사, 열   \n",
       "4             흉수, 기침, 피로감, 두통, 호흡곤란, 가래, 가슴 통증, 열, 오한   \n",
       "..                                                ...   \n",
       "3                 편두통, 눈의 통증, 식욕부진, 시력 감소, 눈의 충혈, 근육통   \n",
       "4                          박동성 통증, 오심, 빛이나 소리 공포증, 구토   \n",
       "0                   피로감, 전신 통증, 권태감, 수면장애, 기억장애, 식욕부진   \n",
       "1                           어지러움, 권태감, 차갑고 축축한 피부, 탈수   \n",
       "2                                무증상, 손상 부위 통증, 환부 부종   \n",
       "\n",
       "                                                 관련질환  \\\n",
       "0                                               피부근육염   \n",
       "1   급성 C형 간염, 급성 B형 간염, 전격성 간염, 간염, 만성 C형 간염, 만성 B...   \n",
       "2                           출혈성 결막염, 수족구병, 박테리아성 뇌수막염   \n",
       "3                         대장염, 식중독, 노로바이러스 장염, 급성 위장염   \n",
       "4            병원 감염성 폐렴, 지역사회성 폐렴, 흡인성 폐렴, 폐렴간균에 의한 폐렴   \n",
       "..                                                ...   \n",
       "3                                            혈관염, 뇌경색   \n",
       "4                    근육 긴장성 두통, 측두동맥염, 두통, 군발성 두통 증후군   \n",
       "0                                 수면 장애, 거북목 증후군, 우울증   \n",
       "1                                                 열사병   \n",
       "2   천추골 골절, 팔죽지 골절, 병리적 골절, 골절 후 부정 유합, 불유합, 원위 요골...   \n",
       "\n",
       "                                                  진료과  \\\n",
       "0                                                감염내과   \n",
       "1                            소화기내과, 간담도췌외과, 간이식ㆍ간담도외과   \n",
       "2                             감염내과, 신경과, 소아신경과, 소아감염과   \n",
       "3   가정의학과, 소화기내과, 노년내과, 신생아과, 소아신장과, 소아소화기영양과, 소아중...   \n",
       "4                                         노년내과, 호흡기내과   \n",
       "..                                                ...   \n",
       "3                                          혈관외과, 심장외과   \n",
       "4                                          가정의학과, 신경과   \n",
       "0                                         가정의학과, 노년내과   \n",
       "1                                        가정의학과, 응급의학과   \n",
       "2                                                정형외과   \n",
       "\n",
       "                                                  동의어                한글명칭  \n",
       "0                                           바이러스성 근육염  바이러스성 및 기타 명시된 장감염  \n",
       "1                    Viral Hepatitis,바이러스 간염,바이러스성 간염  바이러스성 및 기타 명시된 장감염  \n",
       "2                             뇌막염,뇌수막염,뇌척수막염,뇌척수염,수막염  바이러스성 및 기타 명시된 장감염  \n",
       "3                 Viral enteritis,로타바이러스,로타바이러스 장염,장염  바이러스성 및 기타 명시된 장감염  \n",
       "4                                        바이러스성 폐렴,폐염증  바이러스성 및 기타 명시된 장감염  \n",
       "..                                                ...                 ...  \n",
       "3   Giant Cell Arteritis,거대세포 동맥염,노인 혈관성 두통,노인성 혈관...                  두통  \n",
       "4                                                                      두통  \n",
       "0                                             만성피로증후군             병감 및 피로  \n",
       "1                           열경기,열경련,열성경기,열성경련,열탈진,일사병             병감 및 피로  \n",
       "2                                             스트레스 골절             병감 및 피로  \n",
       "\n",
       "[775 rows x 6 columns]"
      ]
     },
     "execution_count": 224,
     "metadata": {},
     "output_type": "execute_result"
    }
   ],
   "source": [
    "symptoms"
   ]
  },
  {
   "cell_type": "code",
   "execution_count": 229,
   "metadata": {},
   "outputs": [
    {
     "data": {
      "text/html": [
       "<div>\n",
       "<style scoped>\n",
       "    .dataframe tbody tr th:only-of-type {\n",
       "        vertical-align: middle;\n",
       "    }\n",
       "\n",
       "    .dataframe tbody tr th {\n",
       "        vertical-align: top;\n",
       "    }\n",
       "\n",
       "    .dataframe thead th {\n",
       "        text-align: right;\n",
       "    }\n",
       "</style>\n",
       "<table border=\"1\" class=\"dataframe\">\n",
       "  <thead>\n",
       "    <tr style=\"text-align: right;\">\n",
       "      <th></th>\n",
       "      <th>진료년도</th>\n",
       "      <th>상병코드</th>\n",
       "      <th>성별</th>\n",
       "      <th>연령군</th>\n",
       "      <th>환자수</th>\n",
       "      <th>명세서청구건수</th>\n",
       "      <th>연령군_구분</th>\n",
       "      <th>한글명칭</th>\n",
       "      <th>영문명칭</th>\n",
       "      <th>질병명</th>\n",
       "      <th>증상</th>\n",
       "      <th>관련질환</th>\n",
       "      <th>진료과</th>\n",
       "      <th>동의어</th>\n",
       "    </tr>\n",
       "  </thead>\n",
       "  <tbody>\n",
       "    <tr>\n",
       "      <th>0</th>\n",
       "      <td>2023</td>\n",
       "      <td>A08</td>\n",
       "      <td>남</td>\n",
       "      <td>0~4세</td>\n",
       "      <td>116522</td>\n",
       "      <td>472688</td>\n",
       "      <td>1</td>\n",
       "      <td>바이러스성 및 기타 명시된 장감염</td>\n",
       "      <td>Viral and other specified intestinal infections</td>\n",
       "      <td>감염성 근육염(Infective myositis)</td>\n",
       "      <td>발진, 환부 부종, 압통, 열감, 피부염증</td>\n",
       "      <td>피부근육염</td>\n",
       "      <td>감염내과</td>\n",
       "      <td>바이러스성 근육염</td>\n",
       "    </tr>\n",
       "    <tr>\n",
       "      <th>1</th>\n",
       "      <td>2023</td>\n",
       "      <td>A08</td>\n",
       "      <td>남</td>\n",
       "      <td>5~9세</td>\n",
       "      <td>94806</td>\n",
       "      <td>258664</td>\n",
       "      <td>2</td>\n",
       "      <td>바이러스성 및 기타 명시된 장감염</td>\n",
       "      <td>Viral and other specified intestinal infections</td>\n",
       "      <td>감염성 근육염(Infective myositis)</td>\n",
       "      <td>발진, 환부 부종, 압통, 열감, 피부염증</td>\n",
       "      <td>피부근육염</td>\n",
       "      <td>감염내과</td>\n",
       "      <td>바이러스성 근육염</td>\n",
       "    </tr>\n",
       "    <tr>\n",
       "      <th>2</th>\n",
       "      <td>2023</td>\n",
       "      <td>A08</td>\n",
       "      <td>남</td>\n",
       "      <td>10~14세</td>\n",
       "      <td>42006</td>\n",
       "      <td>75782</td>\n",
       "      <td>3</td>\n",
       "      <td>바이러스성 및 기타 명시된 장감염</td>\n",
       "      <td>Viral and other specified intestinal infections</td>\n",
       "      <td>감염성 근육염(Infective myositis)</td>\n",
       "      <td>발진, 환부 부종, 압통, 열감, 피부염증</td>\n",
       "      <td>피부근육염</td>\n",
       "      <td>감염내과</td>\n",
       "      <td>바이러스성 근육염</td>\n",
       "    </tr>\n",
       "    <tr>\n",
       "      <th>3</th>\n",
       "      <td>2023</td>\n",
       "      <td>A08</td>\n",
       "      <td>남</td>\n",
       "      <td>15~19세</td>\n",
       "      <td>23381</td>\n",
       "      <td>42365</td>\n",
       "      <td>4</td>\n",
       "      <td>바이러스성 및 기타 명시된 장감염</td>\n",
       "      <td>Viral and other specified intestinal infections</td>\n",
       "      <td>감염성 근육염(Infective myositis)</td>\n",
       "      <td>발진, 환부 부종, 압통, 열감, 피부염증</td>\n",
       "      <td>피부근육염</td>\n",
       "      <td>감염내과</td>\n",
       "      <td>바이러스성 근육염</td>\n",
       "    </tr>\n",
       "    <tr>\n",
       "      <th>4</th>\n",
       "      <td>2023</td>\n",
       "      <td>A08</td>\n",
       "      <td>남</td>\n",
       "      <td>20~24세</td>\n",
       "      <td>10920</td>\n",
       "      <td>14778</td>\n",
       "      <td>5</td>\n",
       "      <td>바이러스성 및 기타 명시된 장감염</td>\n",
       "      <td>Viral and other specified intestinal infections</td>\n",
       "      <td>감염성 근육염(Infective myositis)</td>\n",
       "      <td>발진, 환부 부종, 압통, 열감, 피부염증</td>\n",
       "      <td>피부근육염</td>\n",
       "      <td>감염내과</td>\n",
       "      <td>바이러스성 근육염</td>\n",
       "    </tr>\n",
       "    <tr>\n",
       "      <th>...</th>\n",
       "      <td>...</td>\n",
       "      <td>...</td>\n",
       "      <td>...</td>\n",
       "      <td>...</td>\n",
       "      <td>...</td>\n",
       "      <td>...</td>\n",
       "      <td>...</td>\n",
       "      <td>...</td>\n",
       "      <td>...</td>\n",
       "      <td>...</td>\n",
       "      <td>...</td>\n",
       "      <td>...</td>\n",
       "      <td>...</td>\n",
       "      <td>...</td>\n",
       "    </tr>\n",
       "    <tr>\n",
       "      <th>16569</th>\n",
       "      <td>2023</td>\n",
       "      <td>R53</td>\n",
       "      <td>여</td>\n",
       "      <td>65~69세</td>\n",
       "      <td>25528</td>\n",
       "      <td>63042</td>\n",
       "      <td>14</td>\n",
       "      <td>병감 및 피로</td>\n",
       "      <td>Malaise and fatigue</td>\n",
       "      <td>피로 골절(Stress fracture)</td>\n",
       "      <td>무증상, 손상 부위 통증, 환부 부종</td>\n",
       "      <td>천추골 골절, 팔죽지 골절, 병리적 골절, 골절 후 부정 유합, 불유합, 원위 요골...</td>\n",
       "      <td>정형외과</td>\n",
       "      <td>스트레스 골절</td>\n",
       "    </tr>\n",
       "    <tr>\n",
       "      <th>16570</th>\n",
       "      <td>2023</td>\n",
       "      <td>R53</td>\n",
       "      <td>여</td>\n",
       "      <td>70~74세</td>\n",
       "      <td>18648</td>\n",
       "      <td>47402</td>\n",
       "      <td>15</td>\n",
       "      <td>병감 및 피로</td>\n",
       "      <td>Malaise and fatigue</td>\n",
       "      <td>피로 골절(Stress fracture)</td>\n",
       "      <td>무증상, 손상 부위 통증, 환부 부종</td>\n",
       "      <td>천추골 골절, 팔죽지 골절, 병리적 골절, 골절 후 부정 유합, 불유합, 원위 요골...</td>\n",
       "      <td>정형외과</td>\n",
       "      <td>스트레스 골절</td>\n",
       "    </tr>\n",
       "    <tr>\n",
       "      <th>16571</th>\n",
       "      <td>2023</td>\n",
       "      <td>R53</td>\n",
       "      <td>여</td>\n",
       "      <td>75~79세</td>\n",
       "      <td>15621</td>\n",
       "      <td>40835</td>\n",
       "      <td>16</td>\n",
       "      <td>병감 및 피로</td>\n",
       "      <td>Malaise and fatigue</td>\n",
       "      <td>피로 골절(Stress fracture)</td>\n",
       "      <td>무증상, 손상 부위 통증, 환부 부종</td>\n",
       "      <td>천추골 골절, 팔죽지 골절, 병리적 골절, 골절 후 부정 유합, 불유합, 원위 요골...</td>\n",
       "      <td>정형외과</td>\n",
       "      <td>스트레스 골절</td>\n",
       "    </tr>\n",
       "    <tr>\n",
       "      <th>16572</th>\n",
       "      <td>2023</td>\n",
       "      <td>R53</td>\n",
       "      <td>여</td>\n",
       "      <td>80~84세</td>\n",
       "      <td>16047</td>\n",
       "      <td>44056</td>\n",
       "      <td>17</td>\n",
       "      <td>병감 및 피로</td>\n",
       "      <td>Malaise and fatigue</td>\n",
       "      <td>피로 골절(Stress fracture)</td>\n",
       "      <td>무증상, 손상 부위 통증, 환부 부종</td>\n",
       "      <td>천추골 골절, 팔죽지 골절, 병리적 골절, 골절 후 부정 유합, 불유합, 원위 요골...</td>\n",
       "      <td>정형외과</td>\n",
       "      <td>스트레스 골절</td>\n",
       "    </tr>\n",
       "    <tr>\n",
       "      <th>16573</th>\n",
       "      <td>2023</td>\n",
       "      <td>R53</td>\n",
       "      <td>여</td>\n",
       "      <td>85세 이상</td>\n",
       "      <td>16284</td>\n",
       "      <td>50493</td>\n",
       "      <td>18</td>\n",
       "      <td>병감 및 피로</td>\n",
       "      <td>Malaise and fatigue</td>\n",
       "      <td>피로 골절(Stress fracture)</td>\n",
       "      <td>무증상, 손상 부위 통증, 환부 부종</td>\n",
       "      <td>천추골 골절, 팔죽지 골절, 병리적 골절, 골절 후 부정 유합, 불유합, 원위 요골...</td>\n",
       "      <td>정형외과</td>\n",
       "      <td>스트레스 골절</td>\n",
       "    </tr>\n",
       "  </tbody>\n",
       "</table>\n",
       "<p>16574 rows × 14 columns</p>\n",
       "</div>"
      ],
      "text/plain": [
       "       진료년도 상병코드 성별     연령군     환자수  명세서청구건수  연령군_구분                한글명칭  \\\n",
       "0      2023  A08  남    0~4세  116522   472688       1  바이러스성 및 기타 명시된 장감염   \n",
       "1      2023  A08  남    5~9세   94806   258664       2  바이러스성 및 기타 명시된 장감염   \n",
       "2      2023  A08  남  10~14세   42006    75782       3  바이러스성 및 기타 명시된 장감염   \n",
       "3      2023  A08  남  15~19세   23381    42365       4  바이러스성 및 기타 명시된 장감염   \n",
       "4      2023  A08  남  20~24세   10920    14778       5  바이러스성 및 기타 명시된 장감염   \n",
       "...     ...  ... ..     ...     ...      ...     ...                 ...   \n",
       "16569  2023  R53  여  65~69세   25528    63042      14             병감 및 피로   \n",
       "16570  2023  R53  여  70~74세   18648    47402      15             병감 및 피로   \n",
       "16571  2023  R53  여  75~79세   15621    40835      16             병감 및 피로   \n",
       "16572  2023  R53  여  80~84세   16047    44056      17             병감 및 피로   \n",
       "16573  2023  R53  여  85세 이상   16284    50493      18             병감 및 피로   \n",
       "\n",
       "                                                  영문명칭  \\\n",
       "0      Viral and other specified intestinal infections   \n",
       "1      Viral and other specified intestinal infections   \n",
       "2      Viral and other specified intestinal infections   \n",
       "3      Viral and other specified intestinal infections   \n",
       "4      Viral and other specified intestinal infections   \n",
       "...                                                ...   \n",
       "16569                              Malaise and fatigue   \n",
       "16570                              Malaise and fatigue   \n",
       "16571                              Malaise and fatigue   \n",
       "16572                              Malaise and fatigue   \n",
       "16573                              Malaise and fatigue   \n",
       "\n",
       "                               질병명                       증상  \\\n",
       "0      감염성 근육염(Infective myositis)  발진, 환부 부종, 압통, 열감, 피부염증   \n",
       "1      감염성 근육염(Infective myositis)  발진, 환부 부종, 압통, 열감, 피부염증   \n",
       "2      감염성 근육염(Infective myositis)  발진, 환부 부종, 압통, 열감, 피부염증   \n",
       "3      감염성 근육염(Infective myositis)  발진, 환부 부종, 압통, 열감, 피부염증   \n",
       "4      감염성 근육염(Infective myositis)  발진, 환부 부종, 압통, 열감, 피부염증   \n",
       "...                            ...                      ...   \n",
       "16569       피로 골절(Stress fracture)     무증상, 손상 부위 통증, 환부 부종   \n",
       "16570       피로 골절(Stress fracture)     무증상, 손상 부위 통증, 환부 부종   \n",
       "16571       피로 골절(Stress fracture)     무증상, 손상 부위 통증, 환부 부종   \n",
       "16572       피로 골절(Stress fracture)     무증상, 손상 부위 통증, 환부 부종   \n",
       "16573       피로 골절(Stress fracture)     무증상, 손상 부위 통증, 환부 부종   \n",
       "\n",
       "                                                    관련질환   진료과        동의어  \n",
       "0                                                  피부근육염  감염내과  바이러스성 근육염  \n",
       "1                                                  피부근육염  감염내과  바이러스성 근육염  \n",
       "2                                                  피부근육염  감염내과  바이러스성 근육염  \n",
       "3                                                  피부근육염  감염내과  바이러스성 근육염  \n",
       "4                                                  피부근육염  감염내과  바이러스성 근육염  \n",
       "...                                                  ...   ...        ...  \n",
       "16569  천추골 골절, 팔죽지 골절, 병리적 골절, 골절 후 부정 유합, 불유합, 원위 요골...  정형외과    스트레스 골절  \n",
       "16570  천추골 골절, 팔죽지 골절, 병리적 골절, 골절 후 부정 유합, 불유합, 원위 요골...  정형외과    스트레스 골절  \n",
       "16571  천추골 골절, 팔죽지 골절, 병리적 골절, 골절 후 부정 유합, 불유합, 원위 요골...  정형외과    스트레스 골절  \n",
       "16572  천추골 골절, 팔죽지 골절, 병리적 골절, 골절 후 부정 유합, 불유합, 원위 요골...  정형외과    스트레스 골절  \n",
       "16573  천추골 골절, 팔죽지 골절, 병리적 골절, 골절 후 부정 유합, 불유합, 원위 요골...  정형외과    스트레스 골절  \n",
       "\n",
       "[16574 rows x 14 columns]"
      ]
     },
     "execution_count": 229,
     "metadata": {},
     "output_type": "execute_result"
    }
   ],
   "source": [
    "diseases.merge(symptoms, how='right', on='한글명칭')"
   ]
  },
  {
   "cell_type": "code",
   "execution_count": 44,
   "metadata": {},
   "outputs": [],
   "source": [
    "top_disease = {}\n",
    "for age in diseases['연령군_구분'].unique():\n",
    "    top_disease[age] = diseases[diseases['연령군_구분'] == age].sort_values(by='환자수', ascending=False)"
   ]
  },
  {
   "cell_type": "code",
   "execution_count": 45,
   "metadata": {},
   "outputs": [
    {
     "data": {
      "text/html": [
       "<div>\n",
       "<style scoped>\n",
       "    .dataframe tbody tr th:only-of-type {\n",
       "        vertical-align: middle;\n",
       "    }\n",
       "\n",
       "    .dataframe tbody tr th {\n",
       "        vertical-align: top;\n",
       "    }\n",
       "\n",
       "    .dataframe thead th {\n",
       "        text-align: right;\n",
       "    }\n",
       "</style>\n",
       "<table border=\"1\" class=\"dataframe\">\n",
       "  <thead>\n",
       "    <tr style=\"text-align: right;\">\n",
       "      <th></th>\n",
       "      <th>진료년도</th>\n",
       "      <th>상병코드</th>\n",
       "      <th>성별</th>\n",
       "      <th>연령군</th>\n",
       "      <th>환자수</th>\n",
       "      <th>명세서청구건수</th>\n",
       "      <th>연령군_구분</th>\n",
       "      <th>한글명칭</th>\n",
       "      <th>영문명칭</th>\n",
       "    </tr>\n",
       "  </thead>\n",
       "  <tbody>\n",
       "    <tr>\n",
       "      <th>24246</th>\n",
       "      <td>2023</td>\n",
       "      <td>J20</td>\n",
       "      <td>남</td>\n",
       "      <td>0~4세</td>\n",
       "      <td>764061</td>\n",
       "      <td>16442144</td>\n",
       "      <td>1</td>\n",
       "      <td>급성 기관지염</td>\n",
       "      <td>Acute bronchitis</td>\n",
       "    </tr>\n",
       "    <tr>\n",
       "      <th>24354</th>\n",
       "      <td>2023</td>\n",
       "      <td>J30</td>\n",
       "      <td>남</td>\n",
       "      <td>0~4세</td>\n",
       "      <td>743880</td>\n",
       "      <td>15423889</td>\n",
       "      <td>1</td>\n",
       "      <td>혈관운동성 및 알레르기성 비염</td>\n",
       "      <td>Vasomotor and allergic rhinitis</td>\n",
       "    </tr>\n",
       "    <tr>\n",
       "      <th>24264</th>\n",
       "      <td>2023</td>\n",
       "      <td>J20</td>\n",
       "      <td>여</td>\n",
       "      <td>0~4세</td>\n",
       "      <td>721688</td>\n",
       "      <td>14904123</td>\n",
       "      <td>1</td>\n",
       "      <td>급성 기관지염</td>\n",
       "      <td>Acute bronchitis</td>\n",
       "    </tr>\n",
       "    <tr>\n",
       "      <th>24372</th>\n",
       "      <td>2023</td>\n",
       "      <td>J30</td>\n",
       "      <td>여</td>\n",
       "      <td>0~4세</td>\n",
       "      <td>701135</td>\n",
       "      <td>13903789</td>\n",
       "      <td>1</td>\n",
       "      <td>혈관운동성 및 알레르기성 비염</td>\n",
       "      <td>Vasomotor and allergic rhinitis</td>\n",
       "    </tr>\n",
       "    <tr>\n",
       "      <th>324</th>\n",
       "      <td>2023</td>\n",
       "      <td>A09</td>\n",
       "      <td>남</td>\n",
       "      <td>0~4세</td>\n",
       "      <td>647536</td>\n",
       "      <td>7378062</td>\n",
       "      <td>1</td>\n",
       "      <td>감염성 및 상세불명 기원의 기타 위장염 및 결장염</td>\n",
       "      <td>Other gastroenteritis and colitis of infectiou...</td>\n",
       "    </tr>\n",
       "    <tr>\n",
       "      <th>...</th>\n",
       "      <td>...</td>\n",
       "      <td>...</td>\n",
       "      <td>...</td>\n",
       "      <td>...</td>\n",
       "      <td>...</td>\n",
       "      <td>...</td>\n",
       "      <td>...</td>\n",
       "      <td>...</td>\n",
       "      <td>...</td>\n",
       "    </tr>\n",
       "    <tr>\n",
       "      <th>21219</th>\n",
       "      <td>2023</td>\n",
       "      <td>I10</td>\n",
       "      <td>여</td>\n",
       "      <td>0~4세</td>\n",
       "      <td>1033</td>\n",
       "      <td>3011</td>\n",
       "      <td>1</td>\n",
       "      <td>본태성(원발성) 고혈압</td>\n",
       "      <td>Essential(primary) hypertension</td>\n",
       "    </tr>\n",
       "    <tr>\n",
       "      <th>34819</th>\n",
       "      <td>2023</td>\n",
       "      <td>N28</td>\n",
       "      <td>남</td>\n",
       "      <td>0~4세</td>\n",
       "      <td>1031</td>\n",
       "      <td>2253</td>\n",
       "      <td>1</td>\n",
       "      <td>달리 분류되지 않은 신장 및 요관의 기타 장애</td>\n",
       "      <td>Other disorders of kidney and ureter, NEC</td>\n",
       "    </tr>\n",
       "    <tr>\n",
       "      <th>12414</th>\n",
       "      <td>2023</td>\n",
       "      <td>E60</td>\n",
       "      <td>남</td>\n",
       "      <td>0~4세</td>\n",
       "      <td>1030</td>\n",
       "      <td>2169</td>\n",
       "      <td>1</td>\n",
       "      <td>식사성 아연결핍</td>\n",
       "      <td>Dietary zinc deficiency</td>\n",
       "    </tr>\n",
       "    <tr>\n",
       "      <th>11489</th>\n",
       "      <td>2023</td>\n",
       "      <td>E23</td>\n",
       "      <td>여</td>\n",
       "      <td>0~4세</td>\n",
       "      <td>1025</td>\n",
       "      <td>2675</td>\n",
       "      <td>1</td>\n",
       "      <td>뇌하수체의 기능저하 및 기타 장애</td>\n",
       "      <td>Hypofunction and other disorders of pituitary ...</td>\n",
       "    </tr>\n",
       "    <tr>\n",
       "      <th>18140</th>\n",
       "      <td>2023</td>\n",
       "      <td>G93</td>\n",
       "      <td>여</td>\n",
       "      <td>0~4세</td>\n",
       "      <td>1005</td>\n",
       "      <td>12757</td>\n",
       "      <td>1</td>\n",
       "      <td>뇌의 기타 장애</td>\n",
       "      <td>Other disorders of brain</td>\n",
       "    </tr>\n",
       "  </tbody>\n",
       "</table>\n",
       "<p>753 rows × 9 columns</p>\n",
       "</div>"
      ],
      "text/plain": [
       "       진료년도 상병코드 성별   연령군     환자수   명세서청구건수  연령군_구분  \\\n",
       "24246  2023  J20  남  0~4세  764061  16442144       1   \n",
       "24354  2023  J30  남  0~4세  743880  15423889       1   \n",
       "24264  2023  J20  여  0~4세  721688  14904123       1   \n",
       "24372  2023  J30  여  0~4세  701135  13903789       1   \n",
       "324    2023  A09  남  0~4세  647536   7378062       1   \n",
       "...     ...  ... ..   ...     ...       ...     ...   \n",
       "21219  2023  I10  여  0~4세    1033      3011       1   \n",
       "34819  2023  N28  남  0~4세    1031      2253       1   \n",
       "12414  2023  E60  남  0~4세    1030      2169       1   \n",
       "11489  2023  E23  여  0~4세    1025      2675       1   \n",
       "18140  2023  G93  여  0~4세    1005     12757       1   \n",
       "\n",
       "                              한글명칭  \\\n",
       "24246                      급성 기관지염   \n",
       "24354             혈관운동성 및 알레르기성 비염   \n",
       "24264                      급성 기관지염   \n",
       "24372             혈관운동성 및 알레르기성 비염   \n",
       "324    감염성 및 상세불명 기원의 기타 위장염 및 결장염   \n",
       "...                            ...   \n",
       "21219                 본태성(원발성) 고혈압   \n",
       "34819    달리 분류되지 않은 신장 및 요관의 기타 장애   \n",
       "12414                     식사성 아연결핍   \n",
       "11489           뇌하수체의 기능저하 및 기타 장애   \n",
       "18140                     뇌의 기타 장애   \n",
       "\n",
       "                                                    영문명칭  \n",
       "24246                                   Acute bronchitis  \n",
       "24354                    Vasomotor and allergic rhinitis  \n",
       "24264                                   Acute bronchitis  \n",
       "24372                    Vasomotor and allergic rhinitis  \n",
       "324    Other gastroenteritis and colitis of infectiou...  \n",
       "...                                                  ...  \n",
       "21219                    Essential(primary) hypertension  \n",
       "34819          Other disorders of kidney and ureter, NEC  \n",
       "12414                            Dietary zinc deficiency  \n",
       "11489  Hypofunction and other disorders of pituitary ...  \n",
       "18140                           Other disorders of brain  \n",
       "\n",
       "[753 rows x 9 columns]"
      ]
     },
     "execution_count": 45,
     "metadata": {},
     "output_type": "execute_result"
    }
   ],
   "source": [
    "top_disease[1]"
   ]
  },
  {
   "cell_type": "code",
   "execution_count": 46,
   "metadata": {},
   "outputs": [
    {
     "data": {
      "text/html": [
       "<div>\n",
       "<style scoped>\n",
       "    .dataframe tbody tr th:only-of-type {\n",
       "        vertical-align: middle;\n",
       "    }\n",
       "\n",
       "    .dataframe tbody tr th {\n",
       "        vertical-align: top;\n",
       "    }\n",
       "\n",
       "    .dataframe thead th {\n",
       "        text-align: right;\n",
       "    }\n",
       "</style>\n",
       "<table border=\"1\" class=\"dataframe\">\n",
       "  <thead>\n",
       "    <tr style=\"text-align: right;\">\n",
       "      <th></th>\n",
       "      <th>진료년도</th>\n",
       "      <th>상병코드</th>\n",
       "      <th>성별</th>\n",
       "      <th>연령군</th>\n",
       "      <th>환자수</th>\n",
       "      <th>명세서청구건수</th>\n",
       "      <th>연령군_구분</th>\n",
       "      <th>한글명칭</th>\n",
       "      <th>영문명칭</th>\n",
       "    </tr>\n",
       "  </thead>\n",
       "  <tbody>\n",
       "    <tr>\n",
       "      <th>24247</th>\n",
       "      <td>2023</td>\n",
       "      <td>J20</td>\n",
       "      <td>남</td>\n",
       "      <td>5~9세</td>\n",
       "      <td>1084474</td>\n",
       "      <td>12123665</td>\n",
       "      <td>2</td>\n",
       "      <td>급성 기관지염</td>\n",
       "      <td>Acute bronchitis</td>\n",
       "    </tr>\n",
       "    <tr>\n",
       "      <th>24355</th>\n",
       "      <td>2023</td>\n",
       "      <td>J30</td>\n",
       "      <td>남</td>\n",
       "      <td>5~9세</td>\n",
       "      <td>1076443</td>\n",
       "      <td>12394688</td>\n",
       "      <td>2</td>\n",
       "      <td>혈관운동성 및 알레르기성 비염</td>\n",
       "      <td>Vasomotor and allergic rhinitis</td>\n",
       "    </tr>\n",
       "    <tr>\n",
       "      <th>24265</th>\n",
       "      <td>2023</td>\n",
       "      <td>J20</td>\n",
       "      <td>여</td>\n",
       "      <td>5~9세</td>\n",
       "      <td>1028307</td>\n",
       "      <td>11198161</td>\n",
       "      <td>2</td>\n",
       "      <td>급성 기관지염</td>\n",
       "      <td>Acute bronchitis</td>\n",
       "    </tr>\n",
       "    <tr>\n",
       "      <th>24373</th>\n",
       "      <td>2023</td>\n",
       "      <td>J30</td>\n",
       "      <td>여</td>\n",
       "      <td>5~9세</td>\n",
       "      <td>1011847</td>\n",
       "      <td>11048237</td>\n",
       "      <td>2</td>\n",
       "      <td>혈관운동성 및 알레르기성 비염</td>\n",
       "      <td>Vasomotor and allergic rhinitis</td>\n",
       "    </tr>\n",
       "    <tr>\n",
       "      <th>325</th>\n",
       "      <td>2023</td>\n",
       "      <td>A09</td>\n",
       "      <td>남</td>\n",
       "      <td>5~9세</td>\n",
       "      <td>678038</td>\n",
       "      <td>3605734</td>\n",
       "      <td>2</td>\n",
       "      <td>감염성 및 상세불명 기원의 기타 위장염 및 결장염</td>\n",
       "      <td>Other gastroenteritis and colitis of infectiou...</td>\n",
       "    </tr>\n",
       "    <tr>\n",
       "      <th>...</th>\n",
       "      <td>...</td>\n",
       "      <td>...</td>\n",
       "      <td>...</td>\n",
       "      <td>...</td>\n",
       "      <td>...</td>\n",
       "      <td>...</td>\n",
       "      <td>...</td>\n",
       "      <td>...</td>\n",
       "      <td>...</td>\n",
       "    </tr>\n",
       "    <tr>\n",
       "      <th>5113</th>\n",
       "      <td>2023</td>\n",
       "      <td>B96</td>\n",
       "      <td>남</td>\n",
       "      <td>5~9세</td>\n",
       "      <td>1016</td>\n",
       "      <td>3698</td>\n",
       "      <td>2</td>\n",
       "      <td>다른 장에서 분류된 질환의 원인으로서의 기타 명시된 세균감염체</td>\n",
       "      <td>Other specified bacterial agents as the cause ...</td>\n",
       "    </tr>\n",
       "    <tr>\n",
       "      <th>35644</th>\n",
       "      <td>2023</td>\n",
       "      <td>N72</td>\n",
       "      <td>여</td>\n",
       "      <td>5~9세</td>\n",
       "      <td>1012</td>\n",
       "      <td>1248</td>\n",
       "      <td>2</td>\n",
       "      <td>자궁경부의 염증성 질환</td>\n",
       "      <td>Inflammatory disease of cervix uteri</td>\n",
       "    </tr>\n",
       "    <tr>\n",
       "      <th>31851</th>\n",
       "      <td>2023</td>\n",
       "      <td>M23</td>\n",
       "      <td>남</td>\n",
       "      <td>5~9세</td>\n",
       "      <td>1012</td>\n",
       "      <td>1873</td>\n",
       "      <td>2</td>\n",
       "      <td>무릎의 내부장애</td>\n",
       "      <td>Internal derangement of knee</td>\n",
       "    </tr>\n",
       "    <tr>\n",
       "      <th>59286</th>\n",
       "      <td>2023</td>\n",
       "      <td>Z47</td>\n",
       "      <td>여</td>\n",
       "      <td>5~9세</td>\n",
       "      <td>1009</td>\n",
       "      <td>1591</td>\n",
       "      <td>2</td>\n",
       "      <td>기타 정형외과적 추적치료를 위하여 보건서비스와 접하고 있는 사람</td>\n",
       "      <td>Persons encountering health services for other...</td>\n",
       "    </tr>\n",
       "    <tr>\n",
       "      <th>29177</th>\n",
       "      <td>2023</td>\n",
       "      <td>L27</td>\n",
       "      <td>여</td>\n",
       "      <td>5~9세</td>\n",
       "      <td>1004</td>\n",
       "      <td>1614</td>\n",
       "      <td>2</td>\n",
       "      <td>내부로 섭취된 물질에 의한 피부염</td>\n",
       "      <td>Dermatitis due to substances taken internally</td>\n",
       "    </tr>\n",
       "  </tbody>\n",
       "</table>\n",
       "<p>762 rows × 9 columns</p>\n",
       "</div>"
      ],
      "text/plain": [
       "       진료년도 상병코드 성별   연령군      환자수   명세서청구건수  연령군_구분  \\\n",
       "24247  2023  J20  남  5~9세  1084474  12123665       2   \n",
       "24355  2023  J30  남  5~9세  1076443  12394688       2   \n",
       "24265  2023  J20  여  5~9세  1028307  11198161       2   \n",
       "24373  2023  J30  여  5~9세  1011847  11048237       2   \n",
       "325    2023  A09  남  5~9세   678038   3605734       2   \n",
       "...     ...  ... ..   ...      ...       ...     ...   \n",
       "5113   2023  B96  남  5~9세     1016      3698       2   \n",
       "35644  2023  N72  여  5~9세     1012      1248       2   \n",
       "31851  2023  M23  남  5~9세     1012      1873       2   \n",
       "59286  2023  Z47  여  5~9세     1009      1591       2   \n",
       "29177  2023  L27  여  5~9세     1004      1614       2   \n",
       "\n",
       "                                      한글명칭  \\\n",
       "24247                              급성 기관지염   \n",
       "24355                     혈관운동성 및 알레르기성 비염   \n",
       "24265                              급성 기관지염   \n",
       "24373                     혈관운동성 및 알레르기성 비염   \n",
       "325            감염성 및 상세불명 기원의 기타 위장염 및 결장염   \n",
       "...                                    ...   \n",
       "5113    다른 장에서 분류된 질환의 원인으로서의 기타 명시된 세균감염체   \n",
       "35644                         자궁경부의 염증성 질환   \n",
       "31851                             무릎의 내부장애   \n",
       "59286  기타 정형외과적 추적치료를 위하여 보건서비스와 접하고 있는 사람   \n",
       "29177                   내부로 섭취된 물질에 의한 피부염   \n",
       "\n",
       "                                                    영문명칭  \n",
       "24247                                   Acute bronchitis  \n",
       "24355                    Vasomotor and allergic rhinitis  \n",
       "24265                                   Acute bronchitis  \n",
       "24373                    Vasomotor and allergic rhinitis  \n",
       "325    Other gastroenteritis and colitis of infectiou...  \n",
       "...                                                  ...  \n",
       "5113   Other specified bacterial agents as the cause ...  \n",
       "35644               Inflammatory disease of cervix uteri  \n",
       "31851                       Internal derangement of knee  \n",
       "59286  Persons encountering health services for other...  \n",
       "29177      Dermatitis due to substances taken internally  \n",
       "\n",
       "[762 rows x 9 columns]"
      ]
     },
     "execution_count": 46,
     "metadata": {},
     "output_type": "execute_result"
    }
   ],
   "source": [
    "top_disease[2]"
   ]
  },
  {
   "cell_type": "code",
   "execution_count": 47,
   "metadata": {},
   "outputs": [
    {
     "data": {
      "text/html": [
       "<div>\n",
       "<style scoped>\n",
       "    .dataframe tbody tr th:only-of-type {\n",
       "        vertical-align: middle;\n",
       "    }\n",
       "\n",
       "    .dataframe tbody tr th {\n",
       "        vertical-align: top;\n",
       "    }\n",
       "\n",
       "    .dataframe thead th {\n",
       "        text-align: right;\n",
       "    }\n",
       "</style>\n",
       "<table border=\"1\" class=\"dataframe\">\n",
       "  <thead>\n",
       "    <tr style=\"text-align: right;\">\n",
       "      <th></th>\n",
       "      <th>진료년도</th>\n",
       "      <th>상병코드</th>\n",
       "      <th>성별</th>\n",
       "      <th>연령군</th>\n",
       "      <th>환자수</th>\n",
       "      <th>명세서청구건수</th>\n",
       "      <th>연령군_구분</th>\n",
       "      <th>한글명칭</th>\n",
       "      <th>영문명칭</th>\n",
       "    </tr>\n",
       "  </thead>\n",
       "  <tbody>\n",
       "    <tr>\n",
       "      <th>24356</th>\n",
       "      <td>2023</td>\n",
       "      <td>J30</td>\n",
       "      <td>남</td>\n",
       "      <td>10~14세</td>\n",
       "      <td>1101941</td>\n",
       "      <td>6143060</td>\n",
       "      <td>3</td>\n",
       "      <td>혈관운동성 및 알레르기성 비염</td>\n",
       "      <td>Vasomotor and allergic rhinitis</td>\n",
       "    </tr>\n",
       "    <tr>\n",
       "      <th>24248</th>\n",
       "      <td>2023</td>\n",
       "      <td>J20</td>\n",
       "      <td>남</td>\n",
       "      <td>10~14세</td>\n",
       "      <td>1081426</td>\n",
       "      <td>5499268</td>\n",
       "      <td>3</td>\n",
       "      <td>급성 기관지염</td>\n",
       "      <td>Acute bronchitis</td>\n",
       "    </tr>\n",
       "    <tr>\n",
       "      <th>24374</th>\n",
       "      <td>2023</td>\n",
       "      <td>J30</td>\n",
       "      <td>여</td>\n",
       "      <td>10~14세</td>\n",
       "      <td>1020274</td>\n",
       "      <td>5108380</td>\n",
       "      <td>3</td>\n",
       "      <td>혈관운동성 및 알레르기성 비염</td>\n",
       "      <td>Vasomotor and allergic rhinitis</td>\n",
       "    </tr>\n",
       "    <tr>\n",
       "      <th>24266</th>\n",
       "      <td>2023</td>\n",
       "      <td>J20</td>\n",
       "      <td>여</td>\n",
       "      <td>10~14세</td>\n",
       "      <td>1012004</td>\n",
       "      <td>4795941</td>\n",
       "      <td>3</td>\n",
       "      <td>급성 기관지염</td>\n",
       "      <td>Acute bronchitis</td>\n",
       "    </tr>\n",
       "    <tr>\n",
       "      <th>26713</th>\n",
       "      <td>2023</td>\n",
       "      <td>K29</td>\n",
       "      <td>남</td>\n",
       "      <td>10~14세</td>\n",
       "      <td>903896</td>\n",
       "      <td>3877922</td>\n",
       "      <td>3</td>\n",
       "      <td>위염 및 십이지장염</td>\n",
       "      <td>Gastritis and duodenitis</td>\n",
       "    </tr>\n",
       "    <tr>\n",
       "      <th>...</th>\n",
       "      <td>...</td>\n",
       "      <td>...</td>\n",
       "      <td>...</td>\n",
       "      <td>...</td>\n",
       "      <td>...</td>\n",
       "      <td>...</td>\n",
       "      <td>...</td>\n",
       "      <td>...</td>\n",
       "      <td>...</td>\n",
       "    </tr>\n",
       "    <tr>\n",
       "      <th>29160</th>\n",
       "      <td>2023</td>\n",
       "      <td>L27</td>\n",
       "      <td>남</td>\n",
       "      <td>10~14세</td>\n",
       "      <td>1014</td>\n",
       "      <td>1582</td>\n",
       "      <td>3</td>\n",
       "      <td>내부로 섭취된 물질에 의한 피부염</td>\n",
       "      <td>Dermatitis due to substances taken internally</td>\n",
       "    </tr>\n",
       "    <tr>\n",
       "      <th>2918</th>\n",
       "      <td>2023</td>\n",
       "      <td>B09</td>\n",
       "      <td>남</td>\n",
       "      <td>10~14세</td>\n",
       "      <td>1011</td>\n",
       "      <td>2006</td>\n",
       "      <td>3</td>\n",
       "      <td>피부 및 점막병변이 특징인 상세불명의 바이러스감염</td>\n",
       "      <td>Unspecified viral infection characterized by s...</td>\n",
       "    </tr>\n",
       "    <tr>\n",
       "      <th>26209</th>\n",
       "      <td>2023</td>\n",
       "      <td>K09</td>\n",
       "      <td>남</td>\n",
       "      <td>10~14세</td>\n",
       "      <td>1007</td>\n",
       "      <td>2260</td>\n",
       "      <td>3</td>\n",
       "      <td>달리 분류되지 않은 구강영역의 낭</td>\n",
       "      <td>Cysts of oral region, NEC</td>\n",
       "    </tr>\n",
       "    <tr>\n",
       "      <th>8363</th>\n",
       "      <td>2023</td>\n",
       "      <td>D10</td>\n",
       "      <td>여</td>\n",
       "      <td>10~14세</td>\n",
       "      <td>1002</td>\n",
       "      <td>1853</td>\n",
       "      <td>3</td>\n",
       "      <td>입 및 인두의 양성 신생물</td>\n",
       "      <td>Benign neoplasm of mouth and pharynx</td>\n",
       "    </tr>\n",
       "    <tr>\n",
       "      <th>2936</th>\n",
       "      <td>2023</td>\n",
       "      <td>B09</td>\n",
       "      <td>여</td>\n",
       "      <td>10~14세</td>\n",
       "      <td>1002</td>\n",
       "      <td>1904</td>\n",
       "      <td>3</td>\n",
       "      <td>피부 및 점막병변이 특징인 상세불명의 바이러스감염</td>\n",
       "      <td>Unspecified viral infection characterized by s...</td>\n",
       "    </tr>\n",
       "  </tbody>\n",
       "</table>\n",
       "<p>812 rows × 9 columns</p>\n",
       "</div>"
      ],
      "text/plain": [
       "       진료년도 상병코드 성별     연령군      환자수  명세서청구건수  연령군_구분  \\\n",
       "24356  2023  J30  남  10~14세  1101941  6143060       3   \n",
       "24248  2023  J20  남  10~14세  1081426  5499268       3   \n",
       "24374  2023  J30  여  10~14세  1020274  5108380       3   \n",
       "24266  2023  J20  여  10~14세  1012004  4795941       3   \n",
       "26713  2023  K29  남  10~14세   903896  3877922       3   \n",
       "...     ...  ... ..     ...      ...      ...     ...   \n",
       "29160  2023  L27  남  10~14세     1014     1582       3   \n",
       "2918   2023  B09  남  10~14세     1011     2006       3   \n",
       "26209  2023  K09  남  10~14세     1007     2260       3   \n",
       "8363   2023  D10  여  10~14세     1002     1853       3   \n",
       "2936   2023  B09  여  10~14세     1002     1904       3   \n",
       "\n",
       "                              한글명칭  \\\n",
       "24356             혈관운동성 및 알레르기성 비염   \n",
       "24248                      급성 기관지염   \n",
       "24374             혈관운동성 및 알레르기성 비염   \n",
       "24266                      급성 기관지염   \n",
       "26713                   위염 및 십이지장염   \n",
       "...                            ...   \n",
       "29160           내부로 섭취된 물질에 의한 피부염   \n",
       "2918   피부 및 점막병변이 특징인 상세불명의 바이러스감염   \n",
       "26209           달리 분류되지 않은 구강영역의 낭   \n",
       "8363                입 및 인두의 양성 신생물   \n",
       "2936   피부 및 점막병변이 특징인 상세불명의 바이러스감염   \n",
       "\n",
       "                                                    영문명칭  \n",
       "24356                    Vasomotor and allergic rhinitis  \n",
       "24248                                   Acute bronchitis  \n",
       "24374                    Vasomotor and allergic rhinitis  \n",
       "24266                                   Acute bronchitis  \n",
       "26713                           Gastritis and duodenitis  \n",
       "...                                                  ...  \n",
       "29160      Dermatitis due to substances taken internally  \n",
       "2918   Unspecified viral infection characterized by s...  \n",
       "26209                          Cysts of oral region, NEC  \n",
       "8363                Benign neoplasm of mouth and pharynx  \n",
       "2936   Unspecified viral infection characterized by s...  \n",
       "\n",
       "[812 rows x 9 columns]"
      ]
     },
     "execution_count": 47,
     "metadata": {},
     "output_type": "execute_result"
    }
   ],
   "source": [
    "top_disease[3]"
   ]
  },
  {
   "cell_type": "code",
   "execution_count": 48,
   "metadata": {},
   "outputs": [
    {
     "data": {
      "text/html": [
       "<div>\n",
       "<style scoped>\n",
       "    .dataframe tbody tr th:only-of-type {\n",
       "        vertical-align: middle;\n",
       "    }\n",
       "\n",
       "    .dataframe tbody tr th {\n",
       "        vertical-align: top;\n",
       "    }\n",
       "\n",
       "    .dataframe thead th {\n",
       "        text-align: right;\n",
       "    }\n",
       "</style>\n",
       "<table border=\"1\" class=\"dataframe\">\n",
       "  <thead>\n",
       "    <tr style=\"text-align: right;\">\n",
       "      <th></th>\n",
       "      <th>진료년도</th>\n",
       "      <th>상병코드</th>\n",
       "      <th>성별</th>\n",
       "      <th>연령군</th>\n",
       "      <th>환자수</th>\n",
       "      <th>명세서청구건수</th>\n",
       "      <th>연령군_구분</th>\n",
       "      <th>한글명칭</th>\n",
       "      <th>영문명칭</th>\n",
       "    </tr>\n",
       "  </thead>\n",
       "  <tbody>\n",
       "    <tr>\n",
       "      <th>26714</th>\n",
       "      <td>2023</td>\n",
       "      <td>K29</td>\n",
       "      <td>남</td>\n",
       "      <td>15~19세</td>\n",
       "      <td>999439</td>\n",
       "      <td>4930489</td>\n",
       "      <td>4</td>\n",
       "      <td>위염 및 십이지장염</td>\n",
       "      <td>Gastritis and duodenitis</td>\n",
       "    </tr>\n",
       "    <tr>\n",
       "      <th>26732</th>\n",
       "      <td>2023</td>\n",
       "      <td>K29</td>\n",
       "      <td>여</td>\n",
       "      <td>15~19세</td>\n",
       "      <td>976073</td>\n",
       "      <td>4601532</td>\n",
       "      <td>4</td>\n",
       "      <td>위염 및 십이지장염</td>\n",
       "      <td>Gastritis and duodenitis</td>\n",
       "    </tr>\n",
       "    <tr>\n",
       "      <th>24357</th>\n",
       "      <td>2023</td>\n",
       "      <td>J30</td>\n",
       "      <td>남</td>\n",
       "      <td>15~19세</td>\n",
       "      <td>957894</td>\n",
       "      <td>4241503</td>\n",
       "      <td>4</td>\n",
       "      <td>혈관운동성 및 알레르기성 비염</td>\n",
       "      <td>Vasomotor and allergic rhinitis</td>\n",
       "    </tr>\n",
       "    <tr>\n",
       "      <th>24375</th>\n",
       "      <td>2023</td>\n",
       "      <td>J30</td>\n",
       "      <td>여</td>\n",
       "      <td>15~19세</td>\n",
       "      <td>933287</td>\n",
       "      <td>3656392</td>\n",
       "      <td>4</td>\n",
       "      <td>혈관운동성 및 알레르기성 비염</td>\n",
       "      <td>Vasomotor and allergic rhinitis</td>\n",
       "    </tr>\n",
       "    <tr>\n",
       "      <th>24249</th>\n",
       "      <td>2023</td>\n",
       "      <td>J20</td>\n",
       "      <td>남</td>\n",
       "      <td>15~19세</td>\n",
       "      <td>898042</td>\n",
       "      <td>3519335</td>\n",
       "      <td>4</td>\n",
       "      <td>급성 기관지염</td>\n",
       "      <td>Acute bronchitis</td>\n",
       "    </tr>\n",
       "    <tr>\n",
       "      <th>...</th>\n",
       "      <td>...</td>\n",
       "      <td>...</td>\n",
       "      <td>...</td>\n",
       "      <td>...</td>\n",
       "      <td>...</td>\n",
       "      <td>...</td>\n",
       "      <td>...</td>\n",
       "      <td>...</td>\n",
       "      <td>...</td>\n",
       "    </tr>\n",
       "    <tr>\n",
       "      <th>32354</th>\n",
       "      <td>2023</td>\n",
       "      <td>M45</td>\n",
       "      <td>남</td>\n",
       "      <td>15~19세</td>\n",
       "      <td>1017</td>\n",
       "      <td>3579</td>\n",
       "      <td>4</td>\n",
       "      <td>강직척추염</td>\n",
       "      <td>Ankylosing spondylitis</td>\n",
       "    </tr>\n",
       "    <tr>\n",
       "      <th>17482</th>\n",
       "      <td>2023</td>\n",
       "      <td>G58</td>\n",
       "      <td>남</td>\n",
       "      <td>15~19세</td>\n",
       "      <td>1013</td>\n",
       "      <td>1919</td>\n",
       "      <td>4</td>\n",
       "      <td>기타 단일신경병증</td>\n",
       "      <td>Other mononeuropathies</td>\n",
       "    </tr>\n",
       "    <tr>\n",
       "      <th>58160</th>\n",
       "      <td>2023</td>\n",
       "      <td>Z02</td>\n",
       "      <td>여</td>\n",
       "      <td>15~19세</td>\n",
       "      <td>1005</td>\n",
       "      <td>1324</td>\n",
       "      <td>4</td>\n",
       "      <td>행정목적을 위한 검사</td>\n",
       "      <td>Examination and encounter for administrative p...</td>\n",
       "    </tr>\n",
       "    <tr>\n",
       "      <th>50216</th>\n",
       "      <td>2023</td>\n",
       "      <td>T73</td>\n",
       "      <td>여</td>\n",
       "      <td>15~19세</td>\n",
       "      <td>1003</td>\n",
       "      <td>1520</td>\n",
       "      <td>4</td>\n",
       "      <td>기타 박탈의 영향</td>\n",
       "      <td>Effects of other deprivation</td>\n",
       "    </tr>\n",
       "    <tr>\n",
       "      <th>47666</th>\n",
       "      <td>2023</td>\n",
       "      <td>S99</td>\n",
       "      <td>여</td>\n",
       "      <td>15~19세</td>\n",
       "      <td>1003</td>\n",
       "      <td>1921</td>\n",
       "      <td>4</td>\n",
       "      <td>발목 및 발의 기타 및 상세불명의 손상</td>\n",
       "      <td>Other and unspecified injuries of ankle and foot</td>\n",
       "    </tr>\n",
       "  </tbody>\n",
       "</table>\n",
       "<p>879 rows × 9 columns</p>\n",
       "</div>"
      ],
      "text/plain": [
       "       진료년도 상병코드 성별     연령군     환자수  명세서청구건수  연령군_구분                   한글명칭  \\\n",
       "26714  2023  K29  남  15~19세  999439  4930489       4             위염 및 십이지장염   \n",
       "26732  2023  K29  여  15~19세  976073  4601532       4             위염 및 십이지장염   \n",
       "24357  2023  J30  남  15~19세  957894  4241503       4       혈관운동성 및 알레르기성 비염   \n",
       "24375  2023  J30  여  15~19세  933287  3656392       4       혈관운동성 및 알레르기성 비염   \n",
       "24249  2023  J20  남  15~19세  898042  3519335       4                급성 기관지염   \n",
       "...     ...  ... ..     ...     ...      ...     ...                    ...   \n",
       "32354  2023  M45  남  15~19세    1017     3579       4                  강직척추염   \n",
       "17482  2023  G58  남  15~19세    1013     1919       4              기타 단일신경병증   \n",
       "58160  2023  Z02  여  15~19세    1005     1324       4            행정목적을 위한 검사   \n",
       "50216  2023  T73  여  15~19세    1003     1520       4              기타 박탈의 영향   \n",
       "47666  2023  S99  여  15~19세    1003     1921       4  발목 및 발의 기타 및 상세불명의 손상   \n",
       "\n",
       "                                                    영문명칭  \n",
       "26714                           Gastritis and duodenitis  \n",
       "26732                           Gastritis and duodenitis  \n",
       "24357                    Vasomotor and allergic rhinitis  \n",
       "24375                    Vasomotor and allergic rhinitis  \n",
       "24249                                   Acute bronchitis  \n",
       "...                                                  ...  \n",
       "32354                             Ankylosing spondylitis  \n",
       "17482                             Other mononeuropathies  \n",
       "58160  Examination and encounter for administrative p...  \n",
       "50216                       Effects of other deprivation  \n",
       "47666   Other and unspecified injuries of ankle and foot  \n",
       "\n",
       "[879 rows x 9 columns]"
      ]
     },
     "execution_count": 48,
     "metadata": {},
     "output_type": "execute_result"
    }
   ],
   "source": [
    "top_disease[4]"
   ]
  },
  {
   "cell_type": "code",
   "execution_count": 192,
   "metadata": {},
   "outputs": [],
   "source": [
    "import re\n",
    "import requests\n",
    "from bs4 import BeautifulSoup\n",
    "\n",
    "def get_disease_info(disease_name):\n",
    "    url = f\"https://www.amc.seoul.kr/asan/healthinfo/disease/diseaseList.do?searchKeyword={disease_name}\"\n",
    "    response = requests.get(url)\n",
    "    soup = BeautifulSoup(response.text, 'html.parser')\n",
    "\n",
    "    # 원하는 정보를 추출합니다. 아래 예시는 '증상' 부분을 추출하는 예시입니다.\n",
    "    #symptom_info = soup.find_all('div', {'class': 'contBox'})\n",
    "    contBoxes = soup.find_all('div', class_='contBox')\n",
    "\n",
    "    if contBoxes:\n",
    "\n",
    "        disease_data = []\n",
    "\n",
    "        for contBox in contBoxes:\n",
    "            disease_info = {}\n",
    "            \n",
    "            # 질병명\n",
    "            disease_info['질병명'] = contBox.find('strong', class_='contTitle').get_text(strip=True)\n",
    "            \n",
    "            # 증상\n",
    "            symptoms = [a.get_text(strip=True) for a in contBox.find_all('dd')[0].find_all('a')]\n",
    "            disease_info['증상'] = ', '.join(symptoms)\n",
    "            \n",
    "            # 관련질환\n",
    "            related_diseases = [a.get_text(strip=True) for a in contBox.find_all('dd')[1].find_all('a')]\n",
    "            disease_info['관련질환'] = ', '.join(related_diseases)\n",
    "            \n",
    "            # 진료과\n",
    "            medical_departments = [a.get_text(strip=True) for a in contBox.find_all('dd')[2].find_all('a')]\n",
    "            disease_info['진료과'] = ', '.join(medical_departments)\n",
    "            \n",
    "            # 동의어\n",
    "            try:\n",
    "                synonyms = contBox.find_all('dd')[3].get_text(strip=True)\n",
    "                disease_info['동의어'] = synonyms\n",
    "            except:\n",
    "                disease_info['동의어'] = ''\n",
    "\n",
    "            disease_data.append(disease_info)\n",
    "\n",
    "        # 데이터프레임으로 변환\n",
    "        df = pd.DataFrame(disease_data)\n",
    "\n",
    "        # 데이터프레임 출력\n",
    "        #print(df)\n",
    "        return df\n",
    "    else:\n",
    "        print('결과를 찾을 수 없습니다. 다시 검색합니다.')\n",
    "        return pd.DataFrame(columns=['질병명', '증상', '관련질환', '진료과', '동의어'])"
   ]
  },
  {
   "cell_type": "code",
   "execution_count": 193,
   "metadata": {},
   "outputs": [],
   "source": [
    "def get_disease_dataset(disease_name):\n",
    "    df = get_disease_info(disease_name)\n",
    "    if df.shape[0] == 0:\n",
    "        if (' and ' in disease_name) or (' 및 ' in disease_name):\n",
    "            disease_names = re.split(' and | 및 ', disease_name)\n",
    "            print(disease_names)\n",
    "            for disease_name in disease_names:\n",
    "                try:\n",
    "                    tmp = get_disease_info(disease_name.strip())\n",
    "                    df = pd.concat([df, tmp])\n",
    "                except:\n",
    "                    print(disease_name)\n",
    "                    continue\n",
    "            return df\n",
    "        else:\n",
    "            print('결과를 찾을 수 없습니다')\n",
    "            return df\n",
    "    else:\n",
    "        return df"
   ]
  },
  {
   "cell_type": "code",
   "execution_count": 194,
   "metadata": {},
   "outputs": [
    {
     "data": {
      "text/html": [
       "<div>\n",
       "<style scoped>\n",
       "    .dataframe tbody tr th:only-of-type {\n",
       "        vertical-align: middle;\n",
       "    }\n",
       "\n",
       "    .dataframe tbody tr th {\n",
       "        vertical-align: top;\n",
       "    }\n",
       "\n",
       "    .dataframe thead th {\n",
       "        text-align: right;\n",
       "    }\n",
       "</style>\n",
       "<table border=\"1\" class=\"dataframe\">\n",
       "  <thead>\n",
       "    <tr style=\"text-align: right;\">\n",
       "      <th></th>\n",
       "      <th>질병명</th>\n",
       "      <th>증상</th>\n",
       "      <th>관련질환</th>\n",
       "      <th>진료과</th>\n",
       "      <th>동의어</th>\n",
       "    </tr>\n",
       "  </thead>\n",
       "  <tbody>\n",
       "    <tr>\n",
       "      <th>0</th>\n",
       "      <td>레지오넬라증(Legionella)</td>\n",
       "      <td>두통, 열, 구토, 권태감, 오심, 오한, 목의 통증, 설사, 콧물, 근육통, 기침</td>\n",
       "      <td>만성 신우신염, 폐렴간균에 의한 폐렴, 흡인성 폐렴, 폐 농양, 저혈압, 인플루엔자...</td>\n",
       "      <td>감염내과</td>\n",
       "      <td>레지오넬라 감염증,레지오네라,재향군인병,Pontiac fever,폰티악열,여름 감기...</td>\n",
       "    </tr>\n",
       "    <tr>\n",
       "      <th>1</th>\n",
       "      <td>상기도 감염(Upper respiratory infections)</td>\n",
       "      <td>콧물, 재채기, 코막힘, 두통, 목의 통증, 피로감, 기침, 열</td>\n",
       "      <td>폐 농양, 편도선염, 만성 비염, 인플루엔자, 아데노이드의 비대를 동반한 편도의 비...</td>\n",
       "      <td>알레르기내과</td>\n",
       "      <td>common cold,감기</td>\n",
       "    </tr>\n",
       "    <tr>\n",
       "      <th>2</th>\n",
       "      <td>인후두염(Laryngopharyngitis)</td>\n",
       "      <td>목의 통증, 목의 이물감, 목소리 변화, 삼키기 곤란, 기침</td>\n",
       "      <td>만성 중이염, 급성 기관지염</td>\n",
       "      <td>이비인후과</td>\n",
       "      <td>급성 인두염,급성 후두염,기관염,목감기,인두염,인후두염증,인후염,인후통,후두염</td>\n",
       "    </tr>\n",
       "  </tbody>\n",
       "</table>\n",
       "</div>"
      ],
      "text/plain": [
       "                                    질병명  \\\n",
       "0                    레지오넬라증(Legionella)   \n",
       "1  상기도 감염(Upper respiratory infections)   \n",
       "2              인후두염(Laryngopharyngitis)   \n",
       "\n",
       "                                               증상  \\\n",
       "0  두통, 열, 구토, 권태감, 오심, 오한, 목의 통증, 설사, 콧물, 근육통, 기침   \n",
       "1             콧물, 재채기, 코막힘, 두통, 목의 통증, 피로감, 기침, 열   \n",
       "2               목의 통증, 목의 이물감, 목소리 변화, 삼키기 곤란, 기침   \n",
       "\n",
       "                                                관련질환     진료과  \\\n",
       "0  만성 신우신염, 폐렴간균에 의한 폐렴, 흡인성 폐렴, 폐 농양, 저혈압, 인플루엔자...    감염내과   \n",
       "1  폐 농양, 편도선염, 만성 비염, 인플루엔자, 아데노이드의 비대를 동반한 편도의 비...  알레르기내과   \n",
       "2                                    만성 중이염, 급성 기관지염   이비인후과   \n",
       "\n",
       "                                                 동의어  \n",
       "0  레지오넬라 감염증,레지오네라,재향군인병,Pontiac fever,폰티악열,여름 감기...  \n",
       "1                                     common cold,감기  \n",
       "2        급성 인두염,급성 후두염,기관염,목감기,인두염,인후두염증,인후염,인후통,후두염  "
      ]
     },
     "execution_count": 194,
     "metadata": {},
     "output_type": "execute_result"
    }
   ],
   "source": [
    "# 테스트\n",
    "disease_name = \"감기\"\n",
    "df = get_disease_dataset(disease_name)\n",
    "df"
   ]
  },
  {
   "cell_type": "code",
   "execution_count": 195,
   "metadata": {},
   "outputs": [
    {
     "name": "stdout",
     "output_type": "stream",
     "text": [
      "결과를 찾을 수 없습니다. 다시 검색합니다.\n",
      "['Gastritis', 'duodenitis']\n"
     ]
    }
   ],
   "source": [
    "df = get_disease_dataset(\"Gastritis and duodenitis\")"
   ]
  },
  {
   "cell_type": "code",
   "execution_count": 213,
   "metadata": {},
   "outputs": [
    {
     "data": {
      "text/plain": [
       "Index(['질병명', '증상', '관련질환', '진료과', '동의어'], dtype='object')"
      ]
     },
     "execution_count": 213,
     "metadata": {},
     "output_type": "execute_result"
    }
   ],
   "source": [
    "df.columns"
   ]
  },
  {
   "cell_type": "code",
   "execution_count": 199,
   "metadata": {},
   "outputs": [
    {
     "name": "stdout",
     "output_type": "stream",
     "text": [
      "결과를 찾을 수 없습니다. 다시 검색합니다.\n",
      "['콧물', '감기']\n",
      "결과를 찾을 수 없습니다. 다시 검색합니다.\n"
     ]
    },
    {
     "data": {
      "text/html": [
       "<div>\n",
       "<style scoped>\n",
       "    .dataframe tbody tr th:only-of-type {\n",
       "        vertical-align: middle;\n",
       "    }\n",
       "\n",
       "    .dataframe tbody tr th {\n",
       "        vertical-align: top;\n",
       "    }\n",
       "\n",
       "    .dataframe thead th {\n",
       "        text-align: right;\n",
       "    }\n",
       "</style>\n",
       "<table border=\"1\" class=\"dataframe\">\n",
       "  <thead>\n",
       "    <tr style=\"text-align: right;\">\n",
       "      <th></th>\n",
       "      <th>질병명</th>\n",
       "      <th>증상</th>\n",
       "      <th>관련질환</th>\n",
       "      <th>진료과</th>\n",
       "      <th>동의어</th>\n",
       "    </tr>\n",
       "  </thead>\n",
       "  <tbody>\n",
       "    <tr>\n",
       "      <th>0</th>\n",
       "      <td>레지오넬라증(Legionella)</td>\n",
       "      <td>두통, 열, 구토, 권태감, 오심, 오한, 목의 통증, 설사, 콧물, 근육통, 기침</td>\n",
       "      <td>만성 신우신염, 폐렴간균에 의한 폐렴, 흡인성 폐렴, 폐 농양, 저혈압, 인플루엔자...</td>\n",
       "      <td>감염내과</td>\n",
       "      <td>레지오넬라 감염증,레지오네라,재향군인병,Pontiac fever,폰티악열,여름 감기...</td>\n",
       "    </tr>\n",
       "    <tr>\n",
       "      <th>1</th>\n",
       "      <td>상기도 감염(Upper respiratory infections)</td>\n",
       "      <td>콧물, 재채기, 코막힘, 두통, 목의 통증, 피로감, 기침, 열</td>\n",
       "      <td>폐 농양, 편도선염, 만성 비염, 인플루엔자, 아데노이드의 비대를 동반한 편도의 비...</td>\n",
       "      <td>알레르기내과</td>\n",
       "      <td>common cold,감기</td>\n",
       "    </tr>\n",
       "    <tr>\n",
       "      <th>2</th>\n",
       "      <td>인후두염(Laryngopharyngitis)</td>\n",
       "      <td>목의 통증, 목의 이물감, 목소리 변화, 삼키기 곤란, 기침</td>\n",
       "      <td>만성 중이염, 급성 기관지염</td>\n",
       "      <td>이비인후과</td>\n",
       "      <td>급성 인두염,급성 후두염,기관염,목감기,인두염,인후두염증,인후염,인후통,후두염</td>\n",
       "    </tr>\n",
       "  </tbody>\n",
       "</table>\n",
       "</div>"
      ],
      "text/plain": [
       "                                    질병명  \\\n",
       "0                    레지오넬라증(Legionella)   \n",
       "1  상기도 감염(Upper respiratory infections)   \n",
       "2              인후두염(Laryngopharyngitis)   \n",
       "\n",
       "                                               증상  \\\n",
       "0  두통, 열, 구토, 권태감, 오심, 오한, 목의 통증, 설사, 콧물, 근육통, 기침   \n",
       "1             콧물, 재채기, 코막힘, 두통, 목의 통증, 피로감, 기침, 열   \n",
       "2               목의 통증, 목의 이물감, 목소리 변화, 삼키기 곤란, 기침   \n",
       "\n",
       "                                                관련질환     진료과  \\\n",
       "0  만성 신우신염, 폐렴간균에 의한 폐렴, 흡인성 폐렴, 폐 농양, 저혈압, 인플루엔자...    감염내과   \n",
       "1  폐 농양, 편도선염, 만성 비염, 인플루엔자, 아데노이드의 비대를 동반한 편도의 비...  알레르기내과   \n",
       "2                                    만성 중이염, 급성 기관지염   이비인후과   \n",
       "\n",
       "                                                 동의어  \n",
       "0  레지오넬라 감염증,레지오네라,재향군인병,Pontiac fever,폰티악열,여름 감기...  \n",
       "1                                     common cold,감기  \n",
       "2        급성 인두염,급성 후두염,기관염,목감기,인두염,인후두염증,인후염,인후통,후두염  "
      ]
     },
     "execution_count": 199,
     "metadata": {},
     "output_type": "execute_result"
    }
   ],
   "source": [
    "# 테스트\n",
    "disease_name = \"콧물 및 감기\"\n",
    "df = get_disease_dataset(disease_name)\n",
    "df"
   ]
  },
  {
   "cell_type": "code",
   "execution_count": null,
   "metadata": {},
   "outputs": [],
   "source": []
  }
 ],
 "metadata": {
  "kernelspec": {
   "display_name": ".venv",
   "language": "python",
   "name": "python3"
  },
  "language_info": {
   "codemirror_mode": {
    "name": "ipython",
    "version": 3
   },
   "file_extension": ".py",
   "mimetype": "text/x-python",
   "name": "python",
   "nbconvert_exporter": "python",
   "pygments_lexer": "ipython3",
   "version": "3.10.14"
  }
 },
 "nbformat": 4,
 "nbformat_minor": 2
}
